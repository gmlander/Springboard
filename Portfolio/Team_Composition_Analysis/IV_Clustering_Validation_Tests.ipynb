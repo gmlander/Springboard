{
 "cells": [
  {
   "cell_type": "raw",
   "metadata": {},
   "source": [
    "<script>\n",
    "  function code_toggle() {\n",
    "    if (code_shown){\n",
    "      $('div.input').hide('500');\n",
    "      $('#toggleButton').val('Show Code')\n",
    "    } else {\n",
    "      $('div.input').show('500');\n",
    "      $('#toggleButton').val('Hide Code')\n",
    "    }\n",
    "    code_shown = !code_shown\n",
    "  }\n",
    "\n",
    "  $( document ).ready(function(){\n",
    "    code_shown=false;\n",
    "    $('div.input').hide()\n",
    "  });\n",
    "</script>\n",
    "<form action=\"javascript:code_toggle()\"><input type=\"submit\" id=\"toggleButton\" value=\"Show Code\"></form>"
   ]
  },
  {
   "cell_type": "raw",
   "metadata": {},
   "source": [
    "<script src=\"https://unpkg.com/jupyter-js-widgets@~2.1.4/dist/embed.js\"></script>\n",
    "<script type=\"application/vnd.jupyter.widget-state+json\">\n",
    "{\n",
    "    \"version_major\": 1,\n",
    "    \"version_minor\": 0,\n",
    "    \"state\": {}\n",
    "}\n",
    "</script>"
   ]
  },
  {
   "cell_type": "markdown",
   "metadata": {},
   "source": [
    "# Team Compositions in Professional League of Legends\n",
    "***\n",
    "\n",
    "The data being used was obtained from [Oracle's Elixer] (using upload from September 18th, 2017). A [codebook] for the variables is also included.\n",
    "\n",
    "- **Part 1: Data Cleaning** -- can be found [here](http://nbviewer.jupyter.org/github/gmlander/Springboard/blob/master/Portfolio/Team_Composition_Analysis/I_Data_Cleaning.ipynb) or at the raw [github version](https://github.com/gmlander/Springboard/blob/master/Portfolio/Team_Composition_Analysis/I_Data_Cleaning.ipynb).\n",
    "- **Part 2: Exploratory Data Analysis** -- can be found [here](http://nbviewer.jupyter.org/github/gmlander/Springboard/blob/master/Portfolio/Team_Composition_Analysis/II_Exploratory_Data_Analysis.ipynb) or at the [github version](https://github.com/gmlander/Springboard/blob/master/Portfolio/Team_Composition_Analysis/II_Exploratory_Data_Analysis.ipynb)\n",
    "- **Part 3: Feature Engineering** -- can be found [here](http://nbviewer.jupyter.org/github/gmlander/Springboard/blob/master/Portfolio/Team_Composition_Analysis/III_Feature_Engineering.ipynb) or at the [github version](https://github.com/gmlander/Springboard/blob/master/Portfolio/Team_Composition_Analysis/III_Feature_Engineering.ipynb).\n",
    "\n",
    "[Oracle's Elixer]: http://oracleselixir.com/match-data/\n",
    "[codebook]: http://oracleselixir.com/match-data/match-data-dictionary/"
   ]
  },
  {
   "cell_type": "markdown",
   "metadata": {},
   "source": [
    "---\n",
    "\n",
    "# Part 4: Cluster Validation Tests"
   ]
  },
  {
   "cell_type": "markdown",
   "metadata": {},
   "source": [
    "#### Prepare Workspace and Get Data\n",
    "\n",
    "The data being used was prepared in **Part 3**."
   ]
  },
  {
   "cell_type": "code",
   "execution_count": 1,
   "metadata": {
    "collapsed": true,
    "slideshow": {
     "slide_type": "slide"
    }
   },
   "outputs": [],
   "source": [
    "%%capture\n",
    "# To keep these documents from getting untidy\n",
    "# support_functions.py in this repo containts\n",
    "# all necessary package imports and custom functions\n",
    "from support_functions import *\n",
    "%matplotlib inline"
   ]
  },
  {
   "cell_type": "code",
   "execution_count": 160,
   "metadata": {
    "collapsed": true
   },
   "outputs": [],
   "source": [
    "playerDF = unpickle('data/robust_players.pickle')\n",
    "teamDF = unpickle('data/eda_teamDF.pickle')\n",
    "picks_df = unpickle('data/picks_df.pickle')"
   ]
  },
  {
   "cell_type": "markdown",
   "metadata": {
    "slideshow": {
     "slide_type": "slide"
    }
   },
   "source": [
    "---\n",
    "\n",
    "# Part  4: Cluster Validation Testing\n",
    "\n",
    "\n",
    "Now that all the features have been created, the next steps are to:\n",
    "- Partitioned data by position\n",
    "- Scale by patch\n",
    "- Get features uncorrellated with result\n",
    "- TEST EVERYTHING"
   ]
  },
  {
   "cell_type": "markdown",
   "metadata": {},
   "source": [
    "### Partition and Scale\n",
    "\n",
    "Create position_dfs from partitioning playerDF."
   ]
  },
  {
   "cell_type": "code",
   "execution_count": 46,
   "metadata": {},
   "outputs": [],
   "source": [
    "playerDF.champ_pick_level.cat.rename_categories({'off-meta':'off_meta', 'low-priority':'low_priority'},inplace = True)\n",
    "part_dfs = {key:playerDF[playerDF.position == key].copy() \n",
    "                for key in playerDF.position.unique()}\n",
    "\n",
    "for key in part_dfs.keys():\n",
    "    part_dfs[key].dropna(axis=1,how='all',inplace=True)"
   ]
  },
  {
   "cell_type": "markdown",
   "metadata": {
    "slideshow": {
     "slide_type": "slide"
    }
   },
   "source": [
    "---\n",
    "\n",
    "Turn string categorical variables into dummies, then patch-scale *everything* - the clustering algorithms operate on distance, they don't know when a 1 means true and 0 means false, only that 1 is 1 unit away from 0.\n",
    "\n",
    "Binary features should also be scaled by patch. Most features will end up the same either way (the evenly distributed ones have equal 0's and 1's in each patch, so mean .5, sd .5, scaled to -1 and 1). But things like the dummified meta features should be scaled by patch. So if there wasn't a dominant meta in a patch, the distinction between picking a meta champion or off-meta is less meaningful than in a patch with a strongly demarcated meta.\n",
    "\n",
    "\n",
    "**Methodology decision**:\n",
    "Noisy features like 'doubles', 'triples', 'quadras', and 'pentas' present a problem. If I scale these features by patch, then small deviations from the meta will be exacerbated - for instance in a meta where most top laners are tanks that don't get a lot of kills, the rare occassions that double kills show up on a damage dealing top laner will be scaled to very high values and give the mistaken impression that this was some sort of hypercarry top laner.\n",
    "\n",
    "On the other hand, if those kill count features are scaled across the data, then skirmish/engage/kill heavy metas will not be controlled for, and similar playstyles across different metas will look different when they shouldn't.\n",
    "\n",
    "Ultimately, the approach will be not to use these features, since they are too noisy to begin with. A champion can have high kill threat in a game with a lot of teamfighting, but still not get a large number of double/triple kills. Still, this is a source of information that could add value in differentiating the groups. If I end up using weights in my final clusterer, I may reintroduce these features with very low weights."
   ]
  },
  {
   "cell_type": "code",
   "execution_count": 49,
   "metadata": {},
   "outputs": [
    {
     "name": "stdout",
     "output_type": "stream",
     "text": [
      "WARNING - Unable to transform: [('7.17', 'triples'), ('7.08', 'fbassist'), ('5.24', 'fd'), ('6.02', 'fd'), ('6.06', 'fd'), ('6.16', 'fd'), ('6.21', 'fd'), ('7.08', 'fd'), ('6.08', 'fb_early'), ('6.16', 'fb_early'), ('7.08', 'fb_early')]\n",
      "WARNING - Unable to transform: [('6.07', 'triples'), ('6.21', 'triples'), ('7.16', 'triples'), ('7.17', 'triples'), ('7.08', 'fbassist'), ('6.08', 'fb_early')]\n",
      "WARNING - Unable to transform: [('7.08', 'fbassist'), ('6.02', 'fd'), ('6.04', 'fd'), ('6.1', 'fd')]\n",
      "WARNING - Unable to transform: [('7.08', 'fbassist'), ('5.24', 'fd'), ('6.21', 'fd'), ('6.08', 'fb_early'), ('6.16', 'fb_early')]\n",
      "WARNING - Unable to transform: [('5.24', 'doubles'), ('7.17', 'doubles'), ('5.24', 'triples'), ('6.02', 'triples'), ('6.03', 'triples'), ('6.04', 'triples'), ('6.05', 'triples'), ('6.06', 'triples'), ('6.07', 'triples'), ('6.08', 'triples'), ('6.1', 'triples'), ('6.12', 'triples'), ('6.13', 'triples'), ('6.14', 'triples'), ('6.15', 'triples'), ('6.16', 'triples'), ('6.18', 'triples'), ('6.21', 'triples'), ('7.02', 'triples'), ('7.03', 'triples'), ('7.04', 'triples'), ('7.06', 'triples'), ('7.08', 'triples'), ('7.1', 'triples'), ('7.12', 'triples'), ('7.13', 'triples'), ('7.14', 'triples'), ('7.15', 'triples'), ('7.16', 'triples'), ('7.17', 'triples'), ('7.08', 'fbassist'), ('5.24', 'fd'), ('6.16', 'fd'), ('6.21', 'fd'), ('7.1', 'fd'), ('6.16', 'fb_early'), ('7.17', 'fb_early'), ('7.08', 'champ_fb_kda')]\n"
     ]
    }
   ],
   "source": [
    "ignores = ['result','quadras','pentas']\n",
    "c_player_scales = {}\n",
    "position_dfs = {}\n",
    "for k,df in part_dfs.items():\n",
    "    position_dfs[k] = pd.get_dummies(df, columns = ['champ_pick_level'],\n",
    "                        prefix=['pick'],)\n",
    "    c_player_scales[k] = get_feature_scale_dict(df, 'patchno', ignores)\n",
    "    position_dfs[k] = patch_scale(position_dfs[k], c_player_scales[k], ignores, verbose=True)"
   ]
  },
  {
   "cell_type": "markdown",
   "metadata": {},
   "source": [
    "All of those seem like sensible things to have all zero values. Since scaling to mean 0, they were effectively already scaled - Nothing to worry about. Now quickly save the scale dict and df for backups. "
   ]
  },
  {
   "cell_type": "code",
   "execution_count": 50,
   "metadata": {
    "collapsed": true
   },
   "outputs": [],
   "source": [
    "enpickle(c_player_scales, 'data/robust_player_scales.pickle')\n",
    "enpickle(position_dfs, 'data/scaled_robust_players.pickle')"
   ]
  },
  {
   "cell_type": "markdown",
   "metadata": {
    "slideshow": {
     "slide_type": "slide"
    }
   },
   "source": [
    "### Declare testing functions"
   ]
  },
  {
   "cell_type": "markdown",
   "metadata": {
    "slideshow": {
     "slide_type": "slide"
    }
   },
   "source": [
    "## Testing Score Table Structure\n",
    "\n",
    "- Cluster validation through predictive power on win outcome with multiple estimators.\n",
    "    - Decision Tree\n",
    "    - Random Forest\n",
    "    - Neural Net\n",
    "- 5 datasets being considered\n",
    "    - Custom picked features\n",
    "    - Auto-picked features (all features below a threshhold correlation with `result` -- 0.1 and 0.2)\n",
    "    - Only aggregated champion features (weighted and unweighted by pick frequency)\n",
    "- Clustering Algorithms Used:\n",
    "    - KMeans\n",
    "    - Variational Bayesian Gaussian Mixture (VBGMM)\n",
    "    - Meanshift w/ orphans\n",
    "    - Combination: Hierarchical Density-Based Spatial Clustering (HDBSCAN) to get exemplars (density equivalent of centroids) then finished with Nearest Neighbor assignment (KNN w/ k=1).\n",
    "- Metrics Tracked (on training and test data):\n",
    "    - Accuracy\n",
    "    - ROC score (probably won't use, but rather have and not need than have to repeat)\n",
    "    - Log Loss\n",
    "    - Win Divergence -- custom metric for each clustered position\n",
    "    \n",
    "    \n",
    "$$Win\\ Divergence = \\sum_{i=1}^{n} \\big|w_i-0.5\\big|*p_i $$ Where w is the win percentage of class i, p is the percent of observations represented by class i, and n is the number of classes."
   ]
  },
  {
   "cell_type": "markdown",
   "metadata": {
    "slideshow": {
     "slide_type": "slide"
    }
   },
   "source": [
    "### Prepare features and Dataset Views"
   ]
  },
  {
   "cell_type": "code",
   "execution_count": 123,
   "metadata": {
    "collapsed": true
   },
   "outputs": [],
   "source": [
    "# custom chosen plus referrence features\n",
    "trim_feats = {}\n",
    "for k in position_dfs:\n",
    "    trim_feats[k] = ['wpm', 'fbarontime','fttime', 'wardshare', 'fdtime', 'fbtime','gamelength', 'wcpm',\n",
    "     'earnedgoldshare', 'ckpm', 'dmg_efficiency','pick_meta', 'pick_off_meta', 'pick_low_priority'\\\n",
    "                    ] + [c for c in position_dfs[k].columns if 'champ_' in c]"
   ]
  },
  {
   "cell_type": "code",
   "execution_count": 53,
   "metadata": {
    "slideshow": {
     "slide_type": "fragment"
    }
   },
   "outputs": [
    {
     "name": "stdout",
     "output_type": "stream",
     "text": [
      "-- Number of features with result correlation below 0.10 by position --\n",
      "Top : 53\n",
      "Jungle : 51\n",
      "Middle : 50\n",
      "ADC : 48\n",
      "Support : 63\n"
     ]
    }
   ],
   "source": [
    "thresh_1_feats = {}\n",
    "thresh_1_feats = auto_feats(position_dfs, .1, True)"
   ]
  },
  {
   "cell_type": "code",
   "execution_count": 54,
   "metadata": {
    "slideshow": {
     "slide_type": "fragment"
    }
   },
   "outputs": [
    {
     "name": "stdout",
     "output_type": "stream",
     "text": [
      "-- Number of features with result correlation below 0.20 by position --\n",
      "Top : 67\n",
      "Jungle : 66\n",
      "Middle : 67\n",
      "ADC : 66\n",
      "Support : 84\n"
     ]
    }
   ],
   "source": [
    "thresh_2_feats = {}\n",
    "thresh_2_feats = auto_feats(position_dfs, .2, True)"
   ]
  },
  {
   "cell_type": "code",
   "execution_count": 59,
   "metadata": {
    "collapsed": true,
    "slideshow": {
     "slide_type": "fragment"
    }
   },
   "outputs": [],
   "source": [
    "# weighted referrence features\n",
    "ref_feats = {}\n",
    "for k in position_dfs:\n",
    "    ref_feats[k] = ['pick_meta', 'pick_off_meta', 'pick_low_priority']\\\n",
    "    + [c for c in position_dfs[k].columns if 'champ_' in c]"
   ]
  },
  {
   "cell_type": "code",
   "execution_count": 60,
   "metadata": {
    "slideshow": {
     "slide_type": "fragment"
    }
   },
   "outputs": [],
   "source": [
    "# unweighted referrence features\n",
    "ref_df = {}\n",
    "for k, df in position_dfs.items():\n",
    "    ref_df[k] = df.set_index(['patchno','champion'])[ref_feats[k]].copy().drop_duplicates()"
   ]
  },
  {
   "cell_type": "markdown",
   "metadata": {
    "slideshow": {
     "slide_type": "slide"
    }
   },
   "source": [
    "## Testing\n",
    "\n",
    "---\n",
    "**WARNING:** THESE TESTS WILL TAKE A VERY LONG TIME TO RUN (OVER A WEEK). Do yourself a favor and load saved results from the data folder. Or if you must run them, skip the HDBSCAN tests.\n",
    "\n",
    "---\n",
    "\n",
    "### KMeans\n",
    "\n",
    "- **Same k for each position**"
   ]
  },
  {
   "cell_type": "code",
   "execution_count": 151,
   "metadata": {
    "scrolled": false,
    "slideshow": {
     "slide_type": "fragment"
    }
   },
   "outputs": [
    {
     "name": "stdout",
     "output_type": "stream",
     "text": [
      "Data: Auto_features_1\n",
      "Classifier: tr\n",
      "\t  Training --\tTesting\n",
      "Accuracy: 0.557    --\t0.513\n",
      "AUC:\t  0.580    --\t0.518\n",
      "Log-Loss: 0.682    --\t0.700\n",
      "\n",
      "\n",
      "Classifier: rf\n",
      "\t  Training --\tTesting\n",
      "Accuracy: 0.558    --\t0.524\n",
      "AUC:\t  0.583    --\t0.534\n",
      "Log-Loss: 0.683    --\t0.693\n",
      "\n",
      "\n",
      "Classifier: kc\n",
      "\t  Training --\tTesting\n",
      "Accuracy: 0.554    --\t0.521\n",
      "AUC:\t  0.620    --\t0.540\n",
      "Log-Loss: 0.685    --\t0.722\n",
      "\n",
      "\n"
     ]
    }
   ],
   "source": [
    "demo = True\n",
    "for k in range(2,7):\n",
    "    key = 'kmeans_'+str(k)\n",
    "    test_scores[key] = test_keys()\n",
    "    for feature_key, features in key_feature_lookup.items():\n",
    "        if feature_key != 'ref_data':\n",
    "            test_df, test_scores[key][feature_key]['win_div'] = \\\n",
    "            get_label_df(position_dfs, features, KMeans(n_clusters=k, random_state = 7),\\\n",
    "                         position_dfs['Top'][['patchno','champion','result']])\n",
    "        else:\n",
    "            test_df, test_scores[key][feature_key]['win_div'] = \\\n",
    "            get_label_df(ref_df, features, KMeans(n_clusters=k, random_state = 7),\\\n",
    "                         position_dfs['Top'][['patchno','champion','result']], ref_data = True)\n",
    "\n",
    "        estimators = get_estimators(test_df.shape[1]-1)\n",
    "        if demo:\n",
    "            print('Data:',feature_key)\n",
    "        for est in estimators:\n",
    "            if demo:\n",
    "                print('Classifier:',est[0])\n",
    "                test_scores[key][feature_key][est[0]] = score_clusters(test_df,est[1])\n",
    "                print('\\n')\n",
    "            else:\n",
    "                test_scores[key][feature_key][est[0]] = score_clusters(test_df,est[1], verbose = False)\n",
    "        demo = False\n",
    "        enpickle(test_scores, 'cluster_validation_tests.pickle')"
   ]
  },
  {
   "cell_type": "markdown",
   "metadata": {},
   "source": [
    "- **Combinations of k's for positions**"
   ]
  },
  {
   "cell_type": "code",
   "execution_count": 8,
   "metadata": {},
   "outputs": [
    {
     "data": {
      "text/plain": [
       "[{'ADC': 2, 'Jungle': 2, 'Middle': 2, 'Support': 2, 'Top': 2},\n",
       " {'ADC': 2, 'Jungle': 2, 'Middle': 2, 'Support': 3, 'Top': 2},\n",
       " {'ADC': 2, 'Jungle': 2, 'Middle': 2, 'Support': 4, 'Top': 2},\n",
       " {'ADC': 3, 'Jungle': 2, 'Middle': 2, 'Support': 2, 'Top': 2},\n",
       " {'ADC': 3, 'Jungle': 2, 'Middle': 2, 'Support': 3, 'Top': 2}]"
      ]
     },
     "execution_count": 8,
     "metadata": {},
     "output_type": "execute_result"
    }
   ],
   "source": [
    "from itertools import product\n",
    "k_groups = list(product(range(2,5), repeat = 5))\n",
    "k_groups_dict = [{k:v for k,v in zip(['Top', 'Jungle', 'Middle', 'ADC', 'Support'], group)} for group in k_groups]\n",
    "k_groups_dict[:5]"
   ]
  },
  {
   "cell_type": "code",
   "execution_count": 25,
   "metadata": {},
   "outputs": [
    {
     "name": "stdout",
     "output_type": "stream",
     "text": [
      "{'Top': 2, 'Jungle': 3, 'Middle': 4, 'ADC': 3, 'Support': 4}\n",
      "23434\n",
      "{'Top': 2, 'Jungle': 3, 'Middle': 4, 'ADC': 4, 'Support': 2}\n",
      "23442\n",
      "{'Top': 2, 'Jungle': 3, 'Middle': 4, 'ADC': 4, 'Support': 3}\n",
      "23443\n",
      "{'Top': 2, 'Jungle': 3, 'Middle': 4, 'ADC': 4, 'Support': 4}\n",
      "23444\n",
      "{'Top': 2, 'Jungle': 4, 'Middle': 2, 'ADC': 2, 'Support': 2}\n",
      "24222\n"
     ]
    }
   ],
   "source": [
    "for group in k_groups_dict[50:55]:\n",
    "    print(group)\n",
    "    print(''.join([str(group[k]) for k in ['Top', 'Jungle', 'Middle', 'ADC', 'Support']]))"
   ]
  },
  {
   "cell_type": "code",
   "execution_count": 99,
   "metadata": {},
   "outputs": [
    {
     "name": "stdout",
     "output_type": "stream",
     "text": [
      "Running: kmeans_23343\n",
      "Running: kmeans_23344\n",
      "Running: kmeans_23422\n",
      "Running: kmeans_23423\n",
      "Running: kmeans_23424\n",
      "Running: kmeans_23432\n",
      "Running: kmeans_23433\n",
      "Running: kmeans_23434\n",
      "Running: kmeans_23442\n",
      "Running: kmeans_23443\n"
     ]
    },
    {
     "name": "stderr",
     "output_type": "stream",
     "text": [
      "C:\\ProgramData\\Anaconda3\\lib\\site-packages\\keras\\callbacks.py:120: UserWarning: Method on_batch_end() is slow compared to the batch update (0.100006). Check your callbacks.\n",
      "  % delta_t_median)\n",
      "C:\\ProgramData\\Anaconda3\\lib\\site-packages\\keras\\callbacks.py:120: UserWarning: Method on_batch_end() is slow compared to the batch update (0.213686). Check your callbacks.\n",
      "  % delta_t_median)\n"
     ]
    },
    {
     "name": "stdout",
     "output_type": "stream",
     "text": [
      "Running: kmeans_23444\n",
      "Running: kmeans_24222\n",
      "Running: kmeans_24223\n",
      "Running: kmeans_24224\n",
      "Running: kmeans_24232\n",
      "Running: kmeans_24233\n",
      "Running: kmeans_24234\n"
     ]
    }
   ],
   "source": [
    "for group in k_groups_dict[43:60]:\n",
    "    key = 'kmeans_'+ ''.join([str(group[k]) for k in ['Top', 'Jungle', 'Middle', 'ADC', 'Support']])\n",
    "    test_scores[key] = test_keys()\n",
    "    print(\"Running:\",key)\n",
    "    for feature_key, features in key_feature_lookup.items():\n",
    "        if feature_key != 'ref_data':\n",
    "            test_df, test_scores[key][feature_key]['win_div'] = \\\n",
    "            get_label_df(position_dfs, features, KMeans(n_clusters=1, random_state = 7),\\\n",
    "                         position_dfs['Top'][['patchno','champion','result']],\\\n",
    "                         multi_kmeans_group = group)\n",
    "        else:\n",
    "            test_df, test_scores[key][feature_key]['win_div'] = \\\n",
    "            get_label_df(ref_df, features, KMeans(n_clusters=1, random_state = 7),\\\n",
    "                         position_dfs['Top'][['patchno','champion','result']],\\\n",
    "                         ref_data = True, multi_kmeans_group = group)\n",
    "\n",
    "        estimators = get_estimators(test_df.shape[1]-1)\n",
    "        for est in estimators:\n",
    "                test_scores[key][feature_key][est[0]] = score_clusters(test_df,est[1], verbose = False)\n",
    "        enpickle(test_scores, 'cluster_validation_tests4.pickle')"
   ]
  },
  {
   "cell_type": "markdown",
   "metadata": {},
   "source": [
    "#### Encoded Data\n",
    "\n",
    "This data was created using an autoencoder built with keras on Google Colab, the notebook for which is available [here](https://colab.research.google.com/drive/1RR-4Dr6Z1VjWiebLqbZESZE1EppsyvUt). This was done with the hope that such a method would enable a dimensionality reduction that considered interaction effects and better represent the spatial relationships of the features. It did not work out very well, as the results section will show."
   ]
  },
  {
   "cell_type": "code",
   "execution_count": 6,
   "metadata": {
    "collapsed": true
   },
   "outputs": [],
   "source": [
    "encoded_dfs = unpickle('encoded_dfs.pickle')\n",
    "\n",
    "# build kmeans df for precomputed labels\n",
    "precomp_labels = position_dfs['Top'].reset_index().set_index(['gameid','team'])[['result']]\n",
    "\n",
    "for k,df in encoded_dfs.items():\n",
    "    for i in range(2,5):\n",
    "        precomp_labels['{}_{}'.format(k,i)] = KMeans(n_clusters=i, random_state = 7).fit(df).labels_.astype(str)\n",
    "        precomp_labels['opp_{}_{}'.format(k,i)] = get_opp_labels(precomp_labels['{}_{}'.format(k,i)])"
   ]
  },
  {
   "cell_type": "code",
   "execution_count": 45,
   "metadata": {},
   "outputs": [
    {
     "name": "stderr",
     "output_type": "stream",
     "text": [
      "\n",
      "  0%|                                                  | 0/243 [00:00<?, ?it/s]\n",
      "Exception in thread Thread-8:\n",
      "Traceback (most recent call last):\n",
      "  File \"C:\\ProgramData\\Anaconda3\\lib\\threading.py\", line 916, in _bootstrap_inner\n",
      "    self.run()\n",
      "  File \"C:\\ProgramData\\Anaconda3\\lib\\site-packages\\tqdm\\_monitor.py\", line 63, in run\n",
      "    for instance in self.tqdm_cls._instances:\n",
      "  File \"C:\\ProgramData\\Anaconda3\\lib\\_weakrefset.py\", line 60, in __iter__\n",
      "    for itemref in self.data:\n",
      "RuntimeError: Set changed size during iteration\n",
      "\n",
      "100%|██████████████████████████████████████| 243/243 [1:46:39<00:00, 26.34s/it]\n"
     ]
    }
   ],
   "source": [
    "for group in tqdm(k_groups_dict):\n",
    "    key = 'encoded_kmeans_'+ ''.join([str(group[k]) for k in ['Top', 'Jungle', 'Middle', 'ADC', 'Support']])\n",
    "    test_scores[key] = {}\n",
    "    cols = ['result'] + ['{}_{}'.format(k,i) for k,i in group.items()] + ['opp_{}_{}'.format(k,i) for k,i in group.items()]\n",
    "    test_df = precomp_labels[cols]\n",
    "        \n",
    "    test_df = pd.get_dummies(test_df)\n",
    "    \n",
    "    estimators = get_estimators(test_df.shape[1]-1)\n",
    "    for est in estimators:\n",
    "            test_scores[key][est[0]] = score_clusters(test_df,est[1], verbose = False)\n",
    "    enpickle(test_scores, 'encoded_validation_tests.pickle')"
   ]
  },
  {
   "cell_type": "markdown",
   "metadata": {
    "slideshow": {
     "slide_type": "slide"
    }
   },
   "source": [
    "### Variational Bayesian Gaussian Mixture (VBGMM)"
   ]
  },
  {
   "cell_type": "code",
   "execution_count": 283,
   "metadata": {},
   "outputs": [
    {
     "name": "stdout",
     "output_type": "stream",
     "text": [
      "Data: Auto_features_1\n",
      "Classifier: tr\n",
      "\t  Training --\tTesting\n",
      "Accuracy: 0.521    --\t0.521\n",
      "AUC:\t  0.535    --\t0.529\n",
      "Log-Loss: 0.688    --\t0.739\n",
      "\n",
      "\n",
      "Classifier: rf\n",
      "\t  Training --\tTesting\n",
      "Accuracy: 0.534    --\t0.509\n",
      "AUC:\t  0.555    --\t0.515\n",
      "Log-Loss: 0.687    --\t0.692\n",
      "\n",
      "\n",
      "Classifier: kc\n",
      "\t  Training --\tTesting\n",
      "Accuracy: 0.533    --\t0.504\n",
      "AUC:\t  0.563    --\t0.516\n",
      "Log-Loss: 0.689    --\t0.703\n",
      "\n",
      "\n"
     ]
    },
    {
     "name": "stderr",
     "output_type": "stream",
     "text": [
      "C:\\ProgramData\\Anaconda3\\lib\\site-packages\\sklearn\\mixture\\base.py:237: ConvergenceWarning: Initialization 1 did not converged. Try different init parameters, or increase max_iter, tol or check for degenerate data.\n",
      "  % (init + 1), ConvergenceWarning)\n",
      "C:\\ProgramData\\Anaconda3\\lib\\site-packages\\sklearn\\mixture\\base.py:237: ConvergenceWarning: Initialization 1 did not converged. Try different init parameters, or increase max_iter, tol or check for degenerate data.\n",
      "  % (init + 1), ConvergenceWarning)\n",
      "C:\\ProgramData\\Anaconda3\\lib\\site-packages\\sklearn\\mixture\\base.py:237: ConvergenceWarning: Initialization 1 did not converged. Try different init parameters, or increase max_iter, tol or check for degenerate data.\n",
      "  % (init + 1), ConvergenceWarning)\n",
      "C:\\ProgramData\\Anaconda3\\lib\\site-packages\\sklearn\\mixture\\base.py:237: ConvergenceWarning: Initialization 1 did not converged. Try different init parameters, or increase max_iter, tol or check for degenerate data.\n",
      "  % (init + 1), ConvergenceWarning)\n"
     ]
    }
   ],
   "source": [
    "bgm_params = [(x,y) for x in [3, 5, 7, 10, 20] for y in [1e-5,1e-2, 1e0, 1e2]]\n",
    "\n",
    "demo = True\n",
    "for k in bgm_params:\n",
    "    key = 'bgm_{}_{}'.format(str(k[0]),str(k[1]))\n",
    "    test_scores[key] = test_keys()\n",
    "    for feature_key, features in key_feature_lookup.items():\n",
    "        if feature_key != 'ref_data':\n",
    "            test_df, test_scores[key][feature_key]['win_div'] = \\\n",
    "            get_label_df(position_dfs, features,\\\n",
    "                         BayesianGaussianMixture(n_components=k[0], weight_concentration_prior=k[1],\\\n",
    "                                                 init_params=\"random\", max_iter=200, random_state=7),\\\n",
    "                         position_dfs['Top'][['patchno','champion','result']], bgm = True)\n",
    "        else:\n",
    "            test_df, test_scores[key][feature_key]['win_div'] = \\\n",
    "            get_label_df(ref_df, features,\\\n",
    "                         BayesianGaussianMixture(n_components=k[0], weight_concentration_prior=k[1],\\\n",
    "                                                 init_params=\"random\", max_iter=200, random_state=7),\\\n",
    "                         position_dfs['Top'][['patchno','champion','result']], bgm = True, ref_data = True)\n",
    "            \n",
    "        estimators = get_estimators(test_df.shape[1]-1)\n",
    "        if demo:\n",
    "            print('Data:',feature_key)\n",
    "        for est in estimators:\n",
    "            if demo:\n",
    "                print('Classifier:',est[0])\n",
    "                test_scores[key][feature_key][est[0]] = score_clusters(test_df,est[1])\n",
    "                print('\\n')\n",
    "            else:\n",
    "                test_scores[key][feature_key][est[0]] = score_clusters(test_df,est[1], verbose = False)\n",
    "        demo = False\n",
    "        enpickle(test_scores, 'cluster_validation_tests.pickle')"
   ]
  },
  {
   "cell_type": "markdown",
   "metadata": {
    "slideshow": {
     "slide_type": "subslide"
    }
   },
   "source": [
    "### VBGMM Results\n",
    "\n",
    "- Not very promising\n",
    "- Best versions came from most flexible features"
   ]
  },
  {
   "cell_type": "code",
   "execution_count": 296,
   "metadata": {
    "slideshow": {
     "slide_type": "fragment"
    }
   },
   "outputs": [
    {
     "data": {
      "text/plain": [
       "[('bgm_5_100.0_Auto_features_2_rf', 0.54101995565410199),\n",
       " ('bgm_10_1e-05_Auto_features_2_kc', 0.54249815221019615),\n",
       " ('bgm_20_0.01_Auto_features_2_kc', 0.54693274196658592),\n",
       " ('bgm_20_1.0_Auto_features_2_rf', 0.54730229120473028),\n",
       " ('bgm_7_0.01_Auto_features_2_rf', 0.5502586844050259)]"
      ]
     },
     "execution_count": 296,
     "metadata": {},
     "output_type": "execute_result"
    }
   ],
   "source": [
    "temp = []\n",
    "for k,d in test_scores.items():\n",
    "    if 'bgm' in k:\n",
    "        for f,tests in d.items():\n",
    "            for clf in tests:\n",
    "                if clf != 'win_div':\n",
    "                    temp.append(('{}_{}_{}'.format(k,f,clf),tests[clf]['accuracy_test']))\n",
    "\n",
    "sorted(temp, key=lambda x: x[1])[-5:]"
   ]
  },
  {
   "cell_type": "markdown",
   "metadata": {
    "slideshow": {
     "slide_type": "slide"
    }
   },
   "source": [
    "### MeanShift"
   ]
  },
  {
   "cell_type": "code",
   "execution_count": 21,
   "metadata": {
    "scrolled": true,
    "slideshow": {
     "slide_type": "fragment"
    }
   },
   "outputs": [
    {
     "name": "stdout",
     "output_type": "stream",
     "text": [
      "Data: Auto_features_1\n",
      "Classifier: tr\n",
      "\t  Training --\tTesting\n",
      "Accuracy: 0.644    --\t0.501\n",
      "AUC:\t  0.718    --\t0.507\n",
      "Log-Loss: 0.592    --\t2.150\n",
      "\n",
      "\n",
      "Classifier: rf\n",
      "\t  Training --\tTesting\n",
      "Accuracy: 0.546    --\t0.515\n",
      "AUC:\t  0.572    --\t0.521\n",
      "Log-Loss: 0.685    --\t0.692\n",
      "\n",
      "\n",
      "Classifier: kc\n",
      "\t  Training --\tTesting\n",
      "Accuracy: 0.597    --\t0.533\n",
      "AUC:\t  0.635    --\t0.548\n",
      "Log-Loss: 0.661    --\t0.695\n",
      "\n",
      "\n"
     ]
    }
   ],
   "source": [
    "demo = True\n",
    "for k in np.linspace(.01,.2,5):\n",
    "    key = 'meanshift_{}'.format(str(k))\n",
    "    test_scores[key] = test_keys()\n",
    "    for feature_key, features in key_feature_lookup.items():\n",
    "        if feature_key != 'ref_data':\n",
    "            test_df, test_scores[key][feature_key]['win_div'] = \\\n",
    "            get_label_df(position_dfs, features, MeanShift(k, bin_seeding = True, cluster_all = False),\\\n",
    "                         position_dfs['Top'][['patchno','champion','result']], ms = True)\n",
    "        else:\n",
    "            test_df, test_scores[key][feature_key]['win_div'] = \\\n",
    "            get_label_df(ref_df, features, MeanShift(k, cluster_all = False),\\\n",
    "                         position_dfs['Top'][['patchno','champion','result']], ref_data = True, ms = True)\n",
    "            \n",
    "        estimators = get_estimators(test_df.shape[1]-1)\n",
    "        if demo:\n",
    "            print('Data:',feature_key)\n",
    "        for est in estimators:\n",
    "            if demo:\n",
    "                print('Classifier:',est[0])\n",
    "                test_scores[key][feature_key][est[0]] = score_clusters(test_df,est[1])\n",
    "                print('\\n')\n",
    "            else:\n",
    "                test_scores[key][feature_key][est[0]] = score_clusters(test_df,est[1], verbose = False)\n",
    "        demo = False\n",
    "        enpickle(test_scores, 'cluster_validation_tests.pickle')"
   ]
  },
  {
   "cell_type": "markdown",
   "metadata": {},
   "source": [
    "### HDBSCAN initialization with KNN completion"
   ]
  },
  {
   "cell_type": "code",
   "execution_count": 143,
   "metadata": {
    "collapsed": true
   },
   "outputs": [],
   "source": [
    "temp, win_test =  get_label_df(position_dfs, trim_feats, HDBSCAN(min_cluster_size=100, min_samples = 10, metric='euclidean'),\\\n",
    "                         position_dfs['Top'][['patchno','champion','result']], hd_knn = True)\n",
    "\n",
    "# def get_label_df(data, feats, clf, result, opp_labels = True,\\\n",
    "#                  dummies = True, win_divergence = True, ref_data = False, bgm = False,\n",
    "#                  ms = False, multi_kmeans_group = None, hd_knn = False, mink_kwargs = {}):"
   ]
  },
  {
   "cell_type": "code",
   "execution_count": 14,
   "metadata": {
    "collapsed": true
   },
   "outputs": [],
   "source": [
    "test_scores = {}"
   ]
  },
  {
   "cell_type": "code",
   "execution_count": 15,
   "metadata": {
    "scrolled": true
   },
   "outputs": [
    {
     "name": "stdout",
     "output_type": "stream",
     "text": [
      "Data: Auto_features_1\n",
      "Classifier: tr\n",
      "\t  Training --\tTesting\n",
      "Accuracy: 0.559    --\t0.502\n",
      "AUC:\t  0.600    --\t0.522\n",
      "Log-Loss: 0.653    --\t1.285\n",
      "\n",
      "\n",
      "Classifier: rf\n",
      "\t  Training --\tTesting\n",
      "Accuracy: 0.550    --\t0.504\n",
      "AUC:\t  0.581    --\t0.522\n",
      "Log-Loss: 0.684    --\t0.692\n",
      "\n",
      "\n",
      "Classifier: kc\n",
      "\t  Training --\tTesting\n",
      "Accuracy: 0.567    --\t0.520\n",
      "AUC:\t  0.639    --\t0.519\n",
      "Log-Loss: 0.711    --\t1.051\n",
      "\n",
      "\n"
     ]
    },
   ],
   "source": [
    "demo = True\n",
    "for mc in [50,100]:\n",
    "    for ms in [1, 5, 30]:\n",
    "        for c_method in ['eom','leaf']:\n",
    "#             for c_metric in ['euclidean', 'wminkowski']:\n",
    "            key = 'hdbknn_c{}_s{}_{}_euc'.format(mc,ms,c_method)\n",
    "            test_scores[key] = test_keys()\n",
    "            for feature_key, features in key_feature_lookup.items():\n",
    "                clf = HDBSCAN(min_cluster_size=mc, min_samples = ms,\\\n",
    "                              cluster_selection_method = c_method)\n",
    "                if feature_key != 'ref_data':\n",
    "                    test_df, test_scores[key][feature_key]['win_div'] = \\\n",
    "                    get_label_df(position_dfs, features, clf,\\\n",
    "                                 position_dfs['Top'][['patchno','champion','result']], hd_knn = True)\n",
    "                else:\n",
    "                    test_df, test_scores[key][feature_key]['win_div'] = \\\n",
    "                    get_label_df(ref_df, features, clf,\\\n",
    "                                 position_dfs['Top'][['patchno','champion','result']], hd_knn = True, ref_data = True)\n",
    "\n",
    "                estimators = get_estimators(test_df.shape[1]-1)\n",
    "                if demo:\n",
    "                    print('Data:',feature_key)\n",
    "                for est in estimators:\n",
    "                    if demo:\n",
    "                        print('Classifier:',est[0])\n",
    "                        test_scores[key][feature_key][est[0]] = score_clusters(test_df,est[1])\n",
    "                        print('\\n')\n",
    "                    else:\n",
    "                        test_scores[key][feature_key][est[0]] = score_clusters(test_df,est[1], verbose = False)\n",
    "                demo = False\n",
    "                enpickle(test_scores, 'cluster_validation_tests_hdb.pickle')"
   ]
  },
  {
   "cell_type": "code",
   "execution_count": 16,
   "metadata": {
    "scrolled": true
   },
   "outputs": [
    {
     "name": "stdout",
     "output_type": "stream",
     "text": [
      "Data: Auto_features_1\n",
      "Classifier: tr\n",
      "\t  Training --\tTesting\n",
      "Accuracy: 0.503    --\t0.493\n",
      "AUC:\t  0.500    --\t0.500\n",
      "Log-Loss: 0.693    --\t0.693\n",
      "\n",
      "\n",
      "Classifier: rf\n",
      "\t  Training --\tTesting\n",
      "Accuracy: 0.503    --\t0.493\n",
      "AUC:\t  0.500    --\t0.500\n",
      "Log-Loss: 0.693    --\t0.693\n",
      "\n",
      "\n",
      "Classifier: kc\n",
      "\t  Training --\tTesting\n",
      "Accuracy: 0.497    --\t0.507\n",
      "AUC:\t  0.500    --\t0.500\n",
      "Log-Loss: 17.379    --\t17.014\n",
      "\n",
      "\n"
     ]
    },
   ],
   "source": [
    "demo = True\n",
    "for mc in [50,100]:\n",
    "    for ms in [1,5,30]:\n",
    "        for c_method in ['eom','leaf']:\n",
    "#             for c_metric in ['euclidean', 'wminkowski']:\n",
    "            key = 'hdbknn_c{}_s{}_{}_wmink'.format(mc,ms,c_method)\n",
    "            test_scores[key] = test_keys()\n",
    "            for feature_key, features in key_feature_lookup.items():\n",
    "                clf = HDBSCAN(min_cluster_size=mc, min_samples = ms,\\\n",
    "                              cluster_selection_method = c_method, metric = 'wminkowski')\n",
    "                if feature_key != 'ref_data':\n",
    "                    test_df, test_scores[key][feature_key]['win_div'] = \\\n",
    "                    get_label_df(position_dfs, features, clf,\\\n",
    "                                 position_dfs['Top'][['patchno','champion','result']], hd_knn = True)\n",
    "                else:\n",
    "                    test_df, test_scores[key][feature_key]['win_div'] = \\\n",
    "                    get_label_df(ref_df, features, clf,\\\n",
    "                                 position_dfs['Top'][['patchno','champion','result']], hd_knn = True, ref_data = True)\n",
    "\n",
    "                estimators = get_estimators(test_df.shape[1]-1)\n",
    "                if demo:\n",
    "                    print('Data:',feature_key)\n",
    "                for est in estimators:\n",
    "                    if demo:\n",
    "                        print('Classifier:',est[0])\n",
    "                        test_scores[key][feature_key][est[0]] = score_clusters(test_df,est[1])\n",
    "                        print('\\n')\n",
    "                    else:\n",
    "                        test_scores[key][feature_key][est[0]] = score_clusters(test_df,est[1], verbose = False)\n",
    "                demo = False\n",
    "                enpickle(test_scores, 'cluster_validation_tests_hdb.pickle')"
   ]
  },
  {
   "cell_type": "markdown",
   "metadata": {},
   "source": [
    "## Results\n",
    "\n",
    "Because many of these tests required a lot of time to process, were prone to crashing, and overwriting good data with bad was a major concern, the data has been scatter in a couple of pickled dictionaries that will need to be read, parsed, and stitched together.\n",
    "\n",
    "As expected, there is a strong relationship between the accuracy a technique can deliver in prediction and the win divergence of its classes."
   ]
  },
  {
   "cell_type": "code",
   "execution_count": 115,
   "metadata": {},
   "outputs": [],
   "source": [
    "all_tests = pd.concat([read_clust_test_dicts('data/cluster_validation_tests{}.pickle'.format(k), 1)\\\n",
    "                       for k in ['',2,3,4,'_hdb']])\n",
    "enpickle(all_tests, 'data/full_clust_tests.pickle')"
   ]
  },
  {
   "cell_type": "code",
   "execution_count": 113,
   "metadata": {},
   "outputs": [
    {
     "data": {
      "text/plain": [
       "<matplotlib.axes._subplots.AxesSubplot at 0x23b9e861d0>"
      ]
     },
     "execution_count": 113,
     "metadata": {},
     "output_type": "execute_result"
    },
    {
     "data": {
      "image/png": "iVBORw0KGgoAAAANSUhEUgAAAZYAAAEKCAYAAAAxXHOuAAAABHNCSVQICAgIfAhkiAAAAAlwSFlz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\n",
      "text/plain": [
       "<matplotlib.figure.Figure at 0x23b9e7aeb8>"
      ]
     },
     "metadata": {},
     "output_type": "display_data"
    }
   ],
   "source": [
    "all_tests.plot('accuracy','win_div', kind = 'scatter', alpha =.1)"
   ]
  },
  {
   "cell_type": "markdown",
   "metadata": {},
   "source": [
    "There doesn't appear to be a great elbow point to pursue. Best to just set a cutoff and go from there, say 0.03.\n",
    "\n",
    "**Author's Note**: I apologize. I tried the best I could to change the look of that scatterplot."
   ]
  },
  {
   "cell_type": "code",
   "execution_count": 114,
   "metadata": {},
   "outputs": [
    {
     "data": {
      "image/png": "iVBORw0KGgoAAAANSUhEUgAAAsgAAAI4CAYAAAB3OR9vAAAABHNCSVQICAgIfAhkiAAAAAlwSFlz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\nZlbgBNnMzMzMrOB/AR45glZ18agqAAAAAElFTkSuQmCC\n",
      "text/plain": [
       "<matplotlib.figure.Figure at 0x23ced1b7b8>"
      ]
     },
     "metadata": {},
     "output_type": "display_data"
    }
   ],
   "source": [
    "all_tests = all_tests[all_tests.win_div <= 0.03]\n",
    "fig, ax = plt.subplots(1,2, figsize=(10,8), sharey = True, gridspec_kw = {'width_ratios':[3, 1]})\n",
    "sns.barplot(y='method', x='accuracy',\n",
    "            data = all_tests.sort_values(by='accuracy',ascending=False).head(20),\n",
    "            orient='h',ax=ax[0])\n",
    "ax[0].set_xlabel('Best Accuracy')\n",
    "ax[0].set_xlim((.5,.65))\n",
    "sns.barplot(y='method', x='win_div',\n",
    "            data = all_tests.sort_values(by='accuracy',ascending=False).head(20),\n",
    "            orient='h',ax=ax[1])\n",
    "ax[1].set_ylabel('')\n",
    "ax[1].set_xlabel('Win Divergence')\n",
    "ax[1].set_xlim((.0,.04))\n",
    "plt.tight_layout()\n",
    "plt.show()\n",
    "\n",
    "fig.savefig('data/cluster-bars.png', dpi=fig.dpi, bbox_inches='tight')"
   ]
  },
  {
   "cell_type": "markdown",
   "metadata": {},
   "source": [
    "It looks like the clustering will be done by using the Trim Features set and kmeans with 4 classes for every position but ADC, which will have 3. Interesting to note that 4 for all was the second best result under this threshhold, yet had a wider win divergence.\n",
    "\n",
    "---\n",
    "\n",
    "#### About that AutoEncoder...\n",
    "\n",
    "Cool idea. Useless results."
   ]
  },
  {
   "cell_type": "code",
   "execution_count": 99,
   "metadata": {
    "collapsed": true
   },
   "outputs": [],
   "source": [
    "all_tests = read_clust_tests_encoded('data/encoded_validation_tests.pickle')"
   ]
  },
  {
   "cell_type": "code",
   "execution_count": 100,
   "metadata": {
    "scrolled": false
   },
   "outputs": [
    {
     "data": {
      "image/png": "iVBORw0KGgoAAAANSUhEUgAAAsgAAAI4CAYAAAB3OR9vAAAABHNCSVQICAgIfAhkiAAAAAlwSFlz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\nK/n/Npkpdi4066wAAAAASUVORK5CYII=\n",
      "text/plain": [
       "<matplotlib.figure.Figure at 0x23cec874a8>"
      ]
     },
     "metadata": {},
     "output_type": "display_data"
    }
   ],
   "source": [
    "fig, ax = plt.subplots(figsize=(10,8))\n",
    "sns.barplot(y='method', x='accuracy', data = all_tests.sort_values(by='accuracy',ascending=False).head(20), orient='h',ax=ax)\n",
    "plt.xlabel('Best Accuracy')\n",
    "plt.xlim((.5,.65))\n",
    "plt.tight_layout()\n",
    "plt.show()\n",
    "\n",
    "# fig.savefig('enc_cluster_bars.png', dpi=fig.dpi, bbox_inches='tight')"
   ]
  },
  {
   "cell_type": "markdown",
   "metadata": {},
   "source": [
    "### Generating The Clusters\n",
    "\n",
    "Finally, time to create these classes and see if they help!"
   ]
  },
  {
   "cell_type": "code",
   "execution_count": 161,
   "metadata": {},
   "outputs": [],
   "source": [
    "for k in position_dfs:\n",
    "    position_dfs[k] = position_dfs[k].reset_index().set_index(['gameid','team'])\n",
    "\n",
    "kgroup = {'Top':4, 'Jungle':4, 'Middle':4, 'ADC':3, 'Support':4}\n",
    "labels = get_label_df(position_dfs,trim_feats,KMeans(n_clusters=1, random_state = 7),\n",
    "             dummies=False, win_divergence=False,multi_kmeans_group = kgroup,\n",
    "            result = position_dfs['Top'][['player','result','patchno', 'champion']])\n",
    "\n",
    "teamDF.drop(['Top','Jungle','Middle','ADC','Support'], axis=1, inplace=True)\n",
    "labels.drop(['player','result'],axis=1,inplace=True)\n",
    "labels = labels.apply(lambda x: x.astype('category'))\n",
    "labels.sort_index(inplace=True)\n",
    "teamDF.sort_index(inplace=True)\n",
    "\n",
    "teamDF = pd.concat([teamDF, labels],axis=1)"
   ]
  },
  {
   "cell_type": "markdown",
   "metadata": {},
   "source": [
    "### Testing The New Predictive Power\n",
    "\n",
    "Finally the new classes can be put to the test."
   ]
  },
  {
   "cell_type": "code",
   "execution_count": 178,
   "metadata": {
    "collapsed": true
   },
   "outputs": [],
   "source": [
    "pre_feats = ['side', 'totalGames','avgGSPD', 'weighted_winRate',\n",
    "             'weighted_quality', 'pace','aggression'] + labels.columns.tolist()\n",
    "\n",
    "# 'ban1','ban2', 'ban3', 'ban4', 'ban5',"
   ]
  },
  {
   "cell_type": "code",
   "execution_count": 179,
   "metadata": {},
   "outputs": [
    {
     "name": "stdout",
     "output_type": "stream",
     "text": [
      "Prediction Accuracy without in-game features:65.14%\n"
     ]
    }
   ],
   "source": [
    "lr  = LogisticRegression()\n",
    "X = pd.get_dummies(teamDF[pre_feats])\n",
    "X_train, X_test, y_train, y_test = train_test_split(scale(X),teamDF.result,\n",
    "                                        test_size = .25, random_state=10)\n",
    "pred = lr.fit(X_train, y_train).predict(X_test)\n",
    "print('Prediction Accuracy without in-game features:\\\n",
    "{:0.2f}%'.format(100*accuracy_score(y_test, pred)))"
   ]
  },
  {
   "cell_type": "code",
   "execution_count": 180,
   "metadata": {},
   "outputs": [
    {
     "name": "stdout",
     "output_type": "stream",
     "text": [
      "Prediction Accuracy without in-game or team quality features:62.22%\n"
     ]
    }
   ],
   "source": [
    "lr  = LogisticRegression()\n",
    "X = pd.get_dummies(teamDF[pre_feats].drop(['weighted_winRate',\n",
    "                                   'weighted_quality','avgGSPD'],axis=1))\n",
    "X_train, X_test, y_train, y_test = train_test_split(scale(X),teamDF.result,\n",
    "                                        test_size = .25, random_state=10)\n",
    "pred = lr.fit(X_train, y_train).predict(X_test)\n",
    "print('Prediction Accuracy without in-game or team quality features:\\\n",
    "{:0.2f}%'.format(100*accuracy_score(y_test, pred)))"
   ]
  },
  {
   "cell_type": "code",
   "execution_count": 181,
   "metadata": {},
   "outputs": [
    {
     "name": "stdout",
     "output_type": "stream",
     "text": [
      "Prediction Accuracy with only class features:59.02%\n"
     ]
    }
   ],
   "source": [
    "lr  = LogisticRegression()\n",
    "X = pd.get_dummies(teamDF[labels.columns.tolist()])\n",
    "X_train, X_test, y_train, y_test = train_test_split(scale(X),teamDF.result,\n",
    "                                        test_size = .25, random_state=10)\n",
    "pred = lr.fit(X_train, y_train).predict(X_test)\n",
    "print('Prediction Accuracy with only class features:\\\n",
    "{:0.2f}%'.format(100*accuracy_score(y_test, pred)))"
   ]
  },
  {
   "cell_type": "code",
   "execution_count": 189,
   "metadata": {},
   "outputs": [
    {
     "name": "stdout",
     "output_type": "stream",
     "text": [
      "Prediction Accuracy with Random Forest:63.86%\n"
     ]
    }
   ],
   "source": [
    "rf = RandomForestClassifier(n_estimators=100, max_features= 13, max_depth= 7)\n",
    "X = pd.get_dummies(teamDF[pre_feats])\n",
    "X_train, X_test, y_train, y_test = train_test_split(scale(X),teamDF.result,\n",
    "                                        test_size = .25, random_state=10)\n",
    "pred = rf.fit(X_train, y_train).predict(X_test)\n",
    "print('Prediction Accuracy with Random Forest:\\\n",
    "{:0.2f}%'.format(100*accuracy_score(y_test, pred)))"
   ]
  },
  {
   "cell_type": "code",
   "execution_count": 200,
   "metadata": {},
   "outputs": [
    {
     "name": "stdout",
     "output_type": "stream",
     "text": [
      "Prediction Accuracy with shallow Neural Network:61.95%\n"
     ]
    }
   ],
   "source": [
    "def get_keras(n_feats=None):\n",
    "    model = Sequential([\n",
    "        Dense(200, activation = 'relu', input_shape=(n_feats,)),\n",
    "        Dense(100, activation = 'relu'),\n",
    "        Dense(1, activation = 'relu')])\n",
    "    model.compile(optimizer='rmsprop', loss='binary_crossentropy', metrics=['accuracy'])\n",
    "    return model\n",
    "kc = KerasClassifier(build_fn=keras_classifier, batch_size = 200, epochs= 8, verbose=False,\n",
    "                     n_feats = X.shape[1])\n",
    "\n",
    "kc.fit(X_train, y_train)\n",
    "print('Prediction Accuracy with shallow Neural Network:\\\n",
    "{:0.2f}%'.format(100*kc.score(X_test, y_test)))"
   ]
  },
  {
   "cell_type": "markdown",
   "metadata": {},
   "source": [
    "## Conclusions\n",
    "\n",
    "Despite only using an out of the box logistic regression that can't account for interactions, the derived classes are able to add 5% predictive power across all the baseline tests. Surprisingly, stronger classifiers like a keras NN and RandomForest (albeit both without hyperparam tuning), were not able to outperform the logistic regression on the same features. Further testing is in order yet to find a more ideal combination of features and clustering technique for deriving classes, but these initial results are promising."
   ]
  }
 ],
 "metadata": {
  "celltoolbar": "Slideshow",
  "kernelspec": {
   "display_name": "Python 3",
   "language": "python",
   "name": "python3"
  },
  "language_info": {
   "codemirror_mode": {
    "name": "ipython",
    "version": 3
   },
   "file_extension": ".py",
   "mimetype": "text/x-python",
   "name": "python",
   "nbconvert_exporter": "python",
   "pygments_lexer": "ipython3",
   "version": "3.6.1"
  }
 },
 "nbformat": 4,
 "nbformat_minor": 2
}
