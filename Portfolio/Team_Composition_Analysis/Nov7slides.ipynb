{
 "cells": [
  {
   "cell_type": "markdown",
   "metadata": {
    "slideshow": {
     "slide_type": "slide"
    }
   },
   "source": [
    "# Cross Validating The Regression"
   ]
  },
  {
   "cell_type": "markdown",
   "metadata": {
    "slideshow": {
     "slide_type": "slide"
    }
   },
   "source": [
    "Last week we ran a logistic regression on the team dataframe, with the numeric columns scaled and the categorical columns dummified. This week, we'll run some cross validation with regularized regressions to make sure the modelling decisions are not leading to overfitting.\n",
    "\n",
    "First, we'll load the dataframes from the previous notebook and handle all the usual library loading."
   ]
  },
  {
   "cell_type": "code",
   "execution_count": 6,
   "metadata": {
    "slideshow": {
     "slide_type": "fragment"
    }
   },
   "outputs": [],
   "source": [
    "%store -r teamDF\n",
    "%store -r norm_teamDF\n",
    "%store -r playerDF"
   ]
  },
  {
   "cell_type": "code",
   "execution_count": 17,
   "metadata": {
    "collapsed": true,
    "slideshow": {
     "slide_type": "fragment"
    }
   },
   "outputs": [],
   "source": [
    "import pandas as pd\n",
    "import numpy as np\n",
    "import matplotlib.pyplot as plt\n",
    "import seaborn as sns\n",
    "\n",
    "from sklearn.linear_model import LogisticRegression, Ridge, RidgeCV, ElasticNet, LassoCV, LassoLarsCV\n",
    "from sklearn.model_selection import train_test_split, cross_val_score\n",
    "from sklearn.metrics import classification_report, confusion_matrix\n",
    "from sklearn.preprocessing import StandardScaler\n",
    "\n",
    "from scipy import stats\n",
    "from scipy.stats import skew\n",
    "from scipy.stats.stats import pearsonr"
   ]
  },
  {
   "cell_type": "markdown",
   "metadata": {
    "slideshow": {
     "slide_type": "slide"
    }
   },
   "source": [
    "### Ridge Cross Validation\n",
    "***\n",
    "\n",
    "We'll look at the root-mean squared error of with a ridge model across a range of regularization penalty parameters ($\\alpha$'s).\n",
    "\n",
    "First, we'll split up the training and test data.\n",
    "\n",
    "**NOTE:** This data has been loaded from the previous notebook has been fully preprocessed."
   ]
  },
  {
   "cell_type": "code",
   "execution_count": 29,
   "metadata": {
    "collapsed": true,
    "slideshow": {
     "slide_type": "fragment"
    }
   },
   "outputs": [],
   "source": [
    "regressors = list(set(list(norm_teamDF)) - set(['league', 'split', 'week', 'game', 'patchno', 'playerid', 'position', 'player', 'champion','result']))\n",
    "X = norm_teamDF.loc[:, regressors]\n",
    "y = norm_teamDF.loc[:,'result']\n",
    "X_train, X_test, y_train, y_test = train_test_split(X, y, test_size = .25, random_state=10)"
   ]
  },
  {
   "cell_type": "markdown",
   "metadata": {
    "slideshow": {
     "slide_type": "subslide"
    }
   },
   "source": [
    "### Ridge Cross Validation\n",
    "***\n",
    "To avoid repeatedly calling sklearn's `cross_val_score()` with the same arguments, I'll write a quick little function `rmse_cv()` to return the root-mean squared error across each fold.\n",
    "\n",
    "Then, I'll build a list of the mean rmse of a ridge regression cross-validation across multiple $\\alpha$'s."
   ]
  },
  {
   "cell_type": "code",
   "execution_count": 30,
   "metadata": {
    "collapsed": true,
    "slideshow": {
     "slide_type": "fragment"
    }
   },
   "outputs": [],
   "source": [
    "def rmse_cv(model):\n",
    "    rmse= np.sqrt(-cross_val_score(model, X_train, y_train, scoring=\"neg_mean_squared_error\", cv = 5))\n",
    "    return rmse\n",
    "\n",
    "model_ridge = Ridge()\n",
    "\n",
    "alphas = [0.05, 0.1, 0.3, 1, 3, 5, 10, 15, 30, 50, 75]\n",
    "cv_ridge = [rmse_cv(Ridge(alpha = alpha)).mean() \n",
    "            for alpha in alphas]"
   ]
  },
  {
   "cell_type": "markdown",
   "metadata": {
    "slideshow": {
     "slide_type": "subslide"
    }
   },
   "source": [
    "### Ridge Cross Validation\n",
    "***\n",
    "\n",
    "Finally, I'll plot those rmse's across the different alpha values, to see how the size of the regularization penalty effects the score of the models."
   ]
  },
  {
   "cell_type": "code",
   "execution_count": 120,
   "metadata": {
    "slideshow": {
     "slide_type": "fragment"
    }
   },
   "outputs": [
    {
     "data": {
      "image/png": "[encoded data removed]",
      "text/plain": [
       "<matplotlib.figure.Figure at 0x5446f8d860>"
      ]
     },
     "metadata": {},
     "output_type": "display_data"
    },
    {
     "name": "stdout",
     "output_type": "stream",
     "text": [
      "The lowest rmse for the ridge cv is:  0.162581785393\n"
     ]
    }
   ],
   "source": [
    "cv_ridge = pd.Series(cv_ridge, index = alphas)\n",
    "cv_ridge.plot(title = \"Validation\")\n",
    "plt.xlabel(\"alpha\")\n",
    "plt.ylabel(\"rmse\")\n",
    "plt.show()\n",
    "\n",
    "print('The lowest rmse for the ridge cv is: ', cv_ridge.min())"
   ]
  },
  {
   "cell_type": "markdown",
   "metadata": {
    "slideshow": {
     "slide_type": "slide"
    }
   },
   "source": [
    "### Lasso Cross Validation\n",
    "***\n",
    "\n",
    "Next I'll run a Lasso cross validation."
   ]
  },
  {
   "cell_type": "code",
   "execution_count": 121,
   "metadata": {
    "slideshow": {
     "slide_type": "fragment"
    }
   },
   "outputs": [
    {
     "data": {
      "text/plain": [
       "0.16137505241031411"
      ]
     },
     "execution_count": 121,
     "metadata": {},
     "output_type": "execute_result"
    }
   ],
   "source": [
    "model_lasso = LassoCV(alphas = [1, 0.1, 0.001, 0.0005]).fit(X_train, y_train)\n",
    "\n",
    "rmse_cv(model_lasso).mean()"
   ]
  },
  {
   "cell_type": "markdown",
   "metadata": {
    "slideshow": {
     "slide_type": "subslide"
    }
   },
   "source": [
    "### Lasso Cross Validation\n",
    "***\n",
    "\n",
    "The rmse is comparable and slightly lower than the ridge cv.\n",
    "\n",
    "Next, I'll examine how many features were used by the lasso model."
   ]
  },
  {
   "cell_type": "code",
   "execution_count": 35,
   "metadata": {
    "slideshow": {
     "slide_type": "fragment"
    }
   },
   "outputs": [
    {
     "name": "stdout",
     "output_type": "stream",
     "text": [
      "Lasso picked 94 variables and eliminated the other 590 variables\n"
     ]
    }
   ],
   "source": [
    "coef = pd.Series(model_lasso.coef_, index = X_train.columns)\n",
    "\n",
    "print(\"Lasso picked \" + str(sum(coef != 0)) + \" variables and eliminated the other \" +  str(sum(coef == 0)) + \" variables\")"
   ]
  },
  {
   "cell_type": "markdown",
   "metadata": {
    "slideshow": {
     "slide_type": "subslide"
    }
   },
   "source": [
    "### Lasso Cross Validation\n",
    "***\n",
    "\n",
    "That's a pretty large reduction of features. Let's examine which the model decided were the most important."
   ]
  },
  {
   "cell_type": "code",
   "execution_count": 40,
   "metadata": {
    "slideshow": {
     "slide_type": "fragment"
    }
   },
   "outputs": [
    {
     "data": {
      "image/png": "[encoded data removed]",
      "text/plain": [
       "<matplotlib.figure.Figure at 0x5446decc50>"
      ]
     },
     "metadata": {},
     "output_type": "display_data"
    }
   ],
   "source": [
    "imp_coef = pd.concat([coef.sort_values().head(15),\n",
    "                     coef.sort_values().tail(15)])\n",
    "\n",
    "plt.figure(figsize=(6, 10))\n",
    "imp_coef.plot(kind = \"barh\")\n",
    "plt.title(\"Coefficients in the Lasso Model\")\n",
    "plt.show()"
   ]
  },
  {
   "cell_type": "markdown",
   "metadata": {
    "slideshow": {
     "slide_type": "subslide"
    }
   },
   "source": [
    "### Lasso Cross Validation\n",
    "***\n",
    "\n",
    "Let's see if the residuals form any sort of pattern, or if the model is explaining as much of the variance as it can."
   ]
  },
  {
   "cell_type": "code",
   "execution_count": 58,
   "metadata": {
    "slideshow": {
     "slide_type": "fragment"
    }
   },
   "outputs": [
    {
     "data": {
      "image/png": "[encoded data removed]",
      "text/plain": [
       "<matplotlib.figure.Figure at 0x54492cd400>"
      ]
     },
     "metadata": {},
     "output_type": "display_data"
    }
   ],
   "source": [
    "preds = pd.DataFrame({\"preds\":model_lasso.predict(X_train), \"true\":y_train})\n",
    "preds[\"residuals\"] = preds[\"true\"] - preds[\"preds\"]\n",
    "preds.plot(x = \"preds\", y = \"residuals\",kind = \"scatter\")\n",
    "plt.show()"
   ]
  },
  {
   "cell_type": "markdown",
   "metadata": {
    "slideshow": {
     "slide_type": "fragment"
    }
   },
   "source": [
    "Definitely a pattern, due to the nature of the regression being performed on a categorical outcome variable. Will need to adapt this in the future."
   ]
  },
  {
   "cell_type": "markdown",
   "metadata": {
    "slideshow": {
     "slide_type": "slide"
    }
   },
   "source": [
    "### Lasso Across Groups\n",
    "***\n",
    "\n",
    "Now I'd like to employ the same tecnique over each patch # of the data."
   ]
  },
  {
   "cell_type": "code",
   "execution_count": 110,
   "metadata": {
    "scrolled": true,
    "slideshow": {
     "slide_type": "slide"
    }
   },
   "outputs": [
    {
     "name": "stderr",
     "output_type": "stream",
     "text": [
      "C:\\Users\\glander\\Anaconda3\\lib\\site-packages\\sklearn\\linear_model\\coordinate_descent.py:484: ConvergenceWarning: Objective did not converge. You might want to increase the number of iterations. Fitting data with very small alpha may cause precision problems.\n",
      "  ConvergenceWarning)\n",
      "C:\\Users\\glander\\Anaconda3\\lib\\site-packages\\sklearn\\linear_model\\coordinate_descent.py:484: ConvergenceWarning: Objective did not converge. You might want to increase the number of iterations. Fitting data with very small alpha may cause precision problems.\n",
      "  ConvergenceWarning)\n",
      "C:\\Users\\glander\\Anaconda3\\lib\\site-packages\\sklearn\\linear_model\\coordinate_descent.py:484: ConvergenceWarning: Objective did not converge. You might want to increase the number of iterations. Fitting data with very small alpha may cause precision problems.\n",
      "  ConvergenceWarning)\n",
      "C:\\Users\\glander\\Anaconda3\\lib\\site-packages\\sklearn\\linear_model\\coordinate_descent.py:484: ConvergenceWarning: Objective did not converge. You might want to increase the number of iterations. Fitting data with very small alpha may cause precision problems.\n",
      "  ConvergenceWarning)\n",
      "C:\\Users\\glander\\Anaconda3\\lib\\site-packages\\sklearn\\linear_model\\coordinate_descent.py:484: ConvergenceWarning: Objective did not converge. You might want to increase the number of iterations. Fitting data with very small alpha may cause precision problems.\n",
      "  ConvergenceWarning)\n",
      "C:\\Users\\glander\\Anaconda3\\lib\\site-packages\\sklearn\\linear_model\\coordinate_descent.py:484: ConvergenceWarning: Objective did not converge. You might want to increase the number of iterations. Fitting data with very small alpha may cause precision problems.\n",
      "  ConvergenceWarning)\n",
      "C:\\Users\\glander\\Anaconda3\\lib\\site-packages\\sklearn\\linear_model\\coordinate_descent.py:484: ConvergenceWarning: Objective did not converge. You might want to increase the number of iterations. Fitting data with very small alpha may cause precision problems.\n",
      "  ConvergenceWarning)\n",
      "C:\\Users\\glander\\Anaconda3\\lib\\site-packages\\sklearn\\linear_model\\coordinate_descent.py:484: ConvergenceWarning: Objective did not converge. You might want to increase the number of iterations. Fitting data with very small alpha may cause precision problems.\n",
      "  ConvergenceWarning)\n",
      "C:\\Users\\glander\\Anaconda3\\lib\\site-packages\\sklearn\\linear_model\\coordinate_descent.py:484: ConvergenceWarning: Objective did not converge. You might want to increase the number of iterations. Fitting data with very small alpha may cause precision problems.\n",
      "  ConvergenceWarning)\n",
      "C:\\Users\\glander\\Anaconda3\\lib\\site-packages\\sklearn\\linear_model\\coordinate_descent.py:484: ConvergenceWarning: Objective did not converge. You might want to increase the number of iterations. Fitting data with very small alpha may cause precision problems.\n",
      "  ConvergenceWarning)\n",
      "C:\\Users\\glander\\Anaconda3\\lib\\site-packages\\sklearn\\linear_model\\coordinate_descent.py:484: ConvergenceWarning: Objective did not converge. You might want to increase the number of iterations. Fitting data with very small alpha may cause precision problems.\n",
      "  ConvergenceWarning)\n",
      "C:\\Users\\glander\\Anaconda3\\lib\\site-packages\\sklearn\\linear_model\\coordinate_descent.py:484: ConvergenceWarning: Objective did not converge. You might want to increase the number of iterations. Fitting data with very small alpha may cause precision problems.\n",
      "  ConvergenceWarning)\n",
      "C:\\Users\\glander\\Anaconda3\\lib\\site-packages\\sklearn\\linear_model\\coordinate_descent.py:484: ConvergenceWarning: Objective did not converge. You might want to increase the number of iterations. Fitting data with very small alpha may cause precision problems.\n",
      "  ConvergenceWarning)\n",
      "C:\\Users\\glander\\Anaconda3\\lib\\site-packages\\sklearn\\linear_model\\coordinate_descent.py:484: ConvergenceWarning: Objective did not converge. You might want to increase the number of iterations. Fitting data with very small alpha may cause precision problems.\n",
      "  ConvergenceWarning)\n",
      "C:\\Users\\glander\\Anaconda3\\lib\\site-packages\\sklearn\\linear_model\\coordinate_descent.py:484: ConvergenceWarning: Objective did not converge. You might want to increase the number of iterations. Fitting data with very small alpha may cause precision problems.\n",
      "  ConvergenceWarning)\n",
      "C:\\Users\\glander\\Anaconda3\\lib\\site-packages\\sklearn\\linear_model\\coordinate_descent.py:484: ConvergenceWarning: Objective did not converge. You might want to increase the number of iterations. Fitting data with very small alpha may cause precision problems.\n",
      "  ConvergenceWarning)\n",
      "C:\\Users\\glander\\Anaconda3\\lib\\site-packages\\sklearn\\linear_model\\coordinate_descent.py:484: ConvergenceWarning: Objective did not converge. You might want to increase the number of iterations. Fitting data with very small alpha may cause precision problems.\n",
      "  ConvergenceWarning)\n",
      "C:\\Users\\glander\\Anaconda3\\lib\\site-packages\\sklearn\\linear_model\\coordinate_descent.py:484: ConvergenceWarning: Objective did not converge. You might want to increase the number of iterations. Fitting data with very small alpha may cause precision problems.\n",
      "  ConvergenceWarning)\n",
      "C:\\Users\\glander\\Anaconda3\\lib\\site-packages\\sklearn\\linear_model\\coordinate_descent.py:484: ConvergenceWarning: Objective did not converge. You might want to increase the number of iterations. Fitting data with very small alpha may cause precision problems.\n",
      "  ConvergenceWarning)\n",
      "C:\\Users\\glander\\Anaconda3\\lib\\site-packages\\sklearn\\linear_model\\coordinate_descent.py:484: ConvergenceWarning: Objective did not converge. You might want to increase the number of iterations. Fitting data with very small alpha may cause precision problems.\n",
      "  ConvergenceWarning)\n",
      "C:\\Users\\glander\\Anaconda3\\lib\\site-packages\\sklearn\\linear_model\\coordinate_descent.py:484: ConvergenceWarning: Objective did not converge. You might want to increase the number of iterations. Fitting data with very small alpha may cause precision problems.\n",
      "  ConvergenceWarning)\n",
      "C:\\Users\\glander\\Anaconda3\\lib\\site-packages\\sklearn\\linear_model\\coordinate_descent.py:484: ConvergenceWarning: Objective did not converge. You might want to increase the number of iterations. Fitting data with very small alpha may cause precision problems.\n",
      "  ConvergenceWarning)\n",
      "C:\\Users\\glander\\Anaconda3\\lib\\site-packages\\sklearn\\linear_model\\coordinate_descent.py:484: ConvergenceWarning: Objective did not converge. You might want to increase the number of iterations. Fitting data with very small alpha may cause precision problems.\n",
      "  ConvergenceWarning)\n",
      "C:\\Users\\glander\\Anaconda3\\lib\\site-packages\\sklearn\\linear_model\\coordinate_descent.py:484: ConvergenceWarning: Objective did not converge. You might want to increase the number of iterations. Fitting data with very small alpha may cause precision problems.\n",
      "  ConvergenceWarning)\n",
      "C:\\Users\\glander\\Anaconda3\\lib\\site-packages\\sklearn\\linear_model\\coordinate_descent.py:484: ConvergenceWarning: Objective did not converge. You might want to increase the number of iterations. Fitting data with very small alpha may cause precision problems.\n",
      "  ConvergenceWarning)\n",
      "C:\\Users\\glander\\Anaconda3\\lib\\site-packages\\sklearn\\linear_model\\coordinate_descent.py:484: ConvergenceWarning: Objective did not converge. You might want to increase the number of iterations. Fitting data with very small alpha may cause precision problems.\n",
      "  ConvergenceWarning)\n",
      "C:\\Users\\glander\\Anaconda3\\lib\\site-packages\\sklearn\\linear_model\\coordinate_descent.py:484: ConvergenceWarning: Objective did not converge. You might want to increase the number of iterations. Fitting data with very small alpha may cause precision problems.\n",
      "  ConvergenceWarning)\n",
      "C:\\Users\\glander\\Anaconda3\\lib\\site-packages\\sklearn\\linear_model\\coordinate_descent.py:484: ConvergenceWarning: Objective did not converge. You might want to increase the number of iterations. Fitting data with very small alpha may cause precision problems.\n",
      "  ConvergenceWarning)\n",
      "C:\\Users\\glander\\Anaconda3\\lib\\site-packages\\sklearn\\linear_model\\coordinate_descent.py:484: ConvergenceWarning: Objective did not converge. You might want to increase the number of iterations. Fitting data with very small alpha may cause precision problems.\n",
      "  ConvergenceWarning)\n",
      "C:\\Users\\glander\\Anaconda3\\lib\\site-packages\\sklearn\\linear_model\\coordinate_descent.py:484: ConvergenceWarning: Objective did not converge. You might want to increase the number of iterations. Fitting data with very small alpha may cause precision problems.\n",
      "  ConvergenceWarning)\n"
     ]
    },
    {
     "name": "stderr",
     "output_type": "stream",
     "text": [
      "C:\\Users\\glander\\Anaconda3\\lib\\site-packages\\sklearn\\linear_model\\coordinate_descent.py:484: ConvergenceWarning: Objective did not converge. You might want to increase the number of iterations. Fitting data with very small alpha may cause precision problems.\n",
      "  ConvergenceWarning)\n",
      "C:\\Users\\glander\\Anaconda3\\lib\\site-packages\\sklearn\\linear_model\\coordinate_descent.py:484: ConvergenceWarning: Objective did not converge. You might want to increase the number of iterations. Fitting data with very small alpha may cause precision problems.\n",
      "  ConvergenceWarning)\n",
      "C:\\Users\\glander\\Anaconda3\\lib\\site-packages\\sklearn\\linear_model\\coordinate_descent.py:484: ConvergenceWarning: Objective did not converge. You might want to increase the number of iterations. Fitting data with very small alpha may cause precision problems.\n",
      "  ConvergenceWarning)\n",
      "C:\\Users\\glander\\Anaconda3\\lib\\site-packages\\sklearn\\linear_model\\coordinate_descent.py:484: ConvergenceWarning: Objective did not converge. You might want to increase the number of iterations. Fitting data with very small alpha may cause precision problems.\n",
      "  ConvergenceWarning)\n",
      "C:\\Users\\glander\\Anaconda3\\lib\\site-packages\\sklearn\\linear_model\\coordinate_descent.py:484: ConvergenceWarning: Objective did not converge. You might want to increase the number of iterations. Fitting data with very small alpha may cause precision problems.\n",
      "  ConvergenceWarning)\n",
      "C:\\Users\\glander\\Anaconda3\\lib\\site-packages\\sklearn\\linear_model\\coordinate_descent.py:484: ConvergenceWarning: Objective did not converge. You might want to increase the number of iterations. Fitting data with very small alpha may cause precision problems.\n",
      "  ConvergenceWarning)\n",
      "C:\\Users\\glander\\Anaconda3\\lib\\site-packages\\sklearn\\linear_model\\coordinate_descent.py:484: ConvergenceWarning: Objective did not converge. You might want to increase the number of iterations. Fitting data with very small alpha may cause precision problems.\n",
      "  ConvergenceWarning)\n",
      "C:\\Users\\glander\\Anaconda3\\lib\\site-packages\\sklearn\\linear_model\\coordinate_descent.py:484: ConvergenceWarning: Objective did not converge. You might want to increase the number of iterations. Fitting data with very small alpha may cause precision problems.\n",
      "  ConvergenceWarning)\n",
      "C:\\Users\\glander\\Anaconda3\\lib\\site-packages\\sklearn\\linear_model\\coordinate_descent.py:484: ConvergenceWarning: Objective did not converge. You might want to increase the number of iterations. Fitting data with very small alpha may cause precision problems.\n",
      "  ConvergenceWarning)\n",
      "C:\\Users\\glander\\Anaconda3\\lib\\site-packages\\sklearn\\linear_model\\coordinate_descent.py:484: ConvergenceWarning: Objective did not converge. You might want to increase the number of iterations. Fitting data with very small alpha may cause precision problems.\n",
      "  ConvergenceWarning)\n",
      "C:\\Users\\glander\\Anaconda3\\lib\\site-packages\\sklearn\\linear_model\\coordinate_descent.py:484: ConvergenceWarning: Objective did not converge. You might want to increase the number of iterations. Fitting data with very small alpha may cause precision problems.\n",
      "  ConvergenceWarning)\n",
      "C:\\Users\\glander\\Anaconda3\\lib\\site-packages\\sklearn\\linear_model\\coordinate_descent.py:484: ConvergenceWarning: Objective did not converge. You might want to increase the number of iterations. Fitting data with very small alpha may cause precision problems.\n",
      "  ConvergenceWarning)\n",
      "C:\\Users\\glander\\Anaconda3\\lib\\site-packages\\sklearn\\linear_model\\coordinate_descent.py:484: ConvergenceWarning: Objective did not converge. You might want to increase the number of iterations. Fitting data with very small alpha may cause precision problems.\n",
      "  ConvergenceWarning)\n",
      "C:\\Users\\glander\\Anaconda3\\lib\\site-packages\\sklearn\\linear_model\\coordinate_descent.py:484: ConvergenceWarning: Objective did not converge. You might want to increase the number of iterations. Fitting data with very small alpha may cause precision problems.\n",
      "  ConvergenceWarning)\n",
      "C:\\Users\\glander\\Anaconda3\\lib\\site-packages\\sklearn\\linear_model\\coordinate_descent.py:484: ConvergenceWarning: Objective did not converge. You might want to increase the number of iterations. Fitting data with very small alpha may cause precision problems.\n",
      "  ConvergenceWarning)\n",
      "C:\\Users\\glander\\Anaconda3\\lib\\site-packages\\sklearn\\linear_model\\coordinate_descent.py:484: ConvergenceWarning: Objective did not converge. You might want to increase the number of iterations. Fitting data with very small alpha may cause precision problems.\n",
      "  ConvergenceWarning)\n",
      "C:\\Users\\glander\\Anaconda3\\lib\\site-packages\\sklearn\\linear_model\\coordinate_descent.py:484: ConvergenceWarning: Objective did not converge. You might want to increase the number of iterations. Fitting data with very small alpha may cause precision problems.\n",
      "  ConvergenceWarning)\n",
      "C:\\Users\\glander\\Anaconda3\\lib\\site-packages\\sklearn\\linear_model\\coordinate_descent.py:484: ConvergenceWarning: Objective did not converge. You might want to increase the number of iterations. Fitting data with very small alpha may cause precision problems.\n",
      "  ConvergenceWarning)\n",
      "C:\\Users\\glander\\Anaconda3\\lib\\site-packages\\sklearn\\linear_model\\coordinate_descent.py:484: ConvergenceWarning: Objective did not converge. You might want to increase the number of iterations. Fitting data with very small alpha may cause precision problems.\n",
      "  ConvergenceWarning)\n",
      "C:\\Users\\glander\\Anaconda3\\lib\\site-packages\\sklearn\\linear_model\\coordinate_descent.py:484: ConvergenceWarning: Objective did not converge. You might want to increase the number of iterations. Fitting data with very small alpha may cause precision problems.\n",
      "  ConvergenceWarning)\n",
      "C:\\Users\\glander\\Anaconda3\\lib\\site-packages\\sklearn\\linear_model\\coordinate_descent.py:484: ConvergenceWarning: Objective did not converge. You might want to increase the number of iterations. Fitting data with very small alpha may cause precision problems.\n",
      "  ConvergenceWarning)\n",
      "C:\\Users\\glander\\Anaconda3\\lib\\site-packages\\sklearn\\linear_model\\coordinate_descent.py:484: ConvergenceWarning: Objective did not converge. You might want to increase the number of iterations. Fitting data with very small alpha may cause precision problems.\n",
      "  ConvergenceWarning)\n",
      "C:\\Users\\glander\\Anaconda3\\lib\\site-packages\\sklearn\\linear_model\\coordinate_descent.py:484: ConvergenceWarning: Objective did not converge. You might want to increase the number of iterations. Fitting data with very small alpha may cause precision problems.\n",
      "  ConvergenceWarning)\n",
      "C:\\Users\\glander\\Anaconda3\\lib\\site-packages\\sklearn\\linear_model\\coordinate_descent.py:484: ConvergenceWarning: Objective did not converge. You might want to increase the number of iterations. Fitting data with very small alpha may cause precision problems.\n",
      "  ConvergenceWarning)\n",
      "C:\\Users\\glander\\Anaconda3\\lib\\site-packages\\sklearn\\linear_model\\coordinate_descent.py:484: ConvergenceWarning: Objective did not converge. You might want to increase the number of iterations. Fitting data with very small alpha may cause precision problems.\n",
      "  ConvergenceWarning)\n",
      "C:\\Users\\glander\\Anaconda3\\lib\\site-packages\\sklearn\\linear_model\\coordinate_descent.py:484: ConvergenceWarning: Objective did not converge. You might want to increase the number of iterations. Fitting data with very small alpha may cause precision problems.\n",
      "  ConvergenceWarning)\n",
      "C:\\Users\\glander\\Anaconda3\\lib\\site-packages\\sklearn\\linear_model\\coordinate_descent.py:484: ConvergenceWarning: Objective did not converge. You might want to increase the number of iterations. Fitting data with very small alpha may cause precision problems.\n",
      "  ConvergenceWarning)\n",
      "C:\\Users\\glander\\Anaconda3\\lib\\site-packages\\sklearn\\linear_model\\coordinate_descent.py:484: ConvergenceWarning: Objective did not converge. You might want to increase the number of iterations. Fitting data with very small alpha may cause precision problems.\n",
      "  ConvergenceWarning)\n",
      "C:\\Users\\glander\\Anaconda3\\lib\\site-packages\\sklearn\\linear_model\\coordinate_descent.py:484: ConvergenceWarning: Objective did not converge. You might want to increase the number of iterations. Fitting data with very small alpha may cause precision problems.\n",
      "  ConvergenceWarning)\n"
     ]
    }
   ],
   "source": [
    "patchDF = norm_teamDF.groupby('patchno')\n",
    "patchDict = {}\n",
    "rmseDict = {}\n",
    "\n",
    "for k, df in patchDF:\n",
    "    patch_X = df.loc[:, regressors]\n",
    "    patch_y = df.loc[:,'result']\n",
    "    \n",
    "    pX_train, pX_test, py_train, py_test = train_test_split(patch_X, patch_y, test_size = .25, random_state=10)\n",
    "\n",
    "    ml = LassoCV(alphas = [1, 0.1, 0.001]).fit(pX_train, py_train)\n",
    "    \n",
    "    rmseDict[k] = np.sqrt(-cross_val_score(ml, pX_train, py_train, scoring=\"neg_mean_squared_error\", cv = 5)).mean()\n",
    "\n",
    "    patchDict[k] = pd.Series(ml.coef_, index = pX_train.columns)"
   ]
  },
  {
   "cell_type": "code",
   "execution_count": 113,
   "metadata": {
    "slideshow": {
     "slide_type": "slide"
    }
   },
   "outputs": [
    {
     "name": "stdout",
     "output_type": "stream",
     "text": [
      "{5.2400000000000002: 0.27607721992699952, 6.0099999999999998: 0.18272371180112718, 6.0199999999999996: 0.16373732077289457, 6.0300000000000002: 0.25107340280607593, 6.04: 0.2411488928654813, 6.0499999999999998: 0.22667518017971733, 6.0599999999999996: 0.16076653125191848, 6.0700000000000003: 0.1998763711809261, 6.0800000000000001: 0.23344734139520229, 6.0999999999999996: 0.20055505175694172, 6.1100000000000003: 0.18205925342508872, 6.1200000000000001: 0.19617390496765566, 6.1299999999999999: 0.19088371800854814, 6.1399999999999997: 0.16613128272531158, 6.1500000000000004: 0.17920770117206924, 6.1600000000000001: 0.31346759804955859, 6.1799999999999997: 0.14195935646368149, 6.21: 0.22049364716219216, 7.0099999999999998: 0.22627556160731416, 7.0199999999999996: 0.15983922304356596, 7.0300000000000002: 0.23746777232678884, 7.04: 0.16707004263327663, 7.0499999999999998: 0.1756958691007931, 7.0599999999999996: 0.17087169882109721, 7.0700000000000003: 0.22544458346330862, 7.0800000000000001: 0.22339453768474549, 7.0999999999999996: 0.19066392550127828, 7.1100000000000003: 0.18322499297660627, 7.1200000000000001: 0.17185680313422136, 7.1299999999999999: 0.20075250773129802, 7.1399999999999997: 0.18506287189522036, 7.1500000000000004: 0.22275587169228564, 7.1600000000000001: 0.20108322772871651, 7.1699999999999999: 0.27805595572550307}\n",
      "Ranging from  0.141959356464  to  0.31346759805\n"
     ]
    }
   ],
   "source": [
    "print(rmseDict)\n",
    "print('Ranging from ', min(rmseDict.values()), ' to ', max(rmseDict.values()))"
   ]
  },
  {
   "cell_type": "code",
   "execution_count": 114,
   "metadata": {
    "slideshow": {
     "slide_type": "slide"
    }
   },
   "outputs": [
    {
     "name": "stdout",
     "output_type": "stream",
     "text": [
      "On patch 5.24 -- 6 variables taken // 678 dropped\n",
      "On patch 6.01 -- 97 variables taken // 587 dropped\n",
      "On patch 6.02 -- 91 variables taken // 593 dropped\n",
      "On patch 6.03 -- 3 variables taken // 681 dropped\n",
      "On patch 6.04 -- 2 variables taken // 682 dropped\n",
      "On patch 6.05 -- 7 variables taken // 677 dropped\n",
      "On patch 6.06 -- 97 variables taken // 587 dropped\n",
      "On patch 6.07 -- 3 variables taken // 681 dropped\n",
      "On patch 6.08 -- 7 variables taken // 677 dropped\n",
      "On patch 6.1 -- 107 variables taken // 577 dropped\n",
      "On patch 6.11 -- 116 variables taken // 568 dropped\n",
      "On patch 6.12 -- 105 variables taken // 579 dropped\n",
      "On patch 6.13 -- 114 variables taken // 570 dropped\n",
      "On patch 6.14 -- 100 variables taken // 584 dropped\n",
      "On patch 6.15 -- 106 variables taken // 578 dropped\n",
      "On patch 6.16 -- 8 variables taken // 676 dropped\n",
      "On patch 6.18 -- 68 variables taken // 616 dropped\n",
      "On patch 6.21 -- 2 variables taken // 682 dropped\n",
      "On patch 7.01 -- 105 variables taken // 579 dropped\n",
      "On patch 7.02 -- 90 variables taken // 594 dropped\n",
      "On patch 7.03 -- 2 variables taken // 682 dropped\n",
      "On patch 7.04 -- 91 variables taken // 593 dropped\n",
      "On patch 7.05 -- 100 variables taken // 584 dropped\n",
      "On patch 7.06 -- 94 variables taken // 590 dropped\n",
      "On patch 7.07 -- 2 variables taken // 682 dropped\n",
      "On patch 7.08 -- 81 variables taken // 603 dropped\n",
      "On patch 7.1 -- 102 variables taken // 582 dropped\n",
      "On patch 7.11 -- 108 variables taken // 576 dropped\n",
      "On patch 7.12 -- 100 variables taken // 584 dropped\n",
      "On patch 7.13 -- 109 variables taken // 575 dropped\n",
      "On patch 7.14 -- 104 variables taken // 580 dropped\n",
      "On patch 7.15 -- 2 variables taken // 682 dropped\n",
      "On patch 7.16 -- 108 variables taken // 576 dropped\n",
      "On patch 7.17 -- 5 variables taken // 679 dropped\n"
     ]
    }
   ],
   "source": [
    "for k in patchDict:\n",
    "    took = str(sum(patchDict[k] != 0))\n",
    "    left = str(sum(patchDict[k] == 0))\n",
    "    print(\"On patch \" + str(k) + \" -- \" + took + \" variables taken // \" +  left + \" dropped\")"
   ]
  },
  {
   "cell_type": "code",
   "execution_count": 118,
   "metadata": {
    "slideshow": {
     "slide_type": "slide"
    }
   },
   "outputs": [
    {
     "name": "stdout",
     "output_type": "stream",
     "text": [
      "5.24 \n",
      " opptowerkills    -0.172364\n",
      "teamdeaths       -0.035325\n",
      "winRate           0.012383\n",
      "kpm               0.013517\n",
      "a                 0.023834\n",
      "teamtowerkills    0.134470\n",
      "dtype: float64\n",
      "6.01 \n",
      " opptowerkills    -0.234651\n",
      "goldspent        -0.187753\n",
      "gspd             -0.151993\n",
      "ban3_Gangplank   -0.074058\n",
      "Top_Poppy        -0.069792\n",
      "earnedgpm         0.085097\n",
      "a                 0.097077\n",
      "ban1_Olaf         0.134377\n",
      "minionkills       0.148432\n",
      "teamtowerkills    0.245148\n",
      "dtype: float64\n",
      "6.02 \n",
      " opptowerkills    -0.184253\n",
      "gspd             -0.148907\n",
      "Middle_Ezreal    -0.103952\n",
      "Jungle_Udyr      -0.097884\n",
      "visionwardbuys   -0.085409\n",
      "a                 0.065223\n",
      "Support_Janna     0.071780\n",
      "Top_Malphite      0.071826\n",
      "ban3_Nidalee      0.094909\n",
      "teamtowerkills    0.254619\n",
      "dtype: float64\n",
      "6.03 \n",
      " opptowerkills    -0.156374\n",
      "earnedgpm         0.066312\n",
      "teamtowerkills    0.152483\n",
      "dtype: float64\n",
      "6.04 \n",
      " opptowerkills    -0.226000\n",
      "teamtowerkills    0.166689\n",
      "dtype: float64\n",
      "6.05 \n",
      " opptowerkills    -0.129432\n",
      "oppbaronkills    -0.040456\n",
      "earnedgpm         0.008003\n",
      "teambaronkills    0.009831\n",
      "a                 0.019881\n",
      "fbaron            0.028082\n",
      "teamtowerkills    0.167555\n",
      "dtype: float64\n",
      "6.06 \n",
      " opptowerkills    -0.247990\n",
      "gspd             -0.168735\n",
      "teamdeaths       -0.096675\n",
      "ban3_Lee Sin     -0.066320\n",
      "ban1_Soraka      -0.052642\n",
      "gdat10            0.056996\n",
      "ban1_Fiora        0.065333\n",
      "Middle_Azir       0.069308\n",
      "a                 0.069733\n",
      "teamtowerkills    0.284626\n",
      "dtype: float64\n",
      "6.07 \n",
      " opptowerkills    -0.180463\n",
      "earnedgpm         0.083409\n",
      "teamtowerkills    0.108315\n",
      "dtype: float64\n",
      "6.08 \n",
      " opptowerkills    -0.133971\n",
      "teamdeaths       -0.036813\n",
      "d                -0.001784\n",
      "teambaronkills    0.004672\n",
      "earnedgpm         0.015094\n",
      "a                 0.062163\n",
      "teamtowerkills    0.145436\n",
      "dtype: float64\n",
      "6.1 \n",
      " opptowerkills    -0.230704\n",
      "gspd             -0.149852\n",
      "ban3_Sivir       -0.117994\n",
      "teamdeaths       -0.114524\n",
      "ban1_Ekko        -0.108608\n",
      "minionkills       0.091048\n",
      "ban1_Lucian       0.109847\n",
      "ban1_Lissandra    0.114425\n",
      "teamtowerkills    0.144889\n",
      "earnedgpm         0.171231\n",
      "dtype: float64\n",
      "6.11 \n",
      " teamdeaths       -0.268610\n",
      "opptowerkills    -0.210736\n",
      "Top_Ryze         -0.162310\n",
      "Support_Thresh   -0.098024\n",
      "gspd             -0.088005\n",
      "ban2_Karma        0.100513\n",
      "ban1_Shen         0.123666\n",
      "teamtowerkills    0.136779\n",
      "Top_Rumble        0.158269\n",
      "okpm              0.172839\n",
      "dtype: float64\n",
      "6.12 \n",
      " opptowerkills    -0.256991\n",
      "gspd             -0.114789\n",
      "goldspent        -0.111129\n",
      "Middle_Zed       -0.100543\n",
      "ban1_Ezreal      -0.091549\n",
      "Support_Karma     0.060676\n",
      "ban1_Jhin         0.061871\n",
      "Top_Jax           0.062136\n",
      "earnedgpm         0.121682\n",
      "teamtowerkills    0.225354\n",
      "dtype: float64\n",
      "6.13 \n",
      " opptowerkills    -0.226988\n",
      "ban3_Syndra      -0.158615\n",
      "gspd             -0.111196\n",
      "goldspent        -0.102271\n",
      "ban2_Jax         -0.082311\n",
      "ban1_Varus        0.107748\n",
      "earnedgpm         0.125248\n",
      "ban1_Maokai       0.126115\n",
      "ban1_Rumble       0.137182\n",
      "teamtowerkills    0.198415\n",
      "dtype: float64\n",
      "6.14 \n",
      " opptowerkills    -0.169742\n",
      "Top_Akali        -0.156482\n",
      "gspd             -0.148485\n",
      "teamdeaths       -0.099433\n",
      "ban1_Soraka      -0.087520\n",
      "Top_Irelia        0.068029\n",
      "dmgtochamps       0.092174\n",
      "ban2_LeBlanc      0.104788\n",
      "earnedgpm         0.172230\n",
      "teamtowerkills    0.200168\n",
      "dtype: float64\n",
      "6.15 \n",
      " opptowerkills    -0.208586\n",
      "gspd             -0.140882\n",
      "teamdeaths       -0.109436\n",
      "ban3_Hecarim     -0.103653\n",
      "airdrakes        -0.091202\n",
      "minionkills       0.092865\n",
      "teamtowerkills    0.140353\n",
      "Top_Fiora         0.141886\n",
      "ban3_Shen         0.146305\n",
      "earnedgpm         0.175440\n",
      "dtype: float64\n",
      "6.16 \n",
      " opptowerkills    -0.109611\n",
      "teamdeaths       -0.024374\n",
      "d                -0.003889\n",
      "oppdragkills     -0.000729\n",
      "teamdragkills     0.011599\n",
      "a                 0.026117\n",
      "teamtowerkills    0.083163\n",
      "earnedgpm         0.097101\n",
      "dtype: float64\n",
      "6.18 \n",
      " opptowerkills    -0.208242\n",
      "gspd             -0.126581\n",
      "Support_Nami     -0.067958\n",
      "winRate          -0.057396\n",
      "oppbaronkills    -0.055812\n",
      "a                 0.048472\n",
      "ban3_Jhin         0.048922\n",
      "teamdragkills     0.050434\n",
      "ADC_Jinx          0.063973\n",
      "teamtowerkills    0.205613\n",
      "dtype: float64\n",
      "6.21 \n",
      " opptowerkills    -0.176435\n",
      "teamtowerkills    0.193007\n",
      "dtype: float64\n",
      "7.01 \n",
      " opptowerkills     -0.236391\n",
      "ban1_Elise        -0.117971\n",
      "gspd              -0.111367\n",
      "ban1_Kha'zix      -0.097420\n",
      "teamdeaths        -0.071623\n",
      "earnedgpm          0.079149\n",
      "ban2_Elise         0.083181\n",
      "Support_Morgana    0.085946\n",
      "teamkills          0.097558\n",
      "teamtowerkills     0.192362\n",
      "dtype: float64\n",
      "7.02 \n",
      " opptowerkills       -0.230387\n",
      "gspd                -0.162088\n",
      "Top_Fiora           -0.082254\n",
      "ban3_Varus          -0.069227\n",
      "teamdeaths          -0.063570\n",
      "Jungle_Elise         0.072099\n",
      "Support_Taric        0.082125\n",
      "a                    0.084224\n",
      "ban3_Miss Fortune    0.097585\n",
      "teamtowerkills       0.182967\n",
      "dtype: float64\n",
      "7.03 \n",
      " opptowerkills    -0.199117\n",
      "teamtowerkills    0.177428\n",
      "dtype: float64\n",
      "7.04 \n",
      " opptowerkills    -0.218617\n",
      "ban2_Lee Sin     -0.171789\n",
      "gspd             -0.115740\n",
      "ban1_Rengar      -0.075091\n",
      "teamdeaths       -0.074210\n",
      "a                 0.068386\n",
      "ban3_Ivern        0.084409\n",
      "earnedgpm         0.099828\n",
      "ADC_Caitlyn       0.102387\n",
      "teamtowerkills    0.189900\n",
      "dtype: float64\n",
      "7.05 \n",
      " opptowerkills        -0.192199\n",
      "ban2_Aurelion Sol    -0.163554\n",
      "gspd                 -0.153272\n",
      "Middle_Ekko          -0.100876\n",
      "Support_Blitzcrank   -0.096977\n",
      "ban1_Rengar           0.049285\n",
      "teambaronkills        0.052465\n",
      "Top_Nautilus          0.053632\n",
      "a                     0.054396\n",
      "teamtowerkills        0.191440\n",
      "dtype: float64\n",
      "7.06 \n",
      " opptowerkills    -0.208780\n",
      "ban1_Ryze        -0.164107\n",
      "Jungle_Rumble    -0.102107\n",
      "ADC_Twitch       -0.089077\n",
      "gspd             -0.080403\n",
      "Top_Fizz          0.052035\n",
      "ban3_Ivern        0.072713\n",
      "ban1_Fiora        0.078695\n",
      "a                 0.089182\n",
      "teamtowerkills    0.196705\n",
      "dtype: float64\n",
      "7.07 \n",
      " opptowerkills    -0.140313\n",
      "teamtowerkills    0.231685\n",
      "dtype: float64\n",
      "7.08 \n",
      " opptowerkills    -0.222179\n",
      "gspd             -0.188025\n",
      "teamdeaths       -0.165296\n",
      "ban3_Lulu        -0.153620\n",
      "Jungle_Ivern     -0.108535\n",
      "a                 0.094722\n",
      "Jungle_Elise      0.096921\n",
      "ban2_Syndra       0.104550\n",
      "ban3_Lee Sin      0.159456\n",
      "teamtowerkills    0.295655\n",
      "dtype: float64\n",
      "7.1 \n",
      " opptowerkills    -0.226620\n",
      "ADC_Ezreal       -0.177505\n",
      "gspd             -0.138900\n",
      "teamdeaths       -0.099296\n",
      "ban3_Xayah       -0.088231\n",
      "ban3_Lulu         0.057801\n",
      "earnedgpm         0.070412\n",
      "Top_Rumble        0.092681\n",
      "teamkills         0.109063\n",
      "teamtowerkills    0.244713\n",
      "dtype: float64\n",
      "7.11 \n",
      " opptowerkills      -0.238721\n",
      "gspd               -0.148162\n",
      "ban2_Talon         -0.069009\n",
      "opp_quality_Good   -0.065382\n",
      "teamdeaths         -0.059861\n",
      "Support_Nautilus    0.064038\n",
      "ban1_Syndra         0.067607\n",
      "ban2_Kha'zix        0.069347\n",
      "earnedgpm           0.092541\n",
      "teamtowerkills      0.165704\n",
      "dtype: float64\n",
      "7.12 \n",
      " opptowerkills    -0.208270\n",
      "ban3_Shen        -0.131703\n",
      "teamdeaths       -0.118336\n",
      "gspd             -0.105508\n",
      "ban1_Kassadin    -0.060176\n",
      "earnedgpm         0.075121\n",
      "a                 0.075817\n",
      "wardkills         0.081712\n",
      "ban3_Rakan        0.086040\n",
      "teamtowerkills    0.191439\n",
      "dtype: float64\n",
      "7.13 \n",
      " opptowerkills         -0.204878\n",
      "ADC_Lucian            -0.162583\n",
      "ADC_Sivir             -0.151646\n",
      "gspd                  -0.123218\n",
      "teamdeaths            -0.078849\n",
      "Middle_Kassadin        0.063493\n",
      "teamkills              0.078669\n",
      "Middle_Aurelion Sol    0.096616\n",
      "ban3_Tristana          0.125129\n",
      "teamtowerkills         0.187591\n",
      "dtype: float64\n",
      "7.14 \n",
      " opptowerkills     -0.239141\n",
      "gspd              -0.175447\n",
      "teamdeaths        -0.092095\n",
      "oppbaronkills     -0.081594\n",
      "fbaron            -0.066574\n",
      "earnedgpm          0.093269\n",
      "ban2_Tahm Kench    0.096513\n",
      "teamtowerkills     0.155153\n",
      "ban2_Rakan         0.167698\n",
      "ban3_Zyra          0.288183\n",
      "dtype: float64\n",
      "7.15 \n",
      " opptowerkills    -0.175844\n",
      "teamtowerkills    0.187572\n",
      "dtype: float64\n",
      "7.16 \n",
      " opptowerkills    -0.234333\n",
      "gspd             -0.116812\n",
      "ban1_Thresh      -0.086350\n",
      "fbaron           -0.064668\n",
      "ban2_Gnar        -0.055565\n",
      "Top_Jayce         0.070577\n",
      "ban2_Alistar      0.085112\n",
      "Support_Janna     0.093659\n",
      "teamtowerkills    0.157921\n",
      "earnedgpm         0.183609\n",
      "dtype: float64\n",
      "7.17 \n",
      " oppbaronkills    -0.087917\n",
      "opptowerkills    -0.083701\n",
      "earnedgpm         0.038394\n",
      "teambaronkills    0.086757\n",
      "teamtowerkills    0.089519\n",
      "dtype: float64\n"
     ]
    }
   ],
   "source": [
    "for k in patchDict:\n",
    "    imp_coef = pd.concat([patchDict[k].sort_values().head(), patchDict[k].sort_values().tail()])\n",
    "    print(k, '\\n', imp_coef[imp_coef != 0])\n",
    "\n",
    "# plt.figure(figsize=(6, 10))\n",
    "# imp_coef.plot(kind = \"barh\")\n",
    "# plt.title(\"Coefficients in the Lasso Model\")\n",
    "# plt.show()"
   ]
  },
  {
   "cell_type": "markdown",
   "metadata": {
    "slideshow": {
     "slide_type": "slide"
    }
   },
   "source": [
    "### Bonus Testing!\n",
    "***\n",
    "\n",
    "During world's, I heard a lot of pundits rave about how the latest patch had restored balance to red side vs blue side. I wanted to see how out of balance the win rate on each side had been over the patches I had data for."
   ]
  },
  {
   "cell_type": "code",
   "execution_count": 59,
   "metadata": {
    "slideshow": {
     "slide_type": "slide"
    }
   },
   "outputs": [
    {
     "data": {
      "text/html": [
       "<div>\n",
       "<style>\n",
       "    .dataframe thead tr:only-child th {\n",
       "        text-align: right;\n",
       "    }\n",
       "\n",
       "    .dataframe thead th {\n",
       "        text-align: left;\n",
       "    }\n",
       "\n",
       "    .dataframe tbody tr th {\n",
       "        vertical-align: top;\n",
       "    }\n",
       "</style>\n",
       "<table border=\"1\" class=\"dataframe\">\n",
       "  <thead>\n",
       "    <tr style=\"text-align: right;\">\n",
       "      <th>side</th>\n",
       "      <th>Blue</th>\n",
       "      <th>Red</th>\n",
       "    </tr>\n",
       "  </thead>\n",
       "  <tbody>\n",
       "    <tr>\n",
       "      <th>count</th>\n",
       "      <td>34.000000</td>\n",
       "      <td>34.000000</td>\n",
       "    </tr>\n",
       "    <tr>\n",
       "      <th>mean</th>\n",
       "      <td>0.564965</td>\n",
       "      <td>0.435035</td>\n",
       "    </tr>\n",
       "    <tr>\n",
       "      <th>std</th>\n",
       "      <td>0.054029</td>\n",
       "      <td>0.054029</td>\n",
       "    </tr>\n",
       "    <tr>\n",
       "      <th>min</th>\n",
       "      <td>0.475728</td>\n",
       "      <td>0.325000</td>\n",
       "    </tr>\n",
       "    <tr>\n",
       "      <th>25%</th>\n",
       "      <td>0.528651</td>\n",
       "      <td>0.409137</td>\n",
       "    </tr>\n",
       "    <tr>\n",
       "      <th>50%</th>\n",
       "      <td>0.559259</td>\n",
       "      <td>0.440741</td>\n",
       "    </tr>\n",
       "    <tr>\n",
       "      <th>75%</th>\n",
       "      <td>0.590863</td>\n",
       "      <td>0.471349</td>\n",
       "    </tr>\n",
       "    <tr>\n",
       "      <th>max</th>\n",
       "      <td>0.675000</td>\n",
       "      <td>0.524272</td>\n",
       "    </tr>\n",
       "  </tbody>\n",
       "</table>\n",
       "</div>"
      ],
      "text/plain": [
       "side        Blue        Red\n",
       "count  34.000000  34.000000\n",
       "mean    0.564965   0.435035\n",
       "std     0.054029   0.054029\n",
       "min     0.475728   0.325000\n",
       "25%     0.528651   0.409137\n",
       "50%     0.559259   0.440741\n",
       "75%     0.590863   0.471349\n",
       "max     0.675000   0.524272"
      ]
     },
     "execution_count": 59,
     "metadata": {},
     "output_type": "execute_result"
    }
   ],
   "source": [
    "patch_side = teamDF.groupby(['patchno','side'])['result'].mean()\n",
    "patch_side = pd.DataFrame(patch_side.unstack())\n",
    "patch_side.describe()"
   ]
  },
  {
   "cell_type": "code",
   "execution_count": 60,
   "metadata": {
    "slideshow": {
     "slide_type": "slide"
    }
   },
   "outputs": [
    {
     "data": {
      "image/png": "[encoded data removed]",
      "text/plain": [
       "<matplotlib.figure.Figure at 0x544703f2b0>"
      ]
     },
     "metadata": {},
     "output_type": "display_data"
    }
   ],
   "source": [
    "_ = patch_side['Blue'].plot(color = 'blue')\n",
    "_ = patch_side['Red'].plot(color = 'red')\n",
    "_ = plt.xlabel('Patch Number')\n",
    "_ = plt.ylabel('Win %')\n",
    "plt.axhline(y=.5, ls = 'dashed', color = 'black')\n",
    "plt.show()"
   ]
  },
  {
   "cell_type": "code",
   "execution_count": 89,
   "metadata": {
    "slideshow": {
     "slide_type": "slide"
    }
   },
   "outputs": [
    {
     "name": "stdout",
     "output_type": "stream",
     "text": [
      "Patches where blue side did not have a statistically significant advantage: \n",
      "\n",
      "5.24\n",
      "6.01\n",
      "6.02\n",
      "6.03\n",
      "6.04\n",
      "6.05\n",
      "6.06\n",
      "6.08\n",
      "6.11\n",
      "6.13\n",
      "6.14\n",
      "6.18\n",
      "7.03\n",
      "7.05\n",
      "7.13\n",
      "7.15\n",
      "7.16\n",
      "7.17\n",
      "For a total of  18  patches out of  34\n"
     ]
    }
   ],
   "source": [
    "ps = teamDF.groupby('patchno')[['result', 'side']]\n",
    "not_superior = []\n",
    "\n",
    "print(\"Patches where blue side did not have a statistically significant advantage: \\n\")\n",
    "for a, g in ps:\n",
    "    blue = g[g['side'] == 'Blue']['result']\n",
    "    red = g[g['side'] == 'Red']['result']\n",
    "    if not stats.ttest_ind(blue, red)[1] < 0.05:\n",
    "        not_superior.append(a)\n",
    "        print(a)\n",
    "\n",
    "print(\"For a total of \",len(not_superior),' patches out of ', len(ps))"
   ]
  },
  {
   "cell_type": "code",
   "execution_count": 16,
   "metadata": {
    "slideshow": {
     "slide_type": "slide"
    }
   },
   "outputs": [
    {
     "data": {
      "text/plain": [
       "gamelength        0.876138\n",
       "fbtime            1.454059\n",
       "kpm               0.753440\n",
       "okpm              0.753440\n",
       "fdtime            0.763387\n",
       "firedrakes        1.578233\n",
       "waterdrakes       1.600988\n",
       "earthdrakes       1.608500\n",
       "airdrakes         1.629301\n",
       "elders            2.923185\n",
       "oppelders         2.923185\n",
       "fbarontime        0.822723\n",
       "teambaronkills    0.881502\n",
       "oppbaronkills     0.881502\n",
       "dmgtochamps       1.245445\n",
       "wards             0.859122\n",
       "wardkills         1.048908\n",
       "visionwards       1.454680\n",
       "visionwardbuys    0.834983\n",
       "goldspent         0.937580\n",
       "goldat10          0.759943\n",
       "oppgoldat10       0.759943\n",
       "dtype: float64"
      ]
     },
     "execution_count": 16,
     "metadata": {},
     "output_type": "execute_result"
    }
   ],
   "source": [
    "numeric_feats = teamDF._get_numeric_data().columns\n",
    "skewed_feats = teamDF[numeric_feats].apply(lambda x: skew(x.dropna())) #compute skewness\n",
    "skewed_feats = skewed_feats[skewed_feats > 0.75]\n",
    "skewed_feats\n",
    "\n",
    "# teamDF[skewed_feats] = np.log1p(teamDF[skewed_feats])"
   ]
  },
  {
   "cell_type": "code",
   "execution_count": null,
   "metadata": {
    "collapsed": true,
    "slideshow": {
     "slide_type": "skip"
    }
   },
   "outputs": [],
   "source": [
    "# try:\n",
    "#     lr = LogisticRegression(penalty='l1', solver='liblinear')\n",
    "#     lr.fit(X_train, y_train)\n",
    "#     pred = lr.predict(X_test)\n",
    "# except Exception as ex:\n",
    "#     print(ex)"
   ]
  }
 ],
 "metadata": {
  "celltoolbar": "Slideshow",
  "kernelspec": {
   "display_name": "Python 3",
   "language": "python",
   "name": "python3"
  },
  "language_info": {
   "codemirror_mode": {
    "name": "ipython",
    "version": 3
   },
   "file_extension": ".py",
   "mimetype": "text/x-python",
   "name": "python",
   "nbconvert_exporter": "python",
   "pygments_lexer": "ipython3",
   "version": "3.6.1"
  }
 },
 "nbformat": 4,
 "nbformat_minor": 2
}
