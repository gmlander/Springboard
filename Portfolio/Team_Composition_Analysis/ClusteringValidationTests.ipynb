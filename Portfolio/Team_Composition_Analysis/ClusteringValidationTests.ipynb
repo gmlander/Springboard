{
 "cells": [
  {
   "cell_type": "code",
   "execution_count": 1,
   "metadata": {
    "collapsed": true,
    "slideshow": {
     "slide_type": "skip"
    }
   },
   "outputs": [],
   "source": [
    "%%capture\n",
    "\n",
    "from support_functions import *"
   ]
  },
  {
   "cell_type": "code",
   "execution_count": 173,
   "metadata": {
    "collapsed": true,
    "slideshow": {
     "slide_type": "skip"
    }
   },
   "outputs": [],
   "source": [
    "%store -r teamDF\n",
    "%store -r playerDF\n",
    "\n",
    "import pandas as pd\n",
    "import numpy as np\n",
    "import matplotlib.pyplot as plt\n",
    "import seaborn as sns\n",
    "\n",
    "import fancyimpute\n",
    "import missingno\n",
    "import json\n",
    "import rpy2\n",
    "\n",
    "from sklearn.linear_model import LogisticRegression, Ridge, RidgeCV, ElasticNet, LassoCV, LassoLarsCV\n",
    "from sklearn.model_selection import train_test_split, cross_val_score, KFold\n",
    "from sklearn.metrics import classification_report, confusion_matrix, accuracy_score, roc_auc_score, log_loss\n",
    "from sklearn.preprocessing import MinMaxScaler, MaxAbsScaler, StandardScaler, RobustScaler, scale,\\\n",
    "maxabs_scale, minmax_scale, Imputer\n",
    "from sklearn.cluster import KMeans, MeanShift, SpectralClustering, AgglomerativeClustering, estimate_bandwidth\n",
    "from sklearn.discriminant_analysis import LinearDiscriminantAnalysis\n",
    "from sklearn.ensemble import AdaBoostClassifier, RandomForestClassifier\n",
    "from sklearn.tree import DecisionTreeClassifier\n",
    "from sklearn.mixture import BayesianGaussianMixture\n",
    "from sklearn.neighbors import KNeighborsClassifier\n",
    "\n",
    "import hdbscan\n",
    "\n",
    "from keras.models import Sequential\n",
    "from keras.layers import Dense, Activation\n",
    "from keras.wrappers.scikit_learn import KerasClassifier\n",
    "\n",
    "from scipy import stats\n",
    "from scipy.stats import skew\n",
    "from scipy.stats.stats import pearsonr\n",
    "\n",
    "%matplotlib inline"
   ]
  },
  {
   "cell_type": "code",
   "execution_count": 3,
   "metadata": {
    "collapsed": true,
    "slideshow": {
     "slide_type": "skip"
    }
   },
   "outputs": [],
   "source": [
    "picks_df = unpickle('picks_df.pickle')\n",
    "position_dfs = unpickle('position_dfs.pickle')"
   ]
  },
  {
   "cell_type": "markdown",
   "metadata": {
    "slideshow": {
     "slide_type": "slide"
    }
   },
   "source": [
    "# Cluster Validation Testing\n",
    "\n",
    "April 17, 2018"
   ]
  },
  {
   "cell_type": "markdown",
   "metadata": {
    "slideshow": {
     "slide_type": "slide"
    }
   },
   "source": [
    "### Scale binary features\n",
    "\n",
    "**Correction:** Scaled binary features across entire dataset last time, but need to scale by patch again. Most features will end up the same either way (the evenly distributed ones have equal 0's and 1's in each patch, so mean .5, sd .5, scaled to -1 and 1).\n",
    "\n",
    "But things like the dummified meta features should be scaled by patch. So if there wasn't a dominant meta in a patch, the distinction between picking a meta champion or off-meta is less meaningful than in a patch with a strongly demarcated meta.\n",
    "\n",
    "\n",
    "**Methodology decision**:\n",
    "Noisy features like 'doubles', 'triples', 'quadras', and 'pentas' present a problem. If I scale these features by patch, then small deviations from the meta will be exacerbated - for instance in a meta where most top laners are tanks that don't get a lot of kills, the rare occassions that double kills show up on a damage dealing top laner will be scaled to very high values and give the mistaken impression that this was some sort of hypercarry top laner.\n",
    "\n",
    "On the other hand, if those kill count features are scaled across the data, then skirmish/engage/kill heavy metas will not be controlled for, and similar playstyles across different metas will look different when they shouldn't.\n",
    "\n",
    "Ultimately, the best approach may be not to use those features, since they are noisy to begin with. A champion can have high kill threat in a game with a lot of teamfighting, but still not get a large number of double/triple kills. Still, this is a source of information that could add value in differentiating the groups. If I end up using weights in my final clusterer, I may reintroduce these features with very low weights."
   ]
  },
  {
   "cell_type": "code",
   "execution_count": 4,
   "metadata": {
    "collapsed": true,
    "slideshow": {
     "slide_type": "slide"
    }
   },
   "outputs": [],
   "source": [
    "bin_cols_dict = {}\n",
    "non_bins = {}\n",
    "for k,df in position_dfs.items():\n",
    "    bcols = df.select_dtypes(exclude=['O','category']).columns[df.select_dtypes(exclude=['O','category']).nunique() <= 3]\n",
    "    bcols = bcols.drop(['doubles', 'triples', 'quadras', 'pentas', 'result'], errors = 'ignore')\n",
    "    non_bins[k] = df.columns.difference(bcols).drop('patchno')\n",
    "    bin_cols_dict[k] = get_feature_scale_dict(df.reset_index(), c='patchno', ignore= non_bins[k])"
   ]
  },
  {
   "cell_type": "code",
   "execution_count": 5,
   "metadata": {
    "slideshow": {
     "slide_type": "fragment"
    }
   },
   "outputs": [
    {
     "name": "stdout",
     "output_type": "stream",
     "text": [
      "WARNING - Unable to transform: [('7.08', 'fbassist'), ('5.24', 'fd'), ('6.02', 'fd'), ('6.06', 'fd'), ('6.16', 'fd'), ('6.21', 'fd'), ('7.08', 'fd'), ('5.24', 'fb_early'), ('6.01', 'fb_early'), ('6.02', 'fb_early'), ('6.03', 'fb_early'), ('6.04', 'fb_early'), ('6.05', 'fb_early'), ('6.06', 'fb_early'), ('6.07', 'fb_early'), ('6.08', 'fb_early'), ('6.16', 'fb_early'), ('7.08', 'fb_early')]\n",
      "WARNING - Unable to transform: [('7.08', 'fbassist'), ('5.24', 'fb_early'), ('6.01', 'fb_early'), ('6.02', 'fb_early'), ('6.03', 'fb_early'), ('6.04', 'fb_early'), ('6.05', 'fb_early'), ('6.06', 'fb_early'), ('6.07', 'fb_early'), ('6.08', 'fb_early')]\n",
      "WARNING - Unable to transform: [('7.08', 'fbassist'), ('6.02', 'fd'), ('6.04', 'fd'), ('6.1', 'fd'), ('5.24', 'fb_early'), ('6.01', 'fb_early'), ('6.02', 'fb_early'), ('6.03', 'fb_early'), ('6.04', 'fb_early'), ('6.05', 'fb_early'), ('6.06', 'fb_early'), ('6.07', 'fb_early')]\n",
      "WARNING - Unable to transform: [('7.08', 'fbassist'), ('5.24', 'fd'), ('6.21', 'fd'), ('5.24', 'fb_early'), ('6.01', 'fb_early'), ('6.02', 'fb_early'), ('6.03', 'fb_early'), ('6.04', 'fb_early'), ('6.05', 'fb_early'), ('6.06', 'fb_early'), ('6.07', 'fb_early'), ('6.08', 'fb_early'), ('6.16', 'fb_early')]\n",
      "WARNING - Unable to transform: [('7.08', 'fbassist'), ('5.24', 'fd'), ('6.16', 'fd'), ('6.21', 'fd'), ('7.1', 'fd'), ('5.24', 'fb_early'), ('6.01', 'fb_early'), ('6.02', 'fb_early'), ('6.03', 'fb_early'), ('6.04', 'fb_early'), ('6.05', 'fb_early'), ('6.06', 'fb_early'), ('6.07', 'fb_early'), ('6.16', 'fb_early'), ('7.17', 'fb_early')]\n"
     ]
    }
   ],
   "source": [
    "bsps = {}\n",
    "for k,df in position_dfs.items():\n",
    "    bsps[k] = patch_scale(df, bin_cols_dict[k], non_bins[k], verbose=True)\n",
    "    bsps[k] = bsps[k].reset_index().set_index(['gameid','team'])"
   ]
  },
  {
   "cell_type": "markdown",
   "metadata": {
    "slideshow": {
     "slide_type": "slide"
    }
   },
   "source": [
    "### Declare testing functions"
   ]
  },
  {
   "cell_type": "code",
   "execution_count": 191,
   "metadata": {
    "slideshow": {
     "slide_type": "subslide"
    }
   },
   "outputs": [],
   "source": [
    "def get_iqr(df, span = .5):\n",
    "    if 0 < span < 1:\n",
    "        return df.quantile(.5 + span/2) - df.quantile(.5 - span/2)\n",
    "    else:\n",
    "        print(\"ERROR --- 'span' must be between 0 and 1\")\n",
    "\n",
    "def mink_weights(df, power=1, **kwargs):\n",
    "    return 1/(get_iqr(df, **kwargs)**power +1)\n",
    "\n",
    "def get_opp_labels(s):\n",
    "    a = s.groupby(level=0).shift(1).fillna(0).astype(int)\n",
    "    b = s.groupby(level=0).shift(-1).fillna(0).astype(int)\n",
    "    return (a + b).astype(str)\n",
    "\n",
    "def get_label_df(data, feats, clf, result, opp_labels = True,\\\n",
    "                 dummies = True, win_divergence = True, ref_data = False, bgm = False,\n",
    "                 ms = False, multi_kmeans_group = None, hd_knn = False):\n",
    "    \n",
    "    trial_df = result.copy()\n",
    "    win_div = []\n",
    "    if ms:\n",
    "        bw_quantile = clf.bandwidth\n",
    "    \n",
    "    if ref_data:\n",
    "        trial_df.reset_index(inplace = True)\n",
    "        trial_df.set_index(['patchno', 'champion'], inplace = True)\n",
    "    \n",
    "    for k,df in data.items():\n",
    "        if ms:\n",
    "            est_bw_samples = int(df.shape[0]/2) if not ref_data else df.shape[0]\n",
    "            bw = estimate_bandwidth(df[feats[k]].as_matrix(), quantile=bw_quantile,\\\n",
    "                                    n_samples=est_bw_samples, random_state=7)\n",
    "            clf.bandwidth = bw\n",
    "        if multi_kmeans_group:\n",
    "            clf.n_clusters = multi_kmeans_group[k]\n",
    "            \n",
    "        if bgm:\n",
    "            clusters = get_bgm_labels(df[feats[k]],clf)\n",
    "        elif hd_knn:\n",
    "            clusters = hdbscan_with_knn(df[feats[k]], clf)\n",
    "        else:\n",
    "            clusters = clf.fit(df[feats[k]]).labels_\n",
    "        trial_df[k] = clusters.astype(str) if hd_knn else pd.Series(clusters,index=df.index).rename(k).astype(str)\n",
    "        \n",
    "        if win_divergence:\n",
    "            win_rates = get_win_rates(trial_df[k], trial_df['result'])\n",
    "            k_win_div = (\\\n",
    "                              np.abs(win_rates.win_pct - .5)*\\\n",
    "                              win_rates.players_in_cluster\\\n",
    "                              /win_rates.players_in_cluster.sum()\\\n",
    "                             ).sum()\n",
    "            win_div.append(k_win_div)\n",
    "            \n",
    "        if opp_labels:\n",
    "            trial_df['opp_' + k] = get_opp_labels(trial_df[k])\n",
    "            \n",
    "    if ref_data:\n",
    "        trial_df.reset_index(inplace=True)\n",
    "        trial_df.set_index(['gameid', 'team'], inplace = True)\n",
    "    trial_df.drop(['patchno','champion'], axis=1, inplace = True)\n",
    "        \n",
    "    if dummies and win_divergence:\n",
    "        return pd.get_dummies(trial_df), win_div\n",
    "    elif dummies:\n",
    "        return pd.get_dummies(trial_df)\n",
    "    elif win_divergence:\n",
    "        return trial_df, win_div\n",
    "    else:\n",
    "        return trial_df\n",
    "\n",
    "def score_clusters(df, clf, verbose = True, results = True):\n",
    "    X, X_test, y, y_test = train_test_split(df.drop('result', axis=1), df.result,test_size=.3, random_state = 13)\n",
    "    scores = {'train':{},'test':{}}\n",
    "    \n",
    "    clf.fit(X, y)\n",
    "    prob_train = clf.predict_proba(X)\n",
    "    prob_test = clf.predict_proba(X_test)\n",
    "    \n",
    "    scores['accuracy_train'] = clf.score(X,y)\n",
    "    scores['accuracy_test'] = clf.score(X_test,y_test)\n",
    "    scores['AUC_train'] = roc_auc_score(y, prob_train[:,1])\n",
    "    scores['AUC_test'] = roc_auc_score(y_test, prob_test[:,1])\n",
    "    scores['log_loss_train'] = log_loss(y, prob_train)\n",
    "    scores['log_loss_test'] = log_loss(y_test, prob_test)\n",
    "    if verbose:\n",
    "        print(\"\\t  Training --\\tTesting\")\n",
    "        print(\"Accuracy: {:0.3f}    --\\t{:0.3f}\".format(scores['accuracy_train'],scores['accuracy_test']))\n",
    "        print(\"AUC:\\t  {:0.3f}    --\\t{:0.3f}\".format(scores['AUC_train'],scores['AUC_test']))\n",
    "        print(\"Log-Loss: {:0.3f}    --\\t{:0.3f}\".format(scores['log_loss_train'],scores['log_loss_test']))\n",
    "    if results:\n",
    "        return scores\n",
    "\n",
    "def keras_classifier(unit1 = 150, unit2 = 50, n_feats = None):\n",
    "    model = Sequential([\n",
    "        Dense(unit1, activation = 'relu', input_shape=(n_feats,)),\n",
    "        Dense(unit2, activation = 'relu'),\n",
    "        Dense(1, activation = 'relu')\n",
    "    ])\n",
    "    model.compile(optimizer='rmsprop', loss='binary_crossentropy', metrics=['accuracy'])\n",
    "    return model\n",
    "\n",
    "def get_estimators(num_feats, **kwargs):\n",
    "    tr = DecisionTreeClassifier(max_depth=int(num_feats/4), **kwargs)\n",
    "    rf = RandomForestClassifier(max_features= int(num_feats**.5), max_depth= 5, **kwargs)\n",
    "    kc = KerasClassifier(build_fn=keras_classifier, verbose=0, n_feats = num_feats, epochs = 10, **kwargs)\n",
    "    return (('tr',tr),('rf',rf),('kc',kc))\n",
    "\n",
    "def test_keys():\n",
    "    return {'Trim_features': {}, 'Auto_features_1': {}, 'Auto_features_2': {}, 'ref_data': {}, 'weighted_ref_data':{}}\n",
    "\n",
    "def get_bgm_labels(df, clf, bgm_thresh = .1):\n",
    "    clf2 = clf\n",
    "    w = clf.fit(df).weights_\n",
    "    clf2.n_components = max(2, sum(w > bgm_thresh))\n",
    "    return clf2.fit(df).predict(df)\n",
    "\n",
    "def hdbscan_with_knn(data, input_clf, thresh = None):\n",
    "    df = data.copy()\n",
    "    clf = input_clf\n",
    "    clf.prediction_data = True\n",
    "# run hdbscan    \n",
    "    clusterer = clf.fit(df)\n",
    "    thresh = thresh if thresh else 1/max(2,len(clusterer.exemplars_))\n",
    "    \n",
    "# get exemplars and labels\n",
    "    exemplars = np.concatenate([e for e in clusterer.exemplars_])\n",
    "    labels = np.concatenate([np.full((len(e)),fill_value=i)\\\n",
    "                             for i,e in enumerate(clusterer.exemplars_)])\n",
    "\n",
    "# fit knn on exemplars\n",
    "    knn = KNeighborsClassifier(n_neighbors=1).fit(exemplars, labels)\n",
    "    \n",
    "# map top soft cluster probabilities to obs\n",
    "    probs = np.max(hdbscan.all_points_membership_vectors(clusterer),axis = 1)\n",
    "    df['top_prob'] = pd.Series(probs, index = df.index)\n",
    "    \n",
    "# assign all points to outlier class (label:-1)\n",
    "    df['label'] = -1\n",
    "\n",
    "# take all points above a prob threshhold\n",
    "    obs = df.top_prob >= thresh\n",
    "    \n",
    "# predict labels from fitted knn\n",
    "    df.loc[obs,'label'] = \\\n",
    "        knn.predict(df.loc[obs, df.columns.drop(['top_prob','label'])])\n",
    "\n",
    "#----------------------- TO-DO -----------------------------\n",
    "# allow batch prediction\n",
    "# -- 1. assign points below thresh to outlier class\n",
    "# -- 2. take top n% of obs by cluster prob and predict label\n",
    "# -- 3. refit knn on assigned points\n",
    "# -- 4. repeat steps 2 & 3 for remaining percentage bins\n",
    "\n",
    "# allow for custom distance metrics and weight in hdbscan call\n",
    "    return df.label"
   ]
  },
  {
   "cell_type": "markdown",
   "metadata": {
    "slideshow": {
     "slide_type": "skip"
    }
   },
   "source": [
    "#### Issue with IQR\n",
    "\n",
    "Extremely sparse features will have 0 IQR for low span values, but very wide range at high span levels. So it's possible to give heavy importance to features that appear less variable than they actually are.\n",
    "\n",
    "Any ideas? Maybe make the minkowski feature weights related to iqr and max-min?"
   ]
  },
  {
   "cell_type": "code",
   "execution_count": 7,
   "metadata": {
    "slideshow": {
     "slide_type": "skip"
    }
   },
   "outputs": [
    {
     "name": "stdout",
     "output_type": "stream",
     "text": [
      "Span: 0.30 -- 10 features with IQR = 0 -- 2.00 max IQR\n",
      "Span: 0.36 -- 10 features with IQR = 0 -- 2.00 max IQR\n",
      "Span: 0.43 -- 10 features with IQR = 0 -- 2.00 max IQR\n",
      "Span: 0.49 -- 10 features with IQR = 0 -- 2.00 max IQR\n",
      "Span: 0.55 -- 10 features with IQR = 0 -- 2.02 max IQR\n",
      "Span: 0.61 -- 8 features with IQR = 0 -- 2.48 max IQR\n",
      "Span: 0.68 -- 8 features with IQR = 0 -- 2.48 max IQR\n",
      "Span: 0.74 -- 7 features with IQR = 0 -- 3.35 max IQR\n",
      "Span: 0.80 -- 6 features with IQR = 0 -- 3.35 max IQR\n",
      "Span: 0.86 -- 5 features with IQR = 0 -- 3.48 max IQR\n",
      "Span: 0.93 -- 5 features with IQR = 0 -- 4.10 max IQR\n",
      "Span: 0.99 -- 2 features with IQR = 0 -- 10.87 max IQR\n"
     ]
    }
   ],
   "source": [
    "for n in np.linspace(.3,.99,12):\n",
    "    iqr = get_iqr(bsps['Top'], n)\n",
    "    m = iqr.max()\n",
    "    iqr = iqr[(np.absolute(iqr) < 10**-8)]\n",
    "    print('Span: {:0.2f} -- {} features with IQR = 0 -- {:0.2f} max IQR'.format(n, len(iqr), m))"
   ]
  },
  {
   "cell_type": "markdown",
   "metadata": {
    "slideshow": {
     "slide_type": "slide"
    }
   },
   "source": [
    "## Testing Score Table Structure\n",
    "\n",
    "- Cluster validation through predictive power on win outcome with multiple estimators.\n",
    "    - Decision Tree\n",
    "    - Random Forest\n",
    "    - Neural Net\n",
    "- 5 datasets being considered\n",
    "    - Custom picked features\n",
    "    - Auto-picked features (all features below a threshhold correlation with `result` -- 0.1 and 0.2)\n",
    "    - Only aggregated champion features (weighted and unweighted by pick frequency)\n",
    "- Clustering Algorithms Used:\n",
    "    - KMeans\n",
    "    - Variational Bayesian Gaussian Mixture (VBGMM)\n",
    "    - Meanshift w/ orphans\n",
    "    - Combination: Hierarchical Density-Based Spatial Clustering (HDBSCAN) to get exemplars (density equivalent of centroids) then finished with Nearest Neighbor assignment (KNN w/ k=1).\n",
    "- Metrics Tracked (on training and test data):\n",
    "    - Accuracy\n",
    "    - ROC score (probably won't use, but rather have and not need than have to repeat)\n",
    "    - Log Loss\n",
    "    - Win Divergence -- custom metric for each clustered position\n",
    "    \n",
    "    \n",
    "$$Win\\ Divergence = \\sum_{i=1}^{n} \\big|w_i-0.5\\big|*p_i $$ where w is the win percentage of class i, p is the percent of observations represented by class i, and n is the number of classes."
   ]
  },
  {
   "cell_type": "markdown",
   "metadata": {
    "slideshow": {
     "slide_type": "slide"
    }
   },
   "source": [
    "### Prepare features and Datasets"
   ]
  },
  {
   "cell_type": "code",
   "execution_count": 7,
   "metadata": {
    "collapsed": true,
    "slideshow": {
     "slide_type": "fragment"
    }
   },
   "outputs": [],
   "source": [
    "trim_feats = {}\n",
    "for k in position_dfs:\n",
    "    trim_feats[k] = ['wpm', 'fbarontime','fttime', 'wardshare', 'fdtime', 'fbtime','gamelength', 'wcpm',\n",
    "     'earnedgoldshare', 'ckpm', 'dmg_efficiency','pick_meta', 'pick_off-meta'] + [c for c in position_dfs[k].columns if 'champ_' in c]"
   ]
  },
  {
   "cell_type": "code",
   "execution_count": 8,
   "metadata": {
    "slideshow": {
     "slide_type": "fragment"
    }
   },
   "outputs": [
    {
     "name": "stdout",
     "output_type": "stream",
     "text": [
      "-- Number of features with result correlation below 0.10 by position --\n",
      "Top : 52\n",
      "Jungle : 50\n",
      "Middle : 49\n",
      "ADC : 47\n",
      "Support : 62\n"
     ]
    }
   ],
   "source": [
    "thresh_1_feats = {}\n",
    "thresh_1_feats = auto_feats(bsps, .1, True)"
   ]
  },
  {
   "cell_type": "code",
   "execution_count": 9,
   "metadata": {
    "slideshow": {
     "slide_type": "fragment"
    }
   },
   "outputs": [
    {
     "name": "stdout",
     "output_type": "stream",
     "text": [
      "-- Number of features with result correlation below 0.20 by position --\n",
      "Top : 67\n",
      "Jungle : 66\n",
      "Middle : 67\n",
      "ADC : 66\n",
      "Support : 84\n"
     ]
    }
   ],
   "source": [
    "thresh_2_feats = {}\n",
    "thresh_2_feats = auto_feats(bsps, .2, True)"
   ]
  },
  {
   "cell_type": "code",
   "execution_count": 10,
   "metadata": {
    "collapsed": true,
    "slideshow": {
     "slide_type": "fragment"
    }
   },
   "outputs": [],
   "source": [
    "ref_feats = {}\n",
    "for k in position_dfs:\n",
    "    ref_feats[k] = ['pick_meta', 'pick_off-meta'] + [c for c in position_dfs[k].columns if 'champ_' in c]"
   ]
  },
  {
   "cell_type": "code",
   "execution_count": 11,
   "metadata": {
    "collapsed": true,
    "slideshow": {
     "slide_type": "fragment"
    }
   },
   "outputs": [],
   "source": [
    "ref_df = {}\n",
    "for k, df in bsps.items():\n",
    "    ref_df[k] = df.set_index(['patchno','champion'])[ref_feats[k]].copy().drop_duplicates()"
   ]
  },
  {
   "cell_type": "code",
   "execution_count": 12,
   "metadata": {
    "collapsed": true
   },
   "outputs": [],
   "source": [
    "test_scores = unpickle('cluster_validation_tests.pickle')"
   ]
  },
  {
   "cell_type": "code",
   "execution_count": 13,
   "metadata": {
    "collapsed": true,
    "slideshow": {
     "slide_type": "fragment"
    }
   },
   "outputs": [],
   "source": [
    "key_feature_lookup = {'Auto_features_1': thresh_1_feats, 'Auto_features_2': thresh_2_feats,\\\n",
    "                     'Trim_features': trim_feats, 'ref_data': ref_feats, 'weighted_ref_data': ref_feats}"
   ]
  },
  {
   "cell_type": "markdown",
   "metadata": {
    "slideshow": {
     "slide_type": "slide"
    }
   },
   "source": [
    "# Testing\n",
    "\n",
    "### KMeans\n",
    "\n",
    "- **Same k for each position**"
   ]
  },
  {
   "cell_type": "code",
   "execution_count": 151,
   "metadata": {
    "scrolled": false,
    "slideshow": {
     "slide_type": "fragment"
    }
   },
   "outputs": [
    {
     "name": "stdout",
     "output_type": "stream",
     "text": [
      "Data: Auto_features_1\n",
      "Classifier: tr\n",
      "\t  Training --\tTesting\n",
      "Accuracy: 0.557    --\t0.513\n",
      "AUC:\t  0.580    --\t0.518\n",
      "Log-Loss: 0.682    --\t0.700\n",
      "\n",
      "\n",
      "Classifier: rf\n",
      "\t  Training --\tTesting\n",
      "Accuracy: 0.558    --\t0.524\n",
      "AUC:\t  0.583    --\t0.534\n",
      "Log-Loss: 0.683    --\t0.693\n",
      "\n",
      "\n",
      "Classifier: kc\n",
      "\t  Training --\tTesting\n",
      "Accuracy: 0.554    --\t0.521\n",
      "AUC:\t  0.620    --\t0.540\n",
      "Log-Loss: 0.685    --\t0.722\n",
      "\n",
      "\n"
     ]
    }
   ],
   "source": [
    "demo = True\n",
    "for k in range(2,7):\n",
    "    key = 'kmeans_'+str(k)\n",
    "    test_scores[key] = test_keys()\n",
    "    for feature_key, features in key_feature_lookup.items():\n",
    "        if feature_key != 'ref_data':\n",
    "            test_df, test_scores[key][feature_key]['win_div'] = \\\n",
    "            get_label_df(bsps, features, KMeans(n_clusters=k, random_state = 7),\\\n",
    "                         bsps['Top'][['patchno','champion','result']])\n",
    "        else:\n",
    "            test_df, test_scores[key][feature_key]['win_div'] = \\\n",
    "            get_label_df(ref_df, features, KMeans(n_clusters=k, random_state = 7),\\\n",
    "                         bsps['Top'][['patchno','champion','result']], ref_data = True)\n",
    "\n",
    "        estimators = get_estimators(test_df.shape[1]-1)\n",
    "        if demo:\n",
    "            print('Data:',feature_key)\n",
    "        for est in estimators:\n",
    "            if demo:\n",
    "                print('Classifier:',est[0])\n",
    "                test_scores[key][feature_key][est[0]] = score_clusters(test_df,est[1])\n",
    "                print('\\n')\n",
    "            else:\n",
    "                test_scores[key][feature_key][est[0]] = score_clusters(test_df,est[1], verbose = False)\n",
    "        demo = False\n",
    "        enpickle(test_scores, 'cluster_validation_tests.pickle')"
   ]
  },
  {
   "cell_type": "markdown",
   "metadata": {},
   "source": [
    "- **Combinations of k's for positions**"
   ]
  },
  {
   "cell_type": "code",
   "execution_count": 65,
   "metadata": {},
   "outputs": [
    {
     "data": {
      "text/plain": [
       "[{'ADC': 2, 'Jungle': 2, 'Middle': 2, 'Support': 2, 'Top': 2},\n",
       " {'ADC': 2, 'Jungle': 2, 'Middle': 2, 'Support': 3, 'Top': 2},\n",
       " {'ADC': 2, 'Jungle': 2, 'Middle': 2, 'Support': 4, 'Top': 2},\n",
       " {'ADC': 3, 'Jungle': 2, 'Middle': 2, 'Support': 2, 'Top': 2},\n",
       " {'ADC': 3, 'Jungle': 2, 'Middle': 2, 'Support': 3, 'Top': 2}]"
      ]
     },
     "execution_count": 65,
     "metadata": {},
     "output_type": "execute_result"
    }
   ],
   "source": [
    "from itertools import product\n",
    "k_groups = list(product(range(2,5), repeat = 5))\n",
    "k_groups_dict = [{k:v for k,v in zip(['Top', 'Jungle', 'Middle', 'ADC', 'Support'], group)} for group in k_groups]\n",
    "k_groups_dict[:5]"
   ]
  },
  {
   "cell_type": "code",
   "execution_count": 66,
   "metadata": {},
   "outputs": [
    {
     "name": "stdout",
     "output_type": "stream",
     "text": [
      "{'Top': 2, 'Jungle': 3, 'Middle': 4, 'ADC': 3, 'Support': 4}\n",
      "23434\n",
      "{'Top': 2, 'Jungle': 3, 'Middle': 4, 'ADC': 4, 'Support': 2}\n",
      "23442\n",
      "{'Top': 2, 'Jungle': 3, 'Middle': 4, 'ADC': 4, 'Support': 3}\n",
      "23443\n",
      "{'Top': 2, 'Jungle': 3, 'Middle': 4, 'ADC': 4, 'Support': 4}\n",
      "23444\n",
      "{'Top': 2, 'Jungle': 4, 'Middle': 2, 'ADC': 2, 'Support': 2}\n",
      "24222\n"
     ]
    }
   ],
   "source": [
    "for group in k_groups_dict[50:55]:\n",
    "    print(group)\n",
    "    print(''.join([str(group[k]) for k in ['Top', 'Jungle', 'Middle', 'ADC', 'Support']]))"
   ]
  },
  {
   "cell_type": "code",
   "execution_count": 76,
   "metadata": {
    "collapsed": true
   },
   "outputs": [],
   "source": [
    "for group in k_groups_dict[50:60]:\n",
    "    key = 'kmeans_'+ ''.join([str(group[k]) for k in ['Top', 'Jungle', 'Middle', 'ADC', 'Support']])\n",
    "    test_scores[key] = test_keys()\n",
    "    for feature_key, features in key_feature_lookup.items():\n",
    "        if feature_key != 'ref_data':\n",
    "            test_df, test_scores[key][feature_key]['win_div'] = \\\n",
    "            get_label_df(bsps, features, KMeans(n_clusters=1, random_state = 7),\\\n",
    "                         bsps['Top'][['patchno','champion','result']],\\\n",
    "                         multi_kmeans_group = group)\n",
    "        else:\n",
    "            test_df, test_scores[key][feature_key]['win_div'] = \\\n",
    "            get_label_df(ref_df, features, KMeans(n_clusters=1, random_state = 7),\\\n",
    "                         bsps['Top'][['patchno','champion','result']],\\\n",
    "                         ref_data = True, multi_kmeans_group = group)\n",
    "\n",
    "        estimators = get_estimators(test_df.shape[1]-1)\n",
    "        for est in estimators:\n",
    "                test_scores[key][feature_key][est[0]] = score_clusters(test_df,est[1], verbose = False)\n",
    "        enpickle(test_scores, 'cluster_validation_tests2.pickle')"
   ]
  },
  {
   "cell_type": "markdown",
   "metadata": {
    "slideshow": {
     "slide_type": "slide"
    }
   },
   "source": [
    "### Variational Bayesian Gaussian Mixture (VBGMM)"
   ]
  },
  {
   "cell_type": "code",
   "execution_count": 283,
   "metadata": {},
   "outputs": [
    {
     "name": "stdout",
     "output_type": "stream",
     "text": [
      "Data: Auto_features_1\n",
      "Classifier: tr\n",
      "\t  Training --\tTesting\n",
      "Accuracy: 0.521    --\t0.521\n",
      "AUC:\t  0.535    --\t0.529\n",
      "Log-Loss: 0.688    --\t0.739\n",
      "\n",
      "\n",
      "Classifier: rf\n",
      "\t  Training --\tTesting\n",
      "Accuracy: 0.534    --\t0.509\n",
      "AUC:\t  0.555    --\t0.515\n",
      "Log-Loss: 0.687    --\t0.692\n",
      "\n",
      "\n",
      "Classifier: kc\n",
      "\t  Training --\tTesting\n",
      "Accuracy: 0.533    --\t0.504\n",
      "AUC:\t  0.563    --\t0.516\n",
      "Log-Loss: 0.689    --\t0.703\n",
      "\n",
      "\n"
     ]
    },
    {
     "name": "stderr",
     "output_type": "stream",
     "text": [
      "C:\\ProgramData\\Anaconda3\\lib\\site-packages\\sklearn\\mixture\\base.py:237: ConvergenceWarning: Initialization 1 did not converged. Try different init parameters, or increase max_iter, tol or check for degenerate data.\n",
      "  % (init + 1), ConvergenceWarning)\n",
      "C:\\ProgramData\\Anaconda3\\lib\\site-packages\\sklearn\\mixture\\base.py:237: ConvergenceWarning: Initialization 1 did not converged. Try different init parameters, or increase max_iter, tol or check for degenerate data.\n",
      "  % (init + 1), ConvergenceWarning)\n",
      "C:\\ProgramData\\Anaconda3\\lib\\site-packages\\sklearn\\mixture\\base.py:237: ConvergenceWarning: Initialization 1 did not converged. Try different init parameters, or increase max_iter, tol or check for degenerate data.\n",
      "  % (init + 1), ConvergenceWarning)\n",
      "C:\\ProgramData\\Anaconda3\\lib\\site-packages\\sklearn\\mixture\\base.py:237: ConvergenceWarning: Initialization 1 did not converged. Try different init parameters, or increase max_iter, tol or check for degenerate data.\n",
      "  % (init + 1), ConvergenceWarning)\n"
     ]
    }
   ],
   "source": [
    "bgm_params = [(x,y) for x in [3, 5, 7, 10, 20] for y in [1e-5,1e-2, 1e0, 1e2]]\n",
    "\n",
    "demo = True\n",
    "for k in bgm_params:\n",
    "    key = 'bgm_{}_{}'.format(str(k[0]),str(k[1]))\n",
    "    test_scores[key] = test_keys()\n",
    "    for feature_key, features in key_feature_lookup.items():\n",
    "        if feature_key != 'ref_data':\n",
    "            test_df, test_scores[key][feature_key]['win_div'] = \\\n",
    "            get_label_df(bsps, features,\\\n",
    "                         BayesianGaussianMixture(n_components=k[0], weight_concentration_prior=k[1],\\\n",
    "                                                 init_params=\"random\", max_iter=200, random_state=7),\\\n",
    "                         bsps['Top'][['patchno','champion','result']], bgm = True)\n",
    "        else:\n",
    "            test_df, test_scores[key][feature_key]['win_div'] = \\\n",
    "            get_label_df(ref_df, features,\\\n",
    "                         BayesianGaussianMixture(n_components=k[0], weight_concentration_prior=k[1],\\\n",
    "                                                 init_params=\"random\", max_iter=200, random_state=7),\\\n",
    "                         bsps['Top'][['patchno','champion','result']], bgm = True, ref_data = True)\n",
    "            \n",
    "        estimators = get_estimators(test_df.shape[1]-1)\n",
    "        if demo:\n",
    "            print('Data:',feature_key)\n",
    "        for est in estimators:\n",
    "            if demo:\n",
    "                print('Classifier:',est[0])\n",
    "                test_scores[key][feature_key][est[0]] = score_clusters(test_df,est[1])\n",
    "                print('\\n')\n",
    "            else:\n",
    "                test_scores[key][feature_key][est[0]] = score_clusters(test_df,est[1], verbose = False)\n",
    "        demo = False\n",
    "        enpickle(test_scores, 'cluster_validation_tests.pickle')"
   ]
  },
  {
   "cell_type": "markdown",
   "metadata": {
    "slideshow": {
     "slide_type": "subslide"
    }
   },
   "source": [
    "### VBGMM Results\n",
    "\n",
    "- Not very promising\n",
    "- Best versions came from most flexible features"
   ]
  },
  {
   "cell_type": "code",
   "execution_count": 296,
   "metadata": {
    "slideshow": {
     "slide_type": "fragment"
    }
   },
   "outputs": [
    {
     "data": {
      "text/plain": [
       "[('bgm_5_100.0_Auto_features_2_rf', 0.54101995565410199),\n",
       " ('bgm_10_1e-05_Auto_features_2_kc', 0.54249815221019615),\n",
       " ('bgm_20_0.01_Auto_features_2_kc', 0.54693274196658592),\n",
       " ('bgm_20_1.0_Auto_features_2_rf', 0.54730229120473028),\n",
       " ('bgm_7_0.01_Auto_features_2_rf', 0.5502586844050259)]"
      ]
     },
     "execution_count": 296,
     "metadata": {},
     "output_type": "execute_result"
    }
   ],
   "source": [
    "temp = []\n",
    "for k,d in test_scores.items():\n",
    "    if 'bgm' in k:\n",
    "        for f,tests in d.items():\n",
    "            for clf in tests:\n",
    "                if clf != 'win_div':\n",
    "                    temp.append(('{}_{}_{}'.format(k,f,clf),tests[clf]['accuracy_test']))\n",
    "\n",
    "sorted(temp, key=lambda x: x[1])[-5:]"
   ]
  },
  {
   "cell_type": "markdown",
   "metadata": {
    "slideshow": {
     "slide_type": "slide"
    }
   },
   "source": [
    "### MeanShift"
   ]
  },
  {
   "cell_type": "code",
   "execution_count": 21,
   "metadata": {
    "scrolled": true,
    "slideshow": {
     "slide_type": "fragment"
    }
   },
   "outputs": [
    {
     "name": "stdout",
     "output_type": "stream",
     "text": [
      "Data: Auto_features_1\n",
      "Classifier: tr\n",
      "\t  Training --\tTesting\n",
      "Accuracy: 0.644    --\t0.501\n",
      "AUC:\t  0.718    --\t0.507\n",
      "Log-Loss: 0.592    --\t2.150\n",
      "\n",
      "\n",
      "Classifier: rf\n",
      "\t  Training --\tTesting\n",
      "Accuracy: 0.546    --\t0.515\n",
      "AUC:\t  0.572    --\t0.521\n",
      "Log-Loss: 0.685    --\t0.692\n",
      "\n",
      "\n",
      "Classifier: kc\n",
      "\t  Training --\tTesting\n",
      "Accuracy: 0.597    --\t0.533\n",
      "AUC:\t  0.635    --\t0.548\n",
      "Log-Loss: 0.661    --\t0.695\n",
      "\n",
      "\n"
     ]
    }
   ],
   "source": [
    "demo = True\n",
    "for k in np.linspace(.01,.2,5):\n",
    "    key = 'meanshift_{}'.format(str(k))\n",
    "    test_scores[key] = test_keys()\n",
    "    for feature_key, features in key_feature_lookup.items():\n",
    "        if feature_key != 'ref_data':\n",
    "            test_df, test_scores[key][feature_key]['win_div'] = \\\n",
    "            get_label_df(bsps, features, MeanShift(k, bin_seeding = True, cluster_all = False),\\\n",
    "                         bsps['Top'][['patchno','champion','result']], ms = True)\n",
    "        else:\n",
    "            test_df, test_scores[key][feature_key]['win_div'] = \\\n",
    "            get_label_df(ref_df, features, MeanShift(k, cluster_all = False),\\\n",
    "                         bsps['Top'][['patchno','champion','result']], ref_data = True, ms = True)\n",
    "            \n",
    "        estimators = get_estimators(test_df.shape[1]-1)\n",
    "        if demo:\n",
    "            print('Data:',feature_key)\n",
    "        for est in estimators:\n",
    "            if demo:\n",
    "                print('Classifier:',est[0])\n",
    "                test_scores[key][feature_key][est[0]] = score_clusters(test_df,est[1])\n",
    "                print('\\n')\n",
    "            else:\n",
    "                test_scores[key][feature_key][est[0]] = score_clusters(test_df,est[1], verbose = False)\n",
    "        demo = False\n",
    "        enpickle(test_scores, 'cluster_validation_tests.pickle')"
   ]
  },
  {
   "cell_type": "markdown",
   "metadata": {},
   "source": [
    "### HDBSCAN initialization with KNN completion"
   ]
  },
  {
   "cell_type": "code",
   "execution_count": 192,
   "metadata": {},
   "outputs": [],
   "source": [
    "temp, win_test =  get_label_df(bsps, trim_feats, hdbscan.HDBSCAN(min_cluster_size=10, prediction_data=True),\\\n",
    "                         bsps['Top'][['patchno','champion','result']], hd_knn = True)"
   ]
  },
  {
   "cell_type": "code",
   "execution_count": 194,
   "metadata": {},
   "outputs": [
    {
     "data": {
      "text/plain": [
       "Index(['result', 'Top_-1', 'Top_0', 'Top_1', 'Top_2', 'opp_Top_-1',\n",
       "       'opp_Top_0', 'opp_Top_1', 'opp_Top_2', 'Jungle_-1',\n",
       "       ...\n",
       "       'opp_Support_90', 'opp_Support_91', 'opp_Support_92', 'opp_Support_93',\n",
       "       'opp_Support_94', 'opp_Support_95', 'opp_Support_96', 'opp_Support_97',\n",
       "       'opp_Support_98', 'opp_Support_99'],\n",
       "      dtype='object', length=603)"
      ]
     },
     "execution_count": 194,
     "metadata": {},
     "output_type": "execute_result"
    }
   ],
   "source": [
    "temp.columns"
   ]
  },
  {
   "cell_type": "code",
   "execution_count": null,
   "metadata": {
    "collapsed": true
   },
   "outputs": [],
   "source": [
    "demo = True\n",
    "for k in range(2,7):\n",
    "    key = 'hdbknn_'+str(k)\n",
    "    test_scores[key] = test_keys()\n",
    "    for feature_key, features in key_feature_lookup.items():\n",
    "        if feature_key != 'ref_data':\n",
    "            test_df, test_scores[key][feature_key]['win_div'] = \\\n",
    "            get_label_df(bsps, features, KMeans(n_clusters=k, random_state = 7),\\\n",
    "                         bsps['Top'][['patchno','champion','result']])\n",
    "        else:\n",
    "            test_df, test_scores[key][feature_key]['win_div'] = \\\n",
    "            get_label_df(ref_df, features, KMeans(n_clusters=k, random_state = 7),\\\n",
    "                         bsps['Top'][['patchno','champion','result']], ref_data = True)\n",
    "\n",
    "        estimators = get_estimators(test_df.shape[1]-1)\n",
    "        if demo:\n",
    "            print('Data:',feature_key)\n",
    "        for est in estimators:\n",
    "            if demo:\n",
    "                print('Classifier:',est[0])\n",
    "                test_scores[key][feature_key][est[0]] = score_clusters(test_df,est[1])\n",
    "                print('\\n')\n",
    "            else:\n",
    "                test_scores[key][feature_key][est[0]] = score_clusters(test_df,est[1], verbose = False)\n",
    "        demo = False\n",
    "        enpickle(test_scores, 'cluster_validation_tests.pickle')"
   ]
  },
  {
   "cell_type": "markdown",
   "metadata": {},
   "source": [
    "## Results so far"
   ]
  },
  {
   "cell_type": "code",
   "execution_count": 202,
   "metadata": {
    "collapsed": true
   },
   "outputs": [],
   "source": [
    "test_acc = []\n",
    "mean_win_div = []\n",
    "for k,d in test_scores.items():\n",
    "    for f,tests in d.items():\n",
    "        for clf in tests:\n",
    "            if clf == 'win_div':\n",
    "                mean_win_div.append(('{}_{}'.format(k,f),np.mean(tests[clf])))\n",
    "            if clf != 'win_div':\n",
    "                test_acc.append(('{}_{}_{}'.format(k,f,clf),tests[clf]['accuracy_test']))"
   ]
  },
  {
   "cell_type": "code",
   "execution_count": 205,
   "metadata": {},
   "outputs": [
    {
     "data": {
      "text/plain": [
       "[('kmeans_4_Auto_features_2', 0.045764966740576493),\n",
       " ('meanshift_0.0575_ref_data', 0.047141774052071692),\n",
       " ('meanshift_0.01_ref_data', 0.060552937532270611),\n",
       " ('kmeans_5_Auto_features_2', 0.069024390243902431),\n",
       " ('kmeans_6_Auto_features_2', 0.078625277161862517)]"
      ]
     },
     "execution_count": 205,
     "metadata": {},
     "output_type": "execute_result"
    }
   ],
   "source": [
    "sorted(mean_win_div, key=lambda x: x[1])[-5:]"
   ]
  },
  {
   "cell_type": "code",
   "execution_count": 206,
   "metadata": {},
   "outputs": [
    {
     "data": {
      "text/plain": [
       "[('kmeans_22434_Auto_features_2_rf', 0.63968957871396892),\n",
       " ('kmeans_6_Auto_features_2_rf', 0.6529933481152993),\n",
       " ('kmeans_5_Auto_features_2_rf', 0.65410199556541015),\n",
       " ('kmeans_6_Auto_features_2_kc', 0.65890613469210535),\n",
       " ('kmeans_5_Auto_features_2_kc', 0.66001478192194774)]"
      ]
     },
     "execution_count": 206,
     "metadata": {},
     "output_type": "execute_result"
    }
   ],
   "source": [
    "sorted(test_acc, key=lambda x: x[1])[-5:]"
   ]
  },
  {
   "cell_type": "code",
   "execution_count": 220,
   "metadata": {},
   "outputs": [
    {
     "data": {
      "image/png": "[encoded data removed]",
      "text/plain": [
       "<matplotlib.figure.Figure at 0xfe0827b630>"
      ]
     },
     "metadata": {},
     "output_type": "display_data"
    }
   ],
   "source": [
    "plt.figure(figsize=(10,6))\n",
    "plt.subplot(121)\n",
    "plt.hist([x[1] for x in mean_win_div])\n",
    "plt.title('Win Divergences')\n",
    "\n",
    "plt.subplot(122)\n",
    "plt.hist([x[1] for x in test_acc])\n",
    "plt.title('Test Set Accuracy')\n",
    "plt.show()"
   ]
  },
  {
   "cell_type": "markdown",
   "metadata": {},
   "source": [
    "## hdbscan knn testing"
   ]
  },
  {
   "cell_type": "code",
   "execution_count": 77,
   "metadata": {
    "scrolled": true
   },
   "outputs": [
    {
     "data": {
      "text/plain": [
       "array([[ 0.35237966,  0.64762034],\n",
       "       [ 0.41360412,  0.58639588],\n",
       "       [ 0.37513089,  0.62486911],\n",
       "       [ 0.38440939,  0.61559061],\n",
       "       [ 0.38695451,  0.61304549]])"
      ]
     },
     "execution_count": 77,
     "metadata": {},
     "output_type": "execute_result"
    }
   ],
   "source": [
    "test = hdbscan.HDBSCAN(min_cluster_size=10, prediction_data=True).fit(bsps['Top'][thresh_1_feats['Top']])\n",
    "probs = hdbscan.all_points_membership_vectors(test)\n",
    "probs[:5]"
   ]
  },
  {
   "cell_type": "code",
   "execution_count": 175,
   "metadata": {
    "collapsed": true
   },
   "outputs": [],
   "source": [
    "lab_test = hdbscan_with_knn(bsps['Top'][thresh_1_feats['Top']],hdbscan.HDBSCAN(min_cluster_size=10, prediction_data=False))"
   ]
  },
  {
   "cell_type": "code",
   "execution_count": 178,
   "metadata": {},
   "outputs": [
    {
     "data": {
      "text/plain": [
       "(array([-1,  0,  1], dtype=int64), array([1193,   11, 7816], dtype=int64))"
      ]
     },
     "execution_count": 178,
     "metadata": {},
     "output_type": "execute_result"
    }
   ],
   "source": [
    "np.unique(test.labels_, return_counts=True)"
   ]
  },
  {
   "cell_type": "code",
   "execution_count": 177,
   "metadata": {},
   "outputs": [
    {
     "data": {
      "text/plain": [
       " 1    8316\n",
       "-1     680\n",
       " 0      24\n",
       "Name: label, dtype: int64"
      ]
     },
     "execution_count": 177,
     "metadata": {},
     "output_type": "execute_result"
    }
   ],
   "source": [
    "lab_test.value_counts()"
   ]
  },
  {
   "cell_type": "markdown",
   "metadata": {
    "slideshow": {
     "slide_type": "slide"
    }
   },
   "source": [
    "## Questions / Next Steps\n",
    "\n",
    "- How to handle meanshift tuning\n",
    "- How to weight classifier accuracy against win predictions\n",
    "- Any experience making a a keras generator for multiple hdf5 files?"
   ]
  },
  {
   "cell_type": "code",
   "execution_count": 152,
   "metadata": {
    "slideshow": {
     "slide_type": "skip"
    }
   },
   "outputs": [
    {
     "data": {
      "text/plain": [
       "{'kmeans_2': {'Auto_features_1': {'kc': {'AUC_test': 0.54044701998514921,\n",
       "    'AUC_train': 0.62018107313995463,\n",
       "    'accuracy_test': 0.52069475249017683,\n",
       "    'accuracy_train': 0.55448210327203118,\n",
       "    'log_loss_test': 0.72229930471851922,\n",
       "    'log_loss_train': 0.68519093689801081,\n",
       "    'test': {},\n",
       "    'train': {}},\n",
       "   'rf': {'AUC_test': 0.53400048846880332,\n",
       "    'AUC_train': 0.583228454356298,\n",
       "    'accuracy_test': 0.52439024390243905,\n",
       "    'accuracy_train': 0.55844155844155841,\n",
       "    'log_loss_test': 0.69304761009587112,\n",
       "    'log_loss_train': 0.68306311552376087,\n",
       "    'test': {},\n",
       "    'train': {}},\n",
       "   'tr': {'AUC_test': 0.51829217318896359,\n",
       "    'AUC_train': 0.57961561064749634,\n",
       "    'accuracy_test': 0.51330376940133038,\n",
       "    'accuracy_train': 0.55669939816281278,\n",
       "    'log_loss_test': 0.70007927806595904,\n",
       "    'log_loss_train': 0.68232098184784074,\n",
       "    'test': {},\n",
       "    'train': {}},\n",
       "   'win_div': [0.027050997782705123,\n",
       "    0.017184035476718373,\n",
       "    0.019179600886917947,\n",
       "    0.007760532150776088,\n",
       "    0.0014412416851441398]},\n",
       "  'Auto_features_2': {'kc': {'AUC_test': 0.5,\n",
       "    'AUC_train': 0.5,\n",
       "    'accuracy_test': 0.50739098291263174,\n",
       "    'accuracy_train': 0.49683243587570625,\n",
       "    'log_loss_test': 17.014112689630771,\n",
       "    'log_loss_train': 17.378791988519012,\n",
       "    'test': {},\n",
       "    'train': {}},\n",
       "   'rf': {'AUC_test': 0.61703390159265958,\n",
       "    'AUC_train': 0.63193178296067065,\n",
       "    'accuracy_test': 0.58758314855875826,\n",
       "    'accuracy_train': 0.58615774469433002,\n",
       "    'log_loss_test': 0.67302503401580471,\n",
       "    'log_loss_train': 0.66756478323183754,\n",
       "    'test': {},\n",
       "    'train': {}},\n",
       "   'tr': {'AUC_test': 0.59342102459336621,\n",
       "    'AUC_train': 0.62334128918512866,\n",
       "    'accuracy_test': 0.56762749445676275,\n",
       "    'accuracy_train': 0.58900855242318662,\n",
       "    'log_loss_test': 0.68133062204265893,\n",
       "    'log_loss_train': 0.66874674189557914,\n",
       "    'test': {},\n",
       "    'train': {}},\n",
       "   'win_div': [0.03392461197339247,\n",
       "    0.04645232815964523,\n",
       "    0.04456762749445675,\n",
       "    0.01917960088691799,\n",
       "    0.0031042128603104248]},\n",
       "  'Trim_features': {'kc': {'AUC_test': 0.55090429562962484,\n",
       "    'AUC_train': 0.64070007682930663,\n",
       "    'accuracy_test': 0.53252032515919834,\n",
       "    'accuracy_train': 0.56034209694634296,\n",
       "    'log_loss_test': 0.76137880774707711,\n",
       "    'log_loss_train': 0.68681383914779426,\n",
       "    'test': {},\n",
       "    'train': {}},\n",
       "   'rf': {'AUC_test': 0.55900528300319796,\n",
       "    'AUC_train': 0.6103345902756393,\n",
       "    'accuracy_test': 0.53695491500369552,\n",
       "    'accuracy_train': 0.57808045612923664,\n",
       "    'log_loss_test': 0.68868691720128761,\n",
       "    'log_loss_train': 0.67514663550641885,\n",
       "    'test': {},\n",
       "    'train': {}},\n",
       "   'tr': {'AUC_test': 0.554363190214888,\n",
       "    'AUC_train': 0.60277668157799391,\n",
       "    'accuracy_test': 0.53769401330376942,\n",
       "    'accuracy_train': 0.57538802660753885,\n",
       "    'log_loss_test': 0.69338364972433675,\n",
       "    'log_loss_train': 0.67573868578290885,\n",
       "    'test': {},\n",
       "    'train': {}},\n",
       "   'win_div': [0.037028824833702914,\n",
       "    0.028713968957871407,\n",
       "    0.028381374722838148,\n",
       "    0.012749445676274935,\n",
       "    0.0032150776053215236]},\n",
       "  'ref_data': {'kc': {'AUC_test': 0.5,\n",
       "    'AUC_train': 0.5,\n",
       "    'accuracy_test': 0.50739098291263174,\n",
       "    'accuracy_train': 0.49683243587570625,\n",
       "    'log_loss_test': 17.014112689630771,\n",
       "    'log_loss_train': 17.378791988519012,\n",
       "    'test': {},\n",
       "    'train': {}},\n",
       "   'rf': {'AUC_test': 0.5498454001701446,\n",
       "    'AUC_train': 0.58637547586860406,\n",
       "    'accuracy_test': 0.53215077605321504,\n",
       "    'accuracy_train': 0.55590750712701931,\n",
       "    'log_loss_test': 0.686910805786487,\n",
       "    'log_loss_train': 0.6803582370425898,\n",
       "    'test': {},\n",
       "    'train': {}},\n",
       "   'tr': {'AUC_test': 0.54755932245989392,\n",
       "    'AUC_train': 0.5815442198965729,\n",
       "    'accuracy_test': 0.53141167775314113,\n",
       "    'accuracy_train': 0.54925562242635417,\n",
       "    'log_loss_test': 0.80172525799111094,\n",
       "    'log_loss_train': 0.67645487078039035,\n",
       "    'test': {},\n",
       "    'train': {}},\n",
       "   'win_div': [0.03536585365853663,\n",
       "    0.01757369614512472,\n",
       "    0.004424778761061958,\n",
       "    0.0751295336787565,\n",
       "    0.01202263083451205]},\n",
       "  'weighted_ref_data': {'kc': {'AUC_test': 0.55880393987790467,\n",
       "    'AUC_train': 0.63796474481020893,\n",
       "    'accuracy_test': 0.54915003697694187,\n",
       "    'accuracy_train': 0.59724421917655857,\n",
       "    'log_loss_test': 0.73267219211639123,\n",
       "    'log_loss_train': 0.6661457867539492,\n",
       "    'test': {},\n",
       "    'train': {}},\n",
       "   'rf': {'AUC_test': 0.57526353547600306,\n",
       "    'AUC_train': 0.61065622582779133,\n",
       "    'accuracy_test': 0.5509977827050998,\n",
       "    'accuracy_train': 0.57808045612923664,\n",
       "    'log_loss_test': 0.68516413435451551,\n",
       "    'log_loss_train': 0.67541065870552297,\n",
       "    'test': {},\n",
       "    'train': {}},\n",
       "   'tr': {'AUC_test': 0.5550183066524097,\n",
       "    'AUC_train': 0.60184779649796027,\n",
       "    'accuracy_test': 0.53732446415373247,\n",
       "    'accuracy_train': 0.57237884067152356,\n",
       "    'log_loss_test': 0.69220285600591513,\n",
       "    'log_loss_train': 0.67607191957671209,\n",
       "    'test': {},\n",
       "    'train': {}},\n",
       "   'win_div': [0.03669623059866961,\n",
       "    0.028713968957871365,\n",
       "    0.030931263858093153,\n",
       "    0.011086474501108636,\n",
       "    0.0044345898004434624]}},\n",
       " 'kmeans_3': {'Auto_features_1': {'kc': {'AUC_test': 0.5241513400928528,\n",
       "    'AUC_train': 0.73367984283756105,\n",
       "    'accuracy_test': 0.51958610499601232,\n",
       "    'accuracy_train': 0.66471333542616262,\n",
       "    'log_loss_test': 0.88589495238545157,\n",
       "    'log_loss_train': 0.63560997596498647,\n",
       "    'test': {},\n",
       "    'train': {}},\n",
       "   'rf': {'AUC_test': 0.5576666380724824,\n",
       "    'AUC_train': 0.62101905140038149,\n",
       "    'accuracy_test': 0.54434589800443456,\n",
       "    'accuracy_train': 0.57998099461514097,\n",
       "    'log_loss_test': 0.68962251627962778,\n",
       "    'log_loss_train': 0.67585271430818039,\n",
       "    'test': {},\n",
       "    'train': {}},\n",
       "   'tr': {'AUC_test': 0.53074266381599056,\n",
       "    'AUC_train': 0.65115104990854622,\n",
       "    'accuracy_test': 0.52512934220251295,\n",
       "    'accuracy_train': 0.60500475134621479,\n",
       "    'log_loss_test': 0.91777488871485269,\n",
       "    'log_loss_train': 0.65008072389842986,\n",
       "    'test': {},\n",
       "    'train': {}},\n",
       "   'win_div': [0.02915742793791572,\n",
       "    0.022062084257206207,\n",
       "    0.019955654101995554,\n",
       "    0.018403547671840353,\n",
       "    0.004878048780487834]},\n",
       "  'Auto_features_2': {'kc': {'AUC_test': 0.64587432364281905,\n",
       "    'AUC_train': 0.78266632712066497,\n",
       "    'accuracy_test': 0.60606060606060608,\n",
       "    'accuracy_train': 0.70066518850782677,\n",
       "    'log_loss_test': 1.0134660423371831,\n",
       "    'log_loss_train': 0.56554586457528955,\n",
       "    'test': {},\n",
       "    'train': {}},\n",
       "   'rf': {'AUC_test': 0.64892698047053643,\n",
       "    'AUC_train': 0.68112285775721637,\n",
       "    'accuracy_test': 0.60532150776053217,\n",
       "    'accuracy_train': 0.63129553373455816,\n",
       "    'log_loss_test': 0.66491431840355353,\n",
       "    'log_loss_train': 0.65574103986381382,\n",
       "    'test': {},\n",
       "    'train': {}},\n",
       "   'tr': {'AUC_test': 0.61272756280840068,\n",
       "    'AUC_train': 0.69941991214548227,\n",
       "    'accuracy_test': 0.57427937915742788,\n",
       "    'accuracy_train': 0.6376306620209059,\n",
       "    'log_loss_test': 1.0116881913111846,\n",
       "    'log_loss_train': 0.62238047004818842,\n",
       "    'test': {},\n",
       "    'train': {}},\n",
       "   'win_div': [0.04478935698447892,\n",
       "    0.038691796008869156,\n",
       "    0.03736141906873617,\n",
       "    0.04024390243902438,\n",
       "    0.01962305986696232]},\n",
       "  'Trim_features': {'kc': {'AUC_test': 0.58461847799896083,\n",
       "    'AUC_train': 0.74792547326481607,\n",
       "    'accuracy_test': 0.55099778288131451,\n",
       "    'accuracy_train': 0.64713335448818787,\n",
       "    'log_loss_test': 1.2520003958924404,\n",
       "    'log_loss_train': 0.67970652727381509,\n",
       "    'test': {},\n",
       "    'train': {}},\n",
       "   'rf': {'AUC_test': 0.59232770683566738,\n",
       "    'AUC_train': 0.64652518715918095,\n",
       "    'accuracy_test': 0.57538802660753885,\n",
       "    'accuracy_train': 0.60532150776053217,\n",
       "    'log_loss_test': 0.68214327451343992,\n",
       "    'log_loss_train': 0.66835066029915724,\n",
       "    'test': {},\n",
       "    'train': {}},\n",
       "   'tr': {'AUC_test': 0.56314278861048128,\n",
       "    'AUC_train': 0.67279038482783249,\n",
       "    'accuracy_test': 0.53954175905395418,\n",
       "    'accuracy_train': 0.61973392461197341,\n",
       "    'log_loss_test': 0.99340230724116496,\n",
       "    'log_loss_train': 0.63644924762643673,\n",
       "    'test': {},\n",
       "    'train': {}},\n",
       "   'win_div': [0.03270509977827052,\n",
       "    0.02472283813747231,\n",
       "    0.03902439024390242,\n",
       "    0.02106430155210641,\n",
       "    0.02694013303769403]},\n",
       "  'ref_data': {'kc': {'AUC_test': 0.52569569923434978,\n",
       "    'AUC_train': 0.65505211639805505,\n",
       "    'accuracy_test': 0.51404286778951169,\n",
       "    'accuracy_train': 0.57728856513120341,\n",
       "    'log_loss_test': 0.83613735661791677,\n",
       "    'log_loss_train': 0.67039112571321868,\n",
       "    'test': {},\n",
       "    'train': {}},\n",
       "   'rf': {'AUC_test': 0.53454796692618167,\n",
       "    'AUC_train': 0.59230222925395515,\n",
       "    'accuracy_test': 0.51552106430155209,\n",
       "    'accuracy_train': 0.56350966107063671,\n",
       "    'log_loss_test': 0.69023855529670586,\n",
       "    'log_loss_train': 0.68099533845979532,\n",
       "    'test': {},\n",
       "    'train': {}},\n",
       "   'tr': {'AUC_test': 0.5280913272746447,\n",
       "    'AUC_train': 0.62006578402767154,\n",
       "    'accuracy_test': 0.51478196600147819,\n",
       "    'accuracy_train': 0.57855559075071272,\n",
       "    'log_loss_test': 1.2350459219674552,\n",
       "    'log_loss_train': 0.6560693067689759,\n",
       "    'test': {},\n",
       "    'train': {}},\n",
       "   'win_div': [0.03215077605321508,\n",
       "    0.019274376417233556,\n",
       "    0.026889040163376454,\n",
       "    0.0751295336787565,\n",
       "    0.012022630834512037]},\n",
       "  'weighted_ref_data': {'kc': {'AUC_test': 0.57420054212387761,\n",
       "    'AUC_train': 0.74952773104505022,\n",
       "    'accuracy_test': 0.5417590539541759,\n",
       "    'accuracy_train': 0.64095660438067859,\n",
       "    'log_loss_test': 1.2666097245629462,\n",
       "    'log_loss_train': 0.6815464922690645,\n",
       "    'test': {},\n",
       "    'train': {}},\n",
       "   'rf': {'AUC_test': 0.60180995722346464,\n",
       "    'AUC_train': 0.64083498214824852,\n",
       "    'accuracy_test': 0.58240946045824094,\n",
       "    'accuracy_train': 0.60120367437440603,\n",
       "    'log_loss_test': 0.67954537320273045,\n",
       "    'log_loss_train': 0.66695452986282555,\n",
       "    'test': {},\n",
       "    'train': {}},\n",
       "   'tr': {'AUC_test': 0.57480703023534474,\n",
       "    'AUC_train': 0.66833449575662818,\n",
       "    'accuracy_test': 0.5594974131559497,\n",
       "    'accuracy_train': 0.61355717453278424,\n",
       "    'log_loss_test': 1.0496890160686621,\n",
       "    'log_loss_train': 0.63496919768710025,\n",
       "    'test': {},\n",
       "    'train': {}},\n",
       "   'win_div': [0.03525498891352552,\n",
       "    0.024390243902438994,\n",
       "    0.03957871396895786,\n",
       "    0.021286031042128596,\n",
       "    0.029933481152993338]}},\n",
       " 'kmeans_4': {'Auto_features_1': {'kc': {'AUC_test': 0.54013803887971268,\n",
       "    'AUC_train': 0.82907360632872007,\n",
       "    'accuracy_test': 0.51699926107791472,\n",
       "    'accuracy_train': 0.72917326575863162,\n",
       "    'log_loss_test': 1.3143842109960504,\n",
       "    'log_loss_train': 0.54253843330159113,\n",
       "    'test': {},\n",
       "    'train': {}},\n",
       "   'rf': {'AUC_test': 0.55404273501004531,\n",
       "    'AUC_train': 0.64175839877169438,\n",
       "    'accuracy_test': 0.52291204730229124,\n",
       "    'accuracy_train': 0.60025340513145387,\n",
       "    'log_loss_test': 0.68806452361503845,\n",
       "    'log_loss_train': 0.67192822435194122,\n",
       "    'test': {},\n",
       "    'train': {}},\n",
       "   'tr': {'AUC_test': 0.53179718818998278,\n",
       "    'AUC_train': 0.7981431128200791,\n",
       "    'accuracy_test': 0.52660753880266076,\n",
       "    'accuracy_train': 0.70747545137789036,\n",
       "    'log_loss_test': 3.5178010983231203,\n",
       "    'log_loss_train': 0.5144244734062734,\n",
       "    'test': {},\n",
       "    'train': {}},\n",
       "   'win_div': [0.03104212860310422,\n",
       "    0.02272727272727271,\n",
       "    0.020953436807095334,\n",
       "    0.018625277161862522,\n",
       "    0.006319290465631909]},\n",
       "  'Auto_features_2': {'kc': {'AUC_test': 0.5,\n",
       "    'AUC_train': 0.5,\n",
       "    'accuracy_test': 0.50739098291263174,\n",
       "    'accuracy_train': 0.49683243587570625,\n",
       "    'log_loss_test': 17.014112689630771,\n",
       "    'log_loss_train': 17.378791988519012,\n",
       "    'test': {},\n",
       "    'train': {}},\n",
       "   'rf': {'AUC_test': 0.66898425261814365,\n",
       "    'AUC_train': 0.71685520801256319,\n",
       "    'accuracy_test': 0.6189948263118995,\n",
       "    'accuracy_train': 0.65331010452961669,\n",
       "    'log_loss_test': 0.6568861481542897,\n",
       "    'log_loss_train': 0.6417375866453634,\n",
       "    'test': {},\n",
       "    'train': {}},\n",
       "   'tr': {'AUC_test': 0.61745052067823958,\n",
       "    'AUC_train': 0.83390355789826243,\n",
       "    'accuracy_test': 0.5857354028085735,\n",
       "    'accuracy_train': 0.74136838770985114,\n",
       "    'log_loss_test': 3.1116975261182782,\n",
       "    'log_loss_train': 0.48045155559053254,\n",
       "    'test': {},\n",
       "    'train': {}},\n",
       "   'win_div': [0.046008869179600884,\n",
       "    0.042350332594235054,\n",
       "    0.0662971175166297,\n",
       "    0.0501108647450111,\n",
       "    0.024057649667405746]},\n",
       "  'Trim_features': {'kc': {'AUC_test': 0.60196376479407543,\n",
       "    'AUC_train': 0.81502127831644577,\n",
       "    'accuracy_test': 0.56725794535077945,\n",
       "    'accuracy_train': 0.71666138743085506,\n",
       "    'log_loss_test': 1.5093838773853749,\n",
       "    'log_loss_train': 0.59435686528229736,\n",
       "    'test': {},\n",
       "    'train': {}},\n",
       "   'rf': {'AUC_test': 0.63840167980815299,\n",
       "    'AUC_train': 0.65620856954306483,\n",
       "    'accuracy_test': 0.60495195861049522,\n",
       "    'accuracy_train': 0.61102312321824515,\n",
       "    'log_loss_test': 0.67154225200959905,\n",
       "    'log_loss_train': 0.66533022150875687,\n",
       "    'test': {},\n",
       "    'train': {}},\n",
       "   'tr': {'AUC_test': 0.57764468429561877,\n",
       "    'AUC_train': 0.7790197696244594,\n",
       "    'accuracy_test': 0.57206208425720617,\n",
       "    'accuracy_train': 0.68910357934748179,\n",
       "    'log_loss_test': 2.8327135704459656,\n",
       "    'log_loss_train': 0.53160714371007711,\n",
       "    'test': {},\n",
       "    'train': {}},\n",
       "   'win_div': [0.03569844789356985,\n",
       "    0.018957871396895795,\n",
       "    0.031485587583148594,\n",
       "    0.022394678492239476,\n",
       "    0.03980044345898007]},\n",
       "  'ref_data': {'kc': {'AUC_test': 0.52756734340176448,\n",
       "    'AUC_train': 0.6720457716840107,\n",
       "    'accuracy_test': 0.51626016255757234,\n",
       "    'accuracy_train': 0.6116566360279998,\n",
       "    'log_loss_test': 0.86516752229392235,\n",
       "    'log_loss_train': 0.63472721271324839,\n",
       "    'test': {},\n",
       "    'train': {}},\n",
       "   'rf': {'AUC_test': 0.53432012409511709,\n",
       "    'AUC_train': 0.59668647652692608,\n",
       "    'accuracy_test': 0.51256467110125647,\n",
       "    'accuracy_train': 0.56509344314222365,\n",
       "    'log_loss_test': 0.69004927311116293,\n",
       "    'log_loss_train': 0.68014076603087104,\n",
       "    'test': {},\n",
       "    'train': {}},\n",
       "   'tr': {'AUC_test': 0.51996302061677113,\n",
       "    'AUC_train': 0.64715019662864148,\n",
       "    'accuracy_test': 0.50628233555062818,\n",
       "    'accuracy_train': 0.59423503325942351,\n",
       "    'log_loss_test': 1.8907066862527171,\n",
       "    'log_loss_train': 0.6319355424768186,\n",
       "    'test': {},\n",
       "    'train': {}},\n",
       "   'win_div': [0.031263858093126366,\n",
       "    0.016439909297052167,\n",
       "    0.028250510551395516,\n",
       "    0.07512953367875647,\n",
       "    0.011079679396511104]},\n",
       "  'weighted_ref_data': {'kc': {'AUC_test': 0.57737777488800457,\n",
       "    'AUC_train': 0.81467526047161787,\n",
       "    'accuracy_test': 0.54878048776082433,\n",
       "    'accuracy_train': 0.70842572063972276,\n",
       "    'log_loss_test': 1.2300458341673104,\n",
       "    'log_loss_train': 0.58267076508542925,\n",
       "    'test': {},\n",
       "    'train': {}},\n",
       "   'rf': {'AUC_test': 0.63896172513630956,\n",
       "    'AUC_train': 0.65328670796806287,\n",
       "    'accuracy_test': 0.59719142645971912,\n",
       "    'accuracy_train': 0.60738042445359519,\n",
       "    'log_loss_test': 0.67149359726732849,\n",
       "    'log_loss_train': 0.6657507363131846,\n",
       "    'test': {},\n",
       "    'train': {}},\n",
       "   'tr': {'AUC_test': 0.55720139066084806,\n",
       "    'AUC_train': 0.77189738085010728,\n",
       "    'accuracy_test': 0.54582409460458237,\n",
       "    'accuracy_train': 0.68134304719670569,\n",
       "    'log_loss_test': 3.0958168636742753,\n",
       "    'log_loss_train': 0.53678624914040673,\n",
       "    'test': {},\n",
       "    'train': {}},\n",
       "   'win_div': [0.03270509977827049,\n",
       "    0.01962305986696232,\n",
       "    0.029711751662971173,\n",
       "    0.020509977827051013,\n",
       "    0.03968957871396899]}},\n",
       " 'kmeans_5': {'Auto_features_1': {'kc': {'AUC_test': 0.56042807132955852,\n",
       "    'AUC_train': 0.86413398862500812,\n",
       "    'accuracy_test': 0.5432372505543237,\n",
       "    'accuracy_train': 0.77462781123205726,\n",
       "    'log_loss_test': 1.3339319588908691,\n",
       "    'log_loss_train': 0.50405033805861266,\n",
       "    'test': {},\n",
       "    'train': {}},\n",
       "   'rf': {'AUC_test': 0.58517087392751321,\n",
       "    'AUC_train': 0.65584970835065426,\n",
       "    'accuracy_test': 0.55838876570583884,\n",
       "    'accuracy_train': 0.60627177700348434,\n",
       "    'log_loss_test': 0.6837785474699809,\n",
       "    'log_loss_train': 0.67062182925831482,\n",
       "    'test': {},\n",
       "    'train': {}},\n",
       "   'tr': {'AUC_test': 0.53682393650124105,\n",
       "    'AUC_train': 0.85116471603308319,\n",
       "    'accuracy_test': 0.52291204730229124,\n",
       "    'accuracy_train': 0.74944567627494452,\n",
       "    'log_loss_test': 5.2568683848732896,\n",
       "    'log_loss_train': 0.44417039487262006,\n",
       "    'test': {},\n",
       "    'train': {}},\n",
       "   'win_div': [0.02982261640798227,\n",
       "    0.02350332594235033,\n",
       "    0.022505543237250576,\n",
       "    0.02328159645232813,\n",
       "    0.020953436807095348]},\n",
       "  'Auto_features_2': {'kc': {'AUC_test': 0.72833348541068255,\n",
       "    'AUC_train': 0.87960244621622441,\n",
       "    'accuracy_test': 0.66001478192194774,\n",
       "    'accuracy_train': 0.77684510611339874,\n",
       "    'log_loss_test': 1.7713723961004133,\n",
       "    'log_loss_train': 0.5434637005873767,\n",
       "    'test': {},\n",
       "    'train': {}},\n",
       "   'rf': {'AUC_test': 0.71484021770191275,\n",
       "    'AUC_train': 0.7454010530942986,\n",
       "    'accuracy_test': 0.65410199556541015,\n",
       "    'accuracy_train': 0.66978143807412105,\n",
       "    'log_loss_test': 0.63853454348646899,\n",
       "    'log_loss_train': 0.62502806345791562,\n",
       "    'test': {},\n",
       "    'train': {}},\n",
       "   'tr': {'AUC_test': 0.62219314843277462,\n",
       "    'AUC_train': 0.92594305038936919,\n",
       "    'accuracy_test': 0.61492978566149303,\n",
       "    'accuracy_train': 0.82736775419702246,\n",
       "    'log_loss_test': 6.1519952744451087,\n",
       "    'log_loss_train': 0.32587281242225996,\n",
       "    'test': {},\n",
       "    'train': {}},\n",
       "   'win_div': [0.0689578713968958,\n",
       "    0.056541019955654095,\n",
       "    0.07638580931263858,\n",
       "    0.09689578713968958,\n",
       "    0.04634146341463413]},\n",
       "  'Trim_features': {'kc': {'AUC_test': 0.5890696089900116,\n",
       "    'AUC_train': 0.86919020385703771,\n",
       "    'accuracy_test': 0.56873614195092725,\n",
       "    'accuracy_train': 0.77827050994006675,\n",
       "    'log_loss_test': 1.448557053875565,\n",
       "    'log_loss_train': 0.48711270550475544,\n",
       "    'test': {},\n",
       "    'train': {}},\n",
       "   'rf': {'AUC_test': 0.63163742501539444,\n",
       "    'AUC_train': 0.65406036915192467,\n",
       "    'accuracy_test': 0.59682187730968217,\n",
       "    'accuracy_train': 0.60104529616724733,\n",
       "    'log_loss_test': 0.67481786045164249,\n",
       "    'log_loss_train': 0.66716463752739852,\n",
       "    'test': {},\n",
       "    'train': {}},\n",
       "   'tr': {'AUC_test': 0.57841536130573068,\n",
       "    'AUC_train': 0.80349898943925646,\n",
       "    'accuracy_test': 0.56651884700665189,\n",
       "    'accuracy_train': 0.70256572695597086,\n",
       "    'log_loss_test': 4.3286763372718733,\n",
       "    'log_loss_train': 0.49026810901960927,\n",
       "    'test': {},\n",
       "    'train': {}},\n",
       "   'win_div': [0.03215077605321504,\n",
       "    0.02073170731707315,\n",
       "    0.02860310421286031,\n",
       "    0.024057649667405766,\n",
       "    0.025720620842572057]},\n",
       "  'ref_data': {'kc': {'AUC_test': 0.53852729387736598,\n",
       "    'AUC_train': 0.70254761846708824,\n",
       "    'accuracy_test': 0.52439024403460011,\n",
       "    'accuracy_train': 0.63145391197947709,\n",
       "    'log_loss_test': 0.83392877742756188,\n",
       "    'log_loss_train': 0.62263143423512235,\n",
       "    'test': {},\n",
       "    'train': {}},\n",
       "   'rf': {'AUC_test': 0.55220715229790696,\n",
       "    'AUC_train': 0.5980881071705112,\n",
       "    'accuracy_test': 0.53436807095343686,\n",
       "    'accuracy_train': 0.56398479569211279,\n",
       "    'log_loss_test': 0.688767501554852,\n",
       "    'log_loss_train': 0.68208321183583043,\n",
       "    'test': {},\n",
       "    'train': {}},\n",
       "   'tr': {'AUC_test': 0.50976363901609045,\n",
       "    'AUC_train': 0.67349125031895141,\n",
       "    'accuracy_test': 0.50443458980044342,\n",
       "    'accuracy_train': 0.60880582831802343,\n",
       "    'log_loss_test': 2.3529267248673431,\n",
       "    'log_loss_train': 0.60865043345633141,\n",
       "    'test': {},\n",
       "    'train': {}},\n",
       "   'win_div': [0.034589800443458996,\n",
       "    0.017006802721088444,\n",
       "    0.0302927161334241,\n",
       "    0.08549222797927461,\n",
       "    0.01626591230551624]},\n",
       "  'weighted_ref_data': {'kc': {'AUC_test': 0.58841613170954787,\n",
       "    'AUC_train': 0.87851623012830604,\n",
       "    'accuracy_test': 0.55506282344361368,\n",
       "    'accuracy_train': 0.77351916380082653,\n",
       "    'log_loss_test': 1.7812156702313515,\n",
       "    'log_loss_train': 0.47500437808740548,\n",
       "    'test': {},\n",
       "    'train': {}},\n",
       "   'rf': {'AUC_test': 0.63731519187152941,\n",
       "    'AUC_train': 0.65981092786262918,\n",
       "    'accuracy_test': 0.60753880266075388,\n",
       "    'accuracy_train': 0.60896420652518213,\n",
       "    'log_loss_test': 0.67263159959768348,\n",
       "    'log_loss_train': 0.66317947831390212,\n",
       "    'test': {},\n",
       "    'train': {}},\n",
       "   'tr': {'AUC_test': 0.56544006722729478,\n",
       "    'AUC_train': 0.80265373662648809,\n",
       "    'accuracy_test': 0.55358462675535847,\n",
       "    'accuracy_train': 0.70114032309154262,\n",
       "    'log_loss_test': 3.7706125935823089,\n",
       "    'log_loss_train': 0.49506291281487075,\n",
       "    'test': {},\n",
       "    'train': {}},\n",
       "   'win_div': [0.031042128603104215,\n",
       "    0.019290465631929047,\n",
       "    0.032039911308204,\n",
       "    0.02062084257206208,\n",
       "    0.03736141906873615]}},\n",
       " 'kmeans_6': {'Auto_features_1': {'kc': {'AUC_test': 0.59745362414893599,\n",
       "    'AUC_train': 0.90414201973079344,\n",
       "    'accuracy_test': 0.56282335563844343,\n",
       "    'accuracy_train': 0.78919860623401672,\n",
       "    'log_loss_test': 1.9084021068321249,\n",
       "    'log_loss_train': 0.471612562128502,\n",
       "    'test': {},\n",
       "    'train': {}},\n",
       "   'rf': {'AUC_test': 0.60322646211443609,\n",
       "    'AUC_train': 0.6547351967625934,\n",
       "    'accuracy_test': 0.57982261640798227,\n",
       "    'accuracy_train': 0.6095977193538169,\n",
       "    'log_loss_test': 0.6810477355260286,\n",
       "    'log_loss_train': 0.6701051804270669,\n",
       "    'test': {},\n",
       "    'train': {}},\n",
       "   'tr': {'AUC_test': 0.53362730704526085,\n",
       "    'AUC_train': 0.91326049549835642,\n",
       "    'accuracy_test': 0.53806356245380638,\n",
       "    'accuracy_train': 0.80662020905923348,\n",
       "    'log_loss_test': 7.6795874872589192,\n",
       "    'log_loss_train': 0.33881333888709153,\n",
       "    'test': {},\n",
       "    'train': {}},\n",
       "   'win_div': [0.02937915742793791,\n",
       "    0.026607538802660764,\n",
       "    0.02860310421286032,\n",
       "    0.02405764966740577,\n",
       "    0.019623059866962306]},\n",
       "  'Auto_features_2': {'kc': {'AUC_test': 0.73773022643861985,\n",
       "    'AUC_train': 0.92099700699831999,\n",
       "    'accuracy_test': 0.65890613469210535,\n",
       "    'accuracy_train': 0.80456129234729024,\n",
       "    'log_loss_test': 1.659195862130217,\n",
       "    'log_loss_train': 0.47563662835610832,\n",
       "    'test': {},\n",
       "    'train': {}},\n",
       "   'rf': {'AUC_test': 0.72984096351837413,\n",
       "    'AUC_train': 0.75307159192992268,\n",
       "    'accuracy_test': 0.6529933481152993,\n",
       "    'accuracy_train': 0.67453278428888186,\n",
       "    'log_loss_test': 0.62832434037383211,\n",
       "    'log_loss_train': 0.61819768363382854,\n",
       "    'test': {},\n",
       "    'train': {}},\n",
       "   'tr': {'AUC_test': 0.62537693782513359,\n",
       "    'AUC_train': 0.96383604302882653,\n",
       "    'accuracy_test': 0.6112342941611234,\n",
       "    'accuracy_train': 0.87424770351599623,\n",
       "    'log_loss_test': 8.2695686953492462,\n",
       "    'log_loss_train': 0.22238210200564637,\n",
       "    'test': {},\n",
       "    'train': {}},\n",
       "   'win_div': [0.07638580931263858,\n",
       "    0.05698447893569844,\n",
       "    0.09334811529933483,\n",
       "    0.10033259423503324,\n",
       "    0.06607538802660753]},\n",
       "  'Trim_features': {'kc': {'AUC_test': 0.59844777290462448,\n",
       "    'AUC_train': 0.91367915852794779,\n",
       "    'accuracy_test': 0.55543237257162381,\n",
       "    'accuracy_train': 0.81738992714602465,\n",
       "    'log_loss_test': 2.2677395746296387,\n",
       "    'log_loss_train': 0.44596111828618545,\n",
       "    'test': {},\n",
       "    'train': {}},\n",
       "   'rf': {'AUC_test': 0.62518843476346142,\n",
       "    'AUC_train': 0.68439715885083752,\n",
       "    'accuracy_test': 0.58943089430894313,\n",
       "    'accuracy_train': 0.62860310421286036,\n",
       "    'log_loss_test': 0.6741620871824805,\n",
       "    'log_loss_train': 0.66121546696132438,\n",
       "    'test': {},\n",
       "    'train': {}},\n",
       "   'tr': {'AUC_test': 0.57055806194811631,\n",
       "    'AUC_train': 0.89610168278958313,\n",
       "    'accuracy_test': 0.55728011825572799,\n",
       "    'accuracy_train': 0.78508077288565092,\n",
       "    'log_loss_test': 6.9059823053409231,\n",
       "    'log_loss_train': 0.36120181531193213,\n",
       "    'test': {},\n",
       "    'train': {}},\n",
       "   'win_div': [0.03281596452328161,\n",
       "    0.02760532150776053,\n",
       "    0.034922394678492265,\n",
       "    0.027827050997782706,\n",
       "    0.042017738359201785]},\n",
       "  'ref_data': {'kc': {'AUC_test': 0.51406779225760557,\n",
       "    'AUC_train': 0.72113259462010237,\n",
       "    'accuracy_test': 0.50332594235033257,\n",
       "    'accuracy_train': 0.64349065572353792,\n",
       "    'log_loss_test': 1.2334051407752826,\n",
       "    'log_loss_train': 0.63613269004097006,\n",
       "    'test': {},\n",
       "    'train': {}},\n",
       "   'rf': {'AUC_test': 0.54298306914674777,\n",
       "    'AUC_train': 0.58869655975884205,\n",
       "    'accuracy_test': 0.52808573540280856,\n",
       "    'accuracy_train': 0.56065885334178012,\n",
       "    'log_loss_test': 0.68953472839805641,\n",
       "    'log_loss_train': 0.68267140122068004,\n",
       "    'test': {},\n",
       "    'train': {}},\n",
       "   'tr': {'AUC_test': 0.51750783653670163,\n",
       "    'AUC_train': 0.68895318589772336,\n",
       "    'accuracy_test': 0.50739098300073915,\n",
       "    'accuracy_train': 0.62020905923344949,\n",
       "    'log_loss_test': 2.8988938119038106,\n",
       "    'log_loss_train': 0.59448482122198276,\n",
       "    'test': {},\n",
       "    'train': {}},\n",
       "   'win_div': [0.035920177383592,\n",
       "    0.021541950113378703,\n",
       "    0.02552756977535739,\n",
       "    0.07512953367875647,\n",
       "    0.015794436586515775]},\n",
       "  'weighted_ref_data': {'kc': {'AUC_test': 0.58707065695775729,\n",
       "    'AUC_train': 0.91283997620368507,\n",
       "    'accuracy_test': 0.5628233555283092,\n",
       "    'accuracy_train': 0.81897370923649182,\n",
       "    'log_loss_test': 1.891009980611706,\n",
       "    'log_loss_train': 0.44962335214045951,\n",
       "    'test': {},\n",
       "    'train': {}},\n",
       "   'rf': {'AUC_test': 0.63092575765937109,\n",
       "    'AUC_train': 0.66960398039422864,\n",
       "    'accuracy_test': 0.59977827050997778,\n",
       "    'accuracy_train': 0.61894203357617994,\n",
       "    'log_loss_test': 0.67432692888798529,\n",
       "    'log_loss_train': 0.66360673872950449,\n",
       "    'test': {},\n",
       "    'train': {}},\n",
       "   'tr': {'AUC_test': 0.55443039565426688,\n",
       "    'AUC_train': 0.90110466836620273,\n",
       "    'accuracy_test': 0.53954175905395418,\n",
       "    'accuracy_train': 0.79268292682926833,\n",
       "    'log_loss_test': 6.5751911654057116,\n",
       "    'log_loss_train': 0.3592763568939758,\n",
       "    'test': {},\n",
       "    'train': {}},\n",
       "   'win_div': [0.034257206208425726,\n",
       "    0.02239467849223947,\n",
       "    0.03170731707317074,\n",
       "    0.025831485587583147,\n",
       "    0.054212860310421294]}}}"
      ]
     },
     "execution_count": 152,
     "metadata": {},
     "output_type": "execute_result"
    }
   ],
   "source": [
    "test_scores"
   ]
  },
  {
   "cell_type": "markdown",
   "metadata": {
    "slideshow": {
     "slide_type": "skip"
    }
   },
   "source": [
    "GTC gpu tech conferrence\n",
    "\n",
    "### Meeting Notes:\n",
    "- Lots of approaches to parameter tune, no perfect method, just need to find w/e gives strongest signal\n",
    "- Try multiple classifiers seperately and together\n",
    "- "
   ]
  }
 ],
 "metadata": {
  "celltoolbar": "Slideshow",
  "kernelspec": {
   "display_name": "Python 3",
   "language": "python",
   "name": "python3"
  },
  "language_info": {
   "codemirror_mode": {
    "name": "ipython",
    "version": 3
   },
   "file_extension": ".py",
   "mimetype": "text/x-python",
   "name": "python",
   "nbconvert_exporter": "python",
   "pygments_lexer": "ipython3",
   "version": "3.6.1"
  }
 },
 "nbformat": 4,
 "nbformat_minor": 2
}
