{
 "cells": [
  {
   "cell_type": "markdown",
   "metadata": {
    "slideshow": {
     "slide_type": "slide"
    }
   },
   "source": [
    "# Model Building\n",
    "\n",
    "Now that we've explored the grouped team data, it's time to start building some logistic regressions using the 'result' column as our binary outcome variable.\n",
    "\n",
    "First, we'll attempt this regression on all features to get a baseline for how well the data can predict the outcome without any transformations. We'll start by importing the sklearn modules that will be used for performing and evaluating the logistic regression."
   ]
  },
  {
   "cell_type": "code",
   "execution_count": 54,
   "metadata": {
    "collapsed": true,
    "slideshow": {
     "slide_type": "slide"
    }
   },
   "outputs": [],
   "source": [
    "import sklearn\n",
    "from sklearn.linear_model import LogisticRegression\n",
    "from sklearn.model_selection import train_test_split\n",
    "from sklearn.metrics import classification_report, confusion_matrix"
   ]
  },
  {
   "cell_type": "markdown",
   "metadata": {
    "slideshow": {
     "slide_type": "slide"
    }
   },
   "source": [
    "### Splitting The Data\n",
    "\n",
    "We'll split the teamDF dataframe into 4 sub-dataframes - first into predictors and the outcome, then into training and testing sets, preserving the original indexing."
   ]
  },
  {
   "cell_type": "code",
   "execution_count": 56,
   "metadata": {
    "collapsed": true,
    "slideshow": {
     "slide_type": "slide"
    }
   },
   "outputs": [],
   "source": [
    "reg_teamDF = teamDF.copy()\n",
    "regressors = list(set(list(reg_teamDF)) - set(['result']))\n",
    "X = reg_teamDF.loc[:, regressors].values\n",
    "y = reg_teamDF.loc[:,'result'].values\n",
    "X_train, X_test, y_train, y_test = train_test_split(X, y, test_size = .25, random_state=10)"
   ]
  },
  {
   "cell_type": "markdown",
   "metadata": {
    "slideshow": {
     "slide_type": "slide"
    }
   },
   "source": [
    "### Fitting The Model\n",
    "\n",
    "Next, we'll fit the logistic regression model."
   ]
  },
  {
   "cell_type": "code",
   "execution_count": 57,
   "metadata": {
    "slideshow": {
     "slide_type": "slide"
    }
   },
   "outputs": [
    {
     "name": "stdout",
     "output_type": "stream",
     "text": [
      "could not convert string to float: 'Red'\n"
     ]
    }
   ],
   "source": [
    "try:\n",
    "    lr = LogisticRegression()\n",
    "    lr.fit(X_train, y_train)\n",
    "    pred = lr.predict(X_test)\n",
    "except Exception as ex:\n",
    "    print(ex)"
   ]
  },
  {
   "cell_type": "markdown",
   "metadata": {
    "slideshow": {
     "slide_type": "slide"
    }
   },
   "source": [
    "Because there are NaN's in our inputs, LogisticRegression is unable to perform a fit on our training data. We'll need a method for handling this."
   ]
  },
  {
   "cell_type": "markdown",
   "metadata": {
    "slideshow": {
     "slide_type": "slide"
    }
   },
   "source": [
    "### Handling Missing Data\n",
    "\n",
    "First, we know from earlier calls to .info() that there's a few columns in teamDF that are all NaN (these are all columns that have values in playerDF but not in teamDF). We won't be needing any of these columns. All of this and the following NaN transformations will be done on a duplicate dataframe."
   ]
  },
  {
   "cell_type": "code",
   "execution_count": 58,
   "metadata": {
    "slideshow": {
     "slide_type": "slide"
    }
   },
   "outputs": [
    {
     "name": "stdout",
     "output_type": "stream",
     "text": [
      "Columns with all NaN values -- ['doubles', 'triples', 'quadras', 'pentas', 'dmgshare', 'earnedgoldshare']\n",
      "Columns with all NaN values -- []\n"
     ]
    }
   ],
   "source": [
    "print('Columns with all NaN values --', teamDF.columns[teamDF.isnull().all()].tolist())\n",
    "\n",
    "reg_teamDF = teamDF.copy()\n",
    "reg_teamDF.dropna(axis = 'columns', how = 'all', inplace = True)\n",
    "print('Columns with all NaN values --', reg_teamDF.columns[reg_teamDF.isnull().all()].tolist())"
   ]
  },
  {
   "cell_type": "markdown",
   "metadata": {
    "slideshow": {
     "slide_type": "slide"
    }
   },
   "source": [
    "That takes care of entirely NaN columns, but we still have to deal with coolumns containing some NaN values. We can either completely drop columns containing NaN's or impute missing values. Since so many columns have at least a few missing values, there would be very few predictors remaining if we went with the former, so we'll go with imputing.\n",
    "\n",
    "We'd like to impute either by median values or mean values. Mean is preferrable to median, provided the mean is not being influenced by a large number of very large outliers.\n",
    "\n",
    "**Assumption - Note:** *very large outliers* in this case will be refer to observations more than three standard deviations from the mean, while *large number* will mean at least 1% of observations."
   ]
  },
  {
   "cell_type": "code",
   "execution_count": 59,
   "metadata": {
    "slideshow": {
     "slide_type": "slide"
    }
   },
   "outputs": [
    {
     "name": "stdout",
     "output_type": "stream",
     "text": [
      "Feature:  date\n",
      "Mean: 39655.90773846363 and St Dev: 11001.897307010122, Outlier Count: 694 \n",
      "\n",
      "Feature:  fbtime\n",
      "Mean: 6.559774005912805 and St Dev: 3.852554686429645, Outlier Count: 128 \n",
      "\n",
      "Feature:  dmgtochamps\n",
      "Mean: 72155.69578713969 and St Dev: 29205.11791982077, Outlier Count: 122 \n",
      "\n",
      "Feature:  wardkills\n",
      "Mean: 50.67151744056876 and St Dev: 21.10930304233139, Outlier Count: 110 \n",
      "\n",
      "Feature:  visionwards\n",
      "Mean: 31.480949041608227 and St Dev: 14.538736402749127, Outlier Count: 146 \n",
      "\n",
      "Feature:  goldspent\n",
      "Mean: 59821.31729490022 and St Dev: 15237.27190880845, Outlier Count: 101 \n",
      "\n"
     ]
    }
   ],
   "source": [
    "null_cols = reg_teamDF._get_numeric_data().columns[reg_teamDF._get_numeric_data().isnull().any()].tolist()\n",
    "mean = reg_teamDF[null_cols].mean()\n",
    "sd = reg_teamDF[null_cols].std()\n",
    "\n",
    "outliers = {c:{'mean':mean[c], 'sd':sd[c],\n",
    "               'values':[v for v in reg_teamDF[c] if abs(v - mean[c]) > 3*sd[c]]} for c in null_cols}\n",
    "\n",
    "for k in outliers.keys():\n",
    "    if len(outliers[k]['values']) >= 100:\n",
    "        print('Feature: ', k)\n",
    "        print('Mean: {} and St Dev: {}, Outlier Count: {}'.format(outliers[k]['mean'],\n",
    "                                                                  outliers[k]['sd'], len(outliers[k]['values'])), '\\n')"
   ]
  },
  {
   "cell_type": "markdown",
   "metadata": {
    "slideshow": {
     "slide_type": "slide"
    }
   },
   "source": [
    "Okay, all of those features look like reasonable choices for median imputation. All the other features containing NaN's will be corrected with mean imputation."
   ]
  },
  {
   "cell_type": "code",
   "execution_count": 60,
   "metadata": {
    "scrolled": true,
    "slideshow": {
     "slide_type": "slide"
    }
   },
   "outputs": [
    {
     "name": "stdout",
     "output_type": "stream",
     "text": [
      "NaN's remain in:  ['url', 'ban1', 'ban2', 'ban3', 'ban4', 'ban5', 'aggression']\n"
     ]
    }
   ],
   "source": [
    "median_cols = [o for o in outliers.keys() if len(outliers[o]['values']) >= 100]\n",
    "mean_cols = list(set(null_cols) - set(median_cols))\n",
    "\n",
    "reg_teamDF[mean_cols] = reg_teamDF[mean_cols].fillna(reg_teamDF.mean())\n",
    "reg_teamDF[median_cols] = reg_teamDF[median_cols].fillna(reg_teamDF.median())\n",
    "\n",
    "if not reg_teamDF.isnull().values.any():\n",
    "    print(\"NaN's successfully imputed\")\n",
    "else:\n",
    "    print(\"NaN's remain in: \", reg_teamDF.columns[reg_teamDF.isnull().any()].tolist())"
   ]
  },
  {
   "cell_type": "markdown",
   "metadata": {
    "slideshow": {
     "slide_type": "subslide"
    }
   },
   "source": [
    "Since we still have NaN's in the non-numeric columns, let's see how serious a problem it is."
   ]
  },
  {
   "cell_type": "code",
   "execution_count": 61,
   "metadata": {
    "slideshow": {
     "slide_type": "fragment"
    }
   },
   "outputs": [
    {
     "data": {
      "text/plain": [
       "ban5          0.448062\n",
       "ban4          0.445465\n",
       "url           0.163606\n",
       "ban1          0.002875\n",
       "ban3          0.002690\n",
       "ban2          0.001020\n",
       "aggression    0.000742\n",
       "dtype: float64"
      ]
     },
     "execution_count": 61,
     "metadata": {},
     "output_type": "execute_result"
    }
   ],
   "source": [
    "reg_teamDF.isnull().sum().sort_values(ascending = False)[:7]/len(reg_teamDF)"
   ]
  },
  {
   "cell_type": "markdown",
   "metadata": {
    "slideshow": {
     "slide_type": "subslide"
    }
   },
   "source": [
    "Okay, there are very few observations with missing data in features 'ban1', 'ban2', 'ban3', and 'aggression' - so it shouldn't effect the regression too strongly if we outright drop those observations.\n",
    "\n",
    "'url' refers to the url where the complete match data for each observation is being stored, so while this feature may be useful for adding more features to the dataset at some point, it has no benefit as a regressor and can be dropped."
   ]
  },
  {
   "cell_type": "code",
   "execution_count": 62,
   "metadata": {
    "collapsed": true,
    "slideshow": {
     "slide_type": "fragment"
    }
   },
   "outputs": [],
   "source": [
    "reg_teamDF.dropna(axis='rows',subset=['ban1','ban2','ban3','aggression'], how = 'any', inplace=True)\n",
    "reg_teamDF.drop(['url'], axis='columns', errors = 'ignore', inplace= True)"
   ]
  },
  {
   "cell_type": "markdown",
   "metadata": {
    "slideshow": {
     "slide_type": "subslide"
    }
   },
   "source": [
    "The same things cannot be said for 'ban4' and 'ban5', which have missing data in nearly half their observations. This is because a 4th and 5th in the champion selection stage of matches was only added to the game in the last year. There are several ways to handle this issue. We could split the dataframe into observations that have values for those features and observations that don't, and then perform seperate regressions on each. We could impute the median entry of each column (since they are both categorical data). Or, we could drop the features.\n",
    "\n",
    "For this baseline regression, we'll go ahead and drop the features, but we'll revisit this problem as we fine-tune our model later on."
   ]
  },
  {
   "cell_type": "code",
   "execution_count": 63,
   "metadata": {
    "slideshow": {
     "slide_type": "fragment"
    }
   },
   "outputs": [
    {
     "name": "stdout",
     "output_type": "stream",
     "text": [
      "NaN's successfully imputed\n"
     ]
    }
   ],
   "source": [
    "reg_teamDF.drop(['ban4','ban5'], axis='columns', errors = 'ignore', inplace= True)\n",
    "\n",
    "if not reg_teamDF.isnull().values.any():\n",
    "    print(\"NaN's successfully imputed\")\n",
    "else:\n",
    "    print(\"NaN's remain in: \", reg_teamDF.columns[reg_teamDF.isnull().any()].tolist())"
   ]
  },
  {
   "cell_type": "markdown",
   "metadata": {
    "slideshow": {
     "slide_type": "slide"
    }
   },
   "source": [
    "### Fitting The Model (Again!)\n",
    "\n",
    "Now that all the NaN's have been imputed or dropped, let's re-attempt our logistic regression."
   ]
  },
  {
   "cell_type": "code",
   "execution_count": 64,
   "metadata": {
    "slideshow": {
     "slide_type": "fragment"
    }
   },
   "outputs": [
    {
     "name": "stdout",
     "output_type": "stream",
     "text": [
      "could not convert string to float: 'Blue'\n"
     ]
    }
   ],
   "source": [
    "regressors = list(set(list(reg_teamDF)) - set(['result']))\n",
    "X = reg_teamDF.loc[:, regressors].values\n",
    "y = reg_teamDF.loc[:,'result'].values\n",
    "X_train, X_test, y_train, y_test = train_test_split(X, y, test_size = .25, random_state=10)\n",
    "\n",
    "try:\n",
    "    lr = LogisticRegression()\n",
    "    lr.fit(X_train, y_train)\n",
    "    pred = lr.predict(X_test)\n",
    "except Exception as ex:\n",
    "    print(ex)"
   ]
  },
  {
   "cell_type": "markdown",
   "metadata": {
    "slideshow": {
     "slide_type": "subslide"
    }
   },
   "source": [
    "In addition to NaN's, a logistic regression is also flustered by non-numeric features. For categorical features, we can handle this by created dummy variables (which we'll get to later). For less meaningful features - like team names, we can drop them from the regression."
   ]
  },
  {
   "cell_type": "code",
   "execution_count": 65,
   "metadata": {
    "slideshow": {
     "slide_type": "fragment"
    }
   },
   "outputs": [
    {
     "name": "stdout",
     "output_type": "stream",
     "text": [
      "['gameid', 'league', 'split', 'week', 'game', 'patchno', 'playerid', 'side', 'position', 'player', 'team', 'champion', 'ban1', 'ban2', 'ban3', 'quality', 'pace', 'aggression', 'opp_quality']\n",
      "<class 'list'>\n"
     ]
    }
   ],
   "source": [
    "non_nums = list(reg_teamDF.select_dtypes(exclude=['int16', 'int32', 'int64', 'float16', 'float32', 'float64']))\n",
    "print(non_nums)\n",
    "print(type(non_nums))"
   ]
  },
  {
   "cell_type": "markdown",
   "metadata": {
    "slideshow": {
     "slide_type": "fragment"
    }
   },
   "source": [
    "First, let's attempt a regression only on the numeric columns, then we'll expand to include the categorical ones."
   ]
  },
  {
   "cell_type": "markdown",
   "metadata": {
    "slideshow": {
     "slide_type": "slide"
    }
   },
   "source": [
    "### Fitting The Model (Again, again)\n",
    "\n",
    "We'll fit a model using only the numeric features of reg_teamDF"
   ]
  },
  {
   "cell_type": "code",
   "execution_count": 66,
   "metadata": {
    "collapsed": true,
    "slideshow": {
     "slide_type": "fragment"
    }
   },
   "outputs": [],
   "source": [
    "regressors = list(set(list(reg_teamDF)) - set(non_nums) - set(['result']))\n",
    "X = reg_teamDF.loc[:, regressors].values\n",
    "y = reg_teamDF.loc[:,'result'].values\n",
    "X_train, X_test, y_train, y_test = train_test_split(X, y, test_size = .25, random_state=10)\n",
    "\n",
    "try:\n",
    "    lr = LogisticRegression()\n",
    "    lr.fit(X_train, y_train)\n",
    "    pred = lr.predict(X_test)\n",
    "except Exception as ex:\n",
    "    print(ex)"
   ]
  },
  {
   "cell_type": "markdown",
   "metadata": {
    "slideshow": {
     "slide_type": "slide"
    }
   },
   "source": [
    "### Evaluating the regression\n",
    "\n",
    "Success! Now we'll see how well this basic logistic regression on the numeric columns worked as a classifier."
   ]
  },
  {
   "cell_type": "code",
   "execution_count": 67,
   "metadata": {
    "slideshow": {
     "slide_type": "fragment"
    }
   },
   "outputs": [
    {
     "data": {
      "text/plain": [
       "array([[1348,   16],\n",
       "       [  23, 1294]])"
      ]
     },
     "execution_count": 67,
     "metadata": {},
     "output_type": "execute_result"
    }
   ],
   "source": [
    "confusion_matrix = confusion_matrix(y_test, pred)\n",
    "confusion_matrix"
   ]
  },
  {
   "cell_type": "markdown",
   "metadata": {
    "slideshow": {
     "slide_type": "subslide"
    }
   },
   "source": [
    "That worked remarkably well. Suspiciously well actually. The confusion matrix says we correctly predicted 1348 losses as losses, and 1294 wins as wins. Let's look at the classification report as well."
   ]
  },
  {
   "cell_type": "code",
   "execution_count": 68,
   "metadata": {
    "scrolled": true,
    "slideshow": {
     "slide_type": "fragment"
    }
   },
   "outputs": [
    {
     "name": "stdout",
     "output_type": "stream",
     "text": [
      "             precision    recall  f1-score   support\n",
      "\n",
      "          0       0.98      0.99      0.99      1364\n",
      "          1       0.99      0.98      0.99      1317\n",
      "\n",
      "avg / total       0.99      0.99      0.99      2681\n",
      "\n"
     ]
    }
   ],
   "source": [
    "print(classification_report(y_test, pred))"
   ]
  },
  {
   "cell_type": "markdown",
   "metadata": {
    "slideshow": {
     "slide_type": "slide"
    }
   },
   "source": [
    "## Tuning the regression\n",
    "***\n",
    "\n",
    "The model was extremely successful in predicting wins and losses. However, it was provided with features that contained a mix of in-game and pre-game information. Since the goal of this analysis is to determine pre-game strategies teams can apply to increase their chances of winning, we'd like to make the model as independent of in-game information as possible.\n",
    "\n",
    "Let's start by looking at the coefficients our model produced, and seeing which features had the strongest effect."
   ]
  },
  {
   "cell_type": "code",
   "execution_count": 103,
   "metadata": {
    "slideshow": {
     "slide_type": "subslide"
    }
   },
   "outputs": [
    {
     "name": "stdout",
     "output_type": "stream",
     "text": [
      "Strongest negative effects: \n",
      "(-0.66931419759105637, 'opptowerkills')\n",
      "(-0.16104913974775251, 'gamelength')\n",
      "(-0.1435244897245736, 'cspm')\n",
      "(-0.11474658547703745, 'd')\n",
      "(-0.11474658547703745, 'teamdeaths')\n",
      "(-0.044145857595901346, 'oppdragkills')\n",
      "(-0.023262376361339872, 'oppelementals')\n",
      "(-0.021080678926604583, 'oppbaronkills')\n",
      "(-0.020506763494470448, 'wpm')\n",
      "(-0.014549505567118775, 'fdtime')\n",
      "\n",
      " Strongest positive effects: \n",
      "(0.56865153607190344, 'teamtowerkills')\n",
      "(0.045068380266909708, 'a')\n",
      "(0.033136257858742899, 'teamkills')\n",
      "(0.033136257858742899, 'k')\n",
      "(0.033110621435705825, 'elementals')\n",
      "(0.031951266522651706, 'teamdragkills')\n",
      "(0.023003349751880391, 'visionwards')\n",
      "(0.019448053021457603, 'oppelders')\n",
      "(0.016993247633173919, 'monsterkillsownjungle')\n",
      "(0.016967567848715413, 'fbarontime')\n"
     ]
    }
   ],
   "source": [
    "cfs = sorted(list(zip(lr.coef_[0], regressors)))\n",
    "print(\"Strongest negative effects: \", *cfs[:10], sep ='\\n')\n",
    "print(\"\\n Strongest positive effects: \", *cfs[-10:][::-1], sep='\\n')"
   ]
  },
  {
   "cell_type": "markdown",
   "metadata": {
    "slideshow": {
     "slide_type": "subslide"
    }
   },
   "source": [
    "We should examine the more easily interpretable odds ratios of the coefficients. Note that each of these odds ratios represents the change in probability of a win for a 1 unit increase in its respective predictor with all other predictors held constant."
   ]
  },
  {
   "cell_type": "code",
   "execution_count": 130,
   "metadata": {
    "slideshow": {
     "slide_type": "fragment"
    }
   },
   "outputs": [
    {
     "name": "stdout",
     "output_type": "stream",
     "text": [
      "Strongest negative effects: \n",
      "(-0.48794037087596698, 'opptowerkills')\n",
      "(-0.14874976014268981, 'gamelength')\n",
      "(-0.13370041551075995, 'cspm')\n",
      "(-0.10840794234332196, 'd')\n",
      "(-0.10840794234332196, 'teamdeaths')\n",
      "(-0.043185611351744591, 'oppdragkills')\n",
      "(-0.022993893166194268, 'oppelementals')\n",
      "(-0.020860034578686681, 'oppbaronkills')\n",
      "(-0.02029792975742517, 'wpm')\n",
      "(-0.014444172975482283, 'fdtime')\n",
      "\n",
      " Strongest positive effects: \n",
      "(0.76588421404583751, 'teamtowerkills')\n",
      "(0.046099390018568664, 'a')\n",
      "(0.033691378219675938, 'teamkills')\n",
      "(0.033691378219675938, 'k')\n",
      "(0.033664878409895849, 'elementals')\n",
      "(0.032467188362731658, 'teamdragkills')\n",
      "(0.023269967241973388, 'visionwards')\n",
      "(0.019638398350893205, 'oppelders')\n",
      "(0.017138454210096965, 'monsterkillsownjungle')\n",
      "(0.017112334649202143, 'fbarontime')\n",
      "\n",
      " Intercept:  0.99947259893\n"
     ]
    }
   ],
   "source": [
    "ecfs = sorted(zip(np.exp(lr.coef_[0]) - [1]*len(lr.coef_[0]), regressors))\n",
    "print(\"Strongest negative effects: \", *ecfs[:10], sep ='\\n')\n",
    "print(\"\\n Strongest positive effects: \", *ecfs[-10:][::-1], sep='\\n')\n",
    "print(\"\\n Intercept: \", np.exp(lr.intercept_[0]))"
   ]
  },
  {
   "cell_type": "markdown",
   "metadata": {
    "slideshow": {
     "slide_type": "slide"
    }
   },
   "source": [
    "**Quick Insights:**\n",
    "***\n",
    "- Tower kills are the strongest determinants (and we observed this correlation earlier in the analysis).\n",
    "- A death is more damaging than a kill is beneficial, so 'trade' kills are not recommended.\n",
    "- Gamelength should not have any effect, because there should be an equal number of wins and losses with each game length. Something strange is going on, likely with rows that were dropped with missing values.\n",
    "- The negative effect of 'cspm' is also surprising. Why would teams that are more efficiently farming gold be less likely to win? Something strange is going on here.\n",
    "\n",
    "Before addressing the problem of feature selection for a pre-game focused regression, let's take a quick detour to see what's going on with 'gamelength' and 'cspm' in the model."
   ]
  },
  {
   "cell_type": "markdown",
   "metadata": {
    "slideshow": {
     "slide_type": "subslide"
    }
   },
   "source": [
    "**Correlations of cspm & gamelength to result:**\n",
    "\n",
    "Let's check if the coefficients for cspm and gamelength in the regression can be validated by their correlations to result. Remembering that we stored the correlation matrix as `corr` earlier on:"
   ]
  },
  {
   "cell_type": "code",
   "execution_count": 85,
   "metadata": {
    "slideshow": {
     "slide_type": "fragment"
    }
   },
   "outputs": [
    {
     "data": {
      "text/plain": [
       "cspm          0.26258\n",
       "gamelength    0.00000\n",
       "Name: result, dtype: float64"
      ]
     },
     "execution_count": 85,
     "metadata": {},
     "output_type": "execute_result"
    }
   ],
   "source": [
    "corr.result[['cspm', 'gamelength']]"
   ]
  },
  {
   "cell_type": "markdown",
   "metadata": {
    "slideshow": {
     "slide_type": "fragment"
    }
   },
   "source": [
    "As should be expected, gamelength has absolutely no correlation with result, while cspm has a weak-to-moderate **positive** correlation."
   ]
  },
  {
   "cell_type": "markdown",
   "metadata": {
    "slideshow": {
     "slide_type": "subslide"
    }
   },
   "source": [
    "**Means of cspm & gamelength grouped by result:**\n",
    "\n",
    "We can also examine the mean values for each of these features when grouped by result."
   ]
  },
  {
   "cell_type": "code",
   "execution_count": 88,
   "metadata": {
    "scrolled": true,
    "slideshow": {
     "slide_type": "fragment"
    }
   },
   "outputs": [
    {
     "data": {
      "text/html": [
       "<div>\n",
       "<style>\n",
       "    .dataframe thead tr:only-child th {\n",
       "        text-align: right;\n",
       "    }\n",
       "\n",
       "    .dataframe thead th {\n",
       "        text-align: left;\n",
       "    }\n",
       "\n",
       "    .dataframe tbody tr th {\n",
       "        vertical-align: top;\n",
       "    }\n",
       "</style>\n",
       "<table border=\"1\" class=\"dataframe\">\n",
       "  <thead>\n",
       "    <tr style=\"text-align: right;\">\n",
       "      <th></th>\n",
       "      <th>cspm</th>\n",
       "      <th>gamelength</th>\n",
       "    </tr>\n",
       "    <tr>\n",
       "      <th>result</th>\n",
       "      <th></th>\n",
       "      <th></th>\n",
       "    </tr>\n",
       "  </thead>\n",
       "  <tbody>\n",
       "    <tr>\n",
       "      <th>0</th>\n",
       "      <td>30.029181</td>\n",
       "      <td>36.314276</td>\n",
       "    </tr>\n",
       "    <tr>\n",
       "      <th>1</th>\n",
       "      <td>31.331264</td>\n",
       "      <td>36.314276</td>\n",
       "    </tr>\n",
       "  </tbody>\n",
       "</table>\n",
       "</div>"
      ],
      "text/plain": [
       "             cspm  gamelength\n",
       "result                       \n",
       "0       30.029181   36.314276\n",
       "1       31.331264   36.314276"
      ]
     },
     "execution_count": 88,
     "metadata": {},
     "output_type": "execute_result"
    }
   ],
   "source": [
    "teamDF[['cspm', 'gamelength']].groupby(teamDF['result']).mean()"
   ]
  },
  {
   "cell_type": "markdown",
   "metadata": {
    "slideshow": {
     "slide_type": "fragment"
    }
   },
   "source": [
    "Again as expected, gamelength has an identical mean for wins and losses, while cspm is **higher** for wins than losses."
   ]
  },
  {
   "cell_type": "markdown",
   "metadata": {
    "slideshow": {
     "slide_type": "subslide"
    }
   },
   "source": [
    "**Interpretation**\n",
    "\n",
    "There are two possibilities to consider:\n",
    "\n",
    "1. The regression was influenced by the rows containing NaN's that were removed from reg_teamDF. In such a case, if a disproportionate number of losses with short game lengths and/or wins with long game lengths were removed, the model would unfairly believe that longer games meant a greater liklihood of defeat. And the same thinking applies with cspm.\n",
    "\n",
    "2. The model is using gamelength and cspm to correct against the coefficient of another predictor.\n",
    "\n",
    "The first possibility is fairly simple to test by applying the same evaluations to reg_teamDF as we did to teamDF."
   ]
  },
  {
   "cell_type": "code",
   "execution_count": 89,
   "metadata": {
    "slideshow": {
     "slide_type": "subslide"
    }
   },
   "outputs": [
    {
     "data": {
      "text/html": [
       "<div>\n",
       "<style>\n",
       "    .dataframe thead tr:only-child th {\n",
       "        text-align: right;\n",
       "    }\n",
       "\n",
       "    .dataframe thead th {\n",
       "        text-align: left;\n",
       "    }\n",
       "\n",
       "    .dataframe tbody tr th {\n",
       "        vertical-align: top;\n",
       "    }\n",
       "</style>\n",
       "<table border=\"1\" class=\"dataframe\">\n",
       "  <thead>\n",
       "    <tr style=\"text-align: right;\">\n",
       "      <th></th>\n",
       "      <th>cspm</th>\n",
       "      <th>gamelength</th>\n",
       "    </tr>\n",
       "    <tr>\n",
       "      <th>result</th>\n",
       "      <th></th>\n",
       "      <th></th>\n",
       "    </tr>\n",
       "  </thead>\n",
       "  <tbody>\n",
       "    <tr>\n",
       "      <th>0</th>\n",
       "      <td>30.139954</td>\n",
       "      <td>36.336990</td>\n",
       "    </tr>\n",
       "    <tr>\n",
       "      <th>1</th>\n",
       "      <td>31.224691</td>\n",
       "      <td>36.345179</td>\n",
       "    </tr>\n",
       "  </tbody>\n",
       "</table>\n",
       "</div>"
      ],
      "text/plain": [
       "             cspm  gamelength\n",
       "result                       \n",
       "0       30.139954   36.336990\n",
       "1       31.224691   36.345179"
      ]
     },
     "execution_count": 89,
     "metadata": {},
     "output_type": "execute_result"
    }
   ],
   "source": [
    "reg_teamDF[['cspm', 'gamelength']].groupby(reg_teamDF['result']).mean()"
   ]
  },
  {
   "cell_type": "code",
   "execution_count": 90,
   "metadata": {
    "slideshow": {
     "slide_type": "fragment"
    }
   },
   "outputs": [
    {
     "data": {
      "text/plain": [
       "cspm          0.239161\n",
       "gamelength    0.000519\n",
       "Name: result, dtype: float64"
      ]
     },
     "execution_count": 90,
     "metadata": {},
     "output_type": "execute_result"
    }
   ],
   "source": [
    "reg_teamDF.corr().result[['cspm', 'gamelength']]"
   ]
  },
  {
   "cell_type": "markdown",
   "metadata": {
    "slideshow": {
     "slide_type": "fragment"
    }
   },
   "source": [
    "Interestingly enough, the modified dataframe the model was built from not only has similar correlation between cspm and result, but the correlation between gamelength and result is also positive (albeit negligably so). This suggests that the dropped rows are not the culprit of these coefficients, but rather a relationship between the predictors.\n",
    "\n",
    "Something is happening where the the coefficients for gamelength and cspm are being constructed as negative to counteract the effects of the other predictors. With gamelength, this is more easily interpretable because so many of the model's predictors typically have higher observed values in longer games (kills, deaths, gold earned, etc).\n",
    "\n",
    "It is not as clear why cspm, a rate of time value, is also being used as a balancing mechanism. My theory is that this is an indicator of a lack of independence among the predictors, and the correlation matrix heatmap generated earlier can confirm this. What is not able to be confirmed or rejected from that heatmap though is the presence of multicolinearity among the predictors (instances where the predictor can be interpretted as a dependent variable for a subset of the predictors). This will be investigated later on."
   ]
  },
  {
   "cell_type": "markdown",
   "metadata": {
    "slideshow": {
     "slide_type": "slide"
    }
   },
   "source": [
    "### Logistic Regression w/ Categoricals\n",
    "\n",
    "Before we get into feature selection to tune the model, we'd first like to examine a model that includes as predictors the categorical features that were dropped earlier on."
   ]
  },
  {
   "cell_type": "code",
   "execution_count": 142,
   "metadata": {
    "scrolled": true,
    "slideshow": {
     "slide_type": "fragment"
    }
   },
   "outputs": [
    {
     "name": "stdout",
     "output_type": "stream",
     "text": [
      "       league   split   week   game   patchno  playerid   side position  \\\n",
      "count   10782   10782  10782  10782  10782.00     10782  10782    10782   \n",
      "unique     21      14     99     31     34.00         2      2        1   \n",
      "top       LCK  2017-2     SF      2      7.04       200    Red     Team   \n",
      "freq     1928    2538    448   3738    550.00      5391   5391    10782   \n",
      "\n",
      "       player           team champion     ban1     ban2   ban3    ban4  \\\n",
      "count   10782          10782    10782    10751    10771  10753    5979   \n",
      "unique      1            161        1      107      113    116     111   \n",
      "top      Team  SK Telecom T1           LeBlanc  LeBlanc   Ryze  Syndra   \n",
      "freq    10782            261    10782      659      474    476     297   \n",
      "\n",
      "          ban5 quality    pace aggression opp_quality  \n",
      "count     5951   10782   10782      10774       10782  \n",
      "unique     115       5       5          5           5  \n",
      "top     Syndra   Great  Sprint     Frisky       Great  \n",
      "freq       308    3455    2162       2156        3455  \n"
     ]
    }
   ],
   "source": [
    "print(teamDF.describe(include = ['category']))"
   ]
  },
  {
   "cell_type": "markdown",
   "metadata": {
    "slideshow": {
     "slide_type": "fragment"
    }
   },
   "source": [
    "There are 21 categorical variables. Some of these won't be needed (like player which is 'Team' for all entries and champion which is empty for all). However, some columns are also going to need to be added. Because the rows taken from the original dataframe to form teamDF don't have any champion specific data, and we're ultimately trying to build a model that relies exclusively on pre-game decisions, we're going to need the five champion selections as additional columns.\n",
    "\n",
    "**NOTE:** Bans and champion selections have fairly high cardinality (each of the 8-10 features has over 100 values). This means that adding dummy variables to represent all of these possible choices in the regression will add over 1000 columns to the dataframe. This may exceed the memory limits of the machine performing this analysis."
   ]
  },
  {
   "cell_type": "markdown",
   "metadata": {
    "slideshow": {
     "slide_type": "slide"
    }
   },
   "source": [
    "## Work/Struggle In Progress\n",
    "\n",
    "So, I'm running into something that I can't seem to figure out. Spent a couple hours searching for and attempting solutions, but I can't figure out how to pivot the champion selections out of playerDF and concat to teamDF without creating duplicate indexes to handle columns with missing values. In other words, and as you'll see in the sub-slides, pivotting from playerDF on the position column with champion values gives a dataframe that has only one valid entry per row (the champion corresponding to the position value at that index in the original dataframe). I can't figure out how to collapse those rows. At least not elegantly. I can think of brute force techniques (writing a custom function for fillna that will fill all entries of a gameid/team combination in a column with the only valid entry found and then dropping duplicate rows from final df) but I know there has to be a simple way to do this that I can't seem to suss out."
   ]
  },
  {
   "cell_type": "code",
   "execution_count": 154,
   "metadata": {
    "scrolled": true,
    "slideshow": {
     "slide_type": "subslide"
    }
   },
   "outputs": [
    {
     "data": {
      "text/html": [
       "<div>\n",
       "<style>\n",
       "    .dataframe thead tr:only-child th {\n",
       "        text-align: right;\n",
       "    }\n",
       "\n",
       "    .dataframe thead th {\n",
       "        text-align: left;\n",
       "    }\n",
       "\n",
       "    .dataframe tbody tr th {\n",
       "        vertical-align: top;\n",
       "    }\n",
       "</style>\n",
       "<table border=\"1\" class=\"dataframe\">\n",
       "  <thead>\n",
       "    <tr style=\"text-align: right;\">\n",
       "      <th></th>\n",
       "      <th></th>\n",
       "      <th>url</th>\n",
       "      <th>league</th>\n",
       "      <th>split</th>\n",
       "      <th>date</th>\n",
       "      <th>week</th>\n",
       "      <th>game</th>\n",
       "      <th>patchno</th>\n",
       "      <th>playerid</th>\n",
       "      <th>side</th>\n",
       "      <th>position</th>\n",
       "      <th>...</th>\n",
       "      <th>gdat15</th>\n",
       "      <th>xpat10</th>\n",
       "      <th>oppxpat10</th>\n",
       "      <th>xpdat10</th>\n",
       "      <th>winRate</th>\n",
       "      <th>totalGames</th>\n",
       "      <th>quality</th>\n",
       "      <th>pace</th>\n",
       "      <th>aggression</th>\n",
       "      <th>opp_quality</th>\n",
       "    </tr>\n",
       "    <tr>\n",
       "      <th>gameid</th>\n",
       "      <th>team</th>\n",
       "      <th></th>\n",
       "      <th></th>\n",
       "      <th></th>\n",
       "      <th></th>\n",
       "      <th></th>\n",
       "      <th></th>\n",
       "      <th></th>\n",
       "      <th></th>\n",
       "      <th></th>\n",
       "      <th></th>\n",
       "      <th></th>\n",
       "      <th></th>\n",
       "      <th></th>\n",
       "      <th></th>\n",
       "      <th></th>\n",
       "      <th></th>\n",
       "      <th></th>\n",
       "      <th></th>\n",
       "      <th></th>\n",
       "      <th></th>\n",
       "      <th></th>\n",
       "    </tr>\n",
       "  </thead>\n",
       "  <tbody>\n",
       "    <tr>\n",
       "      <th rowspan=\"2\" valign=\"top\">1000029</th>\n",
       "      <th>Jin Air Green Wings</th>\n",
       "      <td>http://matchhistory.na.leagueoflegends.com/en/...</td>\n",
       "      <td>LCK</td>\n",
       "      <td>2016-1</td>\n",
       "      <td>42431.125278</td>\n",
       "      <td>8.1</td>\n",
       "      <td>1</td>\n",
       "      <td>6.04</td>\n",
       "      <td>200</td>\n",
       "      <td>Red</td>\n",
       "      <td>Team</td>\n",
       "      <td>...</td>\n",
       "      <td>1255.0</td>\n",
       "      <td>17648.0</td>\n",
       "      <td>16363.0</td>\n",
       "      <td>1285.0</td>\n",
       "      <td>0.447368</td>\n",
       "      <td>190</td>\n",
       "      <td>Fair</td>\n",
       "      <td>Amble</td>\n",
       "      <td>Moderate</td>\n",
       "      <td>Bad</td>\n",
       "    </tr>\n",
       "    <tr>\n",
       "      <th>SBENU Sonicboom</th>\n",
       "      <td>http://matchhistory.na.leagueoflegends.com/en/...</td>\n",
       "      <td>LCK</td>\n",
       "      <td>2016-1</td>\n",
       "      <td>42431.125278</td>\n",
       "      <td>8.1</td>\n",
       "      <td>1</td>\n",
       "      <td>6.04</td>\n",
       "      <td>100</td>\n",
       "      <td>Blue</td>\n",
       "      <td>Team</td>\n",
       "      <td>...</td>\n",
       "      <td>-1255.0</td>\n",
       "      <td>16363.0</td>\n",
       "      <td>17648.0</td>\n",
       "      <td>-1285.0</td>\n",
       "      <td>0.204545</td>\n",
       "      <td>44</td>\n",
       "      <td>Bad</td>\n",
       "      <td>Amble</td>\n",
       "      <td>Moderate</td>\n",
       "      <td>Fair</td>\n",
       "    </tr>\n",
       "    <tr>\n",
       "      <th rowspan=\"2\" valign=\"top\">1000116</th>\n",
       "      <th>CJ Entus</th>\n",
       "      <td>http://matchhistory.na.leagueoflegends.com/en/...</td>\n",
       "      <td>LCK</td>\n",
       "      <td>2016-1</td>\n",
       "      <td>42433.124398</td>\n",
       "      <td>8.3</td>\n",
       "      <td>1</td>\n",
       "      <td>6.04</td>\n",
       "      <td>100</td>\n",
       "      <td>Blue</td>\n",
       "      <td>Team</td>\n",
       "      <td>...</td>\n",
       "      <td>2245.0</td>\n",
       "      <td>15909.0</td>\n",
       "      <td>13971.0</td>\n",
       "      <td>1938.0</td>\n",
       "      <td>0.336634</td>\n",
       "      <td>101</td>\n",
       "      <td>Poor</td>\n",
       "      <td>Walk</td>\n",
       "      <td>Moderate</td>\n",
       "      <td>Bad</td>\n",
       "    </tr>\n",
       "    <tr>\n",
       "      <th>SBENU Sonicboom</th>\n",
       "      <td>http://matchhistory.na.leagueoflegends.com/en/...</td>\n",
       "      <td>LCK</td>\n",
       "      <td>2016-1</td>\n",
       "      <td>42433.124398</td>\n",
       "      <td>8.3</td>\n",
       "      <td>1</td>\n",
       "      <td>6.04</td>\n",
       "      <td>200</td>\n",
       "      <td>Red</td>\n",
       "      <td>Team</td>\n",
       "      <td>...</td>\n",
       "      <td>-2245.0</td>\n",
       "      <td>13971.0</td>\n",
       "      <td>15909.0</td>\n",
       "      <td>-1938.0</td>\n",
       "      <td>0.204545</td>\n",
       "      <td>44</td>\n",
       "      <td>Bad</td>\n",
       "      <td>Walk</td>\n",
       "      <td>Moderate</td>\n",
       "      <td>Poor</td>\n",
       "    </tr>\n",
       "    <tr>\n",
       "      <th rowspan=\"2\" valign=\"top\">1000306</th>\n",
       "      <th>Kongdoo Monster</th>\n",
       "      <td>http://matchhistory.na.leagueoflegends.com/en/...</td>\n",
       "      <td>LCK</td>\n",
       "      <td>2016-1</td>\n",
       "      <td>42438.124271</td>\n",
       "      <td>9.1</td>\n",
       "      <td>1</td>\n",
       "      <td>6.04</td>\n",
       "      <td>200</td>\n",
       "      <td>Red</td>\n",
       "      <td>Team</td>\n",
       "      <td>...</td>\n",
       "      <td>-1855.0</td>\n",
       "      <td>18789.0</td>\n",
       "      <td>19384.0</td>\n",
       "      <td>-595.0</td>\n",
       "      <td>0.293578</td>\n",
       "      <td>109</td>\n",
       "      <td>Bad</td>\n",
       "      <td>Amble</td>\n",
       "      <td>Moderate</td>\n",
       "      <td>Good</td>\n",
       "    </tr>\n",
       "    <tr>\n",
       "      <th>Longzhu Gaming</th>\n",
       "      <td>http://matchhistory.na.leagueoflegends.com/en/...</td>\n",
       "      <td>LCK</td>\n",
       "      <td>2016-1</td>\n",
       "      <td>42438.124271</td>\n",
       "      <td>9.1</td>\n",
       "      <td>1</td>\n",
       "      <td>6.04</td>\n",
       "      <td>100</td>\n",
       "      <td>Blue</td>\n",
       "      <td>Team</td>\n",
       "      <td>...</td>\n",
       "      <td>1855.0</td>\n",
       "      <td>19384.0</td>\n",
       "      <td>18789.0</td>\n",
       "      <td>595.0</td>\n",
       "      <td>0.511111</td>\n",
       "      <td>180</td>\n",
       "      <td>Good</td>\n",
       "      <td>Amble</td>\n",
       "      <td>Moderate</td>\n",
       "      <td>Bad</td>\n",
       "    </tr>\n",
       "    <tr>\n",
       "      <th rowspan=\"2\" valign=\"top\">1000316</th>\n",
       "      <th>Kongdoo Monster</th>\n",
       "      <td>http://matchhistory.na.leagueoflegends.com/en/...</td>\n",
       "      <td>LCK</td>\n",
       "      <td>2016-1</td>\n",
       "      <td>42438.167106</td>\n",
       "      <td>9.1</td>\n",
       "      <td>2</td>\n",
       "      <td>6.04</td>\n",
       "      <td>100</td>\n",
       "      <td>Blue</td>\n",
       "      <td>Team</td>\n",
       "      <td>...</td>\n",
       "      <td>-12.0</td>\n",
       "      <td>17982.0</td>\n",
       "      <td>18337.0</td>\n",
       "      <td>-355.0</td>\n",
       "      <td>0.293578</td>\n",
       "      <td>109</td>\n",
       "      <td>Bad</td>\n",
       "      <td>Walk</td>\n",
       "      <td>Moderate</td>\n",
       "      <td>Good</td>\n",
       "    </tr>\n",
       "    <tr>\n",
       "      <th>Longzhu Gaming</th>\n",
       "      <td>http://matchhistory.na.leagueoflegends.com/en/...</td>\n",
       "      <td>LCK</td>\n",
       "      <td>2016-1</td>\n",
       "      <td>42438.167106</td>\n",
       "      <td>9.1</td>\n",
       "      <td>2</td>\n",
       "      <td>6.04</td>\n",
       "      <td>200</td>\n",
       "      <td>Red</td>\n",
       "      <td>Team</td>\n",
       "      <td>...</td>\n",
       "      <td>12.0</td>\n",
       "      <td>18337.0</td>\n",
       "      <td>17982.0</td>\n",
       "      <td>355.0</td>\n",
       "      <td>0.511111</td>\n",
       "      <td>180</td>\n",
       "      <td>Good</td>\n",
       "      <td>Walk</td>\n",
       "      <td>Moderate</td>\n",
       "      <td>Bad</td>\n",
       "    </tr>\n",
       "    <tr>\n",
       "      <th rowspan=\"2\" valign=\"top\">1000320</th>\n",
       "      <th>Jin Air Green Wings</th>\n",
       "      <td>http://matchhistory.na.leagueoflegends.com/en/...</td>\n",
       "      <td>LCK</td>\n",
       "      <td>2016-1</td>\n",
       "      <td>42438.208461</td>\n",
       "      <td>9.1</td>\n",
       "      <td>1</td>\n",
       "      <td>6.04</td>\n",
       "      <td>100</td>\n",
       "      <td>Blue</td>\n",
       "      <td>Team</td>\n",
       "      <td>...</td>\n",
       "      <td>-618.0</td>\n",
       "      <td>19417.0</td>\n",
       "      <td>19337.0</td>\n",
       "      <td>80.0</td>\n",
       "      <td>0.447368</td>\n",
       "      <td>190</td>\n",
       "      <td>Fair</td>\n",
       "      <td>Walk</td>\n",
       "      <td>Alert</td>\n",
       "      <td>Great</td>\n",
       "    </tr>\n",
       "    <tr>\n",
       "      <th>KT Rolster</th>\n",
       "      <td>http://matchhistory.na.leagueoflegends.com/en/...</td>\n",
       "      <td>LCK</td>\n",
       "      <td>2016-1</td>\n",
       "      <td>42438.208461</td>\n",
       "      <td>9.1</td>\n",
       "      <td>1</td>\n",
       "      <td>6.04</td>\n",
       "      <td>200</td>\n",
       "      <td>Red</td>\n",
       "      <td>Team</td>\n",
       "      <td>...</td>\n",
       "      <td>618.0</td>\n",
       "      <td>19337.0</td>\n",
       "      <td>19417.0</td>\n",
       "      <td>-80.0</td>\n",
       "      <td>0.626126</td>\n",
       "      <td>222</td>\n",
       "      <td>Great</td>\n",
       "      <td>Walk</td>\n",
       "      <td>Alert</td>\n",
       "      <td>Fair</td>\n",
       "    </tr>\n",
       "    <tr>\n",
       "      <th rowspan=\"2\" valign=\"top\">1000331</th>\n",
       "      <th>Jin Air Green Wings</th>\n",
       "      <td>http://matchhistory.na.leagueoflegends.com/en/...</td>\n",
       "      <td>LCK</td>\n",
       "      <td>2016-1</td>\n",
       "      <td>42438.252245</td>\n",
       "      <td>9.1</td>\n",
       "      <td>2</td>\n",
       "      <td>6.04</td>\n",
       "      <td>200</td>\n",
       "      <td>Red</td>\n",
       "      <td>Team</td>\n",
       "      <td>...</td>\n",
       "      <td>917.0</td>\n",
       "      <td>16296.0</td>\n",
       "      <td>15471.0</td>\n",
       "      <td>825.0</td>\n",
       "      <td>0.447368</td>\n",
       "      <td>190</td>\n",
       "      <td>Fair</td>\n",
       "      <td>Walk</td>\n",
       "      <td>Alert</td>\n",
       "      <td>Great</td>\n",
       "    </tr>\n",
       "    <tr>\n",
       "      <th>KT Rolster</th>\n",
       "      <td>http://matchhistory.na.leagueoflegends.com/en/...</td>\n",
       "      <td>LCK</td>\n",
       "      <td>2016-1</td>\n",
       "      <td>42438.252245</td>\n",
       "      <td>9.1</td>\n",
       "      <td>2</td>\n",
       "      <td>6.04</td>\n",
       "      <td>100</td>\n",
       "      <td>Blue</td>\n",
       "      <td>Team</td>\n",
       "      <td>...</td>\n",
       "      <td>-917.0</td>\n",
       "      <td>15471.0</td>\n",
       "      <td>16296.0</td>\n",
       "      <td>-825.0</td>\n",
       "      <td>0.626126</td>\n",
       "      <td>222</td>\n",
       "      <td>Great</td>\n",
       "      <td>Walk</td>\n",
       "      <td>Alert</td>\n",
       "      <td>Fair</td>\n",
       "    </tr>\n",
       "    <tr>\n",
       "      <th rowspan=\"2\" valign=\"top\">1000453</th>\n",
       "      <th>Afreeca Freecs</th>\n",
       "      <td>http://matchhistory.na.leagueoflegends.com/en/...</td>\n",
       "      <td>LCK</td>\n",
       "      <td>2016-1</td>\n",
       "      <td>42440.205023</td>\n",
       "      <td>9.3</td>\n",
       "      <td>3</td>\n",
       "      <td>6.04</td>\n",
       "      <td>100</td>\n",
       "      <td>Blue</td>\n",
       "      <td>Team</td>\n",
       "      <td>...</td>\n",
       "      <td>-3352.0</td>\n",
       "      <td>17798.0</td>\n",
       "      <td>19377.0</td>\n",
       "      <td>-1579.0</td>\n",
       "      <td>0.495283</td>\n",
       "      <td>212</td>\n",
       "      <td>Fair</td>\n",
       "      <td>Trot</td>\n",
       "      <td>Wild</td>\n",
       "      <td>Great</td>\n",
       "    </tr>\n",
       "    <tr>\n",
       "      <th>SK Telecom T1</th>\n",
       "      <td>http://matchhistory.na.leagueoflegends.com/en/...</td>\n",
       "      <td>LCK</td>\n",
       "      <td>2016-1</td>\n",
       "      <td>42440.205023</td>\n",
       "      <td>9.3</td>\n",
       "      <td>3</td>\n",
       "      <td>6.04</td>\n",
       "      <td>200</td>\n",
       "      <td>Red</td>\n",
       "      <td>Team</td>\n",
       "      <td>...</td>\n",
       "      <td>3352.0</td>\n",
       "      <td>19377.0</td>\n",
       "      <td>17798.0</td>\n",
       "      <td>1579.0</td>\n",
       "      <td>0.693487</td>\n",
       "      <td>261</td>\n",
       "      <td>Great</td>\n",
       "      <td>Trot</td>\n",
       "      <td>Wild</td>\n",
       "      <td>Fair</td>\n",
       "    </tr>\n",
       "    <tr>\n",
       "      <th rowspan=\"2\" valign=\"top\">1000462</th>\n",
       "      <th>Jin Air Green Wings</th>\n",
       "      <td>http://matchhistory.na.leagueoflegends.com/en/...</td>\n",
       "      <td>LCK</td>\n",
       "      <td>2016-1</td>\n",
       "      <td>42440.244560</td>\n",
       "      <td>9.3</td>\n",
       "      <td>1</td>\n",
       "      <td>6.04</td>\n",
       "      <td>100</td>\n",
       "      <td>Blue</td>\n",
       "      <td>Team</td>\n",
       "      <td>...</td>\n",
       "      <td>1225.0</td>\n",
       "      <td>19887.0</td>\n",
       "      <td>19291.0</td>\n",
       "      <td>596.0</td>\n",
       "      <td>0.447368</td>\n",
       "      <td>190</td>\n",
       "      <td>Fair</td>\n",
       "      <td>Walk</td>\n",
       "      <td>Calm</td>\n",
       "      <td>Bad</td>\n",
       "    </tr>\n",
       "    <tr>\n",
       "      <th>Kongdoo Monster</th>\n",
       "      <td>http://matchhistory.na.leagueoflegends.com/en/...</td>\n",
       "      <td>LCK</td>\n",
       "      <td>2016-1</td>\n",
       "      <td>42440.244560</td>\n",
       "      <td>9.3</td>\n",
       "      <td>1</td>\n",
       "      <td>6.04</td>\n",
       "      <td>200</td>\n",
       "      <td>Red</td>\n",
       "      <td>Team</td>\n",
       "      <td>...</td>\n",
       "      <td>-1225.0</td>\n",
       "      <td>19291.0</td>\n",
       "      <td>19887.0</td>\n",
       "      <td>-596.0</td>\n",
       "      <td>0.293578</td>\n",
       "      <td>109</td>\n",
       "      <td>Bad</td>\n",
       "      <td>Walk</td>\n",
       "      <td>Calm</td>\n",
       "      <td>Fair</td>\n",
       "    </tr>\n",
       "    <tr>\n",
       "      <th rowspan=\"2\" valign=\"top\">1000469</th>\n",
       "      <th>Jin Air Green Wings</th>\n",
       "      <td>http://matchhistory.na.leagueoflegends.com/en/...</td>\n",
       "      <td>LCK</td>\n",
       "      <td>2016-1</td>\n",
       "      <td>42440.290810</td>\n",
       "      <td>9.3</td>\n",
       "      <td>2</td>\n",
       "      <td>6.04</td>\n",
       "      <td>200</td>\n",
       "      <td>Red</td>\n",
       "      <td>Team</td>\n",
       "      <td>...</td>\n",
       "      <td>3567.0</td>\n",
       "      <td>19629.0</td>\n",
       "      <td>17915.0</td>\n",
       "      <td>1714.0</td>\n",
       "      <td>0.447368</td>\n",
       "      <td>190</td>\n",
       "      <td>Fair</td>\n",
       "      <td>Trot</td>\n",
       "      <td>Moderate</td>\n",
       "      <td>Bad</td>\n",
       "    </tr>\n",
       "    <tr>\n",
       "      <th>Kongdoo Monster</th>\n",
       "      <td>http://matchhistory.na.leagueoflegends.com/en/...</td>\n",
       "      <td>LCK</td>\n",
       "      <td>2016-1</td>\n",
       "      <td>42440.290810</td>\n",
       "      <td>9.3</td>\n",
       "      <td>2</td>\n",
       "      <td>6.04</td>\n",
       "      <td>100</td>\n",
       "      <td>Blue</td>\n",
       "      <td>Team</td>\n",
       "      <td>...</td>\n",
       "      <td>-3567.0</td>\n",
       "      <td>17915.0</td>\n",
       "      <td>19629.0</td>\n",
       "      <td>-1714.0</td>\n",
       "      <td>0.293578</td>\n",
       "      <td>109</td>\n",
       "      <td>Bad</td>\n",
       "      <td>Trot</td>\n",
       "      <td>Moderate</td>\n",
       "      <td>Fair</td>\n",
       "    </tr>\n",
       "    <tr>\n",
       "      <th rowspan=\"2\" valign=\"top\">1000512</th>\n",
       "      <th>ROX Tigers</th>\n",
       "      <td>http://matchhistory.na.leagueoflegends.com/en/...</td>\n",
       "      <td>LCK</td>\n",
       "      <td>2016-1</td>\n",
       "      <td>42441.220880</td>\n",
       "      <td>9.4</td>\n",
       "      <td>1</td>\n",
       "      <td>6.04</td>\n",
       "      <td>200</td>\n",
       "      <td>Red</td>\n",
       "      <td>Team</td>\n",
       "      <td>...</td>\n",
       "      <td>-1132.0</td>\n",
       "      <td>19522.0</td>\n",
       "      <td>19000.0</td>\n",
       "      <td>522.0</td>\n",
       "      <td>0.597087</td>\n",
       "      <td>206</td>\n",
       "      <td>Great</td>\n",
       "      <td>Walk</td>\n",
       "      <td>Frisky</td>\n",
       "      <td>Great</td>\n",
       "    </tr>\n",
       "    <tr>\n",
       "      <th>Samsung Galaxy</th>\n",
       "      <td>http://matchhistory.na.leagueoflegends.com/en/...</td>\n",
       "      <td>LCK</td>\n",
       "      <td>2016-1</td>\n",
       "      <td>42441.220880</td>\n",
       "      <td>9.4</td>\n",
       "      <td>1</td>\n",
       "      <td>6.04</td>\n",
       "      <td>100</td>\n",
       "      <td>Blue</td>\n",
       "      <td>Team</td>\n",
       "      <td>...</td>\n",
       "      <td>1132.0</td>\n",
       "      <td>19000.0</td>\n",
       "      <td>19522.0</td>\n",
       "      <td>-522.0</td>\n",
       "      <td>0.614350</td>\n",
       "      <td>223</td>\n",
       "      <td>Great</td>\n",
       "      <td>Walk</td>\n",
       "      <td>Frisky</td>\n",
       "      <td>Great</td>\n",
       "    </tr>\n",
       "  </tbody>\n",
       "</table>\n",
       "<p>20 rows × 96 columns</p>\n",
       "</div>"
      ],
      "text/plain": [
       "                                                                           url  \\\n",
       "gameid  team                                                                     \n",
       "1000029 Jin Air Green Wings  http://matchhistory.na.leagueoflegends.com/en/...   \n",
       "        SBENU Sonicboom      http://matchhistory.na.leagueoflegends.com/en/...   \n",
       "1000116 CJ Entus             http://matchhistory.na.leagueoflegends.com/en/...   \n",
       "        SBENU Sonicboom      http://matchhistory.na.leagueoflegends.com/en/...   \n",
       "1000306 Kongdoo Monster      http://matchhistory.na.leagueoflegends.com/en/...   \n",
       "        Longzhu Gaming       http://matchhistory.na.leagueoflegends.com/en/...   \n",
       "1000316 Kongdoo Monster      http://matchhistory.na.leagueoflegends.com/en/...   \n",
       "        Longzhu Gaming       http://matchhistory.na.leagueoflegends.com/en/...   \n",
       "1000320 Jin Air Green Wings  http://matchhistory.na.leagueoflegends.com/en/...   \n",
       "        KT Rolster           http://matchhistory.na.leagueoflegends.com/en/...   \n",
       "1000331 Jin Air Green Wings  http://matchhistory.na.leagueoflegends.com/en/...   \n",
       "        KT Rolster           http://matchhistory.na.leagueoflegends.com/en/...   \n",
       "1000453 Afreeca Freecs       http://matchhistory.na.leagueoflegends.com/en/...   \n",
       "        SK Telecom T1        http://matchhistory.na.leagueoflegends.com/en/...   \n",
       "1000462 Jin Air Green Wings  http://matchhistory.na.leagueoflegends.com/en/...   \n",
       "        Kongdoo Monster      http://matchhistory.na.leagueoflegends.com/en/...   \n",
       "1000469 Jin Air Green Wings  http://matchhistory.na.leagueoflegends.com/en/...   \n",
       "        Kongdoo Monster      http://matchhistory.na.leagueoflegends.com/en/...   \n",
       "1000512 ROX Tigers           http://matchhistory.na.leagueoflegends.com/en/...   \n",
       "        Samsung Galaxy       http://matchhistory.na.leagueoflegends.com/en/...   \n",
       "\n",
       "                            league   split          date week game patchno  \\\n",
       "gameid  team                                                                 \n",
       "1000029 Jin Air Green Wings    LCK  2016-1  42431.125278  8.1    1    6.04   \n",
       "        SBENU Sonicboom        LCK  2016-1  42431.125278  8.1    1    6.04   \n",
       "1000116 CJ Entus               LCK  2016-1  42433.124398  8.3    1    6.04   \n",
       "        SBENU Sonicboom        LCK  2016-1  42433.124398  8.3    1    6.04   \n",
       "1000306 Kongdoo Monster        LCK  2016-1  42438.124271  9.1    1    6.04   \n",
       "        Longzhu Gaming         LCK  2016-1  42438.124271  9.1    1    6.04   \n",
       "1000316 Kongdoo Monster        LCK  2016-1  42438.167106  9.1    2    6.04   \n",
       "        Longzhu Gaming         LCK  2016-1  42438.167106  9.1    2    6.04   \n",
       "1000320 Jin Air Green Wings    LCK  2016-1  42438.208461  9.1    1    6.04   \n",
       "        KT Rolster             LCK  2016-1  42438.208461  9.1    1    6.04   \n",
       "1000331 Jin Air Green Wings    LCK  2016-1  42438.252245  9.1    2    6.04   \n",
       "        KT Rolster             LCK  2016-1  42438.252245  9.1    2    6.04   \n",
       "1000453 Afreeca Freecs         LCK  2016-1  42440.205023  9.3    3    6.04   \n",
       "        SK Telecom T1          LCK  2016-1  42440.205023  9.3    3    6.04   \n",
       "1000462 Jin Air Green Wings    LCK  2016-1  42440.244560  9.3    1    6.04   \n",
       "        Kongdoo Monster        LCK  2016-1  42440.244560  9.3    1    6.04   \n",
       "1000469 Jin Air Green Wings    LCK  2016-1  42440.290810  9.3    2    6.04   \n",
       "        Kongdoo Monster        LCK  2016-1  42440.290810  9.3    2    6.04   \n",
       "1000512 ROX Tigers             LCK  2016-1  42441.220880  9.4    1    6.04   \n",
       "        Samsung Galaxy         LCK  2016-1  42441.220880  9.4    1    6.04   \n",
       "\n",
       "                            playerid  side position     ...       gdat15  \\\n",
       "gameid  team                                            ...                \n",
       "1000029 Jin Air Green Wings      200   Red     Team     ...       1255.0   \n",
       "        SBENU Sonicboom          100  Blue     Team     ...      -1255.0   \n",
       "1000116 CJ Entus                 100  Blue     Team     ...       2245.0   \n",
       "        SBENU Sonicboom          200   Red     Team     ...      -2245.0   \n",
       "1000306 Kongdoo Monster          200   Red     Team     ...      -1855.0   \n",
       "        Longzhu Gaming           100  Blue     Team     ...       1855.0   \n",
       "1000316 Kongdoo Monster          100  Blue     Team     ...        -12.0   \n",
       "        Longzhu Gaming           200   Red     Team     ...         12.0   \n",
       "1000320 Jin Air Green Wings      100  Blue     Team     ...       -618.0   \n",
       "        KT Rolster               200   Red     Team     ...        618.0   \n",
       "1000331 Jin Air Green Wings      200   Red     Team     ...        917.0   \n",
       "        KT Rolster               100  Blue     Team     ...       -917.0   \n",
       "1000453 Afreeca Freecs           100  Blue     Team     ...      -3352.0   \n",
       "        SK Telecom T1            200   Red     Team     ...       3352.0   \n",
       "1000462 Jin Air Green Wings      100  Blue     Team     ...       1225.0   \n",
       "        Kongdoo Monster          200   Red     Team     ...      -1225.0   \n",
       "1000469 Jin Air Green Wings      200   Red     Team     ...       3567.0   \n",
       "        Kongdoo Monster          100  Blue     Team     ...      -3567.0   \n",
       "1000512 ROX Tigers               200   Red     Team     ...      -1132.0   \n",
       "        Samsung Galaxy           100  Blue     Team     ...       1132.0   \n",
       "\n",
       "                              xpat10 oppxpat10 xpdat10   winRate totalGames  \\\n",
       "gameid  team                                                                  \n",
       "1000029 Jin Air Green Wings  17648.0   16363.0  1285.0  0.447368        190   \n",
       "        SBENU Sonicboom      16363.0   17648.0 -1285.0  0.204545         44   \n",
       "1000116 CJ Entus             15909.0   13971.0  1938.0  0.336634        101   \n",
       "        SBENU Sonicboom      13971.0   15909.0 -1938.0  0.204545         44   \n",
       "1000306 Kongdoo Monster      18789.0   19384.0  -595.0  0.293578        109   \n",
       "        Longzhu Gaming       19384.0   18789.0   595.0  0.511111        180   \n",
       "1000316 Kongdoo Monster      17982.0   18337.0  -355.0  0.293578        109   \n",
       "        Longzhu Gaming       18337.0   17982.0   355.0  0.511111        180   \n",
       "1000320 Jin Air Green Wings  19417.0   19337.0    80.0  0.447368        190   \n",
       "        KT Rolster           19337.0   19417.0   -80.0  0.626126        222   \n",
       "1000331 Jin Air Green Wings  16296.0   15471.0   825.0  0.447368        190   \n",
       "        KT Rolster           15471.0   16296.0  -825.0  0.626126        222   \n",
       "1000453 Afreeca Freecs       17798.0   19377.0 -1579.0  0.495283        212   \n",
       "        SK Telecom T1        19377.0   17798.0  1579.0  0.693487        261   \n",
       "1000462 Jin Air Green Wings  19887.0   19291.0   596.0  0.447368        190   \n",
       "        Kongdoo Monster      19291.0   19887.0  -596.0  0.293578        109   \n",
       "1000469 Jin Air Green Wings  19629.0   17915.0  1714.0  0.447368        190   \n",
       "        Kongdoo Monster      17915.0   19629.0 -1714.0  0.293578        109   \n",
       "1000512 ROX Tigers           19522.0   19000.0   522.0  0.597087        206   \n",
       "        Samsung Galaxy       19000.0   19522.0  -522.0  0.614350        223   \n",
       "\n",
       "                            quality   pace  aggression  opp_quality  \n",
       "gameid  team                                                         \n",
       "1000029 Jin Air Green Wings    Fair  Amble    Moderate          Bad  \n",
       "        SBENU Sonicboom         Bad  Amble    Moderate         Fair  \n",
       "1000116 CJ Entus               Poor   Walk    Moderate          Bad  \n",
       "        SBENU Sonicboom         Bad   Walk    Moderate         Poor  \n",
       "1000306 Kongdoo Monster         Bad  Amble    Moderate         Good  \n",
       "        Longzhu Gaming         Good  Amble    Moderate          Bad  \n",
       "1000316 Kongdoo Monster         Bad   Walk    Moderate         Good  \n",
       "        Longzhu Gaming         Good   Walk    Moderate          Bad  \n",
       "1000320 Jin Air Green Wings    Fair   Walk       Alert        Great  \n",
       "        KT Rolster            Great   Walk       Alert         Fair  \n",
       "1000331 Jin Air Green Wings    Fair   Walk       Alert        Great  \n",
       "        KT Rolster            Great   Walk       Alert         Fair  \n",
       "1000453 Afreeca Freecs         Fair   Trot        Wild        Great  \n",
       "        SK Telecom T1         Great   Trot        Wild         Fair  \n",
       "1000462 Jin Air Green Wings    Fair   Walk        Calm          Bad  \n",
       "        Kongdoo Monster         Bad   Walk        Calm         Fair  \n",
       "1000469 Jin Air Green Wings    Fair   Trot    Moderate          Bad  \n",
       "        Kongdoo Monster         Bad   Trot    Moderate         Fair  \n",
       "1000512 ROX Tigers            Great   Walk      Frisky        Great  \n",
       "        Samsung Galaxy        Great   Walk      Frisky        Great  \n",
       "\n",
       "[20 rows x 96 columns]"
      ]
     },
     "execution_count": 154,
     "metadata": {},
     "output_type": "execute_result"
    }
   ],
   "source": [
    "test = teamDF.copy()\n",
    "test.set_index(['gameid', 'team'], inplace = True)\n",
    "test.sort_index(inplace = True)\n",
    "test.head(20)"
   ]
  },
  {
   "cell_type": "code",
   "execution_count": 220,
   "metadata": {
    "slideshow": {
     "slide_type": "subslide"
    }
   },
   "outputs": [
    {
     "name": "stdout",
     "output_type": "stream",
     "text": [
      "     gameid            team position    champion\n",
      "0   1160150      KT Rolster      Top        Gnar\n",
      "1   1160150      KT Rolster   Jungle      Gragas\n",
      "2   1160150      KT Rolster   Middle       Varus\n",
      "3   1160150      KT Rolster      ADC     Kog'Maw\n",
      "4   1160150      KT Rolster  Support     Alistar\n",
      "5   1160150  Longzhu Gaming      Top       Yasuo\n",
      "6   1160150  Longzhu Gaming   Jungle     Hecarim\n",
      "7   1160150  Longzhu Gaming   Middle      Viktor\n",
      "8   1160150  Longzhu Gaming      ADC       Sivir\n",
      "9   1160150  Longzhu Gaming  Support  Tahm Kench\n",
      "12  1160184        ESC Ever      Top   Gangplank\n",
      "13  1160184        ESC Ever   Jungle       Elise\n",
      "14  1160184        ESC Ever   Middle       Karma\n",
      "15  1160184        ESC Ever      ADC        Jhin\n",
      "16  1160184        ESC Ever  Support       Janna\n",
      "17  1160184   SK Telecom T1      Top        Gnar\n",
      "18  1160184   SK Telecom T1   Jungle     Hecarim\n",
      "19  1160184   SK Telecom T1   Middle     Taliyah\n",
      "20  1160184   SK Telecom T1      ADC        Ashe\n",
      "21  1160184   SK Telecom T1  Support       Taric\n"
     ]
    },
    {
     "data": {
      "text/html": [
       "<div>\n",
       "<style>\n",
       "    .dataframe thead tr:only-child th {\n",
       "        text-align: right;\n",
       "    }\n",
       "\n",
       "    .dataframe thead th {\n",
       "        text-align: left;\n",
       "    }\n",
       "\n",
       "    .dataframe tbody tr th {\n",
       "        vertical-align: top;\n",
       "    }\n",
       "</style>\n",
       "<table border=\"1\" class=\"dataframe\">\n",
       "  <thead>\n",
       "    <tr style=\"text-align: right;\">\n",
       "      <th></th>\n",
       "      <th>gameid</th>\n",
       "      <th>team</th>\n",
       "      <th>ADC</th>\n",
       "      <th>Jungle</th>\n",
       "      <th>Middle</th>\n",
       "      <th>Support</th>\n",
       "      <th>Top</th>\n",
       "    </tr>\n",
       "  </thead>\n",
       "  <tbody>\n",
       "    <tr>\n",
       "      <th>0</th>\n",
       "      <td>1160150</td>\n",
       "      <td>KT Rolster</td>\n",
       "      <td>NaN</td>\n",
       "      <td>NaN</td>\n",
       "      <td>NaN</td>\n",
       "      <td>NaN</td>\n",
       "      <td>Gnar</td>\n",
       "    </tr>\n",
       "    <tr>\n",
       "      <th>1</th>\n",
       "      <td>1160150</td>\n",
       "      <td>KT Rolster</td>\n",
       "      <td>NaN</td>\n",
       "      <td>Gragas</td>\n",
       "      <td>NaN</td>\n",
       "      <td>NaN</td>\n",
       "      <td>NaN</td>\n",
       "    </tr>\n",
       "    <tr>\n",
       "      <th>2</th>\n",
       "      <td>1160150</td>\n",
       "      <td>KT Rolster</td>\n",
       "      <td>NaN</td>\n",
       "      <td>NaN</td>\n",
       "      <td>Varus</td>\n",
       "      <td>NaN</td>\n",
       "      <td>NaN</td>\n",
       "    </tr>\n",
       "    <tr>\n",
       "      <th>3</th>\n",
       "      <td>1160150</td>\n",
       "      <td>KT Rolster</td>\n",
       "      <td>Kog'Maw</td>\n",
       "      <td>NaN</td>\n",
       "      <td>NaN</td>\n",
       "      <td>NaN</td>\n",
       "      <td>NaN</td>\n",
       "    </tr>\n",
       "    <tr>\n",
       "      <th>4</th>\n",
       "      <td>1160150</td>\n",
       "      <td>KT Rolster</td>\n",
       "      <td>NaN</td>\n",
       "      <td>NaN</td>\n",
       "      <td>NaN</td>\n",
       "      <td>Alistar</td>\n",
       "      <td>NaN</td>\n",
       "    </tr>\n",
       "    <tr>\n",
       "      <th>5</th>\n",
       "      <td>1160150</td>\n",
       "      <td>Longzhu Gaming</td>\n",
       "      <td>NaN</td>\n",
       "      <td>NaN</td>\n",
       "      <td>NaN</td>\n",
       "      <td>NaN</td>\n",
       "      <td>Yasuo</td>\n",
       "    </tr>\n",
       "    <tr>\n",
       "      <th>6</th>\n",
       "      <td>1160150</td>\n",
       "      <td>Longzhu Gaming</td>\n",
       "      <td>NaN</td>\n",
       "      <td>Hecarim</td>\n",
       "      <td>NaN</td>\n",
       "      <td>NaN</td>\n",
       "      <td>NaN</td>\n",
       "    </tr>\n",
       "    <tr>\n",
       "      <th>7</th>\n",
       "      <td>1160150</td>\n",
       "      <td>Longzhu Gaming</td>\n",
       "      <td>NaN</td>\n",
       "      <td>NaN</td>\n",
       "      <td>Viktor</td>\n",
       "      <td>NaN</td>\n",
       "      <td>NaN</td>\n",
       "    </tr>\n",
       "    <tr>\n",
       "      <th>8</th>\n",
       "      <td>1160150</td>\n",
       "      <td>Longzhu Gaming</td>\n",
       "      <td>Sivir</td>\n",
       "      <td>NaN</td>\n",
       "      <td>NaN</td>\n",
       "      <td>NaN</td>\n",
       "      <td>NaN</td>\n",
       "    </tr>\n",
       "    <tr>\n",
       "      <th>9</th>\n",
       "      <td>1160150</td>\n",
       "      <td>Longzhu Gaming</td>\n",
       "      <td>NaN</td>\n",
       "      <td>NaN</td>\n",
       "      <td>NaN</td>\n",
       "      <td>Tahm Kench</td>\n",
       "      <td>NaN</td>\n",
       "    </tr>\n",
       "    <tr>\n",
       "      <th>12</th>\n",
       "      <td>1160184</td>\n",
       "      <td>ESC Ever</td>\n",
       "      <td>NaN</td>\n",
       "      <td>NaN</td>\n",
       "      <td>NaN</td>\n",
       "      <td>NaN</td>\n",
       "      <td>Gangplank</td>\n",
       "    </tr>\n",
       "    <tr>\n",
       "      <th>13</th>\n",
       "      <td>1160184</td>\n",
       "      <td>ESC Ever</td>\n",
       "      <td>NaN</td>\n",
       "      <td>Elise</td>\n",
       "      <td>NaN</td>\n",
       "      <td>NaN</td>\n",
       "      <td>NaN</td>\n",
       "    </tr>\n",
       "    <tr>\n",
       "      <th>14</th>\n",
       "      <td>1160184</td>\n",
       "      <td>ESC Ever</td>\n",
       "      <td>NaN</td>\n",
       "      <td>NaN</td>\n",
       "      <td>Karma</td>\n",
       "      <td>NaN</td>\n",
       "      <td>NaN</td>\n",
       "    </tr>\n",
       "    <tr>\n",
       "      <th>15</th>\n",
       "      <td>1160184</td>\n",
       "      <td>ESC Ever</td>\n",
       "      <td>Jhin</td>\n",
       "      <td>NaN</td>\n",
       "      <td>NaN</td>\n",
       "      <td>NaN</td>\n",
       "      <td>NaN</td>\n",
       "    </tr>\n",
       "    <tr>\n",
       "      <th>16</th>\n",
       "      <td>1160184</td>\n",
       "      <td>ESC Ever</td>\n",
       "      <td>NaN</td>\n",
       "      <td>NaN</td>\n",
       "      <td>NaN</td>\n",
       "      <td>Janna</td>\n",
       "      <td>NaN</td>\n",
       "    </tr>\n",
       "    <tr>\n",
       "      <th>17</th>\n",
       "      <td>1160184</td>\n",
       "      <td>SK Telecom T1</td>\n",
       "      <td>NaN</td>\n",
       "      <td>NaN</td>\n",
       "      <td>NaN</td>\n",
       "      <td>NaN</td>\n",
       "      <td>Gnar</td>\n",
       "    </tr>\n",
       "    <tr>\n",
       "      <th>18</th>\n",
       "      <td>1160184</td>\n",
       "      <td>SK Telecom T1</td>\n",
       "      <td>NaN</td>\n",
       "      <td>Hecarim</td>\n",
       "      <td>NaN</td>\n",
       "      <td>NaN</td>\n",
       "      <td>NaN</td>\n",
       "    </tr>\n",
       "    <tr>\n",
       "      <th>19</th>\n",
       "      <td>1160184</td>\n",
       "      <td>SK Telecom T1</td>\n",
       "      <td>NaN</td>\n",
       "      <td>NaN</td>\n",
       "      <td>Taliyah</td>\n",
       "      <td>NaN</td>\n",
       "      <td>NaN</td>\n",
       "    </tr>\n",
       "    <tr>\n",
       "      <th>20</th>\n",
       "      <td>1160184</td>\n",
       "      <td>SK Telecom T1</td>\n",
       "      <td>Ashe</td>\n",
       "      <td>NaN</td>\n",
       "      <td>NaN</td>\n",
       "      <td>NaN</td>\n",
       "      <td>NaN</td>\n",
       "    </tr>\n",
       "    <tr>\n",
       "      <th>21</th>\n",
       "      <td>1160184</td>\n",
       "      <td>SK Telecom T1</td>\n",
       "      <td>NaN</td>\n",
       "      <td>NaN</td>\n",
       "      <td>NaN</td>\n",
       "      <td>Taric</td>\n",
       "      <td>NaN</td>\n",
       "    </tr>\n",
       "  </tbody>\n",
       "</table>\n",
       "</div>"
      ],
      "text/plain": [
       "     gameid            team      ADC   Jungle   Middle     Support        Top\n",
       "0   1160150      KT Rolster      NaN      NaN      NaN         NaN       Gnar\n",
       "1   1160150      KT Rolster      NaN   Gragas      NaN         NaN        NaN\n",
       "2   1160150      KT Rolster      NaN      NaN    Varus         NaN        NaN\n",
       "3   1160150      KT Rolster  Kog'Maw      NaN      NaN         NaN        NaN\n",
       "4   1160150      KT Rolster      NaN      NaN      NaN     Alistar        NaN\n",
       "5   1160150  Longzhu Gaming      NaN      NaN      NaN         NaN      Yasuo\n",
       "6   1160150  Longzhu Gaming      NaN  Hecarim      NaN         NaN        NaN\n",
       "7   1160150  Longzhu Gaming      NaN      NaN   Viktor         NaN        NaN\n",
       "8   1160150  Longzhu Gaming    Sivir      NaN      NaN         NaN        NaN\n",
       "9   1160150  Longzhu Gaming      NaN      NaN      NaN  Tahm Kench        NaN\n",
       "12  1160184        ESC Ever      NaN      NaN      NaN         NaN  Gangplank\n",
       "13  1160184        ESC Ever      NaN    Elise      NaN         NaN        NaN\n",
       "14  1160184        ESC Ever      NaN      NaN    Karma         NaN        NaN\n",
       "15  1160184        ESC Ever     Jhin      NaN      NaN         NaN        NaN\n",
       "16  1160184        ESC Ever      NaN      NaN      NaN       Janna        NaN\n",
       "17  1160184   SK Telecom T1      NaN      NaN      NaN         NaN       Gnar\n",
       "18  1160184   SK Telecom T1      NaN  Hecarim      NaN         NaN        NaN\n",
       "19  1160184   SK Telecom T1      NaN      NaN  Taliyah         NaN        NaN\n",
       "20  1160184   SK Telecom T1     Ashe      NaN      NaN         NaN        NaN\n",
       "21  1160184   SK Telecom T1      NaN      NaN      NaN       Taric        NaN"
      ]
     },
     "execution_count": 220,
     "metadata": {},
     "output_type": "execute_result"
    }
   ],
   "source": [
    "temp = playerDF.copy()\n",
    "temp = temp.set_index(['gameid', 'team'])\n",
    "temp.sort_index(inplace=True)\n",
    "test = pd.concat([playerDF[['gameid', 'team']], playerDF.pivot(columns = 'position', values = 'champion')], axis = 'columns')\n",
    "print(playerDF[['gameid','team','position','champion']].head(20))\n",
    "test.head(20)"
   ]
  },
  {
   "cell_type": "code",
   "execution_count": 225,
   "metadata": {
    "slideshow": {
     "slide_type": "subslide"
    }
   },
   "outputs": [
    {
     "data": {
      "text/html": [
       "<div>\n",
       "<style>\n",
       "    .dataframe thead tr:only-child th {\n",
       "        text-align: right;\n",
       "    }\n",
       "\n",
       "    .dataframe thead th {\n",
       "        text-align: left;\n",
       "    }\n",
       "\n",
       "    .dataframe tbody tr th {\n",
       "        vertical-align: top;\n",
       "    }\n",
       "</style>\n",
       "<table border=\"1\" class=\"dataframe\">\n",
       "  <thead>\n",
       "    <tr style=\"text-align: right;\">\n",
       "      <th></th>\n",
       "      <th></th>\n",
       "      <th>split</th>\n",
       "      <th>cspm</th>\n",
       "      <th>result</th>\n",
       "      <th>ADC</th>\n",
       "      <th>Jungle</th>\n",
       "      <th>Middle</th>\n",
       "      <th>Support</th>\n",
       "      <th>Top</th>\n",
       "    </tr>\n",
       "    <tr>\n",
       "      <th>gameid</th>\n",
       "      <th>team</th>\n",
       "      <th></th>\n",
       "      <th></th>\n",
       "      <th></th>\n",
       "      <th></th>\n",
       "      <th></th>\n",
       "      <th></th>\n",
       "      <th></th>\n",
       "      <th></th>\n",
       "    </tr>\n",
       "  </thead>\n",
       "  <tbody>\n",
       "    <tr>\n",
       "      <th rowspan=\"10\" valign=\"top\">1000029</th>\n",
       "      <th>Jin Air Green Wings</th>\n",
       "      <td>2016-1</td>\n",
       "      <td>28.921042</td>\n",
       "      <td>1</td>\n",
       "      <td>NaN</td>\n",
       "      <td>NaN</td>\n",
       "      <td>NaN</td>\n",
       "      <td>NaN</td>\n",
       "      <td>Trundle</td>\n",
       "    </tr>\n",
       "    <tr>\n",
       "      <th>Jin Air Green Wings</th>\n",
       "      <td>2016-1</td>\n",
       "      <td>28.921042</td>\n",
       "      <td>1</td>\n",
       "      <td>NaN</td>\n",
       "      <td>Elise</td>\n",
       "      <td>NaN</td>\n",
       "      <td>NaN</td>\n",
       "      <td>NaN</td>\n",
       "    </tr>\n",
       "    <tr>\n",
       "      <th>Jin Air Green Wings</th>\n",
       "      <td>2016-1</td>\n",
       "      <td>28.921042</td>\n",
       "      <td>1</td>\n",
       "      <td>NaN</td>\n",
       "      <td>NaN</td>\n",
       "      <td>LeBlanc</td>\n",
       "      <td>NaN</td>\n",
       "      <td>NaN</td>\n",
       "    </tr>\n",
       "    <tr>\n",
       "      <th>Jin Air Green Wings</th>\n",
       "      <td>2016-1</td>\n",
       "      <td>28.921042</td>\n",
       "      <td>1</td>\n",
       "      <td>Ashe</td>\n",
       "      <td>NaN</td>\n",
       "      <td>NaN</td>\n",
       "      <td>NaN</td>\n",
       "      <td>NaN</td>\n",
       "    </tr>\n",
       "    <tr>\n",
       "      <th>Jin Air Green Wings</th>\n",
       "      <td>2016-1</td>\n",
       "      <td>28.921042</td>\n",
       "      <td>1</td>\n",
       "      <td>NaN</td>\n",
       "      <td>NaN</td>\n",
       "      <td>NaN</td>\n",
       "      <td>Alistar</td>\n",
       "      <td>NaN</td>\n",
       "    </tr>\n",
       "    <tr>\n",
       "      <th>SBENU Sonicboom</th>\n",
       "      <td>2016-1</td>\n",
       "      <td>29.516329</td>\n",
       "      <td>0</td>\n",
       "      <td>NaN</td>\n",
       "      <td>NaN</td>\n",
       "      <td>NaN</td>\n",
       "      <td>NaN</td>\n",
       "      <td>Poppy</td>\n",
       "    </tr>\n",
       "    <tr>\n",
       "      <th>SBENU Sonicboom</th>\n",
       "      <td>2016-1</td>\n",
       "      <td>29.516329</td>\n",
       "      <td>0</td>\n",
       "      <td>NaN</td>\n",
       "      <td>Nidalee</td>\n",
       "      <td>NaN</td>\n",
       "      <td>NaN</td>\n",
       "      <td>NaN</td>\n",
       "    </tr>\n",
       "    <tr>\n",
       "      <th>SBENU Sonicboom</th>\n",
       "      <td>2016-1</td>\n",
       "      <td>29.516329</td>\n",
       "      <td>0</td>\n",
       "      <td>NaN</td>\n",
       "      <td>NaN</td>\n",
       "      <td>Jayce</td>\n",
       "      <td>NaN</td>\n",
       "      <td>NaN</td>\n",
       "    </tr>\n",
       "    <tr>\n",
       "      <th>SBENU Sonicboom</th>\n",
       "      <td>2016-1</td>\n",
       "      <td>29.516329</td>\n",
       "      <td>0</td>\n",
       "      <td>Caitlyn</td>\n",
       "      <td>NaN</td>\n",
       "      <td>NaN</td>\n",
       "      <td>NaN</td>\n",
       "      <td>NaN</td>\n",
       "    </tr>\n",
       "    <tr>\n",
       "      <th>SBENU Sonicboom</th>\n",
       "      <td>2016-1</td>\n",
       "      <td>29.516329</td>\n",
       "      <td>0</td>\n",
       "      <td>NaN</td>\n",
       "      <td>NaN</td>\n",
       "      <td>NaN</td>\n",
       "      <td>Braum</td>\n",
       "      <td>NaN</td>\n",
       "    </tr>\n",
       "    <tr>\n",
       "      <th rowspan=\"10\" valign=\"top\">1000116</th>\n",
       "      <th>CJ Entus</th>\n",
       "      <td>2016-1</td>\n",
       "      <td>29.873061</td>\n",
       "      <td>1</td>\n",
       "      <td>NaN</td>\n",
       "      <td>NaN</td>\n",
       "      <td>NaN</td>\n",
       "      <td>NaN</td>\n",
       "      <td>Poppy</td>\n",
       "    </tr>\n",
       "    <tr>\n",
       "      <th>CJ Entus</th>\n",
       "      <td>2016-1</td>\n",
       "      <td>29.873061</td>\n",
       "      <td>1</td>\n",
       "      <td>NaN</td>\n",
       "      <td>Elise</td>\n",
       "      <td>NaN</td>\n",
       "      <td>NaN</td>\n",
       "      <td>NaN</td>\n",
       "    </tr>\n",
       "    <tr>\n",
       "      <th>CJ Entus</th>\n",
       "      <td>2016-1</td>\n",
       "      <td>29.873061</td>\n",
       "      <td>1</td>\n",
       "      <td>NaN</td>\n",
       "      <td>NaN</td>\n",
       "      <td>Azir</td>\n",
       "      <td>NaN</td>\n",
       "      <td>NaN</td>\n",
       "    </tr>\n",
       "    <tr>\n",
       "      <th>CJ Entus</th>\n",
       "      <td>2016-1</td>\n",
       "      <td>29.873061</td>\n",
       "      <td>1</td>\n",
       "      <td>Lucian</td>\n",
       "      <td>NaN</td>\n",
       "      <td>NaN</td>\n",
       "      <td>NaN</td>\n",
       "      <td>NaN</td>\n",
       "    </tr>\n",
       "    <tr>\n",
       "      <th>CJ Entus</th>\n",
       "      <td>2016-1</td>\n",
       "      <td>29.873061</td>\n",
       "      <td>1</td>\n",
       "      <td>NaN</td>\n",
       "      <td>NaN</td>\n",
       "      <td>NaN</td>\n",
       "      <td>Braum</td>\n",
       "      <td>NaN</td>\n",
       "    </tr>\n",
       "    <tr>\n",
       "      <th>SBENU Sonicboom</th>\n",
       "      <td>2016-1</td>\n",
       "      <td>30.888575</td>\n",
       "      <td>0</td>\n",
       "      <td>NaN</td>\n",
       "      <td>NaN</td>\n",
       "      <td>NaN</td>\n",
       "      <td>NaN</td>\n",
       "      <td>Nautilus</td>\n",
       "    </tr>\n",
       "    <tr>\n",
       "      <th>SBENU Sonicboom</th>\n",
       "      <td>2016-1</td>\n",
       "      <td>30.888575</td>\n",
       "      <td>0</td>\n",
       "      <td>NaN</td>\n",
       "      <td>Kindred</td>\n",
       "      <td>NaN</td>\n",
       "      <td>NaN</td>\n",
       "      <td>NaN</td>\n",
       "    </tr>\n",
       "    <tr>\n",
       "      <th>SBENU Sonicboom</th>\n",
       "      <td>2016-1</td>\n",
       "      <td>30.888575</td>\n",
       "      <td>0</td>\n",
       "      <td>NaN</td>\n",
       "      <td>NaN</td>\n",
       "      <td>Varus</td>\n",
       "      <td>NaN</td>\n",
       "      <td>NaN</td>\n",
       "    </tr>\n",
       "    <tr>\n",
       "      <th>SBENU Sonicboom</th>\n",
       "      <td>2016-1</td>\n",
       "      <td>30.888575</td>\n",
       "      <td>0</td>\n",
       "      <td>Sivir</td>\n",
       "      <td>NaN</td>\n",
       "      <td>NaN</td>\n",
       "      <td>NaN</td>\n",
       "      <td>NaN</td>\n",
       "    </tr>\n",
       "    <tr>\n",
       "      <th>SBENU Sonicboom</th>\n",
       "      <td>2016-1</td>\n",
       "      <td>30.888575</td>\n",
       "      <td>0</td>\n",
       "      <td>NaN</td>\n",
       "      <td>NaN</td>\n",
       "      <td>NaN</td>\n",
       "      <td>Alistar</td>\n",
       "      <td>NaN</td>\n",
       "    </tr>\n",
       "  </tbody>\n",
       "</table>\n",
       "</div>"
      ],
      "text/plain": [
       "                              split       cspm  result      ADC   Jungle  \\\n",
       "gameid  team                                                               \n",
       "1000029 Jin Air Green Wings  2016-1  28.921042       1      NaN      NaN   \n",
       "        Jin Air Green Wings  2016-1  28.921042       1      NaN    Elise   \n",
       "        Jin Air Green Wings  2016-1  28.921042       1      NaN      NaN   \n",
       "        Jin Air Green Wings  2016-1  28.921042       1     Ashe      NaN   \n",
       "        Jin Air Green Wings  2016-1  28.921042       1      NaN      NaN   \n",
       "        SBENU Sonicboom      2016-1  29.516329       0      NaN      NaN   \n",
       "        SBENU Sonicboom      2016-1  29.516329       0      NaN  Nidalee   \n",
       "        SBENU Sonicboom      2016-1  29.516329       0      NaN      NaN   \n",
       "        SBENU Sonicboom      2016-1  29.516329       0  Caitlyn      NaN   \n",
       "        SBENU Sonicboom      2016-1  29.516329       0      NaN      NaN   \n",
       "1000116 CJ Entus             2016-1  29.873061       1      NaN      NaN   \n",
       "        CJ Entus             2016-1  29.873061       1      NaN    Elise   \n",
       "        CJ Entus             2016-1  29.873061       1      NaN      NaN   \n",
       "        CJ Entus             2016-1  29.873061       1   Lucian      NaN   \n",
       "        CJ Entus             2016-1  29.873061       1      NaN      NaN   \n",
       "        SBENU Sonicboom      2016-1  30.888575       0      NaN      NaN   \n",
       "        SBENU Sonicboom      2016-1  30.888575       0      NaN  Kindred   \n",
       "        SBENU Sonicboom      2016-1  30.888575       0      NaN      NaN   \n",
       "        SBENU Sonicboom      2016-1  30.888575       0    Sivir      NaN   \n",
       "        SBENU Sonicboom      2016-1  30.888575       0      NaN      NaN   \n",
       "\n",
       "                              Middle  Support       Top  \n",
       "gameid  team                                             \n",
       "1000029 Jin Air Green Wings      NaN      NaN   Trundle  \n",
       "        Jin Air Green Wings      NaN      NaN       NaN  \n",
       "        Jin Air Green Wings  LeBlanc      NaN       NaN  \n",
       "        Jin Air Green Wings      NaN      NaN       NaN  \n",
       "        Jin Air Green Wings      NaN  Alistar       NaN  \n",
       "        SBENU Sonicboom          NaN      NaN     Poppy  \n",
       "        SBENU Sonicboom          NaN      NaN       NaN  \n",
       "        SBENU Sonicboom        Jayce      NaN       NaN  \n",
       "        SBENU Sonicboom          NaN      NaN       NaN  \n",
       "        SBENU Sonicboom          NaN    Braum       NaN  \n",
       "1000116 CJ Entus                 NaN      NaN     Poppy  \n",
       "        CJ Entus                 NaN      NaN       NaN  \n",
       "        CJ Entus                Azir      NaN       NaN  \n",
       "        CJ Entus                 NaN      NaN       NaN  \n",
       "        CJ Entus                 NaN    Braum       NaN  \n",
       "        SBENU Sonicboom          NaN      NaN  Nautilus  \n",
       "        SBENU Sonicboom          NaN      NaN       NaN  \n",
       "        SBENU Sonicboom        Varus      NaN       NaN  \n",
       "        SBENU Sonicboom          NaN      NaN       NaN  \n",
       "        SBENU Sonicboom          NaN  Alistar       NaN  "
      ]
     },
     "execution_count": 225,
     "metadata": {},
     "output_type": "execute_result"
    }
   ],
   "source": [
    "# test.set_index(['gameid', 'team'],inplace=True)\n",
    "# test.sort_index(inplace=True)\n",
    "\n",
    "# for c in ['Top', 'ADC', 'Jungle', 'Middle', 'Support']:\n",
    "#     test[c].cat.add_categories([''], inplace=True)\n",
    "# test[['Top', 'ADC', 'Jungle', 'Middle', 'Support']] = test[['Top', 'ADC', 'Jungle', 'Middle', 'Support']].fillna('')\n",
    "temp = teamDF[['gameid','team', 'split', 'cspm', 'result']].copy()\n",
    "temp = temp.set_index(['gameid','team'])\n",
    "temp = temp.sort_index()\n",
    "other = temp.join(test, how = 'inner')\n",
    "other.head(20)"
   ]
  },
  {
   "cell_type": "markdown",
   "metadata": {
    "slideshow": {
     "slide_type": "slide"
    }
   },
   "source": [
    "## Questions for Alex:\n",
    "\n",
    "1. The site I was using for data updated and now has some kind of inherent scraping protection. I'm trying to get around that by changing headers for urllib Request() but am getting a ValueError \"Must explicitly set engine if not passing in buffer or path for io.\"\n",
    "\n",
    "    I've included the code in a sub-slide.\n",
    "\n",
    "2. Narrative voice -- I've been going back and forth w/o any rhyme or reason between first person singular, first person plural, and third person. As I continue working and editing, I'll clean that up for consistency. Do you have any best practice recommendations on which style to adopt among those three?\n",
    "\n",
    "3. Should I be scaling and centering numerical predictors in logistic regression so that I can interpret the odds ratio coefficients more comparably? For instance, I feel like it's not very useful to compare the odds ratios for a 1 unit increase in minions killed vs towers killed, since they are on such largely different scales."
   ]
  },
  {
   "cell_type": "code",
   "execution_count": 112,
   "metadata": {
    "slideshow": {
     "slide_type": "subslide"
    }
   },
   "outputs": [
    {
     "ename": "ValueError",
     "evalue": "Must explicitly set engine if not passing in buffer or path for io.",
     "output_type": "error",
     "traceback": [
      "\u001b[1;31m---------------------------------------------------------------------------\u001b[0m",
      "\u001b[1;31mValueError\u001b[0m                                Traceback (most recent call last)",
      "\u001b[1;32m<ipython-input-112-30173a59bd2b>\u001b[0m in \u001b[0;36m<module>\u001b[1;34m()\u001b[0m\n\u001b[0;32m      7\u001b[0m \u001b[1;33m\u001b[0m\u001b[0m\n\u001b[0;32m      8\u001b[0m \u001b[0mreqs\u001b[0m \u001b[1;33m=\u001b[0m \u001b[1;33m[\u001b[0m\u001b[0murlopen\u001b[0m\u001b[1;33m(\u001b[0m\u001b[0mRequest\u001b[0m\u001b[1;33m(\u001b[0m\u001b[0murl\u001b[0m\u001b[1;33m,\u001b[0m \u001b[0mheaders\u001b[0m\u001b[1;33m=\u001b[0m\u001b[1;33m{\u001b[0m\u001b[1;34m'User-Agent'\u001b[0m\u001b[1;33m:\u001b[0m \u001b[1;34m'Chrome'\u001b[0m\u001b[1;33m}\u001b[0m\u001b[1;33m)\u001b[0m\u001b[1;33m)\u001b[0m\u001b[1;33m.\u001b[0m\u001b[0mread\u001b[0m\u001b[1;33m(\u001b[0m\u001b[1;33m)\u001b[0m \u001b[1;32mfor\u001b[0m \u001b[0murl\u001b[0m \u001b[1;32min\u001b[0m \u001b[0murls\u001b[0m\u001b[1;33m]\u001b[0m\u001b[1;33m\u001b[0m\u001b[0m\n\u001b[1;32m----> 9\u001b[1;33m \u001b[0mpartial_dfs\u001b[0m \u001b[1;33m=\u001b[0m \u001b[1;33m[\u001b[0m\u001b[0mpd\u001b[0m\u001b[1;33m.\u001b[0m\u001b[0mread_excel\u001b[0m\u001b[1;33m(\u001b[0m\u001b[0mreq\u001b[0m\u001b[1;33m,\u001b[0m \u001b[1;34m'Sheet1'\u001b[0m\u001b[1;33m)\u001b[0m \u001b[1;32mfor\u001b[0m \u001b[0mreq\u001b[0m \u001b[1;32min\u001b[0m \u001b[0mreqs\u001b[0m\u001b[1;33m]\u001b[0m\u001b[1;33m\u001b[0m\u001b[0m\n\u001b[0m\u001b[0;32m     10\u001b[0m \u001b[0mdf\u001b[0m \u001b[1;33m=\u001b[0m \u001b[0mpd\u001b[0m\u001b[1;33m.\u001b[0m\u001b[0mconcat\u001b[0m\u001b[1;33m(\u001b[0m\u001b[0mpartial_dfs\u001b[0m\u001b[1;33m,\u001b[0m \u001b[0mignore_index\u001b[0m \u001b[1;33m=\u001b[0m \u001b[1;32mTrue\u001b[0m\u001b[1;33m)\u001b[0m\u001b[1;33m\u001b[0m\u001b[0m\n",
      "\u001b[1;32m<ipython-input-112-30173a59bd2b>\u001b[0m in \u001b[0;36m<listcomp>\u001b[1;34m(.0)\u001b[0m\n\u001b[0;32m      7\u001b[0m \u001b[1;33m\u001b[0m\u001b[0m\n\u001b[0;32m      8\u001b[0m \u001b[0mreqs\u001b[0m \u001b[1;33m=\u001b[0m \u001b[1;33m[\u001b[0m\u001b[0murlopen\u001b[0m\u001b[1;33m(\u001b[0m\u001b[0mRequest\u001b[0m\u001b[1;33m(\u001b[0m\u001b[0murl\u001b[0m\u001b[1;33m,\u001b[0m \u001b[0mheaders\u001b[0m\u001b[1;33m=\u001b[0m\u001b[1;33m{\u001b[0m\u001b[1;34m'User-Agent'\u001b[0m\u001b[1;33m:\u001b[0m \u001b[1;34m'Chrome'\u001b[0m\u001b[1;33m}\u001b[0m\u001b[1;33m)\u001b[0m\u001b[1;33m)\u001b[0m\u001b[1;33m.\u001b[0m\u001b[0mread\u001b[0m\u001b[1;33m(\u001b[0m\u001b[1;33m)\u001b[0m \u001b[1;32mfor\u001b[0m \u001b[0murl\u001b[0m \u001b[1;32min\u001b[0m \u001b[0murls\u001b[0m\u001b[1;33m]\u001b[0m\u001b[1;33m\u001b[0m\u001b[0m\n\u001b[1;32m----> 9\u001b[1;33m \u001b[0mpartial_dfs\u001b[0m \u001b[1;33m=\u001b[0m \u001b[1;33m[\u001b[0m\u001b[0mpd\u001b[0m\u001b[1;33m.\u001b[0m\u001b[0mread_excel\u001b[0m\u001b[1;33m(\u001b[0m\u001b[0mreq\u001b[0m\u001b[1;33m,\u001b[0m \u001b[1;34m'Sheet1'\u001b[0m\u001b[1;33m)\u001b[0m \u001b[1;32mfor\u001b[0m \u001b[0mreq\u001b[0m \u001b[1;32min\u001b[0m \u001b[0mreqs\u001b[0m\u001b[1;33m]\u001b[0m\u001b[1;33m\u001b[0m\u001b[0m\n\u001b[0m\u001b[0;32m     10\u001b[0m \u001b[0mdf\u001b[0m \u001b[1;33m=\u001b[0m \u001b[0mpd\u001b[0m\u001b[1;33m.\u001b[0m\u001b[0mconcat\u001b[0m\u001b[1;33m(\u001b[0m\u001b[0mpartial_dfs\u001b[0m\u001b[1;33m,\u001b[0m \u001b[0mignore_index\u001b[0m \u001b[1;33m=\u001b[0m \u001b[1;32mTrue\u001b[0m\u001b[1;33m)\u001b[0m\u001b[1;33m\u001b[0m\u001b[0m\n",
      "\u001b[1;32mC:\\Users\\glander\\Anaconda3\\lib\\site-packages\\pandas\\io\\excel.py\u001b[0m in \u001b[0;36mread_excel\u001b[1;34m(io, sheetname, header, skiprows, skip_footer, index_col, names, parse_cols, parse_dates, date_parser, na_values, thousands, convert_float, has_index_names, converters, dtype, true_values, false_values, engine, squeeze, **kwds)\u001b[0m\n\u001b[0;32m    198\u001b[0m \u001b[1;33m\u001b[0m\u001b[0m\n\u001b[0;32m    199\u001b[0m     \u001b[1;32mif\u001b[0m \u001b[1;32mnot\u001b[0m \u001b[0misinstance\u001b[0m\u001b[1;33m(\u001b[0m\u001b[0mio\u001b[0m\u001b[1;33m,\u001b[0m \u001b[0mExcelFile\u001b[0m\u001b[1;33m)\u001b[0m\u001b[1;33m:\u001b[0m\u001b[1;33m\u001b[0m\u001b[0m\n\u001b[1;32m--> 200\u001b[1;33m         \u001b[0mio\u001b[0m \u001b[1;33m=\u001b[0m \u001b[0mExcelFile\u001b[0m\u001b[1;33m(\u001b[0m\u001b[0mio\u001b[0m\u001b[1;33m,\u001b[0m \u001b[0mengine\u001b[0m\u001b[1;33m=\u001b[0m\u001b[0mengine\u001b[0m\u001b[1;33m)\u001b[0m\u001b[1;33m\u001b[0m\u001b[0m\n\u001b[0m\u001b[0;32m    201\u001b[0m \u001b[1;33m\u001b[0m\u001b[0m\n\u001b[0;32m    202\u001b[0m     return io._parse_excel(\n",
      "\u001b[1;32mC:\\Users\\glander\\Anaconda3\\lib\\site-packages\\pandas\\io\\excel.py\u001b[0m in \u001b[0;36m__init__\u001b[1;34m(self, io, **kwds)\u001b[0m\n\u001b[0;32m    257\u001b[0m             \u001b[0mself\u001b[0m\u001b[1;33m.\u001b[0m\u001b[0mbook\u001b[0m \u001b[1;33m=\u001b[0m \u001b[0mxlrd\u001b[0m\u001b[1;33m.\u001b[0m\u001b[0mopen_workbook\u001b[0m\u001b[1;33m(\u001b[0m\u001b[0mio\u001b[0m\u001b[1;33m)\u001b[0m\u001b[1;33m\u001b[0m\u001b[0m\n\u001b[0;32m    258\u001b[0m         \u001b[1;32melse\u001b[0m\u001b[1;33m:\u001b[0m\u001b[1;33m\u001b[0m\u001b[0m\n\u001b[1;32m--> 259\u001b[1;33m             raise ValueError('Must explicitly set engine if not passing in'\n\u001b[0m\u001b[0;32m    260\u001b[0m                              ' buffer or path for io.')\n\u001b[0;32m    261\u001b[0m \u001b[1;33m\u001b[0m\u001b[0m\n",
      "\u001b[1;31mValueError\u001b[0m: Must explicitly set engine if not passing in buffer or path for io."
     ]
    }
   ],
   "source": [
    "# List of excel file url's to read and join together\n",
    "root_url = \"http://oracleselixir.com/gamedata/\"\n",
    "urls = [\"2016-spring/\", \"2017-spring/\", \"2017-summer/\"]\n",
    "urls = [root_url + url for url in urls]\n",
    "\n",
    "from urllib.request import Request, urlopen\n",
    "\n",
    "reqs = [urlopen(Request(url, headers={'User-Agent': 'Chrome'})).read() for url in urls]\n",
    "partial_dfs = [pd.read_excel(req, 'Sheet1') for req in reqs]\n",
    "df = pd.concat(partial_dfs, ignore_index = True)"
   ]
  }
 ],
 "metadata": {
  "celltoolbar": "Slideshow",
  "kernelspec": {
   "display_name": "Python 3",
   "language": "python",
   "name": "python3"
  },
  "language_info": {
   "codemirror_mode": {
    "name": "ipython",
    "version": 3
   },
   "file_extension": ".py",
   "mimetype": "text/x-python",
   "name": "python",
   "nbconvert_exporter": "python",
   "pygments_lexer": "ipython3",
   "version": "3.6.1"
  }
 },
 "nbformat": 4,
 "nbformat_minor": 2
}
