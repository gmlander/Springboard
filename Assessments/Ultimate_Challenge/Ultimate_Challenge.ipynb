{
 "cells": [
  {
   "cell_type": "code",
   "execution_count": 553,
   "metadata": {},
   "outputs": [
    {
     "data": {
      "text/html": [
       "<script>\n",
       "code_show=true; \n",
       "function code_toggle() {\n",
       "  if (code_show) {\n",
       "    $('div.input').each(function(id) {\n",
       "      el = $(this).find('.cm-variable:first');\n",
       "      if (id == 0 || el.text() == 'hide_me') {\n",
       "        $(this).hide();\n",
       "      }\n",
       "    });\n",
       "    $('div.output_prompt').css('opacity', 0);\n",
       "  } else {\n",
       "    $('div.input').each(function(id) {\n",
       "      $(this).show();\n",
       "    });\n",
       "    $('div.output_prompt').css('opacity', 1);\n",
       "  }\n",
       "  code_show = !code_show\n",
       "} \n",
       "$( document ).ready(code_toggle);\n",
       "</script>\n",
       "<form action=\"javascript:code_toggle()\"><input style=\"opacity:0\" type=\"submit\" value=\"Click here to toggle on/off the raw code.\"></form>"
      ],
      "text/plain": [
       "<IPython.core.display.HTML object>"
      ]
     },
     "execution_count": 553,
     "metadata": {},
     "output_type": "execute_result"
    }
   ],
   "source": [
    "from IPython.display import HTML\n",
    "\n",
    "hide_me = ''\n",
    "HTML('''<script>\n",
    "code_show=true; \n",
    "function code_toggle() {\n",
    "  if (code_show) {\n",
    "    $('div.input').each(function(id) {\n",
    "      el = $(this).find('.cm-variable:first');\n",
    "      if (id == 0 || el.text() == 'hide_me') {\n",
    "        $(this).hide();\n",
    "      }\n",
    "    });\n",
    "    $('div.output_prompt').css('opacity', 0);\n",
    "  } else {\n",
    "    $('div.input').each(function(id) {\n",
    "      $(this).show();\n",
    "    });\n",
    "    $('div.output_prompt').css('opacity', 1);\n",
    "  }\n",
    "  code_show = !code_show\n",
    "} \n",
    "$( document ).ready(code_toggle);\n",
    "</script>\n",
    "<form action=\"javascript:code_toggle()\"><input style=\"opacity:0\" type=\"submit\" value=\"Click here to toggle on/off the raw code.\"></form>''')"
   ]
  },
  {
   "cell_type": "code",
   "execution_count": null,
   "metadata": {
    "collapsed": true
   },
   "outputs": [],
   "source": [
    "# <script>\n",
    "#   function code_toggle() {\n",
    "#     if (code_shown){\n",
    "#       $('div.input').hide('500');\n",
    "#       $('#toggleButton').val('Show Code')\n",
    "#     } else {\n",
    "#       $('div.input').show('500');\n",
    "#       $('#toggleButton').val('Hide Code')\n",
    "#     }\n",
    "#     code_shown = !code_shown\n",
    "#   }\n",
    "\n",
    "#   $( document ).ready(function(){\n",
    "#     code_shown=false;\n",
    "#     $('div.input').hide()\n",
    "#   });\n",
    "# </script>\n",
    "# <form action=\"javascript:code_toggle()\"><input type=\"submit\" id=\"toggleButton\" value=\"Show Code\"></form>"
   ]
  },
  {
   "cell_type": "markdown",
   "metadata": {},
   "source": [
    "# The Ultimate Case Study - Analysis of a Fictional Ride-Sharing Service\n",
    "\n",
    "**NOTE:** Code is available within this notebook by clicking on the show code button in the upper left hand corner.\n",
    "\n",
    "> #### Part 1 ‑ Exploratory data analysis\n",
    "> The attached logins.json file contains (simulated) timestamps of user logins in a particular\n",
    "geographic location. Aggregate these login counts based on 15-minute time intervals, and\n",
    "visualize and describe the resulting time series of login counts in ways that best characterize the\n",
    "underlying patterns of the demand. Please report/illustrate important features of the demand,\n",
    "such as daily cycles. If there are data quality issues, please report them.\n"
   ]
  },
  {
   "cell_type": "code",
   "execution_count": 34,
   "metadata": {
    "collapsed": true
   },
   "outputs": [],
   "source": [
    "%%capture\n",
    "import pandas as pd\n",
    "import numpy as np\n",
    "import seaborn as sns\n",
    "import matplotlib.pyplot as plt\n",
    "import matplotlib.dates as mdates\n",
    "import missingno\n",
    "import json\n",
    "from fancyimpute import KNN\n",
    "\n",
    "from sklearn.model_selection import train_test_split, GridSearchCV\n",
    "from sklearn.linear_model import LogisticRegression\n",
    "from sklearn.preprocessing import StandardScaler\n",
    "from sklearn.ensemble import RandomForestClassifier as RF\n",
    "from sklearn.linear_model import SGDClassifier as SGD\n",
    "from sklearn.metrics import roc_curve\n",
    "\n",
    "%matplotlib inline"
   ]
  },
  {
   "cell_type": "code",
   "execution_count": 35,
   "metadata": {
    "collapsed": true
   },
   "outputs": [],
   "source": [
    "logins = pd.read_json('data/logins.json')"
   ]
  },
  {
   "cell_type": "markdown",
   "metadata": {},
   "source": [
    "#### The Data\n",
    "At a glance. Number of observations, features, datatypes and non-null values."
   ]
  },
  {
   "cell_type": "code",
   "execution_count": 36,
   "metadata": {},
   "outputs": [
    {
     "name": "stdout",
     "output_type": "stream",
     "text": [
      "<class 'pandas.core.frame.DataFrame'>\n",
      "RangeIndex: 93142 entries, 0 to 93141\n",
      "Data columns (total 1 columns):\n",
      "login_time    93142 non-null datetime64[ns]\n",
      "dtypes: datetime64[ns](1)\n",
      "memory usage: 727.8 KB\n"
     ]
    }
   ],
   "source": [
    "logins.info()"
   ]
  },
  {
   "cell_type": "markdown",
   "metadata": {},
   "source": [
    "Earliest and latest logins recorded."
   ]
  },
  {
   "cell_type": "code",
   "execution_count": 37,
   "metadata": {},
   "outputs": [
    {
     "data": {
      "text/plain": [
       "(Timestamp('1970-01-01 20:12:16'), Timestamp('1970-04-13 18:57:38'))"
      ]
     },
     "execution_count": 37,
     "metadata": {},
     "output_type": "execute_result"
    }
   ],
   "source": [
    "logins.login_time.min(), logins.login_time.max()"
   ]
  },
  {
   "cell_type": "markdown",
   "metadata": {},
   "source": [
    "Unique login times."
   ]
  },
  {
   "cell_type": "code",
   "execution_count": 38,
   "metadata": {},
   "outputs": [
    {
     "data": {
      "text/plain": [
       "login_time    92265\n",
       "dtype: int64"
      ]
     },
     "execution_count": 38,
     "metadata": {},
     "output_type": "execute_result"
    }
   ],
   "source": [
    "logins.nunique()"
   ]
  },
  {
   "cell_type": "markdown",
   "metadata": {},
   "source": [
    "About 900 repeat login times, identical to the second. Check that this isn't missing data masquerading by another identifier (like 00:00:00)."
   ]
  },
  {
   "cell_type": "code",
   "execution_count": 39,
   "metadata": {
    "scrolled": true
   },
   "outputs": [
    {
     "data": {
      "text/plain": [
       "1970-02-12 11:16:53    3\n",
       "1970-02-24 23:09:57    3\n",
       "1970-03-29 03:24:57    3\n",
       "1970-03-14 17:45:52    3\n",
       "1970-01-09 01:31:25    3\n",
       "Name: login_time, dtype: int64"
      ]
     },
     "execution_count": 39,
     "metadata": {},
     "output_type": "execute_result"
    }
   ],
   "source": [
    "logins.login_time.value_counts().head()"
   ]
  },
  {
   "cell_type": "markdown",
   "metadata": {},
   "source": [
    "Okay, just coincidental.\n",
    "\n",
    "---\n",
    "\n",
    "### Group Logins\n",
    "\n",
    "Count the number of logins for each 15 minute interval."
   ]
  },
  {
   "cell_type": "code",
   "execution_count": 40,
   "metadata": {},
   "outputs": [
    {
     "data": {
      "text/html": [
       "<div>\n",
       "<style>\n",
       "    .dataframe thead tr:only-child th {\n",
       "        text-align: right;\n",
       "    }\n",
       "\n",
       "    .dataframe thead th {\n",
       "        text-align: left;\n",
       "    }\n",
       "\n",
       "    .dataframe tbody tr th {\n",
       "        vertical-align: top;\n",
       "    }\n",
       "</style>\n",
       "<table border=\"1\" class=\"dataframe\">\n",
       "  <thead>\n",
       "    <tr style=\"text-align: right;\">\n",
       "      <th></th>\n",
       "      <th>users</th>\n",
       "    </tr>\n",
       "    <tr>\n",
       "      <th>login_time</th>\n",
       "      <th></th>\n",
       "    </tr>\n",
       "  </thead>\n",
       "  <tbody>\n",
       "    <tr>\n",
       "      <th>1970-01-01 20:00:00</th>\n",
       "      <td>2</td>\n",
       "    </tr>\n",
       "    <tr>\n",
       "      <th>1970-01-01 20:15:00</th>\n",
       "      <td>6</td>\n",
       "    </tr>\n",
       "    <tr>\n",
       "      <th>1970-01-01 20:30:00</th>\n",
       "      <td>9</td>\n",
       "    </tr>\n",
       "    <tr>\n",
       "      <th>1970-01-01 20:45:00</th>\n",
       "      <td>7</td>\n",
       "    </tr>\n",
       "    <tr>\n",
       "      <th>1970-01-01 21:00:00</th>\n",
       "      <td>1</td>\n",
       "    </tr>\n",
       "  </tbody>\n",
       "</table>\n",
       "</div>"
      ],
      "text/plain": [
       "                     users\n",
       "login_time                \n",
       "1970-01-01 20:00:00      2\n",
       "1970-01-01 20:15:00      6\n",
       "1970-01-01 20:30:00      9\n",
       "1970-01-01 20:45:00      7\n",
       "1970-01-01 21:00:00      1"
      ]
     },
     "execution_count": 40,
     "metadata": {},
     "output_type": "execute_result"
    }
   ],
   "source": [
    "logins['users'] = 1  # So groupby has something to count.\n",
    "logins_15 = logins.set_index('login_time').groupby(pd.TimeGrouper('15Min')).count()\n",
    "logins_15.head()"
   ]
  },
  {
   "cell_type": "markdown",
   "metadata": {},
   "source": [
    "## Exploratory Data Analysis\n",
    "\n",
    "First step is to examine the distribution of login counts as well as how the counts change over time."
   ]
  },
  {
   "cell_type": "code",
   "execution_count": 41,
   "metadata": {
    "collapsed": true
   },
   "outputs": [],
   "source": [
    "def view_counts(df, freq, b=40, scale_hist = True, format_xticks = True):\n",
    "    plt.figure(figsize=(12,4))\n",
    "    ax = plt.subplot2grid((1, 3), (0, 0))\n",
    "    ax.hist(df.users, bins=b, **{'log':scale_hist})\n",
    "    if scale_hist:\n",
    "        ax.set_title('Distribution of Login Counts (log scale)')\n",
    "    else:\n",
    "        ax.set_title('Distribution of Login Counts')\n",
    "    ax.set_xlabel('Login Counts per ' + freq + ' Period')\n",
    "\n",
    "    ay = plt.subplot2grid((1, 3), (0, 1), colspan=2)\n",
    "    ay.plot(df.index, df.users)\n",
    "    ay.set_title('Number of ' + freq + ' Logins Over Time')\n",
    "    if format_xticks:\n",
    "        ay.xaxis.set_major_formatter(mdates.DateFormatter(\"%b %d (%a)\"))\n",
    "        plt.xticks(rotation = 45, ha = 'right')\n",
    "    plt.tight_layout()"
   ]
  },
  {
   "cell_type": "code",
   "execution_count": 42,
   "metadata": {},
   "outputs": [
    {
     "data": {
      "image/png": "[encoded data removed]",
      "text/plain": [
       "<matplotlib.figure.Figure at 0x4851733438>"
      ]
     },
     "metadata": {},
     "output_type": "display_data"
    }
   ],
   "source": [
    "view_counts(logins_15, '15 Minute')"
   ]
  },
  {
   "cell_type": "markdown",
   "metadata": {},
   "source": [
    "The histogram above shows how often a range of login counts appeared. Key observations:\n",
    "- There were about a thousand 15 minute periods where one or two users logged in.\n",
    "- About a hundred periods where ~30 users logged in.\n",
    "- Only a dozen or so periods where 50+ users logged in.\n",
    "\n",
    "The time series plot shows:\n",
    "- Activity spikes during the weekend.\n",
    "- Weekly dips after the weekend.\n",
    "- Huge spike in early march. Perhaps from a promotional event?\n",
    "\n",
    "There doesn't appear to be a trend over time from looking at the 15 minute spans, but worth checking larger increments.\n",
    "\n",
    "### Daily Logins"
   ]
  },
  {
   "cell_type": "code",
   "execution_count": 43,
   "metadata": {},
   "outputs": [
    {
     "data": {
      "image/png": "[encoded data removed]",
      "text/plain": [
       "<matplotlib.figure.Figure at 0x48517be780>"
      ]
     },
     "metadata": {},
     "output_type": "display_data"
    }
   ],
   "source": [
    "logins_D = logins.set_index('login_time').groupby(pd.TimeGrouper('1D')).count()\\\n",
    "                            .mean(axis=1).to_frame().rename(columns = {0:'users'})\n",
    "\n",
    "view_counts(logins_D, 'Daily', b= 10, scale_hist=False)"
   ]
  },
  {
   "cell_type": "markdown",
   "metadata": {},
   "source": [
    "It was absolutely looking at this in finer detail. The weekend spikes and early week dips are still visible as is a rise in daily activity over time.\n",
    "\n",
    "From the histogram, the distribution appears bimodal - meaning there are 2 very common ranges for daily logins:\n",
    "- Regular days tend to have between 500 and 1100 logins.\n",
    "- High usage days have between 1300 and 1600 logins.\n",
    "\n",
    "A strong distinction between weekend and weekday activity has appeared in both plots, so it's worth looking at closer.\n",
    "\n",
    "####  Day of the Week Logins"
   ]
  },
  {
   "cell_type": "code",
   "execution_count": 44,
   "metadata": {},
   "outputs": [
    {
     "data": {
      "text/plain": [
       "<matplotlib.text.Text at 0x4850bea940>"
      ]
     },
     "execution_count": 44,
     "metadata": {},
     "output_type": "execute_result"
    },
    {
     "data": {
      "image/png": "[encoded data removed]",
      "text/plain": [
       "<matplotlib.figure.Figure at 0x48514e1668>"
      ]
     },
     "metadata": {},
     "output_type": "display_data"
    }
   ],
   "source": [
    "logins_dow = logins.set_index('login_time')\n",
    "logins_dow = logins_dow.groupby(logins_dow.index.weekday_name).count()\n",
    "logins_dow['weekday'] = logins_dow.index\n",
    "logins_dow = logins_dow.iloc[[1,5,6,4,0,2,3]]  # ugly brute-force sort to avoid\n",
    "                                               # categorical conversions\n",
    "    \n",
    "sns.barplot(logins_dow.weekday.apply(lambda x: x[:3]), logins_dow.users)\n",
    "plt.title('Logins by Day of the Week', fontsize = 14)\n",
    "plt.ylabel('Total Logins', fontsize = 12)\n",
    "plt.xlabel('')"
   ]
  },
  {
   "cell_type": "markdown",
   "metadata": {},
   "source": [
    "This reveals a pretty clear trend. Logins grow steadily over the week, peak on Saturday, take a slight drop Sunday, and plummet Monday.\n",
    "\n",
    "One last frequency to check.\n",
    "\n",
    "#### Hourly Logins"
   ]
  },
  {
   "cell_type": "code",
   "execution_count": 45,
   "metadata": {},
   "outputs": [
    {
     "data": {
      "image/png": "[encoded data removed]",
      "text/plain": [
       "<matplotlib.figure.Figure at 0x48516b8f98>"
      ]
     },
     "metadata": {},
     "output_type": "display_data"
    }
   ],
   "source": [
    "logins_hr = logins.set_index('login_time')\n",
    "logins_hr = logins_hr.groupby(logins_hr.index.hour).count()\n",
    "view_counts(logins_hr, 'Hourly',b= 10, scale_hist= False, format_xticks= False)"
   ]
  },
  {
   "cell_type": "markdown",
   "metadata": {},
   "source": [
    "---\n",
    "\n",
    "## Conclusions\n",
    "\n",
    "- Activity has been steadily growing over the last three and a half months.\n",
    "- Users are **very** active on weekends, **less** active early in the week.\n",
    "- 2 major daily activity periods:\n",
    "    - Lunch (11 am - 1 pm)\n",
    "    - Early to late night (9 pm - 4 am)\n",
    "    - **Of note**: Sharp drop in activity almost precisely at 4 am. Perhaps this is when bars are required to stop serving?\n",
    "    "
   ]
  },
  {
   "cell_type": "markdown",
   "metadata": {},
   "source": [
    "---    \n",
    "> ### Part 2 ‑ Experiment and metrics design\n",
    "> The neighboring cities of Gotham and Metropolis have complementary circadian rhythms: on\n",
    "weekdays, Ultimate Gotham is most active at night, and Ultimate Metropolis is most active\n",
    "during the day. On weekends, there is reasonable activity in both cities.\n",
    "However, a toll bridge, with a two­way toll, between the two cities causes driver partners to tend\n",
    "to be exclusive to each city. The Ultimate managers of city operations for the two cities have\n",
    "proposed an experiment to encourage driver partners to be available in both cities, by\n",
    "reimbursing all toll costs.\n",
    "> 1. What would you choose as the key measure of success of this experiment in\n",
    "encouraging driver partners to serve both cities, and why would you choose this metric?\n",
    "> 2. Describe a practical experiment you would design to compare the effectiveness of the\n",
    "proposed change in relation to the key measure of success. Please provide details on:\n",
    "\n",
    ">> a. how you will implement the experiment\n",
    "    \n",
    ">> b. what statistical test(s) you will conduct to verify the significance of the\n",
    "observation\n",
    "\n",
    ">> c. how you would interpret the results and provide recommendations to the city\n",
    "operations team along with any caveats."
   ]
  },
  {
   "cell_type": "markdown",
   "metadata": {},
   "source": [
    "## Problem Interpretation:\n",
    "\n",
    "It is important to first define what the exact problem is:  \n",
    "$\\qquad$An undesired equilibrium (drivers not adjusting to rider demand) has formed between the driver pools of the two cities due to an artificial barrier (the tolls). This undesired equilibrium is problematic to Ultimate for a few reasons:\n",
    "- It obstructs otherwise available revenue streams (riders that choose not to use Ultimate due to long wait times or surge prices).\n",
    "- It lowers rider satisfaction (for the aforementioned reasons), which results in diminished future revenues from rider abandonment.\n",
    "- It lowers driver satisfaction and engagement, which creates a **cascading problem**:  \n",
    "$\\qquad$Long wait times $\\rightarrow$ Riders using Ultimate less $\\rightarrow$ Fewer fares for drivers $\\rightarrow$ Fewer drivers $\\rightarrow$ Longer wait times $\\rightarrow \\infty_{regress}$\n",
    "\n",
    "**But** the problem is not the toll. The problem is the lack of a desirable equilibrium. Therefore, paying for all tolls does not inherently solve the problem. The solution is to help a better equilibrium form. This can be accomplished several ways:\n",
    "- Paying for all tolls during transition periods (weekday mornings and evenings).\n",
    "- Paying for some drivers' tolls (eg, drivers that could be incentivized to move into the other city for their shift for the price difference of two-way toll fare).\n",
    "- Paying for all tolls.\n",
    "\n",
    "That last soltuion is by far the most expensive. If nearly the same equilibrium can be achieved with one (or both) of the other solutions, there is no reason to adopt the third.\n",
    "\n",
    "**Alternative Solution**: There is another way Ultimate might look to lessen this problem without paying for tolls - *reverse-surge pricing*. If Ultimate offered substantially discounted or break-even rates for rides during transition periods (Gothom to Metropolis in the morning and the other way around in the evening), then drivers could naturally switch between the two cities to create a better equilibrium without Ultimate having to pay anything extra.\n",
    "\n",
    "## Solution\n",
    "\n",
    "There are three key metrics to consider:\n",
    "- Change in average wait time\n",
    "- Change in Ultimate revenue\n",
    "- Total toll cost\n",
    "\n",
    "Ideally, all three would be used because they all have seperate benefits. Revenue gives a measure of how many more rides are being purchased. Wait time gives a measure of user satisfaction. Toll cost gives a measure of how many drivers are making use of the offer **and** if the experiment is successful, allows Ultimate to know what their ceiling would be in a negotiation with the toll's regulatory body for a discounted bulk rate.\n",
    "\n",
    "If only one metric can be used, it would ideally be a combination of all three, such as:\n",
    "\n",
    "$$\\max \\frac {\\Delta p}{\\Delta t}$$\n",
    "\n",
    "where $\\Delta p$ is % change in Ultimate's Gotham and Metropolis profit (including toll reimbursement) from test group drivers, and $\\Delta t$ is % change in average wait time. Call the metric profit by weight (pbw). Increases in profit and decreases in weight time are both accounted for.\n",
    "\n",
    "#### Experiment\n",
    "\n",
    "There are several ways to run with this:\n",
    "1. **Toll Elimination (Toll-tal Recall? No? Okay, fine.)**: Reimburse all tolls paid by all drivers for a fixed period. Whether the driver crossed the bridge once or fifty times a week.\n",
    "2. **Toll Reduction**: Similar to 1. but only reimburse at most 2 tolls per driver per weekday.\n",
    "2. **A/B Test on Cities**:  Offer to reimburse up to 2 tolls per weekday for all drivers that normally drive in Gotham.\n",
    "3. **A/B/C Test**: Break option 4. into 2 different, simultaneous offers. Offer Gother drivers the reimbursement Monday, Wednesday, Friday one week and Metropolis drivers Tuesday and Thursday (over 36 hour period for Metropolis drivers, since they are being pulled into overnight shifts). Switch the offers around the other way each week or every two weeks.\n",
    "\n",
    "The ideal solution requires some level of domain knowledge. It would be great if historical data for the same time period in previous years could be used as the control group as this would allow for a simpler experiment like option 2. But I do not know the scope of Ultimate's records, or if measures affecting my metric have changed over time (eg, profit margins used to be smaller and weight times longer).\n",
    "\n",
    "It's also hard to know how comparable two adjacent time periods actually are to each other if the time period before the promotion were to be used as the control. One week might naturally have higher or lower activity than the one proceeding it (like if there's a big event in one of the cities).\n",
    "\n",
    "These reasons make options 1 and 2 difficult to test with certainty. Option 3 offers a clear test and control group - the two cities. The one where drivers received the offer is the control (because those drivers are the ones being given the chance to operate in the other city). The only catch here is that this offer might make the control city perform artificially worse if drivers change their schedule and stop driving there completely.\n",
    "\n",
    "Option 4 is the one I would implement. It's the most complicated unfortunately, but it also provides multiple referrence points for comparison and is able to use each city as both test and control so it is robust to activity spikes from events. On top of that, because one group drives overnight, there would actually be shifts during the experiment where neither city was receiving the promotion, so there would be pure control points within the experiment (this handles the problem with option 3).\n",
    "\n",
    "#### Validation\n",
    "\n",
    "Perform several 2 sample t tests:\n",
    "\n",
    "City With Promotion |Test Group | Control Group\n",
    "--- | --- | ---\n",
    "Metropolis | Gotham | Metropolis\n",
    "Gotham | Metropolis | Gotham\n",
    "Neither | All Other Test Periods | Current Activity\n",
    "Metropolis | Current Gotham | Promotion Period Gotham\n",
    "Gotham | Current Metropolis | Promotion Period Metropolis\n",
    "\n",
    "Above tests can be performed during each point where state exists or aggregations of experimental states. However, an $\\alpha$ correction must be included for each additional hypothesis test performed.\n",
    "\n",
    "#### Results\n",
    "\n",
    "If the results were all positive ($pbw > 1$) and t tests show that improvement in metric is not due to chance at desired $\\alpha$, I would recommend that the reimbursements promotion period be extended and the offer given all weekdays to both cities but to a limited number of drivers (based on driver activity during experiment) so as to not overcorrect the equilibrium and not overpay.\n",
    "\n",
    "If the results were non-uniformly positive, if say Gotham drivers took to it and lead to positive changes in Metropolis but not the other way around, I would recommend extending the promotion for Gotham drivers and conducting another experiment on how to incentivize Metropolis drivers.\n",
    "\n",
    "**Caveats**: I feel the design of this experiment helps to safeguard it against the biases that endanger the alternatives, but its complexity is problematic. The constant back and forth of who has what promo when could really put off and confuse drivers, reducing the adoption of the promotion and thereby the effectiveness of the experiment as well."
   ]
  },
  {
   "cell_type": "markdown",
   "metadata": {},
   "source": [
    "---\n",
    "> ## Part 3 ‑ Predictive modeling\n",
    "Ultimate is interested in predicting rider retention. To help explore this question, we have\n",
    "provided a sample dataset of a cohort of users who signed up for an Ultimate account in\n",
    "January 2014. The data was pulled several months later; we consider a user retained if they\n",
    "were “active” (i.e. took a trip) in the preceding 30 days.\n",
    "We would like you to use this data set to help understand what factors are the best predictors\n",
    "for retention, and offer suggestions to operationalize those insights to help Ultimate.\n",
    "The data is in the attached file ultimate_data_challenge.json. See below for a detailed\n",
    "description of the dataset. Please include any code you wrote for the analysis and delete the\n",
    "dataset when you have finished with the challenge.\n",
    "1. Perform any cleaning, exploratory analysis, and/or visualizations to use the provided\n",
    "data for this analysis (a few sentences/plots describing your approach will suffice). What\n",
    "fraction of the observed users were retained?\n",
    "2. Build a predictive model to help Ultimate determine whether or not a user will be active\n",
    "in their 6th month on the system. Discuss why you chose your approach, what\n",
    "alternatives you considered, and any concerns you have. How valid is your model?\n",
    "Include any key indicators of model performance.\n",
    "3. Briefly discuss how Ultimate might leverage the insights gained from the model to\n",
    "improve its long­term rider retention (again, a few sentences will suffice).\n",
    "\n",
    "> ## Data description\n",
    "\n",
    "> - city: city this user signed up in\n",
    "- phone: primary device for this user\n",
    "- signup_date: date of account registration; in the form ‘YYYYMMDD’\n",
    "- last_trip_date: the last time this user completed a trip; in the form ‘YYYYMMDD’\n",
    "- avg_dist: the average distance in miles per trip taken in the first 30 days after signup\n",
    "- avg_rating_by_driver: the rider’s average rating over all of their trips\n",
    "- avg_rating_of_driver: the rider’s average rating of their drivers over all of their trips\n",
    "- surge_pct: the percent of trips taken with surge multiplier > 1\n",
    "- avg_surge: The average surge multiplier over all of this user’s trips\n",
    "- trips_in_first_30_days: the number of trips this user took in the first 30 days after signing up\n",
    "- ultimate_black_user: TRUE if the user took an Ultimate Black in their first 30 days; FALSE otherwise\n",
    "- weekday_pct: the percent of the user’s trips occurring during a weekday"
   ]
  },
  {
   "cell_type": "code",
   "execution_count": 46,
   "metadata": {
    "collapsed": true
   },
   "outputs": [],
   "source": [
    "with open('data/ultimate_data_challenge.json') as f:\n",
    "    df = pd.DataFrame(json.load(f))"
   ]
  },
  {
   "cell_type": "markdown",
   "metadata": {},
   "source": [
    "### Data Examination and Cleaning"
   ]
  },
  {
   "cell_type": "code",
   "execution_count": 47,
   "metadata": {},
   "outputs": [
    {
     "name": "stdout",
     "output_type": "stream",
     "text": [
      "<class 'pandas.core.frame.DataFrame'>\n",
      "RangeIndex: 50000 entries, 0 to 49999\n",
      "Data columns (total 12 columns):\n",
      "avg_dist                  50000 non-null float64\n",
      "avg_rating_by_driver      49799 non-null float64\n",
      "avg_rating_of_driver      41878 non-null float64\n",
      "avg_surge                 50000 non-null float64\n",
      "city                      50000 non-null object\n",
      "last_trip_date            50000 non-null object\n",
      "phone                     49604 non-null object\n",
      "signup_date               50000 non-null object\n",
      "surge_pct                 50000 non-null float64\n",
      "trips_in_first_30_days    50000 non-null int64\n",
      "ultimate_black_user       50000 non-null bool\n",
      "weekday_pct               50000 non-null float64\n",
      "dtypes: bool(1), float64(6), int64(1), object(4)\n",
      "memory usage: 4.2+ MB\n"
     ]
    }
   ],
   "source": [
    "df.info()"
   ]
  },
  {
   "cell_type": "markdown",
   "metadata": {},
   "source": [
    "There are a few features with missing values. There are also 2 datetime features improperly encoded as string objects that must be corrected."
   ]
  },
  {
   "cell_type": "code",
   "execution_count": 48,
   "metadata": {},
   "outputs": [
    {
     "data": {
      "text/html": [
       "<div>\n",
       "<style>\n",
       "    .dataframe thead tr:only-child th {\n",
       "        text-align: right;\n",
       "    }\n",
       "\n",
       "    .dataframe thead th {\n",
       "        text-align: left;\n",
       "    }\n",
       "\n",
       "    .dataframe tbody tr th {\n",
       "        vertical-align: top;\n",
       "    }\n",
       "</style>\n",
       "<table border=\"1\" class=\"dataframe\">\n",
       "  <thead>\n",
       "    <tr style=\"text-align: right;\">\n",
       "      <th></th>\n",
       "      <th>example</th>\n",
       "      <th>type</th>\n",
       "    </tr>\n",
       "    <tr>\n",
       "      <th>feature</th>\n",
       "      <th></th>\n",
       "      <th></th>\n",
       "    </tr>\n",
       "  </thead>\n",
       "  <tbody>\n",
       "    <tr>\n",
       "      <th>last_trip_date</th>\n",
       "      <td>2014-06-17</td>\n",
       "      <td>&lt;class 'str'&gt;</td>\n",
       "    </tr>\n",
       "    <tr>\n",
       "      <th>signup_date</th>\n",
       "      <td>2014-01-25</td>\n",
       "      <td>&lt;class 'str'&gt;</td>\n",
       "    </tr>\n",
       "  </tbody>\n",
       "</table>\n",
       "</div>"
      ],
      "text/plain": [
       "                   example           type\n",
       "feature                                  \n",
       "last_trip_date  2014-06-17  <class 'str'>\n",
       "signup_date     2014-01-25  <class 'str'>"
      ]
     },
     "execution_count": 48,
     "metadata": {},
     "output_type": "execute_result"
    }
   ],
   "source": [
    "feats = ['last_trip_date','signup_date']\n",
    "pd.DataFrame({'feature':feats,\n",
    "              'type':[type(df[f][0]) for f in feats],\n",
    "             'example':[df[f][0] for f in feats]}).set_index('feature')"
   ]
  },
  {
   "cell_type": "code",
   "execution_count": 49,
   "metadata": {
    "collapsed": true
   },
   "outputs": [],
   "source": [
    "for f in feats:\n",
    "    df[f] = pd.to_datetime(df[f])"
   ]
  },
  {
   "cell_type": "markdown",
   "metadata": {},
   "source": [
    "The index of this data is the effective user id. Since there is no other unique identifier in the features (and the size of the data is not prohibitively large), it should be added to the feature space as a precaution in case it is lost later in any sort of reindexing operation."
   ]
  },
  {
   "cell_type": "code",
   "execution_count": 50,
   "metadata": {
    "collapsed": true
   },
   "outputs": [],
   "source": [
    "df['user_id'] = df.index"
   ]
  },
  {
   "cell_type": "markdown",
   "metadata": {},
   "source": [
    "`phone` and `city` are categorical features which will need to be represented numerically. Also, because `phone` has missing values, extra care should be taken to retain that information."
   ]
  },
  {
   "cell_type": "code",
   "execution_count": 51,
   "metadata": {
    "collapsed": true
   },
   "outputs": [],
   "source": [
    "df = pd.get_dummies(df, columns=['city','phone'], prefix=['city','phone'], dummy_na=True)\n",
    "df.loc[df.phone_nan == 1, ['phone_Android', 'phone_iPhone']] = None\n",
    "df.drop(['city_nan', 'phone_nan'], axis=1, inplace=True)"
   ]
  },
  {
   "cell_type": "markdown",
   "metadata": {},
   "source": [
    "`ultimate_black_user` as a boolean should naturally coerce to 1/0 by most classifier models, but just to be safe I'll change it to an int."
   ]
  },
  {
   "cell_type": "code",
   "execution_count": 143,
   "metadata": {
    "collapsed": true
   },
   "outputs": [],
   "source": [
    "df['ultimate_black_user'] = df.ultimate_black_user.astype(int)"
   ]
  },
  {
   "cell_type": "markdown",
   "metadata": {},
   "source": [
    "Lastly, since datetime objects don't always play nicely with machine learning algorithms, another feature, `signup_day` should be created from `signup_date`."
   ]
  },
  {
   "cell_type": "code",
   "execution_count": 52,
   "metadata": {
    "collapsed": true
   },
   "outputs": [],
   "source": [
    "df['signup_day'] = df.signup_date.dt.day"
   ]
  },
  {
   "cell_type": "markdown",
   "metadata": {},
   "source": [
    "### Missing Values\n",
    "\n",
    "Missing values must be examined for patterns and relationships before being dealt with. Use graphical and numeric examination to see if values are:\n",
    "- Missing Completely At Random (MCAR)\n",
    "- Missing Not At Random (MNAR)\n",
    "- Missing At Random (MAR)\n",
    "\n",
    "First, examine proportions of missing values."
   ]
  },
  {
   "cell_type": "code",
   "execution_count": 53,
   "metadata": {
    "collapsed": true
   },
   "outputs": [],
   "source": [
    "def missing_values_table(df, summarize = None):\n",
    "    '''\n",
    "    Returns a dataframe that shows the number and percent of present and missing values\n",
    "    as features, indexed by the columns of df.\n",
    "    \n",
    "    Parameters\n",
    "    ---------\n",
    "    df: pandas DataFrame\n",
    "    \n",
    "    summarize: str\n",
    "        Allows for summation of reporting by eliminating columns with all missing values,\n",
    "        all present values, or both from the returned table.\n",
    "        ('full', 'empty', or 'both')\n",
    "    \n",
    "    '''\n",
    "    missing = df.isnull().sum()\n",
    "    missing_percent = 100 * missing / len(df)\n",
    "    vals = df.notnull().sum()\n",
    "    val_percent = 100 * vals / len(df)\n",
    "    missing_table = pd.concat([missing, missing_percent, vals, val_percent], axis=1) \\\n",
    "    .rename(columns = {0 : 'missing', 1 : 'missing_percent', 2:'vals',3:'value_percent'})\n",
    "    \n",
    "    empty = pd.Series([True for c in df.columns], index=df.columns)\n",
    "    full = empty.copy()\n",
    "    \n",
    "    if summarize in ['empty','both']:\n",
    "        empty = missing_table[missing_table.vals == 0].index\n",
    "        print(len(empty),'Columns with no values: ', list(empty))\n",
    "        empty = missing_table.vals > 0\n",
    "    if summarize in ['full','both']:\n",
    "        full = missing_table[missing_table.missing == 0].index\n",
    "        print('\\n',len(full),'columns with all values present: ',list(full))\n",
    "        full = missing_table.missing > 0\n",
    "\n",
    "    return missing_table[(empty) & (full)]\n"
   ]
  },
  {
   "cell_type": "code",
   "execution_count": 54,
   "metadata": {
    "scrolled": true
   },
   "outputs": [
    {
     "name": "stdout",
     "output_type": "stream",
     "text": [
      "0 Columns with no values:  []\n",
      "\n",
      " 13 columns with all values present:  ['avg_dist', 'avg_surge', 'last_trip_date', 'signup_date', 'surge_pct', 'trips_in_first_30_days', 'ultimate_black_user', 'weekday_pct', 'user_id', 'city_Astapor', \"city_King's Landing\", 'city_Winterfell', 'signup_day']\n"
     ]
    },
    {
     "data": {
      "text/html": [
       "<div>\n",
       "<style>\n",
       "    .dataframe thead tr:only-child th {\n",
       "        text-align: right;\n",
       "    }\n",
       "\n",
       "    .dataframe thead th {\n",
       "        text-align: left;\n",
       "    }\n",
       "\n",
       "    .dataframe tbody tr th {\n",
       "        vertical-align: top;\n",
       "    }\n",
       "</style>\n",
       "<table border=\"1\" class=\"dataframe\">\n",
       "  <thead>\n",
       "    <tr style=\"text-align: right;\">\n",
       "      <th></th>\n",
       "      <th>missing</th>\n",
       "      <th>missing_percent</th>\n",
       "      <th>vals</th>\n",
       "      <th>value_percent</th>\n",
       "    </tr>\n",
       "  </thead>\n",
       "  <tbody>\n",
       "    <tr>\n",
       "      <th>avg_rating_by_driver</th>\n",
       "      <td>201</td>\n",
       "      <td>0.402</td>\n",
       "      <td>49799</td>\n",
       "      <td>99.598</td>\n",
       "    </tr>\n",
       "    <tr>\n",
       "      <th>avg_rating_of_driver</th>\n",
       "      <td>8122</td>\n",
       "      <td>16.244</td>\n",
       "      <td>41878</td>\n",
       "      <td>83.756</td>\n",
       "    </tr>\n",
       "    <tr>\n",
       "      <th>phone_Android</th>\n",
       "      <td>396</td>\n",
       "      <td>0.792</td>\n",
       "      <td>49604</td>\n",
       "      <td>99.208</td>\n",
       "    </tr>\n",
       "    <tr>\n",
       "      <th>phone_iPhone</th>\n",
       "      <td>396</td>\n",
       "      <td>0.792</td>\n",
       "      <td>49604</td>\n",
       "      <td>99.208</td>\n",
       "    </tr>\n",
       "  </tbody>\n",
       "</table>\n",
       "</div>"
      ],
      "text/plain": [
       "                      missing  missing_percent   vals  value_percent\n",
       "avg_rating_by_driver      201            0.402  49799         99.598\n",
       "avg_rating_of_driver     8122           16.244  41878         83.756\n",
       "phone_Android             396            0.792  49604         99.208\n",
       "phone_iPhone              396            0.792  49604         99.208"
      ]
     },
     "execution_count": 54,
     "metadata": {},
     "output_type": "execute_result"
    }
   ],
   "source": [
    "missing_values_table(df, 'both')"
   ]
  },
  {
   "cell_type": "markdown",
   "metadata": {},
   "source": [
    "There is a non-ignoreable percentage of missing values in average rating of driver. Since this feature is an average of all the user's reviews there are two possibilities for why these values are missing:\n",
    "- Error in database grouping transformations (1 missing value caused the average to become a missing value).\n",
    "- These users never gave any reviews.\n",
    "\n",
    "If the former is the case, these values are MCAR. But, if the latter possibility is the case then this feature is MNAR - the missing values are providing information about the observation. These are users that don't review. Simply filling those missing values would lose an important piece of structure in the data. However, leaving the values missing would prevent most modeling algorithms from functioning.\n",
    "\n",
    "**Solution:** Proceed as if MNAR and add another feature before imputing - *no_reviews* - a binary feature that is 1 for users with missing values on avg driver review, and 0 for all other users.\n",
    "\n",
    "There is no way of knowing which possibility is the case, but if the feature is MCAR no relationship between the target and this derived feature will be noticeable in the final analyis. Better to have useless data than unneccessarily ignore useful data.\n",
    "\n",
    "Next, examine the relationship of the missing values to other features."
   ]
  },
  {
   "cell_type": "code",
   "execution_count": 55,
   "metadata": {
    "scrolled": false
   },
   "outputs": [
    {
     "data": {
      "text/plain": [
       "<matplotlib.axes._subplots.AxesSubplot at 0x4852f0c908>"
      ]
     },
     "execution_count": 55,
     "metadata": {},
     "output_type": "execute_result"
    },
    {
     "data": {
      "image/png": "[encoded data removed]",
      "text/plain": [
       "<matplotlib.figure.Figure at 0x4852efb3c8>"
      ]
     },
     "metadata": {},
     "output_type": "display_data"
    }
   ],
   "source": [
    "missingno.dendrogram(df, orientation='right',figsize=(6,6), fontsize=12)"
   ]
  },
  {
   "cell_type": "markdown",
   "metadata": {},
   "source": [
    "Interesting. The other features with missing values are the `phone` dummies and `avg_rating_by_driver`. Their proximity on the dendrogram indicates that there is some relationship between their nullity, while avg_rating_of_driver is not explained by any of the other features. `phone`'s dummies and `avg_rating_by_driver` will therefore be assumed MAR."
   ]
  },
  {
   "cell_type": "code",
   "execution_count": 66,
   "metadata": {
    "collapsed": true
   },
   "outputs": [],
   "source": [
    "def describe_difference(data, feat, plot_means = True, get_table = False, title_feat = None):\n",
    "    if not title_feat:\n",
    "        title_feat = feat\n",
    "    df_scale = data.drop(['last_trip_date','signup_date'], axis =1).copy()\n",
    "    mu = df_scale.mean()\n",
    "    sd = df_scale.std()\n",
    "    for c in df_scale.columns:\n",
    "        df_scale[c] = (df_scale[c] - mu[c])/sd[c]\n",
    "    sub_df = df_scale[df_scale[feat].isnull()].copy()\n",
    "    diff_df = sub_df.describe() - df_scale.describe()\n",
    "    if plot_means:\n",
    "        diff_df.loc['mean',:].plot(kind = 'barh', figsize = (8,5))\n",
    "        plt.xlabel('Units of Standard Deviation')\n",
    "        plt.title('Riders with Null {} VS All Other Riders'.format(title_feat), fontsize = 15)\n",
    "        plt.tight_layout()\n",
    "        plt.show()\n",
    "    if get_table:\n",
    "        return diff_df"
   ]
  },
  {
   "cell_type": "code",
   "execution_count": 67,
   "metadata": {},
   "outputs": [
    {
     "data": {
      "image/png": "[encoded data removed]",
      "text/plain": [
       "<matplotlib.figure.Figure at 0x48517bd828>"
      ]
     },
     "metadata": {},
     "output_type": "display_data"
    }
   ],
   "source": [
    "describe_difference(df.drop('user_id', axis=1), 'avg_rating_by_driver')"
   ]
  },
  {
   "cell_type": "markdown",
   "metadata": {},
   "source": [
    "Indeed, riders not rated by the driver are very different. They took fewer first month trips, rarely used Ultimate Black, and the trips the did take were heavily surge priced. Those features all tell a pretty clear story: These riders likely are not very active if at all, only using Ultimate by necessity during surge periods. They don't have ratings likely by chance, because if they only take a few trips their drivers may happen to not have rated them."
   ]
  },
  {
   "cell_type": "code",
   "execution_count": 68,
   "metadata": {},
   "outputs": [
    {
     "data": {
      "image/png": "[encoded data removed]",
      "text/plain": [
       "<matplotlib.figure.Figure at 0x4850a54518>"
      ]
     },
     "metadata": {},
     "output_type": "display_data"
    }
   ],
   "source": [
    "describe_difference(df.drop('user_id', axis=1), 'avg_rating_of_driver')"
   ]
  },
  {
   "cell_type": "markdown",
   "metadata": {},
   "source": [
    "Again, there is a story to why the values are missing. These are users that take long (and likely expensive) trips very seldomly. It also so happens that more of these users were on Android than iPhone."
   ]
  },
  {
   "cell_type": "code",
   "execution_count": 69,
   "metadata": {},
   "outputs": [
    {
     "data": {
      "image/png": "[encoded data removed]",
      "text/plain": [
       "<matplotlib.figure.Figure at 0x4850b77da0>"
      ]
     },
     "metadata": {},
     "output_type": "display_data"
    }
   ],
   "source": [
    "describe_difference(df.drop('user_id', axis=1), 'phone_iPhone', title_feat='Phone Type')"
   ]
  },
  {
   "cell_type": "markdown",
   "metadata": {},
   "source": [
    "Hard to see a story here. These users often tried Ultimate Black in their first month and travelled slightly larger distances, but are otherwise very similar to regular users.\n",
    "\n",
    "This may require some domain knowledge. Can Ultimate rides be booked without a phone? If so, it may be possible that these are business travellers for whom rides were booked by a third party."
   ]
  },
  {
   "cell_type": "markdown",
   "metadata": {},
   "source": [
    "### Imputation\n",
    "\n",
    "Armed with this new information on why features are missing, it would be a waste of important information to blindly impute with mean or median, and regardless of the method chosen, this original nullity should be recorded.\n",
    "\n",
    "Three index features will be added to remember where each feature had missing values in case this information is relevant down the pipeline."
   ]
  },
  {
   "cell_type": "code",
   "execution_count": 96,
   "metadata": {
    "collapsed": true
   },
   "outputs": [],
   "source": [
    "df['no_driver_rating'] = 0\n",
    "df.loc[df.avg_rating_of_driver.isnull(), 'no_driver_rating'] = 1\n",
    "df['no_phone'] = 0\n",
    "df.loc[df.phone_iPhone.isnull(), 'no_phone'] = 1\n",
    "df['no_rider_rating'] = 0\n",
    "df.loc[df.avg_rating_by_driver.isnull(), 'no_rider_rating'] = 1"
   ]
  },
  {
   "cell_type": "markdown",
   "metadata": {},
   "source": [
    "Missing phone values will be treated as if it is possible to book without a phone. Since phone has been one-hot encoded, this simply means filling the missing values of both features with 0."
   ]
  },
  {
   "cell_type": "code",
   "execution_count": 97,
   "metadata": {
    "collapsed": true
   },
   "outputs": [],
   "source": [
    "df = df.fillna({'phone_Android':0, 'phone_iPhone':0})"
   ]
  },
  {
   "cell_type": "markdown",
   "metadata": {},
   "source": [
    "Because there are such strong relationships indicated by the nullity of the features, it makes sense to use an imputer for the driver/rider ratings that can preserve those relationships rather than distort them, such as KNN, MICE, SVD, etc.\n",
    "\n",
    "This analysis will use KNN since the data is fairly long at 50k observations, there should be more than an adequate number of similar points to predict missing ones. Because the data is on the skinny side, there are fewer possible combinations of features with similar distances for missing points, so a low k should be okay. k = 11 will be used.\n",
    "\n",
    "Because 50k observations is a bit on the large side for knn on a standard machine, I'll cheat down the size of the data. The barplots showed that observations with these features missing had very few trips in the first 30 days, so subsetting the data on a threshold of that feature will keep most of the neighbors for these features without forcing KNN to have to compute unneccessary distances."
   ]
  },
  {
   "cell_type": "markdown",
   "metadata": {},
   "source": [
    "Subsetting to trips $\\leq 2$ should suffice. But that will still leave a fairly large dataset."
   ]
  },
  {
   "cell_type": "code",
   "execution_count": 93,
   "metadata": {},
   "outputs": [
    {
     "name": "stdout",
     "output_type": "stream",
     "text": [
      "Riders who took 2 or fewer trips in first 30 days: 36900\n"
     ]
    }
   ],
   "source": [
    "print('Riders who took 2 or fewer trips in first 30 days:'\\\n",
    "      ,df[df.trips_in_first_30_days <= 2].shape[0])"
   ]
  },
  {
   "cell_type": "markdown",
   "metadata": {},
   "source": [
    "To further reduce the size, KNN will be performed city by city under the assumption that each city subset is a representative sample of its ridership.\n",
    "\n",
    "#### Scale Data\n",
    "\n",
    "KNN works best when the features have been brought to scale so that different feature distances have the same meaning."
   ]
  },
  {
   "cell_type": "code",
   "execution_count": 102,
   "metadata": {},
   "outputs": [],
   "source": [
    "# Get catagoricals\n",
    "cats = df.nunique()\n",
    "cats = cats[cats <= 2].index\n",
    "\n",
    "# Avoid non-numeric columns\n",
    "bad_feats = ['user_id', 'signup_date', 'last_trip_date']\n",
    "\n",
    "# Copy desired view\n",
    "scale_df = df.loc[(df.trips_in_first_30_days <= 2) |\\\n",
    "             (df.avg_rating_by_driver.isnull()) |\\\n",
    "             (df.avg_rating_of_driver.isnull()),:].drop(bad_feats, axis=1).copy()\n",
    "\n",
    "mu = scale_df.drop(cats, axis=1).mean()\n",
    "sd = scale_df.drop(cats, axis=1).std()\n",
    "scale_df.loc[:,scale_df.columns.drop(cats)] =\\\n",
    "(scale_df.loc[:,scale_df.columns.drop(cats)] - mu)/sd"
   ]
  },
  {
   "cell_type": "code",
   "execution_count": 107,
   "metadata": {
    "collapsed": true
   },
   "outputs": [],
   "source": [
    "### WARNING - THIS CAN TAKE ABOUT 5 MINUTES TO RUN\n",
    "cities = [\"city_King's Landing\", \"city_Astapor\", \"city_Winterfell\"]\n",
    "\n",
    "for city in cities:\n",
    "    scale_df.loc[scale_df[city] == 1,:] = \\\n",
    "    KNN(11, verbose = False).complete(scale_df.loc[scale_df[city] == 1,:])"
   ]
  },
  {
   "cell_type": "code",
   "execution_count": 114,
   "metadata": {
    "collapsed": true
   },
   "outputs": [],
   "source": [
    "# import pickle\n",
    "# p = open(\"fill_scale_df.pickle\",\"wb\")\n",
    "# pickle.dump(scale_df, p)\n",
    "# p.close()"
   ]
  },
  {
   "cell_type": "markdown",
   "metadata": {},
   "source": [
    "Now to check the results."
   ]
  },
  {
   "cell_type": "code",
   "execution_count": 115,
   "metadata": {},
   "outputs": [
    {
     "name": "stdout",
     "output_type": "stream",
     "text": [
      "0 Columns with no values:  []\n",
      "\n",
      " 17 columns with all values present:  ['avg_dist', 'avg_rating_by_driver', 'avg_rating_of_driver', 'avg_surge', 'surge_pct', 'trips_in_first_30_days', 'ultimate_black_user', 'weekday_pct', 'city_Astapor', \"city_King's Landing\", 'city_Winterfell', 'phone_Android', 'phone_iPhone', 'signup_day', 'no_driver_rating', 'no_phone', 'no_rider_rating']\n"
     ]
    },
    {
     "data": {
      "text/html": [
       "<div>\n",
       "<style>\n",
       "    .dataframe thead tr:only-child th {\n",
       "        text-align: right;\n",
       "    }\n",
       "\n",
       "    .dataframe thead th {\n",
       "        text-align: left;\n",
       "    }\n",
       "\n",
       "    .dataframe tbody tr th {\n",
       "        vertical-align: top;\n",
       "    }\n",
       "</style>\n",
       "<table border=\"1\" class=\"dataframe\">\n",
       "  <thead>\n",
       "    <tr style=\"text-align: right;\">\n",
       "      <th></th>\n",
       "      <th>missing</th>\n",
       "      <th>missing_percent</th>\n",
       "      <th>vals</th>\n",
       "      <th>value_percent</th>\n",
       "    </tr>\n",
       "  </thead>\n",
       "  <tbody>\n",
       "  </tbody>\n",
       "</table>\n",
       "</div>"
      ],
      "text/plain": [
       "Empty DataFrame\n",
       "Columns: [missing, missing_percent, vals, value_percent]\n",
       "Index: []"
      ]
     },
     "execution_count": 115,
     "metadata": {},
     "output_type": "execute_result"
    }
   ],
   "source": [
    "missing_values_table(scale_df,'both')"
   ]
  },
  {
   "cell_type": "markdown",
   "metadata": {},
   "source": [
    "Excellent. Now to rescale and fill the missing values of the original data."
   ]
  },
  {
   "cell_type": "code",
   "execution_count": 126,
   "metadata": {
    "collapsed": true
   },
   "outputs": [],
   "source": [
    "scale_df.loc[:,scale_df.columns.drop(cats)] =\\\n",
    "(scale_df.loc[:,scale_df.columns.drop(cats)]*sd) + mu\n",
    "\n",
    "df.loc[scale_df.index,['avg_rating_by_driver', 'avg_rating_of_driver']] = \\\n",
    "    scale_df.loc[:,['avg_rating_by_driver', 'avg_rating_of_driver']]"
   ]
  },
  {
   "cell_type": "markdown",
   "metadata": {},
   "source": [
    "#### Identify Active Users\n",
    "\n",
    "Finally, create the target variable `active`, setting it equal to 1 for any user who's last trip was within 30 days of 6 months after their signup date and 0 for all others.\n",
    "\n",
    "Since these users all signed up in January, and Feb 2014 was not a leap year, 6 months after their signup dates will be 181 days. Within 30 days means any user whose last trip was at least 151 days after signup will be considered active."
   ]
  },
  {
   "cell_type": "code",
   "execution_count": 139,
   "metadata": {},
   "outputs": [],
   "source": [
    "df['active'] = (df.last_trip_date - df.signup_date).dt.days >= 151\n",
    "df['active'] = df.active.astype(int)"
   ]
  },
  {
   "cell_type": "markdown",
   "metadata": {},
   "source": [
    "## Building The Model\n",
    "\n",
    "Time for the fun stuff!\n",
    "\n",
    "Before testing and tuning models, I'll create a holdout set from 15% of the data.\n",
    "\n",
    "**Note:** Also dropping one of the city features here to make interpretation easier later."
   ]
  },
  {
   "cell_type": "code",
   "execution_count": 454,
   "metadata": {
    "collapsed": true
   },
   "outputs": [],
   "source": [
    "X, X_hold, y, y_hold = train_test_split(df.drop(['active','city_Astapor']+bad_feats,axis=1), df.active,\\\n",
    "                                                    test_size = 0.15, random_state=7)"
   ]
  },
  {
   "cell_type": "markdown",
   "metadata": {},
   "source": [
    "Next, scale the features. It is very important that this is done AFTER the validation data has been removed, so that the scale of the data cannot give unintended clues to the values in the validation set."
   ]
  },
  {
   "cell_type": "code",
   "execution_count": 458,
   "metadata": {},
   "outputs": [],
   "source": [
    "cats = cats.drop('city_Astapor')\n",
    "scaler = StandardScaler()\n",
    "X.loc[:,X.columns.drop(cats)] = scaler.fit_transform(X.loc[:,X.columns.drop(cats)])"
   ]
  },
  {
   "cell_type": "markdown",
   "metadata": {},
   "source": [
    "#### Feature Exploration\n",
    "\n",
    "Before building models, it will be important to get a prelimanary sense of which features are correlated with the target and which aren't, as well as to check for signs of collinearity."
   ]
  },
  {
   "cell_type": "code",
   "execution_count": 459,
   "metadata": {},
   "outputs": [
    {
     "data": {
      "text/plain": [
       "<matplotlib.axes._subplots.AxesSubplot at 0x4813a0f6a0>"
      ]
     },
     "execution_count": 459,
     "metadata": {},
     "output_type": "execute_result"
    },
    {
     "data": {
      "image/png": "[encoded data removed]",
      "text/plain": [
       "<matplotlib.figure.Figure at 0x4813a1d1d0>"
      ]
     },
     "metadata": {},
     "output_type": "display_data"
    }
   ],
   "source": [
    "plt.figure(figsize=(10,10))\n",
    "corr =pd.concat([X.drop('no_phone',axis=1), y],axis=1).corr()\n",
    "ix =  np.zeros_like(corr)\n",
    "ix[np.triu_indices_from(ix)] = True\n",
    "sns.heatmap(corr, mask = ix, annot=True, annot_kws={\"size\": 8})"
   ]
  },
  {
   "cell_type": "markdown",
   "metadata": {},
   "source": [
    "Okay, as expected the dummy features are collinear (or multicollinear technically for the cities). Normally it would make sense to drop out one dummy from each set to correct this. However the phone dummies are holding a tiny bit of information about missing phone values. So I'll hold onto all of them.\n",
    "\n",
    "Surge percent and average surge are also very closely related. The model will need to be capable of handling such features or they will need to be combined.\n",
    "\n",
    "Since prediction quality is only half the goal of the analyis (the other half being recommendations), I'll explore Logistic Regression (with regularization) as well as Random Forest. Random Forest should perform very well on this type of data, but Logistic Regression has the added benefit of interprettable coefficients. Both models are robust to collinearity.\n",
    "\n",
    "**To keep in mind**: None of the features are strongly correlated with active status. There is some weak positive correlation for the number of trips in the first 30 days, ultimate black trial, iPhone use and King's Landing residence. Some weak negative correlation with signup day, android use, Astapor residence, and not having made any driver ratings (some justification for holding onto that nullity information)."
   ]
  },
  {
   "cell_type": "markdown",
   "metadata": {},
   "source": [
    "### Logistic Regression\n",
    "\n",
    "I'll see how an out of the box model performs."
   ]
  },
  {
   "cell_type": "code",
   "execution_count": 188,
   "metadata": {},
   "outputs": [
    {
     "name": "stdout",
     "output_type": "stream",
     "text": [
      "Training Accuracy: 0.790\n",
      "Testing Accuracy: 0.784\n"
     ]
    }
   ],
   "source": [
    "# Split data again\n",
    "X_train, X_test, y_train, y_test = train_test_split(X,y,\\\n",
    "                                    test_size = 0.2, random_state=7)\n",
    "\n",
    "# Build model\n",
    "lr = LogisticRegression()\n",
    "lr.fit(X_train,y_train)\n",
    "\n",
    "# Evaluate model\n",
    "print('Training Accuracy: {:.3f}\\nTesting Accuracy: {:.3f}'\\\n",
    "      .format(lr.score(X_train, y_train),lr.score(X_test, y_test)))"
   ]
  },
  {
   "cell_type": "markdown",
   "metadata": {},
   "source": [
    "Not bad for an out of the box regression. Next attempt will tune regularization constant, attempting on L1 and L2 norms."
   ]
  },
  {
   "cell_type": "code",
   "execution_count": 460,
   "metadata": {},
   "outputs": [],
   "source": [
    "# Build a function for repeat tuning, pray it's only needed once.\n",
    "def tune_gridsearch(params, cv =5, clf = LogisticRegression(), get_clf = False):\n",
    "    # Build and fit grid search\n",
    "    lr_cv = GridSearchCV(clf, param_grid = params, cv=cv)\n",
    "    lr_cv.fit(X,y)\n",
    "\n",
    "    print('Best Parameters:', lr_cv.best_params_)\n",
    "    print('Accuracy:', lr_cv.best_score_)\n",
    "    if get_clf:\n",
    "        return lr_cv"
   ]
  },
  {
   "cell_type": "code",
   "execution_count": 501,
   "metadata": {},
   "outputs": [
    {
     "name": "stdout",
     "output_type": "stream",
     "text": [
      "Best Parameters: {'C': 1.8329807108324339, 'penalty': 'l1'}\n",
      "Accuracy: 0.788894117647\n"
     ]
    }
   ],
   "source": [
    "params = {'C': np.logspace(-5, 5, 20), 'penalty':['l1','l2']}\n",
    "log_results = tune_gridsearch(params, get_clf = True)"
   ]
  },
  {
   "cell_type": "markdown",
   "metadata": {},
   "source": [
    "Not any better than the out of the box. But the best parameter landed close to the center of a wide grid. There's still hope!"
   ]
  },
  {
   "cell_type": "code",
   "execution_count": 194,
   "metadata": {},
   "outputs": [
    {
     "name": "stdout",
     "output_type": "stream",
     "text": [
      "Best Parameters: {'C': 2.0033333333333334, 'penalty': 'l1'}\n",
      "Accuracy: 0.788917647059\n"
     ]
    }
   ],
   "source": [
    "params = {'C': np.linspace(0.01, 3, 10), 'penalty':['l1','l2']}\n",
    "results = tune_gridsearch(params, get_clf=True)"
   ]
  },
  {
   "cell_type": "markdown",
   "metadata": {},
   "source": [
    "Even with more flexibility near the best parameters, the model isn't improving. Let's see what the wors grid search test score were. "
   ]
  },
  {
   "cell_type": "code",
   "execution_count": 207,
   "metadata": {},
   "outputs": [
    {
     "name": "stdout",
     "output_type": "stream",
     "text": [
      "Lowest test score: 0.787482352941\n"
     ]
    }
   ],
   "source": [
    "print('Lowest test score:',pd.DataFrame(results.cv_results_).mean_test_score.min())"
   ]
  },
  {
   "cell_type": "markdown",
   "metadata": {},
   "source": [
    "This suggest the parameters aren't going to matter. ~78.7% accuracy looks to be as good as is possible for logistic regression.\n",
    "\n",
    "For the heck of it though, let's see what happens with an Elastic Net approach to the L1 and L2 normals."
   ]
  },
  {
   "cell_type": "code",
   "execution_count": 280,
   "metadata": {},
   "outputs": [
    {
     "name": "stdout",
     "output_type": "stream",
     "text": [
      "Best Parameters: {'alpha': 0.005336699231206307, 'l1_ratio': 0.40000000000000002}\n",
      "Accuracy: 0.787976470588\n"
     ]
    }
   ],
   "source": [
    "sgd = SGD(loss='log', penalty='elasticnet')\n",
    "params = {'alpha': np.logspace(-5,5,12), 'l1_ratio':np.linspace(.2,.8,7)}\n",
    "tune_gridsearch(params, clf = sgd)"
   ]
  },
  {
   "cell_type": "markdown",
   "metadata": {},
   "source": [
    "Pretty much no difference from regular logistic regression.\n",
    "\n",
    "I surrender. Let's see how a random forest stacks up.\n",
    "\n",
    "### Random Forest"
   ]
  },
  {
   "cell_type": "code",
   "execution_count": 214,
   "metadata": {},
   "outputs": [
    {
     "name": "stdout",
     "output_type": "stream",
     "text": [
      "Best Parameters: {'max_depth': 5, 'max_features': 15}\n",
      "Accuracy: 0.806588235294\n"
     ]
    }
   ],
   "source": [
    "params = {'max_depth': np.arange(1,6), 'max_features':np.arange(3,16,3)}\n",
    "tune_gridsearch(params, get_clf=True, clf = RF())"
   ]
  },
  {
   "cell_type": "markdown",
   "metadata": {},
   "source": [
    "Aha! Progress. Both max depth and max features are on the edges, so I'll expand the grid."
   ]
  },
  {
   "cell_type": "code",
   "execution_count": 217,
   "metadata": {},
   "outputs": [
    {
     "name": "stdout",
     "output_type": "stream",
     "text": [
      "Best Parameters: {'max_depth': 9, 'max_features': 17}\n",
      "Accuracy: 0.817647058824\n"
     ]
    }
   ],
   "source": [
    "params = {'max_depth': np.arange(4,10), 'max_features':np.arange(13,18)}\n",
    "tune_gridsearch(params, get_clf=True, clf = RF())"
   ]
  },
  {
   "cell_type": "markdown",
   "metadata": {},
   "source": [
    "Better. Should probably not go much deeper to avoid overfitting, but curious to see how much more accurate the model can get."
   ]
  },
  {
   "cell_type": "code",
   "execution_count": 218,
   "metadata": {},
   "outputs": [
    {
     "name": "stdout",
     "output_type": "stream",
     "text": [
      "Best Parameters: {'max_depth': 11, 'max_features': 16}\n",
      "Accuracy: 0.818070588235\n"
     ]
    }
   ],
   "source": [
    "params = {'max_depth': np.arange(8,14), 'max_features':np.arange(15,18)}\n",
    "rf_results = tune_gridsearch(params, get_clf=True, clf = RF())"
   ]
  },
  {
   "cell_type": "markdown",
   "metadata": {},
   "source": [
    "Okay, there's actually some convergence happening. Both optimal parameters were non-boundary, so there is no further need to tune. It would be preferrable to build the model with a lower max depth and max features, since that will give better interpretability (as well as make it less generalized). Let's see the rest of the cv results."
   ]
  },
  {
   "cell_type": "code",
   "execution_count": 229,
   "metadata": {},
   "outputs": [
    {
     "name": "stdout",
     "output_type": "stream",
     "text": [
      "Lowest accuracy from Random Forest grid search was 81.035%.\n"
     ]
    }
   ],
   "source": [
    "print('Lowest accuracy from Random Forest grid search was {:.3f}%.'\\\n",
    "      .format(np.min(rf_results.cv_results_['mean_test_score']*100)))"
   ]
  },
  {
   "cell_type": "markdown",
   "metadata": {},
   "source": [
    "Not even a full percentage point difference. But test accuracy isn't the only important metric. The model should generalize well to unseen data, which means the ideal model will have similar training and test accuracy.\n",
    "\n",
    "Looking at the highest accuracies of the grid search shows an overfitting problem."
   ]
  },
  {
   "cell_type": "code",
   "execution_count": 235,
   "metadata": {},
   "outputs": [
    {
     "data": {
      "text/html": [
       "<div>\n",
       "<style>\n",
       "    .dataframe thead tr:only-child th {\n",
       "        text-align: right;\n",
       "    }\n",
       "\n",
       "    .dataframe thead th {\n",
       "        text-align: left;\n",
       "    }\n",
       "\n",
       "    .dataframe tbody tr th {\n",
       "        vertical-align: top;\n",
       "    }\n",
       "</style>\n",
       "<table border=\"1\" class=\"dataframe\">\n",
       "  <thead>\n",
       "    <tr style=\"text-align: right;\">\n",
       "      <th></th>\n",
       "      <th>mean_test_score</th>\n",
       "      <th>mean_train_score</th>\n",
       "      <th>params</th>\n",
       "    </tr>\n",
       "  </thead>\n",
       "  <tbody>\n",
       "    <tr>\n",
       "      <th>17</th>\n",
       "      <td>0.810353</td>\n",
       "      <td>0.909765</td>\n",
       "      <td>{'max_depth': 13, 'max_features': 17}</td>\n",
       "    </tr>\n",
       "    <tr>\n",
       "      <th>16</th>\n",
       "      <td>0.811435</td>\n",
       "      <td>0.909635</td>\n",
       "      <td>{'max_depth': 13, 'max_features': 16}</td>\n",
       "    </tr>\n",
       "    <tr>\n",
       "      <th>15</th>\n",
       "      <td>0.812165</td>\n",
       "      <td>0.909441</td>\n",
       "      <td>{'max_depth': 13, 'max_features': 15}</td>\n",
       "    </tr>\n",
       "    <tr>\n",
       "      <th>13</th>\n",
       "      <td>0.812776</td>\n",
       "      <td>0.891682</td>\n",
       "      <td>{'max_depth': 12, 'max_features': 16}</td>\n",
       "    </tr>\n",
       "    <tr>\n",
       "      <th>12</th>\n",
       "      <td>0.813482</td>\n",
       "      <td>0.890894</td>\n",
       "      <td>{'max_depth': 12, 'max_features': 15}</td>\n",
       "    </tr>\n",
       "  </tbody>\n",
       "</table>\n",
       "</div>"
      ],
      "text/plain": [
       "    mean_test_score  mean_train_score                                 params\n",
       "17         0.810353          0.909765  {'max_depth': 13, 'max_features': 17}\n",
       "16         0.811435          0.909635  {'max_depth': 13, 'max_features': 16}\n",
       "15         0.812165          0.909441  {'max_depth': 13, 'max_features': 15}\n",
       "13         0.812776          0.891682  {'max_depth': 12, 'max_features': 16}\n",
       "12         0.813482          0.890894  {'max_depth': 12, 'max_features': 15}"
      ]
     },
     "execution_count": 235,
     "metadata": {},
     "output_type": "execute_result"
    }
   ],
   "source": [
    "rf_grid = pd.DataFrame(rf_results.cv_results_)[['mean_test_score', 'mean_train_score', 'params']]\n",
    "rf_grid.sort_values(by='mean_test_score').head()"
   ]
  },
  {
   "cell_type": "markdown",
   "metadata": {},
   "source": [
    "Instead let's look at parameters where test and train scores were close to each other."
   ]
  },
  {
   "cell_type": "code",
   "execution_count": 237,
   "metadata": {},
   "outputs": [
    {
     "data": {
      "text/html": [
       "<div>\n",
       "<style>\n",
       "    .dataframe thead tr:only-child th {\n",
       "        text-align: right;\n",
       "    }\n",
       "\n",
       "    .dataframe thead th {\n",
       "        text-align: left;\n",
       "    }\n",
       "\n",
       "    .dataframe tbody tr th {\n",
       "        vertical-align: top;\n",
       "    }\n",
       "</style>\n",
       "<table border=\"1\" class=\"dataframe\">\n",
       "  <thead>\n",
       "    <tr style=\"text-align: right;\">\n",
       "      <th></th>\n",
       "      <th>mean_test_score</th>\n",
       "      <th>mean_train_score</th>\n",
       "      <th>params</th>\n",
       "    </tr>\n",
       "  </thead>\n",
       "  <tbody>\n",
       "    <tr>\n",
       "      <th>0</th>\n",
       "      <td>0.815294</td>\n",
       "      <td>0.831724</td>\n",
       "      <td>{'max_depth': 8, 'max_features': 15}</td>\n",
       "    </tr>\n",
       "    <tr>\n",
       "      <th>1</th>\n",
       "      <td>0.816141</td>\n",
       "      <td>0.831876</td>\n",
       "      <td>{'max_depth': 8, 'max_features': 16}</td>\n",
       "    </tr>\n",
       "    <tr>\n",
       "      <th>2</th>\n",
       "      <td>0.814565</td>\n",
       "      <td>0.832406</td>\n",
       "      <td>{'max_depth': 8, 'max_features': 17}</td>\n",
       "    </tr>\n",
       "  </tbody>\n",
       "</table>\n",
       "</div>"
      ],
      "text/plain": [
       "   mean_test_score  mean_train_score                                params\n",
       "0         0.815294          0.831724  {'max_depth': 8, 'max_features': 15}\n",
       "1         0.816141          0.831876  {'max_depth': 8, 'max_features': 16}\n",
       "2         0.814565          0.832406  {'max_depth': 8, 'max_features': 17}"
      ]
     },
     "execution_count": 237,
     "metadata": {},
     "output_type": "execute_result"
    }
   ],
   "source": [
    "rf_grid[rf_grid.mean_train_score - rf_grid.mean_test_score <= .025]"
   ]
  },
  {
   "cell_type": "markdown",
   "metadata": {},
   "source": [
    "Great. The model with the lowest max depth and max features in the search unsurprisingly has the lowest overfitting, while it's accuracy is only .3% worse than the best model. Max_depth = 8 and max_features = 15 will be used for the final model.\n",
    "\n",
    "One last thing to check though. All the previous grid searches have assumed the gini index for evaluating splits. It's worth also considering entropy."
   ]
  },
  {
   "cell_type": "code",
   "execution_count": 238,
   "metadata": {},
   "outputs": [
    {
     "name": "stdout",
     "output_type": "stream",
     "text": [
      "Best Parameters: {'criterion': 'gini', 'max_depth': 9, 'max_features': 14}\n",
      "Accuracy: 0.818164705882\n"
     ]
    }
   ],
   "source": [
    "params = {'max_depth': np.arange(6,10), 'max_features':np.arange(12,16), 'criterion':['gini','entropy']}\n",
    "tune_gridsearch(params, clf = RF())"
   ]
  },
  {
   "cell_type": "markdown",
   "metadata": {},
   "source": [
    "Okay, similar results to before and gini index remains the preferred metric. Moving on."
   ]
  },
  {
   "cell_type": "markdown",
   "metadata": {},
   "source": [
    "### Final Model\n",
    "**Random Forest**"
   ]
  },
  {
   "cell_type": "code",
   "execution_count": 542,
   "metadata": {
    "collapsed": true
   },
   "outputs": [],
   "source": [
    "rf = RF(max_depth=8,max_features=14).fit(X,y)"
   ]
  },
  {
   "cell_type": "markdown",
   "metadata": {},
   "source": [
    "Let's see what features the model cared most about."
   ]
  },
  {
   "cell_type": "code",
   "execution_count": 543,
   "metadata": {},
   "outputs": [
    {
     "data": {
      "text/html": [
       "<div>\n",
       "<style>\n",
       "    .dataframe thead tr:only-child th {\n",
       "        text-align: right;\n",
       "    }\n",
       "\n",
       "    .dataframe thead th {\n",
       "        text-align: left;\n",
       "    }\n",
       "\n",
       "    .dataframe tbody tr th {\n",
       "        vertical-align: top;\n",
       "    }\n",
       "</style>\n",
       "<table border=\"1\" class=\"dataframe\">\n",
       "  <thead>\n",
       "    <tr style=\"text-align: right;\">\n",
       "      <th></th>\n",
       "      <th>Feature</th>\n",
       "      <th>Importance</th>\n",
       "    </tr>\n",
       "  </thead>\n",
       "  <tbody>\n",
       "    <tr>\n",
       "      <th>1</th>\n",
       "      <td>avg_rating_by_driver</td>\n",
       "      <td>0.265375</td>\n",
       "    </tr>\n",
       "    <tr>\n",
       "      <th>12</th>\n",
       "      <td>signup_day</td>\n",
       "      <td>0.215154</td>\n",
       "    </tr>\n",
       "    <tr>\n",
       "      <th>4</th>\n",
       "      <td>surge_pct</td>\n",
       "      <td>0.183942</td>\n",
       "    </tr>\n",
       "    <tr>\n",
       "      <th>8</th>\n",
       "      <td>city_King's Landing</td>\n",
       "      <td>0.091520</td>\n",
       "    </tr>\n",
       "    <tr>\n",
       "      <th>7</th>\n",
       "      <td>weekday_pct</td>\n",
       "      <td>0.046448</td>\n",
       "    </tr>\n",
       "  </tbody>\n",
       "</table>\n",
       "</div>"
      ],
      "text/plain": [
       "                 Feature  Importance\n",
       "1   avg_rating_by_driver    0.265375\n",
       "12            signup_day    0.215154\n",
       "4              surge_pct    0.183942\n",
       "8    city_King's Landing    0.091520\n",
       "7            weekday_pct    0.046448"
      ]
     },
     "execution_count": 543,
     "metadata": {},
     "output_type": "execute_result"
    }
   ],
   "source": [
    "pd.DataFrame({'Feature':X.columns, 'Importance':rf.feature_importances_})\\\n",
    ".sort_values(by='Importance',ascending=False).head()"
   ]
  },
  {
   "cell_type": "markdown",
   "metadata": {},
   "source": [
    "Interestingly, the derived feature `signup_day` was considered the second most important. Unfortunately, the black-boxy nature of Random Forest makes it difficult to interpret much more than that. Also important to clarify, feature importance is non-directional - Large importance values do not mean likelier active status, only that the feature was important in predicting the outcome."
   ]
  },
  {
   "cell_type": "markdown",
   "metadata": {},
   "source": [
    "#### Logistic Regression\n",
    "\n",
    "The regression model was not as accurate as the RF in training, but it wasn't terribly far off. However, it will provide much more interprettable coefficients. The grid search showed the best results were for L1 normal (Lasso) with regularization constant C = 2.\n",
    "\n",
    "**But...** L1, L2, and Elastic Net results were all pretty close, so it would be fair to choose any of them. L1 has the benefit of throwing out less important features as the regularization penalty rises, while L2 merely shrinks them. It may be useful for interpretation to look at the results of all 3.\n",
    "\n",
    "Checking over the results of the gridsearch tests, L2 performed nearly as well with a high penalty (C = 0.00428). As did the Elastic Net built earlier."
   ]
  },
  {
   "cell_type": "code",
   "execution_count": 516,
   "metadata": {},
   "outputs": [
    {
     "data": {
      "text/html": [
       "<div>\n",
       "<style>\n",
       "    .dataframe thead tr:only-child th {\n",
       "        text-align: right;\n",
       "    }\n",
       "\n",
       "    .dataframe thead th {\n",
       "        text-align: left;\n",
       "    }\n",
       "\n",
       "    .dataframe tbody tr th {\n",
       "        vertical-align: top;\n",
       "    }\n",
       "</style>\n",
       "<table border=\"1\" class=\"dataframe\">\n",
       "  <thead>\n",
       "    <tr style=\"text-align: right;\">\n",
       "      <th></th>\n",
       "      <th>mean_test_score</th>\n",
       "      <th>mean_train_score</th>\n",
       "      <th>param_C</th>\n",
       "      <th>param_penalty</th>\n",
       "    </tr>\n",
       "  </thead>\n",
       "  <tbody>\n",
       "    <tr>\n",
       "      <th>12</th>\n",
       "      <td>0.788918</td>\n",
       "      <td>0.788882</td>\n",
       "      <td>2.00333</td>\n",
       "      <td>l1</td>\n",
       "    </tr>\n",
       "    <tr>\n",
       "      <th>10</th>\n",
       "      <td>0.788894</td>\n",
       "      <td>0.788900</td>\n",
       "      <td>1.67111</td>\n",
       "      <td>l1</td>\n",
       "    </tr>\n",
       "    <tr>\n",
       "      <th>20</th>\n",
       "      <td>0.788894</td>\n",
       "      <td>0.788876</td>\n",
       "      <td>1.83298</td>\n",
       "      <td>l1</td>\n",
       "    </tr>\n",
       "    <tr>\n",
       "      <th>7</th>\n",
       "      <td>0.788894</td>\n",
       "      <td>0.788882</td>\n",
       "      <td>1.00667</td>\n",
       "      <td>l2</td>\n",
       "    </tr>\n",
       "    <tr>\n",
       "      <th>8</th>\n",
       "      <td>0.788894</td>\n",
       "      <td>0.788865</td>\n",
       "      <td>1.33889</td>\n",
       "      <td>l1</td>\n",
       "    </tr>\n",
       "  </tbody>\n",
       "</table>\n",
       "</div>"
      ],
      "text/plain": [
       "    mean_test_score  mean_train_score  param_C param_penalty\n",
       "12         0.788918          0.788882  2.00333            l1\n",
       "10         0.788894          0.788900  1.67111            l1\n",
       "20         0.788894          0.788876  1.83298            l1\n",
       "7          0.788894          0.788882  1.00667            l2\n",
       "8          0.788894          0.788865  1.33889            l1"
      ]
     },
     "execution_count": 516,
     "metadata": {},
     "output_type": "execute_result"
    }
   ],
   "source": [
    "full_test = pd.concat([pd.DataFrame(log_results.cv_results_),\\\n",
    "                       pd.DataFrame(results.cv_results_)])\n",
    "\n",
    "full_test = full_test.loc[:,['mean_test_score',\\\n",
    "       'mean_train_score', 'param_C', 'param_penalty',]].drop_duplicates()\n",
    "\n",
    "full_test.sort_values(by='mean_test_score',ascending=False).head(5)"
   ]
  },
  {
   "cell_type": "code",
   "execution_count": 515,
   "metadata": {},
   "outputs": [
    {
     "data": {
      "text/html": [
       "<div>\n",
       "<style>\n",
       "    .dataframe thead tr:only-child th {\n",
       "        text-align: right;\n",
       "    }\n",
       "\n",
       "    .dataframe thead th {\n",
       "        text-align: left;\n",
       "    }\n",
       "\n",
       "    .dataframe tbody tr th {\n",
       "        vertical-align: top;\n",
       "    }\n",
       "</style>\n",
       "<table border=\"1\" class=\"dataframe\">\n",
       "  <thead>\n",
       "    <tr style=\"text-align: right;\">\n",
       "      <th></th>\n",
       "      <th>mean_test_score</th>\n",
       "      <th>mean_train_score</th>\n",
       "      <th>param_C</th>\n",
       "      <th>param_penalty</th>\n",
       "    </tr>\n",
       "  </thead>\n",
       "  <tbody>\n",
       "    <tr>\n",
       "      <th>11</th>\n",
       "      <td>0.785882</td>\n",
       "      <td>0.786176</td>\n",
       "      <td>0.00428133</td>\n",
       "      <td>l2</td>\n",
       "    </tr>\n",
       "    <tr>\n",
       "      <th>10</th>\n",
       "      <td>0.784306</td>\n",
       "      <td>0.784676</td>\n",
       "      <td>0.00428133</td>\n",
       "      <td>l1</td>\n",
       "    </tr>\n",
       "    <tr>\n",
       "      <th>9</th>\n",
       "      <td>0.781035</td>\n",
       "      <td>0.781224</td>\n",
       "      <td>0.00127427</td>\n",
       "      <td>l2</td>\n",
       "    </tr>\n",
       "    <tr>\n",
       "      <th>7</th>\n",
       "      <td>0.770965</td>\n",
       "      <td>0.771124</td>\n",
       "      <td>0.000379269</td>\n",
       "      <td>l2</td>\n",
       "    </tr>\n",
       "    <tr>\n",
       "      <th>8</th>\n",
       "      <td>0.767647</td>\n",
       "      <td>0.767629</td>\n",
       "      <td>0.00127427</td>\n",
       "      <td>l1</td>\n",
       "    </tr>\n",
       "  </tbody>\n",
       "</table>\n",
       "</div>"
      ],
      "text/plain": [
       "    mean_test_score  mean_train_score      param_C param_penalty\n",
       "11         0.785882          0.786176   0.00428133            l2\n",
       "10         0.784306          0.784676   0.00428133            l1\n",
       "9          0.781035          0.781224   0.00127427            l2\n",
       "7          0.770965          0.771124  0.000379269            l2\n",
       "8          0.767647          0.767629   0.00127427            l1"
      ]
     },
     "execution_count": 515,
     "metadata": {},
     "output_type": "execute_result"
    }
   ],
   "source": [
    "full_test[full_test.param_C < .01].sort_values(by='mean_test_score',ascending=False).head(5)"
   ]
  },
  {
   "cell_type": "markdown",
   "metadata": {},
   "source": [
    "Let's build all three!"
   ]
  },
  {
   "cell_type": "code",
   "execution_count": 523,
   "metadata": {
    "collapsed": true
   },
   "outputs": [],
   "source": [
    "# Train 3 classifiers\n",
    "l2_final = LogisticRegression(penalty='l2', C = .00428).fit(X,y)\n",
    "l1_final = LogisticRegression(penalty='l1', C = 2).fit(X,y)\n",
    "EN_final = SGD(loss='log', penalty='elasticnet', alpha=.0053, l1_ratio=.4).fit(X,y)"
   ]
  },
  {
   "cell_type": "code",
   "execution_count": 526,
   "metadata": {},
   "outputs": [
    {
     "data": {
      "text/html": [
       "<div>\n",
       "<style>\n",
       "    .dataframe thead tr:only-child th {\n",
       "        text-align: right;\n",
       "    }\n",
       "\n",
       "    .dataframe thead th {\n",
       "        text-align: left;\n",
       "    }\n",
       "\n",
       "    .dataframe tbody tr th {\n",
       "        vertical-align: top;\n",
       "    }\n",
       "</style>\n",
       "<table border=\"1\" class=\"dataframe\">\n",
       "  <thead>\n",
       "    <tr style=\"text-align: right;\">\n",
       "      <th></th>\n",
       "      <th>Elastic_Net</th>\n",
       "      <th>L1</th>\n",
       "      <th>L2</th>\n",
       "      <th>Differences</th>\n",
       "    </tr>\n",
       "  </thead>\n",
       "  <tbody>\n",
       "    <tr>\n",
       "      <th>intercept</th>\n",
       "      <td>-2.002711</td>\n",
       "      <td>-2.263196</td>\n",
       "      <td>-1.260260</td>\n",
       "      <td>1.002936</td>\n",
       "    </tr>\n",
       "    <tr>\n",
       "      <th>no_rider_rating</th>\n",
       "      <td>0.000000</td>\n",
       "      <td>-0.667745</td>\n",
       "      <td>-0.053248</td>\n",
       "      <td>0.667745</td>\n",
       "    </tr>\n",
       "    <tr>\n",
       "      <th>phone_iPhone</th>\n",
       "      <td>0.462997</td>\n",
       "      <td>0.504622</td>\n",
       "      <td>-0.143495</td>\n",
       "      <td>0.648116</td>\n",
       "    </tr>\n",
       "    <tr>\n",
       "      <th>phone_Android</th>\n",
       "      <td>-0.395863</td>\n",
       "      <td>-0.492842</td>\n",
       "      <td>-0.974334</td>\n",
       "      <td>0.578472</td>\n",
       "    </tr>\n",
       "    <tr>\n",
       "      <th>city_King's Landing</th>\n",
       "      <td>0.995910</td>\n",
       "      <td>1.354038</td>\n",
       "      <td>0.905514</td>\n",
       "      <td>0.448523</td>\n",
       "    </tr>\n",
       "  </tbody>\n",
       "</table>\n",
       "</div>"
      ],
      "text/plain": [
       "                     Elastic_Net        L1        L2  Differences\n",
       "intercept              -2.002711 -2.263196 -1.260260     1.002936\n",
       "no_rider_rating         0.000000 -0.667745 -0.053248     0.667745\n",
       "phone_iPhone            0.462997  0.504622 -0.143495     0.648116\n",
       "phone_Android          -0.395863 -0.492842 -0.974334     0.578472\n",
       "city_King's Landing     0.995910  1.354038  0.905514     0.448523"
      ]
     },
     "execution_count": 526,
     "metadata": {},
     "output_type": "execute_result"
    }
   ],
   "source": [
    "# Bundle classifier coefficients and intercepts into a df for easy viewing.\n",
    "l2 = pd.DataFrame({'L2':l2_final.coef_[0].T}, index=X.columns)\n",
    "l1 = pd.DataFrame({'L1':l1_final.coef_[0].T}, index=X.columns)\n",
    "EN = pd.DataFrame({'Elastic_Net':EN_final.coef_[0].T}, index=X.columns)\n",
    "\n",
    "# Patch the coefficients into a dataframe\n",
    "lr_coefs = pd.concat([l1,l2,EN],axis=1)\n",
    "lr_coefs = lr_coefs\\\n",
    "    .append(pd.DataFrame({'L1':l1_final.intercept_,\\\n",
    "                          'L2':l2_final.intercept_,\\\n",
    "                          'Elastic_Net':EN_final.intercept_},\\\n",
    "                         index=['intercept']))    \n",
    "\n",
    "# Find maximum difference between coefficients of models    \n",
    "diff = lr_coefs.apply(lambda x: x.max()-x.min(),axis=1)\n",
    "lr_coefs['Differences'] = diff\n",
    "lr_coefs.sort_values(by='Differences', ascending=False).head(5)"
   ]
  },
  {
   "cell_type": "markdown",
   "metadata": {},
   "source": [
    "Interesting. Right away it's clear that L2 and Elastic-Net are doing some major coefficient shrinking due to the high penalties, but in several different places.\n",
    "\n",
    "These values are all in units of $\\log_{e} odds_{\\beta_{i}}$ where $\\beta_{i}$ is the coefficient for feature $i$. Those kinds of values are great for the model to be built around (because they're unbounded), but not so great for interpretation. I'll convert them to probabilities and show them graphically, using the formula:\n",
    "\n",
    "$$p_{\\beta_{i}} = \\frac {odds_{\\beta_{i}}}{1 + odds_{\\beta_{i}}} = \\frac {e^{\\beta_{i}}}{1 + e^{\\beta_{i}}}$$"
   ]
  },
  {
   "cell_type": "code",
   "execution_count": 527,
   "metadata": {},
   "outputs": [],
   "source": [
    "def l2p(x):\n",
    "    o = np.exp(x)\n",
    "    return o/(1+o)\n",
    "\n",
    "lr_coefs['L1_prob'] = l2p(lr_coefs.L1)\n",
    "lr_coefs['L2_prob'] = l2p(lr_coefs.L2)\n",
    "lr_coefs['EN_prob'] = l2p(lr_coefs.Elastic_Net)"
   ]
  },
  {
   "cell_type": "code",
   "execution_count": 544,
   "metadata": {},
   "outputs": [
    {
     "data": {
      "image/png": "[encoded data removed]",
      "text/plain": [
       "<matplotlib.figure.Figure at 0x482cabf358>"
      ]
     },
     "metadata": {},
     "output_type": "display_data"
    }
   ],
   "source": [
    "lr_coefs.sort_values(by='L1_prob',inplace=True)\n",
    "ticks = (np.linspace(0,.7,8), [int(i) for i in np.linspace(0,70,8)])\n",
    "\n",
    "fig, (ax1,ax2,ax3) = plt.subplots(nrows=1, ncols=3,figsize=(12, 8))\n",
    "sns.set_style('darkgrid')\n",
    "plt.suptitle('Feature Coefficients', fontsize = 16)\n",
    "\n",
    "ax1 = plt.subplot(141)\n",
    "lr_coefs.L1_prob.plot(kind = \"barh\")\n",
    "plt.title(\"Low Penalty L1 (Lasso)\")\n",
    "plt.axvline(x=.5, linestyle = '--', color = 'black', lw = 1)\n",
    "plt.xticks(*ticks)\n",
    "\n",
    "ax2 = plt.subplot(142, sharey=ax1)\n",
    "lr_coefs.L2_prob.plot(kind = 'barh', color = 'red')\n",
    "plt.title(\"High Penalty L2 (Ridge)\")\n",
    "plt.axvline(x=.5, linestyle = '--', color = 'black', lw = 1)\n",
    "plt.xticks(*ticks)\n",
    "\n",
    "ax3 = plt.subplot(143, sharey=ax1)\n",
    "lr_coefs.EN_prob.plot(kind = 'barh', color = 'yellow')\n",
    "plt.title(\"Elastic_Net\")\n",
    "plt.axvline(x=.5, linestyle = '--', color = 'black', lw = 1)\n",
    "plt.xticks(*ticks)\n",
    "\n",
    "ax4 = plt.subplot(144, sharey=ax1)\n",
    "lr_coefs.L1_prob.plot(kind = \"barh\", alpha = .3)\n",
    "lr_coefs.L2_prob.plot(kind = 'barh', color = 'red', alpha = .3)\n",
    "lr_coefs.EN_prob.plot(kind = 'barh', **{'fill':False})\n",
    "plt.title(\"Differences\")\n",
    "plt.xticks(*ticks)\n",
    "\n",
    "fig.text(0.5, 0.04, 'Probability (%)', ha='center', fontsize = 14)\n",
    "\n",
    "plt.show()"
   ]
  },
  {
   "cell_type": "markdown",
   "metadata": {},
   "source": [
    "**Note** - Empty bars (sharp black lines) on the 'Differences' plot represent Elastic net.\n",
    "\n",
    "This is easier to interpret. The bars here are the probabilty that a user will be active if the corresponding feature has a value of 1 and all other features are 0. Because the values were standard scaled, this means that a value of 1 represents 1 standard deviation above the mean.\n",
    "\n",
    "Since the original city feature was dummified and Astapor was dropped, this means that the city coefficients in these models represent how much more probable a user is to be active if they are from that city than if they had been from of Astapor.\n",
    "\n",
    "50% probability comes from features that had coefficient 0 in the models. Effectively saying, these features have little to no efffect on the outcome. Negative coefficients turned into probabilities less than 50%, so their presence suggests a user is less likely to be active.\n",
    "\n",
    "#### Consensus Positive Predictors:\n",
    "- King's Landing residence\n",
    "- Trips in first 30 days\n",
    "- Ultimate Black trial\n",
    "- Winterfell residence\n",
    "\n",
    "Living in King's Landing makes a user **much** likelier to still be active than living in Astapor, whereas living in Winterfell makes a user somewhat likelier than living in Astapor.\n",
    "\n",
    "#### Consensus Negative Predictors:\n",
    "- Missing Driver Rating\n",
    "- Signup Day\n",
    "- Android use\n",
    "- Avg Distance\n",
    "\n",
    "Android use was a consensus selection while iPhone use was not, despite being a strongly positive predictor for 2 of the classifiers. The high penalty model chose to lower the value of both phone types. This is likely related to the missing phone type users that were encoded as 0 in both features, could be telling us something.\n",
    "\n",
    "The importance of missing values for driver rating is nice to see. Justifies holding onto that information.\n",
    "\n",
    "#### Comparisons to RF:\n",
    "\n",
    "Interestingly, of the features most important to the RF classifier:\n",
    "- Rating by driver\n",
    "- Surge pct\n",
    "- Signup day\n",
    "\n",
    "Only signup day has value, showing that users who signed up later in the first month were less likely to still be active.\n",
    "\n",
    "## Model Evaluation\n",
    "\n",
    "Finally, it's time to use that holdout data and see how each of the models performed."
   ]
  },
  {
   "cell_type": "code",
   "execution_count": 547,
   "metadata": {},
   "outputs": [
    {
     "name": "stdout",
     "output_type": "stream",
     "text": [
      "Holdout accuracies are:\n",
      "\tRandom Forest -- 81.947%      \n",
      "\tElastic Net -- 79.480%      \n",
      "\tHigh Penalty Ridge -- 79.320%      \n",
      "\tLow Penalty Lasso -- 79.493%\n"
     ]
    }
   ],
   "source": [
    "# scale the holdout data by the means\n",
    "# and standard deviations of the test data\n",
    "X_hold_scale = X_hold.copy()\n",
    "X_hold_scale.loc[:,X_hold_scale.columns.drop(cats)]  = \\\n",
    "        scaler.transform(X_hold_scale.loc[:,X_hold_scale.columns.drop(cats)])\n",
    "\n",
    "# score the models\n",
    "rf_score = rf.score(X_hold_scale, y_hold)\n",
    "en_score = EN_final.score(X_hold_scale, y_hold)\n",
    "l1_score = l1_final.score(X_hold_scale, y_hold)\n",
    "l2_score = l2_final.score(X_hold_scale, y_hold)\n",
    "\n",
    "print('Holdout accuracies are:\\n\\tRandom Forest -- {:.3f}%\\\n",
    "      \\n\\tElastic Net -- {:.3f}%\\\n",
    "      \\n\\tHigh Penalty Ridge -- {:.3f}%\\\n",
    "      \\n\\tLow Penalty Lasso -- {:.3f}%'\\\n",
    "      .format(rf_score*100,en_score*100,l2_score*100,l1_score*100))"
   ]
  },
  {
   "cell_type": "markdown",
   "metadata": {},
   "source": [
    "Random Forest actually performed even better than it did on the test data. Slight dropoffs for the Logistic Regressions but nothing to suggest horrible overfitting.\n",
    "\n",
    "It's a bit of a tie with RF in the lead. However, accuracy alone is not a complete metic. Let's see where they land on a Receiver Operating Characteristic (ROC) curve."
   ]
  },
  {
   "cell_type": "code",
   "execution_count": 551,
   "metadata": {},
   "outputs": [
    {
     "data": {
      "image/png": "[encoded data removed]",
      "text/plain": [
       "<matplotlib.figure.Figure at 0x482b68e390>"
      ]
     },
     "metadata": {},
     "output_type": "display_data"
    }
   ],
   "source": [
    "# Code adapted from example in sklearn documentation\n",
    "# http://scikit-learn.org/stable/auto_examples/ensemble/plot_feature_transformation.html\n",
    "\n",
    "y_pred_rf = rf.predict_proba(X_hold_scale)[:, 1]\n",
    "fpr_rf, tpr_rf, _ = roc_curve(y_hold, y_pred_rf)\n",
    "\n",
    "y_pred_en = EN_final.predict_proba(X_hold_scale)[:, 1]\n",
    "fpr_en, tpr_en, _ = roc_curve(y_hold, y_pred_en)\n",
    "\n",
    "y_pred_l1 = l1_final.predict_proba(X_hold_scale)[:, 1]\n",
    "fpr_l1, tpr_l1, _ = roc_curve(y_hold, y_pred_l1)\n",
    "\n",
    "y_pred_l2 = l2_final.predict_proba(X_hold_scale)[:, 1]\n",
    "fpr_l2, tpr_l2, _ = roc_curve(y_hold, y_pred_l2)\n",
    "\n",
    "\n",
    "plt.figure(figsize=(8,8))\n",
    "plt.plot([0, 1], [0, 1], 'k--')\n",
    "\n",
    "plt.plot(fpr_rf, tpr_rf, label='Random Forest')\n",
    "plt.plot(fpr_en, tpr_en, label='Elastic Net')\n",
    "plt.plot(fpr_l1, tpr_l1, label='Low Penalty Lasso')\n",
    "plt.plot(fpr_l2, tpr_l2, label='High Penalty Ridge')\n",
    "\n",
    "plt.xlabel('False positive rate')\n",
    "plt.ylabel('True positive rate')\n",
    "plt.title('ROC curve')\n",
    "plt.legend(loc='best')\n",
    "plt.show()"
   ]
  },
  {
   "cell_type": "markdown",
   "metadata": {},
   "source": [
    "The Random Forest model is again superior. All others perform pretty evenly. No clear bias for any classifier to predict active vs inactive.\n",
    "\n",
    "# Recommendations\n",
    "\n",
    "Based on the coefficients of the Logistic Regression features a couple of key suggestions:\n",
    "- Explore why users aren't rating drivers.\n",
    "    - These users had very low retention and the missing ratings suggest they weren't very engaged by Ultimate. Perhaps try to survey them for insights on improving service. Could also offer targeted promotions to these users to keep them active.\n",
    "- King's Landing users are the likeliest to stay active, Astaporians the least.\n",
    "    - What to do with this is a decision for management and possibly another study. How much market share does Ultimate have in King's Landing. Is it worth it to market there and increase activitiy from these better users or are there diminishing returns and it would be better direct marketing/pricing strategy towards fixing the lack of retention in Astapor. Or both.\n",
    "- The more trips a user takes in the first 30 days, the likelier they are to stay active.\n",
    "- Trying Ultimate Black in first month makes users likelier to stay active.\n",
    "    - Both of the above require more investigation as these could just as easily be correlated as causal.\n",
    "    - Users may stay active because they were likelier to have positive experience or form dependence on the service after enough initial trips **or** they could stay active because the type of users that take a lot of trips are the type that use a service like this and would be active regardless.\n",
    "    - Same applies to Ultimate Black, these could be business travellors likely to use a service like Ultimate to begin with.\n",
    "- Look into device type\n",
    "    - iPhone users appeared likelier to stay active in some models, and that could well be the case but should not be assumed.\n",
    "- Ask marketing department about promotional history regarding Signup Day.\n",
    "    - Users who signed up later in the month were much less likely to stay active. This seems strange. Was there a promotion going on near the end of the month that brought a lot of signups but low retention?\n",
    "- Explore Average Rating by Driver\n",
    "    - Something very interesting could be going on here. This feature was near meaningless in the logistic models but was the most important for the most accurate model, the random forest. Could this be the difference in the accuracy gap between the models?"
   ]
  },
  {
   "cell_type": "raw",
   "metadata": {},
   "source": [
    "<script>\n",
    "  $(document).ready(function(){\n",
    "    $('div.prompt').hide();\n",
    "    $('div.back-to-top').hide();\n",
    "    $('nav#menubar').hide();\n",
    "    $('.breadcrumb').hide();\n",
    "    $('.hidden-print').hide();\n",
    "  });\n",
    "</script>\n",
    "\n",
    "<footer id=\"attribution\" style=\"float:right; color:#999; background:#fff;\">\n",
    "Created with Jupyter, delivered by Fastly, rendered by Rackspace.\n",
    "</footer>"
   ]
  }
 ],
 "metadata": {
  "celltoolbar": "Raw Cell Format",
  "kernelspec": {
   "display_name": "Python 3",
   "language": "python",
   "name": "python3"
  },
  "language_info": {
   "codemirror_mode": {
    "name": "ipython",
    "version": 3
   },
   "file_extension": ".py",
   "mimetype": "text/x-python",
   "name": "python",
   "nbconvert_exporter": "python",
   "pygments_lexer": "ipython3",
   "version": "3.6.1"
  }
 },
 "nbformat": 4,
 "nbformat_minor": 2
}
