{
 "cells": [
  {
   "cell_type": "markdown",
   "metadata": {
    "slideshow": {
     "slide_type": "slide"
    }
   },
   "source": [
    "<div style=\"text-align: right\">**November 21st**</div>\n",
    "***\n",
    "# <center>Expanding Model Features</center>"
   ]
  },
  {
   "cell_type": "markdown",
   "metadata": {},
   "source": [
    "Notes:\n",
    "\n",
    "May need to play around w/ clustering.\n",
    "Include helper function for differentiating clusters.\n"
   ]
  },
  {
   "cell_type": "markdown",
   "metadata": {
    "slideshow": {
     "slide_type": "slide"
    }
   },
   "source": [
    "Last meeting covered cross-validation using n-folds, first with a logistic regression model and then with L1 and L2 (lasso and ridge) regularization models.\n",
    "\n",
    "For today's meeting, I would like to expand the model with derived features using:\n",
    "\n",
    "- Observations from the coefficeints of the lasso regularization.\n",
    "- Intuition from domain knowledge\n",
    "- K-means clustering of champions\n",
    "\n",
    "First, I'll import all necessary packages and dataframes."
   ]
  },
  {
   "cell_type": "code",
   "execution_count": 1,
   "metadata": {
    "collapsed": true,
    "slideshow": {
     "slide_type": "fragment"
    }
   },
   "outputs": [],
   "source": [
    "%store -r teamDF\n",
    "%store -r norm_teamDF\n",
    "%store -r playerDF\n",
    "%store -r featuresDF\n",
    "\n",
    "\n",
    "import pandas as pd\n",
    "import numpy as np\n",
    "import matplotlib.pyplot as plt\n",
    "import seaborn as sns\n",
    "\n",
    "from sklearn.linear_model import LogisticRegression, Ridge, RidgeCV, ElasticNet, LassoCV, LassoLarsCV\n",
    "from sklearn.model_selection import train_test_split, cross_val_score\n",
    "from sklearn.metrics import classification_report, confusion_matrix\n",
    "from sklearn.preprocessing import StandardScaler\n",
    "\n",
    "from scipy import stats\n",
    "from scipy.stats import skew\n",
    "from scipy.stats.stats import pearsonr"
   ]
  },
  {
   "cell_type": "markdown",
   "metadata": {
    "slideshow": {
     "slide_type": "slide"
    }
   },
   "source": [
    "### Coefficients of Lasso Regularization\n",
    "***\n",
    "\n",
    "For a quick refresher, these are the predictor coefficients from the lasso regularized regressions performed at our last meeting."
   ]
  },
  {
   "cell_type": "code",
   "execution_count": 10,
   "metadata": {
    "slideshow": {
     "slide_type": "fragment"
    }
   },
   "outputs": [
    {
     "name": "stdout",
     "output_type": "stream",
     "text": [
      "<class 'pandas.core.frame.DataFrame'>\n",
      "Index: 684 entries, ADC_Urgot to earthdrakes\n",
      "Data columns (total 9 columns):\n",
      "7.14             684 non-null float64\n",
      "7.15             684 non-null float64\n",
      "7.16             684 non-null float64\n",
      "7.17             684 non-null float64\n",
      "mean             684 non-null float64\n",
      "weighted_mean    684 non-null float64\n",
      "original         684 non-null float64\n",
      "mean_diff        684 non-null float64\n",
      "wm_diff          684 non-null float64\n",
      "dtypes: float64(9)\n",
      "memory usage: 53.4+ KB\n"
     ]
    }
   ],
   "source": [
    "featuresDF.iloc[:,30:].info()"
   ]
  },
  {
   "cell_type": "code",
   "execution_count": 22,
   "metadata": {
    "slideshow": {
     "slide_type": "fragment"
    }
   },
   "outputs": [
    {
     "data": {
      "text/html": [
       "<div>\n",
       "<style>\n",
       "    .dataframe thead tr:only-child th {\n",
       "        text-align: right;\n",
       "    }\n",
       "\n",
       "    .dataframe thead th {\n",
       "        text-align: left;\n",
       "    }\n",
       "\n",
       "    .dataframe tbody tr th {\n",
       "        vertical-align: top;\n",
       "    }\n",
       "</style>\n",
       "<table border=\"1\" class=\"dataframe\">\n",
       "  <thead>\n",
       "    <tr style=\"text-align: right;\">\n",
       "      <th></th>\n",
       "      <th>mean</th>\n",
       "      <th>weighted_mean</th>\n",
       "      <th>original</th>\n",
       "      <th>mean_diff</th>\n",
       "      <th>wm_diff</th>\n",
       "    </tr>\n",
       "  </thead>\n",
       "  <tbody>\n",
       "    <tr>\n",
       "      <th>opptowerkills</th>\n",
       "      <td>-0.197738</td>\n",
       "      <td>-0.209109</td>\n",
       "      <td>-0.215261</td>\n",
       "      <td>0.017523</td>\n",
       "      <td>0.006152</td>\n",
       "    </tr>\n",
       "    <tr>\n",
       "      <th>gspd</th>\n",
       "      <td>-0.087312</td>\n",
       "      <td>-0.107436</td>\n",
       "      <td>-0.117334</td>\n",
       "      <td>0.030022</td>\n",
       "      <td>0.009898</td>\n",
       "    </tr>\n",
       "    <tr>\n",
       "      <th>d</th>\n",
       "      <td>-0.045853</td>\n",
       "      <td>-0.056652</td>\n",
       "      <td>-0.117195</td>\n",
       "      <td>0.071342</td>\n",
       "      <td>0.060543</td>\n",
       "    </tr>\n",
       "    <tr>\n",
       "      <th>goldspent</th>\n",
       "      <td>-0.026169</td>\n",
       "      <td>-0.031982</td>\n",
       "      <td>-0.099020</td>\n",
       "      <td>0.072851</td>\n",
       "      <td>0.067038</td>\n",
       "    </tr>\n",
       "    <tr>\n",
       "      <th>kpm</th>\n",
       "      <td>-0.006098</td>\n",
       "      <td>-0.007966</td>\n",
       "      <td>-0.080436</td>\n",
       "      <td>0.074338</td>\n",
       "      <td>0.072469</td>\n",
       "    </tr>\n",
       "    <tr>\n",
       "      <th>oppbaronkills</th>\n",
       "      <td>-0.022474</td>\n",
       "      <td>-0.024254</td>\n",
       "      <td>-0.027874</td>\n",
       "      <td>0.005400</td>\n",
       "      <td>0.003621</td>\n",
       "    </tr>\n",
       "    <tr>\n",
       "      <th>teamdeaths</th>\n",
       "      <td>-0.020594</td>\n",
       "      <td>-0.024799</td>\n",
       "      <td>-0.027299</td>\n",
       "      <td>0.006705</td>\n",
       "      <td>0.002500</td>\n",
       "    </tr>\n",
       "    <tr>\n",
       "      <th>firsttothreetowers</th>\n",
       "      <td>-0.007994</td>\n",
       "      <td>-0.011121</td>\n",
       "      <td>-0.018069</td>\n",
       "      <td>0.010075</td>\n",
       "      <td>0.006948</td>\n",
       "    </tr>\n",
       "    <tr>\n",
       "      <th>wcpm</th>\n",
       "      <td>-0.000428</td>\n",
       "      <td>0.000753</td>\n",
       "      <td>-0.015912</td>\n",
       "      <td>0.015484</td>\n",
       "      <td>0.015160</td>\n",
       "    </tr>\n",
       "    <tr>\n",
       "      <th>fbaron</th>\n",
       "      <td>-0.008202</td>\n",
       "      <td>-0.012775</td>\n",
       "      <td>-0.015005</td>\n",
       "      <td>0.006802</td>\n",
       "      <td>0.002230</td>\n",
       "    </tr>\n",
       "  </tbody>\n",
       "</table>\n",
       "</div>"
      ],
      "text/plain": [
       "                        mean  weighted_mean  original  mean_diff   wm_diff\n",
       "opptowerkills      -0.197738      -0.209109 -0.215261   0.017523  0.006152\n",
       "gspd               -0.087312      -0.107436 -0.117334   0.030022  0.009898\n",
       "d                  -0.045853      -0.056652 -0.117195   0.071342  0.060543\n",
       "goldspent          -0.026169      -0.031982 -0.099020   0.072851  0.067038\n",
       "kpm                -0.006098      -0.007966 -0.080436   0.074338  0.072469\n",
       "oppbaronkills      -0.022474      -0.024254 -0.027874   0.005400  0.003621\n",
       "teamdeaths         -0.020594      -0.024799 -0.027299   0.006705  0.002500\n",
       "firsttothreetowers -0.007994      -0.011121 -0.018069   0.010075  0.006948\n",
       "wcpm               -0.000428       0.000753 -0.015912   0.015484  0.015160\n",
       "fbaron             -0.008202      -0.012775 -0.015005   0.006802  0.002230"
      ]
     },
     "execution_count": 22,
     "metadata": {},
     "output_type": "execute_result"
    }
   ],
   "source": [
    "featuresDF.iloc[:,34:].sort_values(by = 'original').head(10)"
   ]
  },
  {
   "cell_type": "code",
   "execution_count": 21,
   "metadata": {
    "slideshow": {
     "slide_type": "fragment"
    }
   },
   "outputs": [
    {
     "data": {
      "text/html": [
       "<div>\n",
       "<style>\n",
       "    .dataframe thead tr:only-child th {\n",
       "        text-align: right;\n",
       "    }\n",
       "\n",
       "    .dataframe thead th {\n",
       "        text-align: left;\n",
       "    }\n",
       "\n",
       "    .dataframe tbody tr th {\n",
       "        vertical-align: top;\n",
       "    }\n",
       "</style>\n",
       "<table border=\"1\" class=\"dataframe\">\n",
       "  <thead>\n",
       "    <tr style=\"text-align: right;\">\n",
       "      <th></th>\n",
       "      <th>mean</th>\n",
       "      <th>weighted_mean</th>\n",
       "      <th>original</th>\n",
       "      <th>mean_diff</th>\n",
       "      <th>wm_diff</th>\n",
       "    </tr>\n",
       "  </thead>\n",
       "  <tbody>\n",
       "    <tr>\n",
       "      <th>teamtowerkills</th>\n",
       "      <td>0.183125</td>\n",
       "      <td>0.184580</td>\n",
       "      <td>0.186331</td>\n",
       "      <td>0.003206</td>\n",
       "      <td>0.001750</td>\n",
       "    </tr>\n",
       "    <tr>\n",
       "      <th>earnedgpm</th>\n",
       "      <td>0.062884</td>\n",
       "      <td>0.076034</td>\n",
       "      <td>0.125633</td>\n",
       "      <td>0.062749</td>\n",
       "      <td>0.049599</td>\n",
       "    </tr>\n",
       "    <tr>\n",
       "      <th>k</th>\n",
       "      <td>0.011223</td>\n",
       "      <td>0.013451</td>\n",
       "      <td>0.080286</td>\n",
       "      <td>0.069063</td>\n",
       "      <td>0.066834</td>\n",
       "    </tr>\n",
       "    <tr>\n",
       "      <th>okpm</th>\n",
       "      <td>0.011225</td>\n",
       "      <td>0.015474</td>\n",
       "      <td>0.065290</td>\n",
       "      <td>0.054065</td>\n",
       "      <td>0.049816</td>\n",
       "    </tr>\n",
       "    <tr>\n",
       "      <th>minionkills</th>\n",
       "      <td>0.015180</td>\n",
       "      <td>0.017085</td>\n",
       "      <td>0.064718</td>\n",
       "      <td>0.049539</td>\n",
       "      <td>0.047633</td>\n",
       "    </tr>\n",
       "    <tr>\n",
       "      <th>a</th>\n",
       "      <td>0.039322</td>\n",
       "      <td>0.043604</td>\n",
       "      <td>0.052831</td>\n",
       "      <td>0.013510</td>\n",
       "      <td>0.009228</td>\n",
       "    </tr>\n",
       "    <tr>\n",
       "      <th>wardkills</th>\n",
       "      <td>0.008103</td>\n",
       "      <td>0.011996</td>\n",
       "      <td>0.027593</td>\n",
       "      <td>0.019490</td>\n",
       "      <td>0.015597</td>\n",
       "    </tr>\n",
       "    <tr>\n",
       "      <th>dmgtochamps</th>\n",
       "      <td>0.010288</td>\n",
       "      <td>0.014240</td>\n",
       "      <td>0.021388</td>\n",
       "      <td>0.011101</td>\n",
       "      <td>0.007148</td>\n",
       "    </tr>\n",
       "    <tr>\n",
       "      <th>teamkills</th>\n",
       "      <td>0.013652</td>\n",
       "      <td>0.017788</td>\n",
       "      <td>0.018108</td>\n",
       "      <td>0.004456</td>\n",
       "      <td>0.000320</td>\n",
       "    </tr>\n",
       "    <tr>\n",
       "      <th>teambaronkills</th>\n",
       "      <td>0.013766</td>\n",
       "      <td>0.014066</td>\n",
       "      <td>0.016316</td>\n",
       "      <td>0.002550</td>\n",
       "      <td>0.002250</td>\n",
       "    </tr>\n",
       "  </tbody>\n",
       "</table>\n",
       "</div>"
      ],
      "text/plain": [
       "                    mean  weighted_mean  original  mean_diff   wm_diff\n",
       "teamtowerkills  0.183125       0.184580  0.186331   0.003206  0.001750\n",
       "earnedgpm       0.062884       0.076034  0.125633   0.062749  0.049599\n",
       "k               0.011223       0.013451  0.080286   0.069063  0.066834\n",
       "okpm            0.011225       0.015474  0.065290   0.054065  0.049816\n",
       "minionkills     0.015180       0.017085  0.064718   0.049539  0.047633\n",
       "a               0.039322       0.043604  0.052831   0.013510  0.009228\n",
       "wardkills       0.008103       0.011996  0.027593   0.019490  0.015597\n",
       "dmgtochamps     0.010288       0.014240  0.021388   0.011101  0.007148\n",
       "teamkills       0.013652       0.017788  0.018108   0.004456  0.000320\n",
       "teambaronkills  0.013766       0.014066  0.016316   0.002550  0.002250"
      ]
     },
     "execution_count": 21,
     "metadata": {},
     "output_type": "execute_result"
    }
   ],
   "source": [
    "featuresDF.iloc[:,34:].sort_values(by = 'original', ascending = False).head(10)"
   ]
  },
  {
   "cell_type": "markdown",
   "metadata": {
    "slideshow": {
     "slide_type": "subslide"
    }
   },
   "source": [
    "### Coefficients of Lasso Regularization\n",
    "***\n",
    "\n",
    "For easier interpretation, the graph below explains the difference between the original model and the aggregation of the patch-split models."
   ]
  },
  {
   "cell_type": "code",
   "execution_count": 73,
   "metadata": {
    "slideshow": {
     "slide_type": "fragment"
    }
   },
   "outputs": [
    {
     "data": {
      "image/png": "[encoded data removed]",
      "text/plain": [
       "<matplotlib.figure.Figure at 0x8240a1c940>"
      ]
     },
     "metadata": {},
     "output_type": "display_data"
    }
   ],
   "source": [
    "rows = pd.concat([featuresDF['original'].sort_values().head(8), featuresDF['original'].sort_values().tail(8)]).index\n",
    "plt.figure(figsize=(12, 5))\n",
    "plt.suptitle('Lasso Model Feature Coefficients')\n",
    "\n",
    "ax1 = plt.subplot(141)\n",
    "featuresDF.loc[rows,'original'].plot(kind = \"barh\")\n",
    "plt.title(\"Original\")\n",
    "\n",
    "ax2 = plt.subplot(142, sharey=ax1)\n",
    "featuresDF.loc[rows, 'weighted_mean'].plot(kind = 'barh', color = 'red')\n",
    "plt.title(\"Weighted Mean\")\n",
    "\n",
    "ax3 = plt.subplot(143, sharey=ax1)\n",
    "featuresDF.loc[rows,'original'].plot(kind = \"barh\")\n",
    "featuresDF.loc[rows, 'wm_diff'].plot(kind = 'barh', color = 'red')\n",
    "plt.title(\"Weighted Mean Difference\")\n",
    "\n",
    "ax4 = plt.subplot(144, sharey=ax1)\n",
    "featuresDF.loc[rows,'original'].plot(kind = \"barh\")\n",
    "featuresDF.loc[rows, 'mean_diff'].plot(kind = 'barh', color = 'yellow')\n",
    "plt.title(\"Mean Difference\")\n",
    "\n",
    "plt.show()"
   ]
  },
  {
   "cell_type": "markdown",
   "metadata": {
    "slideshow": {
     "slide_type": "fragment"
    }
   },
   "source": [
    "We see that the models are in agreement over the importance of certain features, but strongly differ on others. As a general rule, the values of the patch split model coefficients are lower than the original.\n",
    "\n",
    "This is because performing this regression on patch specific observations allowed the features that had greater importance in the specific patch (things like picking or banning away the strongest champions of that specific patch) to get more significant coefficient values than  they had received in the original regression. In turn, this decreased the values of features that did not have patch specific significance.\n",
    "\n",
    "To put it simply, the features where the two regression methods most strongly agreed are the features that are the most important predictors regardless of the game's current meta.\n",
    "\n",
    "Towers killed and lost are again the strongest predictors of victory and defeat, and the usual suspects come up in terms of kills/deaths, damage dealt, and gold/minons but the models disagree pretty strongly on just how important those other features are. The exception is 'gspd' which refers to gold spent percentage difference - the percent difference in the spending of a team with its opponent. Like towers, gspd is not especially useful as a feature because it is more correlated with victory than causal. The team spending more gold than the other often wins, but they were able to spend more gold because they were winning most of the game.\n",
    "\n",
    "**Note for future revisions**: gspd may still be worth considering as a way of improving the 'quality' feature I derived earlier by quantile cutting the win percentages of teams. That way rather than just saying a team that wins 50% of its games is average, I can evaluate how closely they win and lose by, since a team smashing in its wins and narrowly losing is obviously much better than a team ekeing out wins and getting obliterated in its losses."
   ]
  },
  {
   "cell_type": "markdown",
   "metadata": {
    "slideshow": {
     "slide_type": "slide"
    }
   },
   "source": [
    "### Coefficients of Lasso Regularization -- Digression\n",
    "***\n",
    "\n",
    "This closer look at the previous regression methods has led me to wonder how much more meaningful coefficients values I might be getting without so many features cancelling eachother out. Things like kills ('k') and kills per minute ('kpm') perfectly derivable from the other and gamelength. I think I might get more meaningful information be repeating these regressions on a subset dataframe without so many correlated features. I'll use the results from my VIF (Variance Inflation Factors) testing in an earlier notebook.\n",
    "\n",
    "Without rerunning that testing, the features that were removed to lower all VIF factors below 10 were:\n",
    "\n",
    "`['elementals', 'k', 'd', 'ckpm', 'fbvictim', 'gdat10', 'gdat15', 'xpdat10', 'wards', 'minionkills', 'totalgold','gamelength', 'dmgtochamps', 'teamkills', 'teamdeaths', 'wardkills', 'monsterkills', 'goldspent']`\n",
    "\n",
    "I'll quickly run through all the previous regression steps on this subsetted dataframe."
   ]
  },
  {
   "cell_type": "code",
   "execution_count": 74,
   "metadata": {
    "collapsed": true,
    "slideshow": {
     "slide_type": "subslide"
    }
   },
   "outputs": [],
   "source": [
    "regressors = list(set(list(norm_teamDF)) - set(['result','elementals', 'k', 'd', 'ckpm', 'fbvictim',\n",
    "                                               'gdat10', 'gdat15', 'xpdat10', 'wards', 'minionkills',\n",
    "                                               'totalgold','gamelength', 'dmgtochamps', 'teamkills', 'teamdeaths',\n",
    "                                                      'wardkills', 'monsterkills','goldspent', 'league', 'split',\n",
    "                                                      'week', 'game', 'patchno', 'playerid', 'position', 'player', 'champion']))\n",
    "\n",
    "X = norm_teamDF.loc[:, regressors]\n",
    "y = norm_teamDF.loc[:,'result']\n",
    "X_train, X_test, y_train, y_test = train_test_split(X, y, test_size = .25, random_state=10)\n",
    "\n",
    "def rmse_cv(model):\n",
    "    rmse= np.sqrt(-cross_val_score(model, X_train, y_train, scoring=\"neg_mean_squared_error\", cv = 5))\n",
    "    return rmse"
   ]
  },
  {
   "cell_type": "code",
   "execution_count": 75,
   "metadata": {
    "slideshow": {
     "slide_type": "fragment"
    }
   },
   "outputs": [
    {
     "data": {
      "text/plain": [
       "0.16638243541481593"
      ]
     },
     "execution_count": 75,
     "metadata": {},
     "output_type": "execute_result"
    }
   ],
   "source": [
    "model_lasso = LassoCV(alphas = [1, 0.1, 0.001, 0.0005]).fit(X_train, y_train)\n",
    "\n",
    "rmse_cv(model_lasso).mean()"
   ]
  },
  {
   "cell_type": "code",
   "execution_count": 76,
   "metadata": {
    "slideshow": {
     "slide_type": "fragment"
    }
   },
   "outputs": [
    {
     "name": "stdout",
     "output_type": "stream",
     "text": [
      "0.892013976244\n",
      "0.883553331715\n"
     ]
    }
   ],
   "source": [
    "print(model_lasso.score(X_train, y_train))\n",
    "print(model_lasso.score(X_test, y_test))"
   ]
  },
  {
   "cell_type": "code",
   "execution_count": 77,
   "metadata": {
    "slideshow": {
     "slide_type": "subslide"
    }
   },
   "outputs": [
    {
     "name": "stdout",
     "output_type": "stream",
     "text": [
      "Lasso picked 82 variables and eliminated the other 584 variables\n"
     ]
    }
   ],
   "source": [
    "coef = pd.Series(model_lasso.coef_, index = X_train.columns)\n",
    "\n",
    "print(\"Lasso picked \" + str(sum(coef != 0)) + \" variables and eliminated the other \" +  str(sum(coef == 0)) + \" variables\")"
   ]
  },
  {
   "cell_type": "code",
   "execution_count": 78,
   "metadata": {
    "slideshow": {
     "slide_type": "fragment"
    }
   },
   "outputs": [
    {
     "data": {
      "image/png": "[encoded data removed]",
      "text/plain": [
       "<matplotlib.figure.Figure at 0x8240ac6630>"
      ]
     },
     "metadata": {},
     "output_type": "display_data"
    }
   ],
   "source": [
    "imp_coefs = pd.concat([coef.sort_values().head(15),\n",
    "                     coef.sort_values().tail(15)])\n",
    "\n",
    "plt.figure(figsize=(6, 10))\n",
    "imp_coefs.plot(kind = \"barh\")\n",
    "plt.title(\"Coefficients in the Lasso Model\")\n",
    "plt.show()"
   ]
  },
  {
   "cell_type": "code",
   "execution_count": 81,
   "metadata": {
    "slideshow": {
     "slide_type": "subslide"
    }
   },
   "outputs": [],
   "source": [
    "patchDF = norm_teamDF.groupby('patchno')\n",
    "patchDict = {}\n",
    "rmseDict = {}\n",
    "\n",
    "for k, df in patchDF:\n",
    "    patch_X = df.loc[:, regressors]\n",
    "    patch_y = df.loc[:,'result']\n",
    "    \n",
    "    pX_train, pX_test, py_train, py_test = train_test_split(patch_X, patch_y, test_size = .25, random_state=10)\n",
    "\n",
    "    ml = LassoCV(alphas = [1, 0.1, 0.001]).fit(pX_train, py_train)\n",
    "    \n",
    "    rmseDict[k] = np.sqrt(-cross_val_score(ml, pX_train, py_train, scoring=\"neg_mean_squared_error\", cv = 5)).mean()\n",
    "\n",
    "    patchDict[k] = pd.Series(ml.coef_, index = pX_train.columns)"
   ]
  },
  {
   "cell_type": "code",
   "execution_count": 82,
   "metadata": {
    "slideshow": {
     "slide_type": "fragment"
    }
   },
   "outputs": [
    {
     "name": "stdout",
     "output_type": "stream",
     "text": [
      "['Patch 5.24: 0.277', 'Patch 6.01: 0.1871', 'Patch 6.02: 0.1646', 'Patch 6.03: 0.2502', 'Patch 6.04: 0.2412', 'Patch 6.05: 0.2267', 'Patch 6.06: 0.1678', 'Patch 6.07: 0.1999', 'Patch 6.08: 0.2419', 'Patch 6.1: 0.2062', 'Patch 6.11: 0.2052', 'Patch 6.12: 0.1994', 'Patch 6.13: 0.193', 'Patch 6.14: 0.172', 'Patch 6.15: 0.1842', 'Patch 6.16: 0.2972', 'Patch 6.18: 0.1366', 'Patch 6.21: 0.2241', 'Patch 7.01: 0.2319', 'Patch 7.02: 0.1626', 'Patch 7.03: 0.2314', 'Patch 7.04: 0.1691', 'Patch 7.05: 0.1757', 'Patch 7.06: 0.1716', 'Patch 7.07: 0.2233', 'Patch 7.08: 0.2364', 'Patch 7.1: 0.196', 'Patch 7.11: 0.1864', 'Patch 7.12: 0.1785', 'Patch 7.13: 0.2054', 'Patch 7.14: 0.1849', 'Patch 7.15: 0.2345', 'Patch 7.16: 0.2045', 'Patch 7.17: 0.278']\n",
      "Ranging from  0.136639715045  to  0.29721408787\n",
      "Average rmse:  0.207193125932\n"
     ]
    }
   ],
   "source": [
    "_ = []\n",
    "for k,v in rmseDict.items():\n",
    "    _.append(\"Patch \" + str(k) + \": \" + str(round(v,4)))\n",
    "print(_)\n",
    "print('Ranging from ', min(rmseDict.values()), ' to ', max(rmseDict.values()))\n",
    "print('Average rmse: ', sum(rmseDict.values())/len(rmseDict))"
   ]
  },
  {
   "cell_type": "code",
   "execution_count": 83,
   "metadata": {
    "scrolled": true,
    "slideshow": {
     "slide_type": "subslide"
    }
   },
   "outputs": [
    {
     "name": "stdout",
     "output_type": "stream",
     "text": [
      "On patch 5.24 -- 6 variables taken // 660 dropped\n",
      "On patch 6.01 -- 94 variables taken // 572 dropped\n",
      "On patch 6.02 -- 91 variables taken // 575 dropped\n",
      "On patch 6.03 -- 3 variables taken // 663 dropped\n",
      "On patch 6.04 -- 2 variables taken // 664 dropped\n",
      "On patch 6.05 -- 7 variables taken // 659 dropped\n",
      "On patch 6.06 -- 92 variables taken // 574 dropped\n",
      "On patch 6.07 -- 3 variables taken // 663 dropped\n",
      "On patch 6.08 -- 6 variables taken // 660 dropped\n",
      "On patch 6.1 -- 103 variables taken // 563 dropped\n",
      "On patch 6.11 -- 112 variables taken // 554 dropped\n",
      "On patch 6.12 -- 108 variables taken // 558 dropped\n",
      "On patch 6.13 -- 114 variables taken // 552 dropped\n",
      "On patch 6.14 -- 92 variables taken // 574 dropped\n",
      "On patch 6.15 -- 96 variables taken // 570 dropped\n",
      "On patch 6.16 -- 7 variables taken // 659 dropped\n",
      "On patch 6.18 -- 63 variables taken // 603 dropped\n",
      "On patch 6.21 -- 2 variables taken // 664 dropped\n",
      "On patch 7.01 -- 108 variables taken // 558 dropped\n",
      "On patch 7.02 -- 84 variables taken // 582 dropped\n",
      "On patch 7.03 -- 2 variables taken // 664 dropped\n",
      "On patch 7.04 -- 87 variables taken // 579 dropped\n",
      "On patch 7.05 -- 100 variables taken // 566 dropped\n",
      "On patch 7.06 -- 94 variables taken // 572 dropped\n",
      "On patch 7.07 -- 2 variables taken // 664 dropped\n",
      "On patch 7.08 -- 88 variables taken // 578 dropped\n",
      "On patch 7.1 -- 104 variables taken // 562 dropped\n",
      "On patch 7.11 -- 106 variables taken // 560 dropped\n",
      "On patch 7.12 -- 105 variables taken // 561 dropped\n",
      "On patch 7.13 -- 108 variables taken // 558 dropped\n",
      "On patch 7.14 -- 100 variables taken // 566 dropped\n",
      "On patch 7.15 -- 2 variables taken // 664 dropped\n",
      "On patch 7.16 -- 102 variables taken // 564 dropped\n",
      "On patch 7.17 -- 5 variables taken // 661 dropped\n"
     ]
    }
   ],
   "source": [
    "for k in patchDict:\n",
    "    took = str(sum(patchDict[k] != 0))\n",
    "    left = str(sum(patchDict[k] == 0))\n",
    "    print(\"On patch \" + str(k) + \" -- \" + took + \" variables taken // \" +  left + \" dropped\")"
   ]
  },
  {
   "cell_type": "code",
   "execution_count": 84,
   "metadata": {
    "collapsed": true,
    "slideshow": {
     "slide_type": "subslide"
    }
   },
   "outputs": [],
   "source": [
    "new_featuresDF = pd.DataFrame(patchDict)\n",
    "new_featuresDF['mean'] = new_featuresDF.mean(axis=1)\n",
    "\n",
    "wts = {}\n",
    "for k, df in patchDF:\n",
    "    wts[k] = len(df)/len(teamDF)\n",
    "    \n",
    "wts = pd.Series(wts)\n",
    "new_featuresDF['weighted_mean'] = new_featuresDF.drop('mean', axis = 1).dot(wts)"
   ]
  },
  {
   "cell_type": "code",
   "execution_count": 85,
   "metadata": {
    "collapsed": true,
    "slideshow": {
     "slide_type": "fragment"
    }
   },
   "outputs": [],
   "source": [
    "new_featuresDF['original'] = coef\n",
    "new_featuresDF['mean_diff'] = abs(new_featuresDF['original']) - abs(new_featuresDF['mean'])\n",
    "new_featuresDF['wm_diff'] = abs(new_featuresDF['original']) - abs(new_featuresDF['weighted_mean'])"
   ]
  },
  {
   "cell_type": "markdown",
   "metadata": {
    "slideshow": {
     "slide_type": "slide"
    }
   },
   "source": [
    "### Lasso Regularization Digression\n",
    "***\n",
    "Okay, now that I have a new DF of coefficients, we can see if any features are getting more interpretable coefficient values without the previous counterbalancing measures.\n",
    "\n",
    "Let's take a quick look at the 'new' original, the mean, and the weighted mean top coefficients."
   ]
  },
  {
   "cell_type": "code",
   "execution_count": 90,
   "metadata": {
    "slideshow": {
     "slide_type": "fragment"
    }
   },
   "outputs": [
    {
     "name": "stdout",
     "output_type": "stream",
     "text": [
      "Original: \n",
      " opptowerkills        -0.237177\n",
      "gspd                 -0.149173\n",
      "okpm                 -0.068892\n",
      "oppbaronkills        -0.038913\n",
      "fbaron               -0.020532\n",
      "firsttothreetowers   -0.016449\n",
      "goldat15             -0.013321\n",
      "Jungle_Rek'Sai       -0.012448\n",
      "Name: original, dtype: float64 \n",
      "\n",
      "teamtowerkills    0.181396\n",
      "earnedgpm         0.123831\n",
      "a                 0.064109\n",
      "pace_Sprint       0.019958\n",
      "teambaronkills    0.013914\n",
      "Middle_Viktor     0.012637\n",
      "ADC_Caitlyn       0.009893\n",
      "Top_Rumble        0.008730\n",
      "Name: original, dtype: float64 \n",
      "\n",
      "Mean: \n",
      " opptowerkills        -0.213317\n",
      "gspd                 -0.096684\n",
      "okpm                 -0.044758\n",
      "oppbaronkills        -0.026395\n",
      "fbaron               -0.010243\n",
      "firsttothreetowers   -0.008059\n",
      "visionwardbuys       -0.007545\n",
      "ADC_Sivir            -0.007213\n",
      "Name: mean, dtype: float64 \n",
      "\n",
      "teamtowerkills    0.181750\n",
      "earnedgpm         0.063685\n",
      "a                 0.042864\n",
      "teambaronkills    0.011764\n",
      "Top_Rumble        0.010497\n",
      "ban3_Zyra         0.009942\n",
      "Middle_Orianna    0.008373\n",
      "cspm              0.007697\n",
      "Name: mean, dtype: float64 \n",
      "\n",
      "Weighted Mean: \n",
      " opptowerkills        -0.227869\n",
      "gspd                 -0.119586\n",
      "okpm                 -0.054169\n",
      "oppbaronkills        -0.029263\n",
      "fbaron               -0.015375\n",
      "firsttothreetowers   -0.011303\n",
      "ADC_Sivir            -0.010499\n",
      "ban2_Lee Sin         -0.010316\n",
      "Name: weighted_mean, dtype: float64 \n",
      "\n",
      "teamtowerkills    0.182935\n",
      "earnedgpm         0.078748\n",
      "a                 0.047446\n",
      "ban3_Zyra         0.016032\n",
      "Top_Rumble        0.011774\n",
      "teambaronkills    0.011565\n",
      "ban1_Shen         0.011199\n",
      "Middle_Viktor     0.009373\n",
      "Name: weighted_mean, dtype: float64 \n",
      "\n"
     ]
    }
   ],
   "source": [
    "print(\"Original: \\n\", new_featuresDF['original'].sort_values().head(8), \"\\n\")\n",
    "print(new_featuresDF['original'].sort_values().tail(8)[::-1], '\\n')\n",
    "\n",
    "print(\"Mean: \\n\", new_featuresDF['mean'].sort_values().head(8), \"\\n\")\n",
    "print(new_featuresDF['mean'].sort_values().tail(8)[::-1], '\\n')\n",
    "\n",
    "print(\"Weighted Mean: \\n\", new_featuresDF['weighted_mean'].sort_values().head(8), \"\\n\")\n",
    "print(new_featuresDF['weighted_mean'].sort_values().tail(8)[::-1], '\\n')"
   ]
  },
  {
   "cell_type": "markdown",
   "metadata": {
    "slideshow": {
     "slide_type": "subslide"
    }
   },
   "source": [
    "### Lasso Regularization Digression\n",
    "***\n",
    "\n",
    "Again, this will be easier to interpret visually, with the original graphs in the bottom row for referrence."
   ]
  },
  {
   "cell_type": "code",
   "execution_count": 98,
   "metadata": {
    "slideshow": {
     "slide_type": "fragment"
    }
   },
   "outputs": [
    {
     "data": {
      "image/png": "[encoded data removed]",
      "text/plain": [
       "<matplotlib.figure.Figure at 0x82414dc940>"
      ]
     },
     "metadata": {},
     "output_type": "display_data"
    }
   ],
   "source": [
    "rows = pd.concat([new_featuresDF['original'].sort_values().head(8), new_featuresDF['original'].sort_values().tail(8)]).index\n",
    "plt.figure(figsize=(12, 10))\n",
    "plt.suptitle('Lasso Model Feature Coefficients')\n",
    "\n",
    "ax1 = plt.subplot(241)\n",
    "new_featuresDF.loc[rows,'original'].plot(kind = \"barh\")\n",
    "plt.title(\"Original\")\n",
    "\n",
    "ax2 = plt.subplot(242, sharey=ax1)\n",
    "new_featuresDF.loc[rows, 'weighted_mean'].plot(kind = 'barh', color = 'red')\n",
    "plt.title(\"Weighted Mean\")\n",
    "\n",
    "ax3 = plt.subplot(243, sharey=ax1)\n",
    "new_featuresDF.loc[rows,'original'].plot(kind = \"barh\")\n",
    "new_featuresDF.loc[rows, 'wm_diff'].plot(kind = 'barh', color = 'red')\n",
    "plt.title(\"Weighted Mean Difference\")\n",
    "\n",
    "ax4 = plt.subplot(244, sharey=ax1)\n",
    "new_featuresDF.loc[rows,'original'].plot(kind = \"barh\")\n",
    "new_featuresDF.loc[rows, 'mean_diff'].plot(kind = 'barh', color = 'yellow')\n",
    "plt.title(\"Mean Difference\")\n",
    "\n",
    "\n",
    "r = pd.concat([featuresDF['original'].sort_values().head(8), featuresDF['original'].sort_values().tail(8)]).index\n",
    "\n",
    "ax5 = plt.subplot(245, sharex = ax1)\n",
    "featuresDF.loc[r,'original'].plot(kind = \"barh\")\n",
    "\n",
    "ax6 = plt.subplot(246, sharey=ax5, sharex = ax2)\n",
    "featuresDF.loc[r, 'weighted_mean'].plot(kind = 'barh', color = 'red')\n",
    "\n",
    "ax7 = plt.subplot(247, sharey=ax5, sharex = ax3)\n",
    "featuresDF.loc[r,'original'].plot(kind = \"barh\")\n",
    "featuresDF.loc[r, 'wm_diff'].plot(kind = 'barh', color = 'red')\n",
    "\n",
    "ax8 = plt.subplot(248, sharey=ax5, sharex = ax4)\n",
    "featuresDF.loc[r,'original'].plot(kind = \"barh\")\n",
    "featuresDF.loc[r, 'mean_diff'].plot(kind = 'barh', color = 'yellow')\n",
    "\n",
    "plt.subplots_adjust(hspace=0.1, wspace=0.1)\n",
    "\n",
    "plt.show()"
   ]
  },
  {
   "cell_type": "markdown",
   "metadata": {
    "slideshow": {
     "slide_type": "fragment"
    }
   },
   "source": [
    "Definitely get a new look at the feature selection. These coefficients are much more sensible (like okpm being negative instead of positive) because the regression is no longer doing strange balancing measures to account for redundant information."
   ]
  },
  {
   "cell_type": "code",
   "execution_count": 123,
   "metadata": {},
   "outputs": [
    {
     "name": "stdout",
     "output_type": "stream",
     "text": [
      "Stored 'new_featuresDF' (DataFrame)\n"
     ]
    }
   ],
   "source": [
    "%store new_featuresDF"
   ]
  },
  {
   "cell_type": "markdown",
   "metadata": {
    "slideshow": {
     "slide_type": "slide"
    }
   },
   "source": [
    "### Work in Progress\n",
    "***"
   ]
  },
  {
   "cell_type": "code",
   "execution_count": 114,
   "metadata": {
    "slideshow": {
     "slide_type": "slide"
    }
   },
   "outputs": [
    {
     "name": "stdout",
     "output_type": "stream",
     "text": [
      "                        result  dmgshare  dmgtochampsperminute\n",
      "result                1.000000  0.055863              0.275029\n",
      "dmgshare              0.055863  1.000000              0.755741\n",
      "dmgtochampsperminute  0.275029  0.755741              1.000000\n"
     ]
    },
    {
     "data": {
      "image/png": "[encoded data removed]",
      "text/plain": [
       "<matplotlib.figure.Figure at 0x8240b0ea58>"
      ]
     },
     "metadata": {},
     "output_type": "display_data"
    }
   ],
   "source": [
    "dshare_corr = playerDF.loc[playerDF.position == 'ADC', ['result', 'dmgshare', 'dmgtochampsperminute']].corr()\n",
    "print(dshare_corr)\n",
    "sns.heatmap(dshare_corr, \n",
    "            xticklabels=dshare_corr.columns.values,\n",
    "            yticklabels=dshare_corr.columns.values)\n",
    "plt.show()"
   ]
  },
  {
   "cell_type": "code",
   "execution_count": 115,
   "metadata": {
    "scrolled": false,
    "slideshow": {
     "slide_type": "subslide"
    }
   },
   "outputs": [
    {
     "data": {
      "image/png": "[encoded data removed]",
      "text/plain": [
       "<matplotlib.figure.Figure at 0x823f88f2e8>"
      ]
     },
     "metadata": {},
     "output_type": "display_data"
    }
   ],
   "source": [
    "# playerDF.loc[playerDF.position == 'ADC','dmgshare'].hist(bins = 40)\n",
    "playerDF.loc[(playerDF.position == 'ADC') & (playerDF.result == 1),'dmgshare'].hist(color='green', alpha = .5, bins = 40)\n",
    "playerDF.loc[(playerDF.position == 'ADC') & (playerDF.result == 0),'dmgshare'].hist(color='red', alpha = .5, bins = 40)\n",
    "\n",
    "plt.show()"
   ]
  },
  {
   "cell_type": "code",
   "execution_count": 116,
   "metadata": {
    "slideshow": {
     "slide_type": "subslide"
    }
   },
   "outputs": [
    {
     "name": "stdout",
     "output_type": "stream",
     "text": [
      "0.36261828979961735\n"
     ]
    }
   ],
   "source": [
    "print(playerDF.loc[(playerDF.position == 'ADC'),'dmgshare'].quantile(.9))"
   ]
  },
  {
   "cell_type": "code",
   "execution_count": 117,
   "metadata": {
    "slideshow": {
     "slide_type": "fragment"
    }
   },
   "outputs": [
    {
     "name": "stdout",
     "output_type": "stream",
     "text": [
      "                              gameid                 team  dmgshare  hyper\n",
      "13748                     1001670139               Origen  0.304271  False\n",
      "1767                      1001480009               Giants  0.302492  False\n",
      "17847                     1001690146               Roccat  0.274664  False\n",
      "13664                     1001670118               Splyce  0.243194  False\n",
      "41871                     1002130330          Team Liquid  0.248797  False\n",
      "32525  2017-123Vici GamingQG Reapers           QG Reapers       NaN  False\n",
      "38832      2017-162LGD GamingTeam WE           LGD Gaming       NaN  False\n",
      "32576                          40515  Jin Air Green Wings  0.310699  False\n",
      "58968               2017-271I MayOMG                I May       NaN  False\n",
      "11919                     1001660126               Giants  0.212382  False\n"
     ]
    }
   ],
   "source": [
    "hyperDF = playerDF.loc[(playerDF.position == 'ADC'),['gameid', 'team', 'dmgshare']].copy()\n",
    "hyperDF['hyper'] = False\n",
    "hyperDF.loc[(hyperDF.dmgshare >= .36),'hyper'] = True\n",
    "print(hyperDF.sample(10))\n",
    "hyperDF.drop('dmgshare', axis = 'columns', inplace = True)"
   ]
  },
  {
   "cell_type": "code",
   "execution_count": 118,
   "metadata": {
    "slideshow": {
     "slide_type": "subslide"
    }
   },
   "outputs": [
    {
     "name": "stdout",
     "output_type": "stream",
     "text": [
      "                             result  some_dmg  mid_dmg  high_dmg  hyper\n",
      "gameid  team                                                           \n",
      "1000029 Jin Air Green Wings       1       2.0      1.0       1.0   True\n",
      "        SBENU Sonicboom           0       4.0      0.0       0.0  False\n",
      "1000116 CJ Entus                  1       2.0      1.0       0.0  False\n",
      "        SBENU Sonicboom           0       2.0      1.0       1.0  False\n",
      "1000306 Kongdoo Monster           0       2.0      2.0       0.0  False\n",
      "        Longzhu Gaming            1       3.0      1.0       0.0   True\n",
      "1000316 Kongdoo Monster           0       2.0      2.0       0.0  False\n",
      "        Longzhu Gaming            1       2.0      1.0       0.0  False\n",
      "1000320 Jin Air Green Wings       1       3.0      0.0       0.0  False\n",
      "        KT Rolster                0       2.0      1.0       0.0  False\n"
     ]
    }
   ],
   "source": [
    "hyperDF.set_index(['gameid', 'team'], inplace = True)\n",
    "hyperDF.sort_index(inplace = True)\n",
    "dmg_teamDF = dmg_teamDF.join(hyperDF)\n",
    "\n",
    "print(dmg_teamDF.head(10))"
   ]
  },
  {
   "cell_type": "code",
   "execution_count": 119,
   "metadata": {
    "slideshow": {
     "slide_type": "subslide"
    }
   },
   "outputs": [
    {
     "data": {
      "image/png": "[encoded data removed]",
      "text/plain": [
       "<matplotlib.figure.Figure at 0x8240e05a20>"
      ]
     },
     "metadata": {},
     "output_type": "display_data"
    }
   ],
   "source": [
    "d_corr = dmg_teamDF.corr()\n",
    "sns.heatmap(d_corr, \n",
    "            xticklabels=d_corr.columns.values,\n",
    "            yticklabels=d_corr.columns.values)\n",
    "plt.show()"
   ]
  },
  {
   "cell_type": "code",
   "execution_count": 122,
   "metadata": {
    "slideshow": {
     "slide_type": "subslide"
    }
   },
   "outputs": [
    {
     "data": {
      "image/png": "[encoded data removed]",
      "text/plain": [
       "<matplotlib.figure.Figure at 0x824157c6d8>"
      ]
     },
     "metadata": {},
     "output_type": "display_data"
    }
   ],
   "source": [
    "ay = sns.factorplot( x=\"hyper\", col = 'result', data=dmg_teamDF, kind = 'count', margin_titles = True);\n",
    "\n",
    "plt.show()"
   ]
  },
  {
   "cell_type": "code",
   "execution_count": 140,
   "metadata": {
    "slideshow": {
     "slide_type": "fragment"
    }
   },
   "outputs": [
    {
     "name": "stdout",
     "output_type": "stream",
     "text": [
      "0.546694648478489\n"
     ]
    },
    {
     "data": {
      "text/plain": [
       "Ttest_indResult(statistic=3.0204944177514403, pvalue=0.0025295356669416767)"
      ]
     },
     "execution_count": 140,
     "metadata": {},
     "output_type": "execute_result"
    }
   ],
   "source": [
    "print(dmg_teamDF.loc[(dmg_teamDF.hyper == True), 'result'].mean())\n",
    "\n",
    "carry = dmg_teamDF[dmg_teamDF['hyper'] == True]['result']\n",
    "no_carry = dmg_teamDF[dmg_teamDF['hyper'] == False]['result']\n",
    "stats.ttest_ind(carry, no_carry)"
   ]
  },
  {
   "cell_type": "code",
   "execution_count": 147,
   "metadata": {
    "slideshow": {
     "slide_type": "skip"
    }
   },
   "outputs": [
    {
     "data": {
      "image/png": "[encoded data removed]",
      "text/plain": [
       "<matplotlib.figure.Figure at 0xc607f9dc18>"
      ]
     },
     "metadata": {},
     "output_type": "display_data"
    }
   ],
   "source": [
    "teamDF.dmgtochampsperminute.hist(bins = 20)\n",
    "plt.show()\n",
    "#  'quality',\n",
    "#  'pace',\n",
    "#  'aggression',\n",
    "#  'opp_quality']"
   ]
  },
  {
   "cell_type": "code",
   "execution_count": 149,
   "metadata": {
    "slideshow": {
     "slide_type": "skip"
    }
   },
   "outputs": [
    {
     "data": {
      "image/png": "[encoded data removed]",
      "text/plain": [
       "<matplotlib.figure.Figure at 0xc60807f0b8>"
      ]
     },
     "metadata": {},
     "output_type": "display_data"
    }
   ],
   "source": [
    "teamDF.ckpm.hist(bins = 20)\n",
    "plt.show()"
   ]
  },
  {
   "cell_type": "code",
   "execution_count": 99,
   "metadata": {
    "slideshow": {
     "slide_type": "slide"
    }
   },
   "outputs": [
    {
     "data": {
      "text/html": [
       "<div>\n",
       "<style>\n",
       "    .dataframe thead tr:only-child th {\n",
       "        text-align: right;\n",
       "    }\n",
       "\n",
       "    .dataframe thead th {\n",
       "        text-align: left;\n",
       "    }\n",
       "\n",
       "    .dataframe tbody tr th {\n",
       "        vertical-align: top;\n",
       "    }\n",
       "</style>\n",
       "<table border=\"1\" class=\"dataframe\">\n",
       "  <thead>\n",
       "    <tr style=\"text-align: right;\">\n",
       "      <th></th>\n",
       "      <th></th>\n",
       "      <th>result</th>\n",
       "      <th>some_dmg</th>\n",
       "      <th>mid_dmg</th>\n",
       "      <th>high_dmg</th>\n",
       "    </tr>\n",
       "    <tr>\n",
       "      <th>gameid</th>\n",
       "      <th>team</th>\n",
       "      <th></th>\n",
       "      <th></th>\n",
       "      <th></th>\n",
       "      <th></th>\n",
       "    </tr>\n",
       "  </thead>\n",
       "  <tbody>\n",
       "    <tr>\n",
       "      <th rowspan=\"2\" valign=\"top\">1000029</th>\n",
       "      <th>Jin Air Green Wings</th>\n",
       "      <td>1</td>\n",
       "      <td>2.0</td>\n",
       "      <td>1.0</td>\n",
       "      <td>1.0</td>\n",
       "    </tr>\n",
       "    <tr>\n",
       "      <th>SBENU Sonicboom</th>\n",
       "      <td>0</td>\n",
       "      <td>4.0</td>\n",
       "      <td>0.0</td>\n",
       "      <td>0.0</td>\n",
       "    </tr>\n",
       "    <tr>\n",
       "      <th rowspan=\"2\" valign=\"top\">1000116</th>\n",
       "      <th>CJ Entus</th>\n",
       "      <td>1</td>\n",
       "      <td>2.0</td>\n",
       "      <td>1.0</td>\n",
       "      <td>0.0</td>\n",
       "    </tr>\n",
       "    <tr>\n",
       "      <th>SBENU Sonicboom</th>\n",
       "      <td>0</td>\n",
       "      <td>2.0</td>\n",
       "      <td>1.0</td>\n",
       "      <td>1.0</td>\n",
       "    </tr>\n",
       "    <tr>\n",
       "      <th rowspan=\"2\" valign=\"top\">1000306</th>\n",
       "      <th>Kongdoo Monster</th>\n",
       "      <td>0</td>\n",
       "      <td>2.0</td>\n",
       "      <td>2.0</td>\n",
       "      <td>0.0</td>\n",
       "    </tr>\n",
       "    <tr>\n",
       "      <th>Longzhu Gaming</th>\n",
       "      <td>1</td>\n",
       "      <td>3.0</td>\n",
       "      <td>1.0</td>\n",
       "      <td>0.0</td>\n",
       "    </tr>\n",
       "    <tr>\n",
       "      <th rowspan=\"2\" valign=\"top\">1000316</th>\n",
       "      <th>Kongdoo Monster</th>\n",
       "      <td>0</td>\n",
       "      <td>2.0</td>\n",
       "      <td>2.0</td>\n",
       "      <td>0.0</td>\n",
       "    </tr>\n",
       "    <tr>\n",
       "      <th>Longzhu Gaming</th>\n",
       "      <td>1</td>\n",
       "      <td>2.0</td>\n",
       "      <td>1.0</td>\n",
       "      <td>0.0</td>\n",
       "    </tr>\n",
       "    <tr>\n",
       "      <th rowspan=\"2\" valign=\"top\">1000320</th>\n",
       "      <th>Jin Air Green Wings</th>\n",
       "      <td>1</td>\n",
       "      <td>3.0</td>\n",
       "      <td>0.0</td>\n",
       "      <td>0.0</td>\n",
       "    </tr>\n",
       "    <tr>\n",
       "      <th>KT Rolster</th>\n",
       "      <td>0</td>\n",
       "      <td>2.0</td>\n",
       "      <td>1.0</td>\n",
       "      <td>0.0</td>\n",
       "    </tr>\n",
       "  </tbody>\n",
       "</table>\n",
       "</div>"
      ],
      "text/plain": [
       "                             result  some_dmg  mid_dmg  high_dmg\n",
       "gameid  team                                                    \n",
       "1000029 Jin Air Green Wings       1       2.0      1.0       1.0\n",
       "        SBENU Sonicboom           0       4.0      0.0       0.0\n",
       "1000116 CJ Entus                  1       2.0      1.0       0.0\n",
       "        SBENU Sonicboom           0       2.0      1.0       1.0\n",
       "1000306 Kongdoo Monster           0       2.0      2.0       0.0\n",
       "        Longzhu Gaming            1       3.0      1.0       0.0\n",
       "1000316 Kongdoo Monster           0       2.0      2.0       0.0\n",
       "        Longzhu Gaming            1       2.0      1.0       0.0\n",
       "1000320 Jin Air Green Wings       1       3.0      0.0       0.0\n",
       "        KT Rolster                0       2.0      1.0       0.0"
      ]
     },
     "execution_count": 99,
     "metadata": {},
     "output_type": "execute_result"
    }
   ],
   "source": [
    "dmgDF = playerDF[['gameid', 'team', 'position', 'dmgshare']].copy()\n",
    "\n",
    "dmgDF.loc[dmgDF.dmgshare < 0.20, 'some_dmg'] = 0\n",
    "dmgDF.loc[dmgDF.dmgshare >= 0.20, 'some_dmg'] = 1\n",
    "\n",
    "dmgDF.loc[dmgDF.dmgshare < 0.3, 'mid_dmg'] = 0\n",
    "dmgDF.loc[dmgDF.dmgshare >= 0.3, 'mid_dmg'] = 1\n",
    "\n",
    "dmgDF.loc[dmgDF.dmgshare < 0.4, 'high_dmg'] = 0\n",
    "dmgDF.loc[dmgDF.dmgshare >= 0.4, 'high_dmg'] = 1\n",
    "\n",
    "dmgDF.drop(['position', 'dmgshare'], axis = 1, inplace = True)\n",
    "dmgDF.set_index(['gameid', 'team'], inplace = True)\n",
    "dmgDF.sort_index(inplace=True)\n",
    "\n",
    "dmgDF = dmgDF.groupby(dmgDF.index).sum()\n",
    "\n",
    "dmgDF.index = pd.MultiIndex.from_tuples(dmgDF.index, names=['gameid', 'team'])\n",
    "dmgDF.head(20)\n",
    "\n",
    "dmg_teamDF = teamDF[['gameid', 'team', 'result']].copy()\n",
    "dmg_teamDF.set_index(['gameid', 'team'], inplace = True)\n",
    "dmg_teamDF.sort_index(inplace=True)\n",
    "dmg_teamDF = dmg_teamDF.join(dmgDF)\n",
    "\n",
    "dmg_teamDF.head(10)\n"
   ]
  },
  {
   "cell_type": "code",
   "execution_count": 100,
   "metadata": {
    "slideshow": {
     "slide_type": "subslide"
    }
   },
   "outputs": [
    {
     "data": {
      "text/plain": [
       "result      1.000000\n",
       "some_dmg    0.019330\n",
       "mid_dmg     0.041745\n",
       "high_dmg    0.014653\n",
       "Name: result, dtype: float64"
      ]
     },
     "execution_count": 100,
     "metadata": {},
     "output_type": "execute_result"
    }
   ],
   "source": [
    "d_corr = dmg_teamDF.corr()\n",
    "d_corr.result"
   ]
  },
  {
   "cell_type": "code",
   "execution_count": 101,
   "metadata": {
    "slideshow": {
     "slide_type": "subslide"
    }
   },
   "outputs": [
    {
     "data": {
      "image/png": "[encoded data removed]",
      "text/plain": [
       "<matplotlib.figure.Figure at 0x82410a2dd8>"
      ]
     },
     "metadata": {},
     "output_type": "display_data"
    }
   ],
   "source": [
    "sns.heatmap(d_corr, \n",
    "            xticklabels=d_corr.columns.values,\n",
    "            yticklabels=d_corr.columns.values)\n",
    "plt.show()"
   ]
  },
  {
   "cell_type": "code",
   "execution_count": 103,
   "metadata": {
    "slideshow": {
     "slide_type": "subslide"
    }
   },
   "outputs": [
    {
     "data": {
      "text/html": [
       "<div>\n",
       "<style>\n",
       "    .dataframe thead tr:only-child th {\n",
       "        text-align: right;\n",
       "    }\n",
       "\n",
       "    .dataframe thead th {\n",
       "        text-align: left;\n",
       "    }\n",
       "\n",
       "    .dataframe tbody tr th {\n",
       "        vertical-align: top;\n",
       "    }\n",
       "</style>\n",
       "<table border=\"1\" class=\"dataframe\">\n",
       "  <thead>\n",
       "    <tr style=\"text-align: right;\">\n",
       "      <th></th>\n",
       "      <th>result</th>\n",
       "      <th>some_dmg</th>\n",
       "      <th>mid_dmg</th>\n",
       "      <th>high_dmg</th>\n",
       "    </tr>\n",
       "  </thead>\n",
       "  <tbody>\n",
       "    <tr>\n",
       "      <th>count</th>\n",
       "      <td>10782.000000</td>\n",
       "      <td>9020.000000</td>\n",
       "      <td>9020.000000</td>\n",
       "      <td>9020.000000</td>\n",
       "    </tr>\n",
       "    <tr>\n",
       "      <th>mean</th>\n",
       "      <td>0.500000</td>\n",
       "      <td>2.441131</td>\n",
       "      <td>0.808093</td>\n",
       "      <td>0.113969</td>\n",
       "    </tr>\n",
       "    <tr>\n",
       "      <th>std</th>\n",
       "      <td>0.500023</td>\n",
       "      <td>0.636661</td>\n",
       "      <td>0.571024</td>\n",
       "      <td>0.317791</td>\n",
       "    </tr>\n",
       "    <tr>\n",
       "      <th>min</th>\n",
       "      <td>0.000000</td>\n",
       "      <td>1.000000</td>\n",
       "      <td>0.000000</td>\n",
       "      <td>0.000000</td>\n",
       "    </tr>\n",
       "    <tr>\n",
       "      <th>25%</th>\n",
       "      <td>0.000000</td>\n",
       "      <td>2.000000</td>\n",
       "      <td>0.000000</td>\n",
       "      <td>0.000000</td>\n",
       "    </tr>\n",
       "    <tr>\n",
       "      <th>50%</th>\n",
       "      <td>0.500000</td>\n",
       "      <td>2.000000</td>\n",
       "      <td>1.000000</td>\n",
       "      <td>0.000000</td>\n",
       "    </tr>\n",
       "    <tr>\n",
       "      <th>75%</th>\n",
       "      <td>1.000000</td>\n",
       "      <td>3.000000</td>\n",
       "      <td>1.000000</td>\n",
       "      <td>0.000000</td>\n",
       "    </tr>\n",
       "    <tr>\n",
       "      <th>max</th>\n",
       "      <td>1.000000</td>\n",
       "      <td>5.000000</td>\n",
       "      <td>2.000000</td>\n",
       "      <td>1.000000</td>\n",
       "    </tr>\n",
       "  </tbody>\n",
       "</table>\n",
       "</div>"
      ],
      "text/plain": [
       "             result     some_dmg      mid_dmg     high_dmg\n",
       "count  10782.000000  9020.000000  9020.000000  9020.000000\n",
       "mean       0.500000     2.441131     0.808093     0.113969\n",
       "std        0.500023     0.636661     0.571024     0.317791\n",
       "min        0.000000     1.000000     0.000000     0.000000\n",
       "25%        0.000000     2.000000     0.000000     0.000000\n",
       "50%        0.500000     2.000000     1.000000     0.000000\n",
       "75%        1.000000     3.000000     1.000000     0.000000\n",
       "max        1.000000     5.000000     2.000000     1.000000"
      ]
     },
     "execution_count": 103,
     "metadata": {},
     "output_type": "execute_result"
    }
   ],
   "source": [
    "dmg_teamDF.describe()"
   ]
  },
  {
   "cell_type": "code",
   "execution_count": 104,
   "metadata": {
    "slideshow": {
     "slide_type": "subslide"
    }
   },
   "outputs": [
    {
     "data": {
      "text/plain": [
       "0.5204280155642024"
      ]
     },
     "execution_count": 104,
     "metadata": {},
     "output_type": "execute_result"
    }
   ],
   "source": [
    "dmg_teamDF.loc[dmg_teamDF.high_dmg > 0, 'result'].mean()"
   ]
  },
  {
   "cell_type": "code",
   "execution_count": 106,
   "metadata": {
    "slideshow": {
     "slide_type": "fragment"
    }
   },
   "outputs": [
    {
     "data": {
      "text/plain": [
       "Ttest_indResult(statistic=1.3916394750601777, pvalue=0.16406592280702423)"
      ]
     },
     "execution_count": 106,
     "metadata": {},
     "output_type": "execute_result"
    }
   ],
   "source": [
    "carry = dmg_teamDF[dmg_teamDF['high_dmg'] > 0]['result']\n",
    "no_carry = dmg_teamDF[dmg_teamDF['high_dmg'] == 0]['result']\n",
    "stats.ttest_ind(carry, no_carry)"
   ]
  },
  {
   "cell_type": "code",
   "execution_count": 107,
   "metadata": {
    "slideshow": {
     "slide_type": "subslide"
    }
   },
   "outputs": [
    {
     "data": {
      "image/png": "[encoded data removed]",
      "text/plain": [
       "<matplotlib.figure.Figure at 0x824160da58>"
      ]
     },
     "metadata": {},
     "output_type": "display_data"
    }
   ],
   "source": [
    "ay = sns.factorplot( x=\"some_dmg\", col = 'high_dmg', row = 'result', data=dmg_teamDF, kind = 'count', margin_titles = True);\n",
    "\n",
    "plt.show()"
   ]
  },
  {
   "cell_type": "code",
   "execution_count": 108,
   "metadata": {
    "slideshow": {
     "slide_type": "subslide"
    }
   },
   "outputs": [
    {
     "data": {
      "image/png": "[encoded data removed]",
      "text/plain": [
       "<matplotlib.figure.Figure at 0x8240cac668>"
      ]
     },
     "metadata": {},
     "output_type": "display_data"
    }
   ],
   "source": [
    "ay = sns.factorplot( x=\"mid_dmg\", col = 'high_dmg', row = 'result', data=dmg_teamDF, kind = 'count', margin_titles = True);\n",
    "\n",
    "plt.show()"
   ]
  },
  {
   "cell_type": "code",
   "execution_count": 109,
   "metadata": {
    "slideshow": {
     "slide_type": "subslide"
    }
   },
   "outputs": [
    {
     "data": {
      "image/png": "[encoded data removed]",
      "text/plain": [
       "<matplotlib.figure.Figure at 0x8240e56a58>"
      ]
     },
     "metadata": {},
     "output_type": "display_data"
    }
   ],
   "source": [
    "ay = sns.factorplot( x=\"some_dmg\", col = 'mid_dmg', row = 'result', data=dmg_teamDF, kind = 'count', margin_titles = True);\n",
    "\n",
    "plt.show()"
   ]
  },
  {
   "cell_type": "code",
   "execution_count": 111,
   "metadata": {
    "slideshow": {
     "slide_type": "subslide"
    }
   },
   "outputs": [],
   "source": [
    "# plt.figure(figsize=(20,10))\n",
    "# plt.subplot(2,2,1)\n",
    "# ax = sns.countplot(x=\"quality\", hue=\"pace\", data=teamDF[teamDF['result'] == 1])\n",
    "\n",
    "# plt.subplot(2,2,2)\n",
    "# ay = sns.countplot(hue=\"aggression\", x=\"pace\", data=teamDF[teamDF['result'] == 1])\n",
    "\n",
    "# plt.subplot(2,2,3)\n",
    "# ay = sns.countplot(hue=\"aggression\", x=\"quality\", data=teamDF[teamDF['result'] == 1])\n",
    "\n",
    "# plt.show()"
   ]
  },
  {
   "cell_type": "code",
   "execution_count": 81,
   "metadata": {
    "collapsed": true,
    "slideshow": {
     "slide_type": "skip"
    }
   },
   "outputs": [],
   "source": [
    "# ay = sns.factorplot( x=\"dmgshare\", col = 'position', row = 'result', data=playerDF, kind = 'count', margin_titles = True);\n",
    "\n",
    "# plt.show()"
   ]
  }
 ],
 "metadata": {
  "celltoolbar": "Slideshow",
  "kernelspec": {
   "display_name": "Python 3",
   "language": "python",
   "name": "python3"
  },
  "language_info": {
   "codemirror_mode": {
    "name": "ipython",
    "version": 3
   },
   "file_extension": ".py",
   "mimetype": "text/x-python",
   "name": "python",
   "nbconvert_exporter": "python",
   "pygments_lexer": "ipython3",
   "version": "3.6.1"
  }
 },
 "nbformat": 4,
 "nbformat_minor": 2
}
