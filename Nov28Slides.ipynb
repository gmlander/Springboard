{
 "cells": [
  {
   "cell_type": "markdown",
   "metadata": {
    "slideshow": {
     "slide_type": "slide"
    }
   },
   "source": [
    "<div style=\"text-align: right\">**November 28th**</div>\n",
    "***\n",
    "# <center>Pre-Game Regression</center>"
   ]
  },
  {
   "cell_type": "markdown",
   "metadata": {
    "slideshow": {
     "slide_type": "slide"
    }
   },
   "source": [
    "Today's meeting will focus on building and improving upon a model for pre-game outcome prediction, meaning a model that only uses features that are known before the game begins as predictors. Things like champion selections, team quality, opponent quality, and intended playstyles.\n",
    "\n",
    "To build this model I will:\n",
    "\n",
    "- Establish a baseline regression for both a complete feature DF and a pre-game feature DF.\n",
    "- Update the pre-game feature DF by:\n",
    "    - <span style=\"color:blue\">Creating new categorical champion selections through k-means clustering.</span>\n",
    "    - <span style=\"color:blue\">Expanding/updating existing categoricals such as team/opponent quality.</span>\n",
    "    - <span style=\"color:blue\">(If time permits) Run a second k-means cluster on the clustering derived champion categoricals grouped by team and gameid to identify styles of team composition.</span>\n",
    "\n",
    "\n",
    "- (If time permits) Evaluate all of the derived clusters and implement more interprettable labels for each.\n",
    "- Run a new pre-game regression to test the usefulness of the derived features."
   ]
  },
  {
   "cell_type": "markdown",
   "metadata": {
    "slideshow": {
     "slide_type": "slide"
    }
   },
   "source": [
    "#### Import modules and dataframes\n",
    "***"
   ]
  },
  {
   "cell_type": "code",
   "execution_count": 80,
   "metadata": {
    "collapsed": true,
    "slideshow": {
     "slide_type": "fragment"
    }
   },
   "outputs": [],
   "source": [
    "%store -r teamDF\n",
    "%store -r norm_teamDF\n",
    "%store -r playerDF\n",
    "%store -r new_featuresDF\n",
    "\n",
    "\n",
    "import pandas as pd\n",
    "import numpy as np\n",
    "import matplotlib.pyplot as plt\n",
    "import seaborn as sns\n",
    "\n",
    "from sklearn.linear_model import LogisticRegression, Ridge, RidgeCV, ElasticNet, LassoCV, LassoLarsCV\n",
    "from sklearn.model_selection import train_test_split, cross_val_score\n",
    "from sklearn.metrics import classification_report, confusion_matrix\n",
    "from sklearn.preprocessing import StandardScaler\n",
    "from sklearn.cluster import KMeans\n",
    "\n",
    "from scipy import stats\n",
    "from scipy.stats import skew\n",
    "from scipy.stats.stats import pearsonr"
   ]
  },
  {
   "cell_type": "markdown",
   "metadata": {
    "slideshow": {
     "slide_type": "slide"
    }
   },
   "source": [
    "#### Establish baselines (full-feature DF):\n",
    "***\n",
    "\n",
    "Again, I'll set the regressors and split the data into train and test."
   ]
  },
  {
   "cell_type": "code",
   "execution_count": 191,
   "metadata": {
    "collapsed": true,
    "slideshow": {
     "slide_type": "fragment"
    }
   },
   "outputs": [],
   "source": [
    "vif_reducers = ['result','elementals', 'k', 'd', 'ckpm', 'fbvictim',\n",
    "                                               'gdat10', 'gdat15', 'xpdat10', 'wards', 'minionkills',\n",
    "                                               'totalgold','gamelength', 'dmgtochamps', 'teamkills', 'teamdeaths',\n",
    "                                                      'wardkills', 'monsterkills','goldspent', 'league', 'split',\n",
    "                                                      'week', 'game', 'patchno', 'playerid', 'position', 'player', 'champion']\n",
    "regressors = list(set(list(norm_teamDF)) - set(vif_reducers))\n",
    "X = norm_teamDF.loc[:, regressors]\n",
    "y = norm_teamDF.loc[:,'result']"
   ]
  },
  {
   "cell_type": "markdown",
   "metadata": {
    "slideshow": {
     "slide_type": "slide"
    }
   },
   "source": [
    "#### Establish baselines (full-feature DF):\n",
    "***\n",
    "\n",
    "Then, I'll rebuild the model and pass it to sklearn's cross_val_score to view an array of accuracies across each of the logistic regressions."
   ]
  },
  {
   "cell_type": "code",
   "execution_count": 46,
   "metadata": {
    "slideshow": {
     "slide_type": "fragment"
    }
   },
   "outputs": [
    {
     "name": "stdout",
     "output_type": "stream",
     "text": [
      "The CV accuracies were: [ 0.9832246   0.99068034  0.98695247  0.97947761  0.98600746  0.97574627\n",
      "  0.98225957  0.97665733  0.97945845  0.99159664]\n",
      "\n",
      "With a mean accuracy of 0.9832060741212372, a minimum of 0.9757462686567164, and a maximum of 0.9915966386554622\n"
     ]
    }
   ],
   "source": [
    "lr = LogisticRegression()    \n",
    "scores = cross_val_score(lr, X, y, cv=10)\n",
    "\n",
    "print(\"The CV accuracies were:\", scores)\n",
    "print(\"\\nWith a mean accuracy of {}, a minimum of {}, and a maximum of {}\".format(scores.mean(), min(scores), max(scores)))"
   ]
  },
  {
   "cell_type": "markdown",
   "metadata": {
    "slideshow": {
     "slide_type": "slide"
    }
   },
   "source": [
    "#### Establish baselines (full-feature DF):\n",
    "***\n",
    "\n",
    "As before, this is an extremely accurate model for predicting the winner of games. But, also as before, this is not entirely usefull because it relies on information that reflects how the team is already doing in the game. Since the ultimate goal of this study is to unearth information that informs strategic decision making for an organization, this last model would be the equivalent of telling a basketball team that the ideal strategy to win is scoring more points than your opponent.\n",
    "\n",
    "With that in mind, I'll construct the same model using only information available at the start of the game."
   ]
  },
  {
   "cell_type": "markdown",
   "metadata": {
    "slideshow": {
     "slide_type": "slide"
    }
   },
   "source": [
    "#### Establish baselines (pre-game DF):\n",
    "***\n",
    "\n",
    "First I'll determine which features represent in-game data and remove them."
   ]
  },
  {
   "cell_type": "code",
   "execution_count": 23,
   "metadata": {
    "slideshow": {
     "slide_type": "fragment"
    }
   },
   "outputs": [
    {
     "name": "stdout",
     "output_type": "stream",
     "text": [
      "['fbtime', 'teambaronkills', 'opp_quality_Fair', 'pace_Walk', 'elders', 'xpat10', 'opp_quality_Good', 'opp_quality_Poor', 'herald', 'goldat15', 'quality_Good', 'earthdrakes', 'fb', 'opptowerkills', 'gspd', 'winRate', 'pace_Amble', 'heraldtime', 'aggression_Wild', 'quality_Great', 'quality_Poor', 'oppxpat10', 'aggression_Moderate', 'aggression_Frisky', 'wpm', 'oppgoldat15', 'pace_Sprint', 'goldat10', 'fbaron', 'wardshare', 'totalGames', 'ft', 'a', 'oppelementals', 'fd', 'invisiblewardclearrate', 'wcpm', 'fbarontime', 'aggression_Alert', 'airdrakes', 'dmgtochampsperminute', 'visionwards', 'firsttothreetowers', 'side_Red', 'fttime', 'firedrakes', 'quality_Fair', 'kpm', 'oppelders', 'monsterkillsownjungle', 'waterdrakes', 'monsterkillsenemyjungle', 'oppbaronkills', 'okpm', 'visionwardbuys', 'oppdragkills', 'fdtime', 'date', 'firstmidouter', 'opp_quality_Great', 'earnedgpm', 'pace_Trot', 'cspm', 'teamdragkills', 'fbassist', 'oppgoldat10', 'visiblewardclearrate', 'teamtowerkills']\n"
     ]
    }
   ],
   "source": [
    "not_dummies = [c for c in list(X) if not any(d in c for d in ['ban', 'Jungle_', 'Middle_', 'Support_', 'Top_', 'ADC_'])]\n",
    "print(not_dummies)"
   ]
  },
  {
   "cell_type": "markdown",
   "metadata": {
    "slideshow": {
     "slide_type": "fragment"
    }
   },
   "source": [
    "Unfortunately, no way to do this besides manually."
   ]
  },
  {
   "cell_type": "code",
   "execution_count": 190,
   "metadata": {
    "slideshow": {
     "slide_type": "slide"
    }
   },
   "outputs": [
    {
     "name": "stdout",
     "output_type": "stream",
     "text": [
      "Kept features: ['opp_quality_Fair', 'pace_Walk', 'opp_quality_Good', 'opp_quality_Poor', 'quality_Good', 'winRate', 'pace_Amble', 'aggression_Wild', 'quality_Great', 'quality_Poor', 'aggression_Moderate', 'aggression_Frisky', 'wpm', 'pace_Sprint', 'totalGames', 'invisiblewardclearrate', 'wcpm', 'fbarontime', 'aggression_Alert', 'visionwards', 'side_Red', 'quality_Fair', 'visionwardbuys', 'opp_quality_Great', 'pace_Trot', 'visiblewardclearrate']\n"
     ]
    }
   ],
   "source": [
    "in_game_feats = ['fbtime', 'teambaronkills', 'elders', 'xpat10', 'herald', 'goldat15',\n",
    "                                           'earthdrakes', 'fb', 'opptowerkills', 'gspd', 'heraldtime', 'oppxpat10',\n",
    "                                           'oppgoldat15', 'goldat10', 'fbaron','wardshare', 'ft', 'a', 'oppelementals',\n",
    "                                           'fd', 'fbarontimme', 'airdrakes','dmgtochampsperminute', 'firsttothreetowers',\n",
    "                                           'fttime', 'firedrakes', 'kpm', 'oppelders', 'monsterkillsownjungle',\n",
    "                                           'waterdrakes', 'monsterkillsenemyjungle','oppbaronkills', 'okpm', 'oppdragkills',\n",
    "                                           'fdtime', 'date', 'firstmidouter','earnedgpm', 'cspm', 'teamdragkills',\n",
    "                                           'fbassist','oppgoldat10', 'teamtowerkills']\n",
    "pg_regressors = list(set(regressors) - set(in_game_feats))\n",
    "\n",
    "print('Kept features:', [c for c in pg_regressors if not any(d in c for d in ['ban', 'Jungle_', 'Middle_', 'Support_', 'Top_', 'ADC_'])])"
   ]
  },
  {
   "cell_type": "markdown",
   "metadata": {
    "slideshow": {
     "slide_type": "fragment"
    }
   },
   "source": [
    "I'd like to keep ward type features (wpm, invisblewardclearrate, visiblewardclearrate, visionwards, visionwardbuys, and wcpm) as vision control can be a strategic decision, but these features are also influenced by how the game is going. The winning team has more map control and thus can place more wards or have the freedom to clear more. Depending on how strong their coefficients are, I may change.\n",
    "\n",
    "Other features that were dropped but can also reflect strategic choices:\n",
    "- jungle control (monsterkillsownjungle, monsterkillsenemyjungle)\n",
    "- neutral objective control (baron, dragon, and harold related features)\n",
    "- early game priority (first blood, first turret features, and gold/xp at 10 minutes)\n",
    "\n",
    "I felt these features were more influenced by how the game was already unfolding, but I believe they can also be strategic priorities. I will possible do another analysis with these features included but only evaluated observations that are close games as determined by gspd. Hopefully, the clustering of team compositions will naturally absorb some of this information to reflect a team's predetermined objective and vision control priorities (for instance, teams with tanky supports for vision, high single target damage for objective control, high mobility jungle and solo-laners for jungle control, pick compositions for early game, etc).\n",
    "\n",
    "**ERROR NOTE: Categoricals from original dataframe encoded as 0 or 1 and stored as a numeric datatype were unintentionally normalized (such as fb, fbtime, fbassist). This will have to be corrected and earlier analysis reevaluated to see how much more or less importance the model gives these values.**"
   ]
  },
  {
   "cell_type": "markdown",
   "metadata": {
    "slideshow": {
     "slide_type": "slide"
    }
   },
   "source": [
    "#### Establish baseline (pre-game DF):\n",
    "***\n",
    "\n",
    "Now to see how the regression performs with this limited, mostly categorical data."
   ]
  },
  {
   "cell_type": "code",
   "execution_count": 47,
   "metadata": {
    "slideshow": {
     "slide_type": "fragment"
    }
   },
   "outputs": [
    {
     "name": "stdout",
     "output_type": "stream",
     "text": [
      "The CV accuracies were: [ 0.72320596  0.71854613  0.70177074  0.71828358  0.74533582  0.67070896\n",
      "  0.61344538  0.7254902   0.7254902   0.76097106]\n",
      "\n",
      "With a mean accuracy of 0.7103248016783786, a minimum of 0.6134453781512605, and a maximum of 0.7609710550887021\n"
     ]
    }
   ],
   "source": [
    "pg_X = norm_teamDF.loc[:, pg_regressors]\n",
    "pg_y = norm_teamDF.loc[:,'result']\n",
    "pg_lr = LogisticRegression()\n",
    "\n",
    "pg_scores = cross_val_score(pg_lr, pg_X, pg_y, cv=10)\n",
    "print(\"The CV accuracies were:\", pg_scores)\n",
    "print(\"\\nWith a mean accuracy of {}, a minimum of {}, and a maximum of {}\".format(pg_scores.mean(),\n",
    "                                                                                  min(pg_scores), max(pg_scores)))"
   ]
  },
  {
   "cell_type": "markdown",
   "metadata": {
    "slideshow": {
     "slide_type": "fragment"
    }
   },
   "source": [
    "Definitely less accurate. Let's take a glance at what features the model is prioritizing."
   ]
  },
  {
   "cell_type": "code",
   "execution_count": 79,
   "metadata": {
    "slideshow": {
     "slide_type": "slide"
    }
   },
   "outputs": [
    {
     "data": {
      "image/png": "[encoded data removed]",
      "text/plain": [
       "<matplotlib.figure.Figure at 0x5c843f5630>"
      ]
     },
     "metadata": {},
     "output_type": "display_data"
    }
   ],
   "source": [
    "pg_X_train, pg_X_test, pg_y_train, pg_y_test = train_test_split(pg_X, pg_y, test_size = .25, random_state=10)\n",
    "test.fit(pg_X_train, pg_y_train)\n",
    "coef = pd.Series(test.coef_[0], index = pg_X_train.columns)\n",
    "imp_coefs = pd.concat([coef.sort_values().head(10),\n",
    "                     coef.sort_values().tail(10)])\n",
    "\n",
    "plt.figure(figsize=(12, 6))\n",
    "plt.subplot(121)\n",
    "imp_coefs.plot(kind = \"barh\")\n",
    "plt.suptitle(\"Coefficients in the Model\")\n",
    "\n",
    "plt.subplot(122)\n",
    "coef.hist(bins = 25)\n",
    "\n",
    "plt.show()"
   ]
  },
  {
   "cell_type": "markdown",
   "metadata": {
    "slideshow": {
     "slide_type": "fragment"
    }
   },
   "source": [
    "There's a lot of noise in this. While it is useful to see that ward clearing and opponent quality are important predictors, many of the dummy variables are likely receiving higher values than they rightly deserve due to limited observations (ie, support Shen was probably only played in a few games and it happened to win one or two of them). Another argument for clustering the champion selections.\n",
    "\n",
    "Also, Top_Teemo should probably be closer to -$\\infty$, so something is amiss."
   ]
  },
  {
   "cell_type": "code",
   "execution_count": 96,
   "metadata": {
    "slideshow": {
     "slide_type": "slide"
    }
   },
   "outputs": [
    {
     "data": {
      "text/plain": [
       "Index(['league', 'split', 'week', 'game', 'patchno', 'playerid', 'side',\n",
       "       'position', 'player', 'team', 'champion', 'ban1', 'ban2', 'ban3',\n",
       "       'ban4', 'ban5'],\n",
       "      dtype='object')"
      ]
     },
     "execution_count": 96,
     "metadata": {},
     "output_type": "execute_result"
    }
   ],
   "source": [
    "playerDF.columns[playerDF.dtypes == 'category']"
   ]
  },
  {
   "cell_type": "code",
   "execution_count": 134,
   "metadata": {
    "slideshow": {
     "slide_type": "fragment"
    }
   },
   "outputs": [],
   "source": [
    "k_players = playerDF.copy()\n",
    "k_players.set_index(['gameid', 'player'], inplace = True)\n",
    "k_players.sort_index(inplace = True)\n",
    "k_players.drop(['url','league','split','date','week','game','playerid','ban1','ban2','ban3','ban4','ban5'],\n",
    "               axis = 'columns', inplace = True)"
   ]
  },
  {
   "cell_type": "code",
   "execution_count": 135,
   "metadata": {
    "slideshow": {
     "slide_type": "slide"
    }
   },
   "outputs": [
    {
     "name": "stdout",
     "output_type": "stream",
     "text": [
      "Columns with all NaN values -- ['heraldtime', 'visiblewardclearrate', 'invisiblewardclearrate']\n",
      "Columns with all NaN values -- []\n"
     ]
    }
   ],
   "source": [
    "print('Columns with all NaN values --', k_players.columns[k_players.isnull().all()].tolist())\n",
    "k_players.dropna(axis = 'columns', how = 'all', inplace = True)\n",
    "print('Columns with all NaN values --', k_players.columns[k_players.isnull().all()].tolist())\n",
    "\n",
    "null_cols = k_players._get_numeric_data().columns[k_players._get_numeric_data().isnull().any()].tolist()\n",
    "mean = k_players[null_cols].mean()\n",
    "sd = k_players[null_cols].std()"
   ]
  },
  {
   "cell_type": "code",
   "execution_count": 136,
   "metadata": {
    "scrolled": true,
    "slideshow": {
     "slide_type": "fragment"
    }
   },
   "outputs": [
    {
     "name": "stdout",
     "output_type": "stream",
     "text": [
      "NaN's successfully imputed\n"
     ]
    }
   ],
   "source": [
    "outliers = {c:{'mean':mean[c], 'sd':sd[c],\n",
    "               'values':[v for v in k_players[c] if abs(v - mean[c]) > 3*sd[c]]} for c in null_cols}\n",
    "        \n",
    "median_cols = [o for o in outliers.keys() if len(outliers[o]['values']) >= 100]\n",
    "mean_cols = list(set(null_cols) - set(median_cols))\n",
    "\n",
    "k_players[mean_cols] = k_players[mean_cols].fillna(k_players.mean())\n",
    "k_players[median_cols] = k_players[median_cols].fillna(k_players.median())\n",
    "\n",
    "if not k_players.isnull().values.any():\n",
    "    print(\"NaN's successfully imputed\")\n",
    "else:\n",
    "    print(\"NaN's remain in: \", k_players.columns[k_players.isnull().any()].tolist())"
   ]
  },
  {
   "cell_type": "code",
   "execution_count": 161,
   "metadata": {
    "collapsed": true,
    "slideshow": {
     "slide_type": "slide"
    }
   },
   "outputs": [],
   "source": [
    "tops = k_players.loc[k_players.position == 'Top', :].drop(['result','position'], axis = 'columns')\n",
    "tops = pd.get_dummies(tops, columns = ['patchno','side','champion'])\n",
    "\n",
    "jungs = k_players.loc[k_players.position == 'Jungle', :].drop(['result','position'], axis = 'columns')\n",
    "jungs = pd.get_dummies(jungs, columns = ['patchno','side','champion'])\n",
    "\n",
    "mids = k_players.loc[k_players.position == 'Middle', :].drop(['result','position'], axis = 'columns')\n",
    "mids = pd.get_dummies(mids, columns = ['patchno','side','champion'])\n",
    "\n",
    "adcs = k_players.loc[k_players.position == 'ADC', :].drop(['result','position'], axis = 'columns')\n",
    "adcs = pd.get_dummies(adcs, columns = ['patchno','side','champion'])\n",
    "\n",
    "sups = k_players.loc[k_players.position == 'Support', :].drop(['result','position'], axis = 'columns')\n",
    "sups = pd.get_dummies(sups, columns = ['patchno','side','champion'])"
   ]
  },
  {
   "cell_type": "code",
   "execution_count": 162,
   "metadata": {
    "slideshow": {
     "slide_type": "fragment"
    }
   },
   "outputs": [],
   "source": [
    "for df in [tops, jungs, mids, adcs, sups]:\n",
    "    kmeans = KMeans(n_clusters=5)\n",
    "    kmeans.fit(df.drop(['team'], axis = 'columns'))\n",
    "    df['cluster'] = kmeans.labels_"
   ]
  },
  {
   "cell_type": "code",
   "execution_count": 163,
   "metadata": {
    "slideshow": {
     "slide_type": "slide"
    }
   },
   "outputs": [
    {
     "data": {
      "text/html": [
       "<div>\n",
       "<style>\n",
       "    .dataframe thead tr:only-child th {\n",
       "        text-align: right;\n",
       "    }\n",
       "\n",
       "    .dataframe thead th {\n",
       "        text-align: left;\n",
       "    }\n",
       "\n",
       "    .dataframe tbody tr th {\n",
       "        vertical-align: top;\n",
       "    }\n",
       "</style>\n",
       "<table border=\"1\" class=\"dataframe\">\n",
       "  <thead>\n",
       "    <tr style=\"text-align: right;\">\n",
       "      <th></th>\n",
       "      <th>dmgshare</th>\n",
       "      <th>dmgtochampsperminute</th>\n",
       "      <th>k</th>\n",
       "      <th>d</th>\n",
       "      <th>a</th>\n",
       "      <th>teamkills</th>\n",
       "      <th>gdat15</th>\n",
       "      <th>xpat10</th>\n",
       "      <th>wardshare</th>\n",
       "    </tr>\n",
       "    <tr>\n",
       "      <th>cluster</th>\n",
       "      <th></th>\n",
       "      <th></th>\n",
       "      <th></th>\n",
       "      <th></th>\n",
       "      <th></th>\n",
       "      <th></th>\n",
       "      <th></th>\n",
       "      <th></th>\n",
       "      <th></th>\n",
       "    </tr>\n",
       "  </thead>\n",
       "  <tbody>\n",
       "    <tr>\n",
       "      <th>0</th>\n",
       "      <td>0.220613</td>\n",
       "      <td>454.711949</td>\n",
       "      <td>2.788799</td>\n",
       "      <td>2.577597</td>\n",
       "      <td>6.318940</td>\n",
       "      <td>14.005130</td>\n",
       "      <td>125.008551</td>\n",
       "      <td>4213.691770</td>\n",
       "      <td>0.145688</td>\n",
       "    </tr>\n",
       "    <tr>\n",
       "      <th>1</th>\n",
       "      <td>0.202078</td>\n",
       "      <td>365.494541</td>\n",
       "      <td>2.179148</td>\n",
       "      <td>2.432975</td>\n",
       "      <td>5.315267</td>\n",
       "      <td>12.163219</td>\n",
       "      <td>11.981796</td>\n",
       "      <td>3923.054772</td>\n",
       "      <td>0.164447</td>\n",
       "    </tr>\n",
       "    <tr>\n",
       "      <th>2</th>\n",
       "      <td>0.253501</td>\n",
       "      <td>590.418689</td>\n",
       "      <td>3.738983</td>\n",
       "      <td>2.913559</td>\n",
       "      <td>7.088983</td>\n",
       "      <td>16.049153</td>\n",
       "      <td>255.233898</td>\n",
       "      <td>4248.872881</td>\n",
       "      <td>0.147100</td>\n",
       "    </tr>\n",
       "    <tr>\n",
       "      <th>3</th>\n",
       "      <td>0.287398</td>\n",
       "      <td>753.704941</td>\n",
       "      <td>4.640678</td>\n",
       "      <td>3.630508</td>\n",
       "      <td>7.874576</td>\n",
       "      <td>17.816949</td>\n",
       "      <td>242.111864</td>\n",
       "      <td>4271.983051</td>\n",
       "      <td>0.145100</td>\n",
       "    </tr>\n",
       "    <tr>\n",
       "      <th>4</th>\n",
       "      <td>0.175950</td>\n",
       "      <td>261.558783</td>\n",
       "      <td>0.993440</td>\n",
       "      <td>2.582006</td>\n",
       "      <td>3.056232</td>\n",
       "      <td>7.424086</td>\n",
       "      <td>-338.760075</td>\n",
       "      <td>3883.280699</td>\n",
       "      <td>0.143180</td>\n",
       "    </tr>\n",
       "  </tbody>\n",
       "</table>\n",
       "</div>"
      ],
      "text/plain": [
       "         dmgshare  dmgtochampsperminute         k         d         a  \\\n",
       "cluster                                                                 \n",
       "0        0.220613            454.711949  2.788799  2.577597  6.318940   \n",
       "1        0.202078            365.494541  2.179148  2.432975  5.315267   \n",
       "2        0.253501            590.418689  3.738983  2.913559  7.088983   \n",
       "3        0.287398            753.704941  4.640678  3.630508  7.874576   \n",
       "4        0.175950            261.558783  0.993440  2.582006  3.056232   \n",
       "\n",
       "         teamkills      gdat15       xpat10  wardshare  \n",
       "cluster                                                 \n",
       "0        14.005130  125.008551  4213.691770   0.145688  \n",
       "1        12.163219   11.981796  3923.054772   0.164447  \n",
       "2        16.049153  255.233898  4248.872881   0.147100  \n",
       "3        17.816949  242.111864  4271.983051   0.145100  \n",
       "4         7.424086 -338.760075  3883.280699   0.143180  "
      ]
     },
     "execution_count": 163,
     "metadata": {},
     "output_type": "execute_result"
    }
   ],
   "source": [
    "tops[['cluster','dmgshare', 'dmgtochampsperminute','k','d','a','teamkills',\n",
    "           'gdat15','xpat10','wardshare']].groupby(['cluster']).mean()"
   ]
  },
  {
   "cell_type": "code",
   "execution_count": 164,
   "metadata": {
    "collapsed": true,
    "slideshow": {
     "slide_type": "slide"
    }
   },
   "outputs": [],
   "source": [
    "for df in [tops, jungs, mids, adcs, sups]:\n",
    "    try:\n",
    "        df['cluster'] = df['cluster'].astype('category')\n",
    "    except:\n",
    "        print('Column {} cannot be converted to categorical.'.format(col))"
   ]
  },
  {
   "cell_type": "code",
   "execution_count": 182,
   "metadata": {
    "slideshow": {
     "slide_type": "fragment"
    }
   },
   "outputs": [],
   "source": [
    "top_clust = tops[['team','cluster']].copy()\n",
    "top_clust.reset_index(inplace = True)\n",
    "top_clust.set_index(['gameid','team'], inplace = True)\n",
    "top_clust.sort_index(inplace = True)\n",
    "top_clust.drop(['player'], axis = 'columns', inplace = True)\n",
    "top_clust = pd.get_dummies(top_clust, prefix = 'TopLane_')\n",
    "norm_teamDF = norm_teamDF.join(top_clust)"
   ]
  },
  {
   "cell_type": "code",
   "execution_count": 183,
   "metadata": {
    "slideshow": {
     "slide_type": "fragment"
    }
   },
   "outputs": [],
   "source": [
    "jung_clust = jungs[['team','cluster']].copy()\n",
    "jung_clust.reset_index(inplace = True)\n",
    "jung_clust.set_index(['gameid','team'], inplace = True)\n",
    "jung_clust.sort_index(inplace = True)\n",
    "jung_clust.drop(['player'], axis = 'columns', inplace = True)\n",
    "jung_clust = pd.get_dummies(jung_clust, prefix = 'Jung_')\n",
    "norm_teamDF = norm_teamDF.join(jung_clust)"
   ]
  },
  {
   "cell_type": "code",
   "execution_count": 184,
   "metadata": {
    "collapsed": true,
    "slideshow": {
     "slide_type": "fragment"
    }
   },
   "outputs": [],
   "source": [
    "mid_clust = mids[['team','cluster']].copy()\n",
    "mid_clust.reset_index(inplace = True)\n",
    "mid_clust.set_index(['gameid','team'], inplace = True)\n",
    "mid_clust.sort_index(inplace = True)\n",
    "mid_clust.drop(['player'], axis = 'columns', inplace = True)\n",
    "mid_clust = pd.get_dummies(mid_clust, prefix = 'Mid_')\n",
    "norm_teamDF = norm_teamDF.join(mid_clust)"
   ]
  },
  {
   "cell_type": "code",
   "execution_count": 185,
   "metadata": {
    "collapsed": true,
    "slideshow": {
     "slide_type": "fragment"
    }
   },
   "outputs": [],
   "source": [
    "adc_clust = adcs[['team','cluster']].copy()\n",
    "adc_clust.reset_index(inplace = True)\n",
    "adc_clust.set_index(['gameid','team'], inplace = True)\n",
    "adc_clust.sort_index(inplace = True)\n",
    "adc_clust.drop(['player'], axis = 'columns', inplace = True)\n",
    "adc_clust = pd.get_dummies(adc_clust, prefix = 'AD_Carry_')\n",
    "norm_teamDF = norm_teamDF.join(adc_clust)"
   ]
  },
  {
   "cell_type": "code",
   "execution_count": 187,
   "metadata": {
    "collapsed": true,
    "slideshow": {
     "slide_type": "fragment"
    }
   },
   "outputs": [],
   "source": [
    "sup_clust = sups[['team','cluster']].copy()\n",
    "sup_clust.reset_index(inplace = True)\n",
    "sup_clust.set_index(['gameid','team'], inplace = True)\n",
    "sup_clust.sort_index(inplace = True)\n",
    "sup_clust.drop(['player'], axis = 'columns', inplace = True)\n",
    "sup_clust = pd.get_dummies(sup_clust, prefix = 'Sup_')\n",
    "norm_teamDF = norm_teamDF.join(sup_clust)"
   ]
  },
  {
   "cell_type": "code",
   "execution_count": 192,
   "metadata": {
    "slideshow": {
     "slide_type": "slide"
    }
   },
   "outputs": [
    {
     "name": "stdout",
     "output_type": "stream",
     "text": [
      "Kept features: ['side_Red', 'TopLane__2', 'winRate', 'pace_Amble', 'AD_Carry__0', 'totalGames', 'pace_Walk', 'Sup__3', 'Mid__1', 'Sup__0', 'opp_quality_Fair', 'AD_Carry__1', 'Sup__2', 'AD_Carry__2', 'opp_quality_Good', 'AD_Carry__3', 'wpm', 'Mid__3', 'Jung__2', 'TopLane__4', 'Mid__0', 'invisiblewardclearrate', 'Sup__4', 'AD_Carry__4', 'aggression_Alert', 'pace_Trot', 'pace_Sprint', 'Jung__4', 'aggression_Moderate', 'visiblewardclearrate', 'TopLane__0', 'Jung__3', 'aggression_Wild', 'wcpm', 'quality_Fair', 'Sup__1', 'visionwards', 'TopLane__1', 'aggression_Frisky', 'quality_Good', 'quality_Great', 'quality_Poor', 'Mid__2', 'opp_quality_Great', 'opp_quality_Poor', 'Mid__4', 'Jung__1', 'visionwardbuys', 'fbarontime', 'Jung__0', 'TopLane__3']\n"
     ]
    }
   ],
   "source": [
    "old_dummies = [c for c in list(norm_teamDF) if any(d in c for d in ['ban', 'Jungle_', 'Middle_', 'Support_', 'Top_', 'ADC_'])]\n",
    "\n",
    "clust_regs = list(set(list(norm_teamDF)) - set(vif_reducers) - set(in_game_feats) - set(old_dummies))\n",
    "\n",
    "print('Kept features:', clust_regs)"
   ]
  },
  {
   "cell_type": "code",
   "execution_count": 193,
   "metadata": {
    "slideshow": {
     "slide_type": "slide"
    }
   },
   "outputs": [
    {
     "name": "stdout",
     "output_type": "stream",
     "text": [
      "The clustered CV accuracies are: [ 0.78751165  0.78844362  0.78191985  0.78731343  0.81436567  0.7266791\n",
      "  0.55835668  0.75443511  0.78898226  0.83473389]\n",
      "\n",
      "With a mean accuracy of 0.7622741261958966, a minimum of 0.5583566760037348, and a maximum of 0.834733893557423\n",
      "\n",
      "The original pre-game CV accuracies were: [ 0.72320596  0.71854613  0.70177074  0.71828358  0.74533582  0.67070896\n",
      "  0.61344538  0.7254902   0.7254902   0.76097106]\n",
      "\n",
      "With a mean accuracy of 0.7103248016783786, a minimum of 0.6134453781512605, and a maximum of 0.7609710550887021\n"
     ]
    }
   ],
   "source": [
    "cl_X = norm_teamDF.loc[:, clust_regs]\n",
    "cl_y = norm_teamDF.loc[:,'result']\n",
    "\n",
    "cl_lr = LogisticRegression()\n",
    "\n",
    "cl_scores = cross_val_score(cl_lr, cl_X, cl_y, cv=10)\n",
    "print(\"The clustered CV accuracies are:\", cl_scores)\n",
    "print(\"\\nWith a mean accuracy of {}, a minimum of {}, and a maximum of {}\".format(cl_scores.mean(),\n",
    "                                                                                  min(cl_scores), max(cl_scores)))\n",
    "\n",
    "pg_scores = cross_val_score(pg_lr, pg_X, pg_y, cv=10)\n",
    "print(\"\\nThe original pre-game CV accuracies were:\", pg_scores)\n",
    "print(\"\\nWith a mean accuracy of {}, a minimum of {}, and a maximum of {}\".format(pg_scores.mean(),\n",
    "                                                                                  min(pg_scores), max(pg_scores)))"
   ]
  },
  {
   "cell_type": "code",
   "execution_count": 194,
   "metadata": {
    "slideshow": {
     "slide_type": "slide"
    }
   },
   "outputs": [
    {
     "data": {
      "image/png": "[encoded data removed]",
      "text/plain": [
       "<matplotlib.figure.Figure at 0x5c8410dc88>"
      ]
     },
     "metadata": {},
     "output_type": "display_data"
    }
   ],
   "source": [
    "cl_X_train, cl_X_test, cl_y_train, cl_y_test = train_test_split(cl_X, cl_y, test_size = .25, random_state=10)\n",
    "cl_lr = LogisticRegression()\n",
    "\n",
    "cl_lr.fit(cl_X_train, cl_y_train)\n",
    "coef = pd.Series(cl_lr.coef_[0], index = cl_X_train.columns)\n",
    "imp_coefs = pd.concat([coef.sort_values().head(10),\n",
    "                     coef.sort_values().tail(10)])\n",
    "\n",
    "plt.figure(figsize=(12, 6))\n",
    "plt.subplot(121)\n",
    "imp_coefs.plot(kind = \"barh\")\n",
    "plt.suptitle(\"Coefficients in the Model\")\n",
    "\n",
    "plt.subplot(122)\n",
    "coef.hist(bins = 25)\n",
    "\n",
    "plt.show()"
   ]
  },
  {
   "cell_type": "markdown",
   "metadata": {},
   "source": [
    "NOTES:\n",
    "\n",
    "- Can write a pickle file to save df's.\n",
    "- Look to provide more context/explanation for the meaning of each cluster.\n",
    "- Visualization technique TSNE (will lose on interpretability). Will project multidimensional space to 2D for cluster visualization."
   ]
  }
 ],
 "metadata": {
  "celltoolbar": "Slideshow",
  "kernelspec": {
   "display_name": "Python 3",
   "language": "python",
   "name": "python3"
  },
  "language_info": {
   "codemirror_mode": {
    "name": "ipython",
    "version": 3
   },
   "file_extension": ".py",
   "mimetype": "text/x-python",
   "name": "python",
   "nbconvert_exporter": "python",
   "pygments_lexer": "ipython3",
   "version": "3.6.1"
  }
 },
 "nbformat": 4,
 "nbformat_minor": 2
}
